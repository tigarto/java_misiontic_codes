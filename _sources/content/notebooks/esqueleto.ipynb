{
 "cells": [
  {
   "cell_type": "code",
   "execution_count": 12,
   "id": "ad74248c",
   "metadata": {},
   "outputs": [
    {
     "name": "stdout",
     "output_type": "stream",
     "text": [
      "Requirement already satisfied: tutormagic in c:\\users\\usuario\\anaconda3\\lib\\site-packages (0.3.1)\n",
      "Requirement already satisfied: jupyter>=1.0 in c:\\users\\usuario\\anaconda3\\lib\\site-packages (from tutormagic) (1.0.0)\n",
      "Requirement already satisfied: jupyter-console in c:\\users\\usuario\\anaconda3\\lib\\site-packages (from jupyter>=1.0->tutormagic) (6.4.0)\n",
      "Requirement already satisfied: notebook in c:\\users\\usuario\\anaconda3\\lib\\site-packages (from jupyter>=1.0->tutormagic) (6.3.0)\n",
      "Requirement already satisfied: ipywidgets in c:\\users\\usuario\\anaconda3\\lib\\site-packages (from jupyter>=1.0->tutormagic) (7.6.3)\n",
      "Requirement already satisfied: ipykernel in c:\\users\\usuario\\anaconda3\\lib\\site-packages (from jupyter>=1.0->tutormagic) (5.5.5)\n",
      "Requirement already satisfied: qtconsole in c:\\users\\usuario\\anaconda3\\lib\\site-packages (from jupyter>=1.0->tutormagic) (5.1.0)\n",
      "Requirement already satisfied: nbconvert in c:\\users\\usuario\\anaconda3\\lib\\site-packages (from jupyter>=1.0->tutormagic) (6.1.0)\n",
      "Requirement already satisfied: traitlets>=4.1.0 in c:\\users\\usuario\\anaconda3\\lib\\site-packages (from ipykernel->jupyter>=1.0->tutormagic) (5.0.5)\n",
      "Requirement already satisfied: tornado>=4.2 in c:\\users\\usuario\\anaconda3\\lib\\site-packages (from ipykernel->jupyter>=1.0->tutormagic) (6.1)\n",
      "Requirement already satisfied: jupyter-client in c:\\users\\usuario\\anaconda3\\lib\\site-packages (from ipykernel->jupyter>=1.0->tutormagic) (6.1.12)\n",
      "The tutormagic extension is already loaded. To reload it, use:\n",
      "  %reload_ext tutormagic\n",
      "Requirement already satisfied: ipython>=5.0.0 in c:\\users\\usuario\\anaconda3\\lib\\site-packages (from ipykernel->jupyter>=1.0->tutormagic) (7.22.0)\n",
      "Requirement already satisfied: pickleshare in c:\\users\\usuario\\anaconda3\\lib\\site-packages (from ipython>=5.0.0->ipykernel->jupyter>=1.0->tutormagic) (0.7.5)\n",
      "Requirement already satisfied: pygments in c:\\users\\usuario\\anaconda3\\lib\\site-packages (from ipython>=5.0.0->ipykernel->jupyter>=1.0->tutormagic) (2.9.0)\n",
      "Requirement already satisfied: setuptools>=18.5 in c:\\users\\usuario\\anaconda3\\lib\\site-packages (from ipython>=5.0.0->ipykernel->jupyter>=1.0->tutormagic) (52.0.0.post20210125)\n",
      "Requirement already satisfied: decorator in c:\\users\\usuario\\anaconda3\\lib\\site-packages (from ipython>=5.0.0->ipykernel->jupyter>=1.0->tutormagic) (5.0.9)\n",
      "Requirement already satisfied: jedi>=0.16 in c:\\users\\usuario\\anaconda3\\lib\\site-packages (from ipython>=5.0.0->ipykernel->jupyter>=1.0->tutormagic) (0.17.2)\n",
      "Requirement already satisfied: prompt-toolkit!=3.0.0,!=3.0.1,<3.1.0,>=2.0.0 in c:\\users\\usuario\\anaconda3\\lib\\site-packages (from ipython>=5.0.0->ipykernel->jupyter>=1.0->tutormagic) (3.0.17)\n",
      "Requirement already satisfied: colorama in c:\\users\\usuario\\anaconda3\\lib\\site-packages (from ipython>=5.0.0->ipykernel->jupyter>=1.0->tutormagic) (0.4.4)\n",
      "Requirement already satisfied: backcall in c:\\users\\usuario\\anaconda3\\lib\\site-packages (from ipython>=5.0.0->ipykernel->jupyter>=1.0->tutormagic) (0.2.0)\n",
      "Requirement already satisfied: parso<0.8.0,>=0.7.0 in c:\\users\\usuario\\anaconda3\\lib\\site-packages (from jedi>=0.16->ipython>=5.0.0->ipykernel->jupyter>=1.0->tutormagic) (0.7.0)\n",
      "Requirement already satisfied: wcwidth in c:\\users\\usuario\\anaconda3\\lib\\site-packages (from prompt-toolkit!=3.0.0,!=3.0.1,<3.1.0,>=2.0.0->ipython>=5.0.0->ipykernel->jupyter>=1.0->tutormagic) (0.2.5)\n",
      "Requirement already satisfied: ipython-genutils in c:\\users\\usuario\\anaconda3\\lib\\site-packages (from traitlets>=4.1.0->ipykernel->jupyter>=1.0->tutormagic) (0.2.0)\n",
      "Requirement already satisfied: jupyterlab-widgets>=1.0.0 in c:\\users\\usuario\\anaconda3\\lib\\site-packages (from ipywidgets->jupyter>=1.0->tutormagic) (1.0.0)\n",
      "Requirement already satisfied: widgetsnbextension~=3.5.0 in c:\\users\\usuario\\anaconda3\\lib\\site-packages (from ipywidgets->jupyter>=1.0->tutormagic) (3.5.1)\n",
      "Requirement already satisfied: nbformat>=4.2.0 in c:\\users\\usuario\\anaconda3\\lib\\site-packages (from ipywidgets->jupyter>=1.0->tutormagic) (5.1.3)\n",
      "Requirement already satisfied: jsonschema!=2.5.0,>=2.4 in c:\\users\\usuario\\anaconda3\\lib\\site-packages (from nbformat>=4.2.0->ipywidgets->jupyter>=1.0->tutormagic) (3.2.0)\n",
      "Requirement already satisfied: jupyter-core in c:\\users\\usuario\\anaconda3\\lib\\site-packages (from nbformat>=4.2.0->ipywidgets->jupyter>=1.0->tutormagic) (4.7.1)\n",
      "Requirement already satisfied: six>=1.11.0 in c:\\users\\usuario\\anaconda3\\lib\\site-packages (from jsonschema!=2.5.0,>=2.4->nbformat>=4.2.0->ipywidgets->jupyter>=1.0->tutormagic) (1.16.0)\n",
      "Requirement already satisfied: pyrsistent>=0.14.0 in c:\\users\\usuario\\anaconda3\\lib\\site-packages (from jsonschema!=2.5.0,>=2.4->nbformat>=4.2.0->ipywidgets->jupyter>=1.0->tutormagic) (0.17.3)\n",
      "Requirement already satisfied: attrs>=17.4.0 in c:\\users\\usuario\\anaconda3\\lib\\site-packages (from jsonschema!=2.5.0,>=2.4->nbformat>=4.2.0->ipywidgets->jupyter>=1.0->tutormagic) (21.2.0)\n",
      "Requirement already satisfied: argon2-cffi in c:\\users\\usuario\\anaconda3\\lib\\site-packages (from notebook->jupyter>=1.0->tutormagic) (20.1.0)\n",
      "Requirement already satisfied: pyzmq>=17 in c:\\users\\usuario\\anaconda3\\lib\\site-packages (from notebook->jupyter>=1.0->tutormagic) (20.0.0)\n",
      "Requirement already satisfied: Send2Trash>=1.5.0 in c:\\users\\usuario\\anaconda3\\lib\\site-packages (from notebook->jupyter>=1.0->tutormagic) (1.5.0)\n",
      "Requirement already satisfied: prometheus-client in c:\\users\\usuario\\anaconda3\\lib\\site-packages (from notebook->jupyter>=1.0->tutormagic) (0.11.0)\n",
      "Requirement already satisfied: terminado>=0.8.3 in c:\\users\\usuario\\anaconda3\\lib\\site-packages (from notebook->jupyter>=1.0->tutormagic) (0.9.4)\n",
      "Requirement already satisfied: jinja2 in c:\\users\\usuario\\anaconda3\\lib\\site-packages (from notebook->jupyter>=1.0->tutormagic) (3.0.1)\n",
      "Requirement already satisfied: python-dateutil>=2.1 in c:\\users\\usuario\\anaconda3\\lib\\site-packages (from jupyter-client->ipykernel->jupyter>=1.0->tutormagic) (2.8.1)\n",
      "Requirement already satisfied: pywin32>=1.0 in c:\\users\\usuario\\anaconda3\\lib\\site-packages (from jupyter-core->nbformat>=4.2.0->ipywidgets->jupyter>=1.0->tutormagic) (227)\n",
      "Requirement already satisfied: pywinpty>=0.5 in c:\\users\\usuario\\anaconda3\\lib\\site-packages (from terminado>=0.8.3->notebook->jupyter>=1.0->tutormagic) (0.5.7)\n",
      "Requirement already satisfied: cffi>=1.0.0 in c:\\users\\usuario\\anaconda3\\lib\\site-packages (from argon2-cffi->notebook->jupyter>=1.0->tutormagic) (1.14.6)\n",
      "Requirement already satisfied: pycparser in c:\\users\\usuario\\anaconda3\\lib\\site-packages (from cffi>=1.0.0->argon2-cffi->notebook->jupyter>=1.0->tutormagic) (2.20)\n",
      "Requirement already satisfied: MarkupSafe>=2.0 in c:\\users\\usuario\\anaconda3\\lib\\site-packages (from jinja2->notebook->jupyter>=1.0->tutormagic) (2.0.1)\n",
      "Requirement already satisfied: entrypoints>=0.2.2 in c:\\users\\usuario\\anaconda3\\lib\\site-packages (from nbconvert->jupyter>=1.0->tutormagic) (0.3)\n",
      "Requirement already satisfied: nbclient<0.6.0,>=0.5.0 in c:\\users\\usuario\\anaconda3\\lib\\site-packages (from nbconvert->jupyter>=1.0->tutormagic) (0.5.3)\n",
      "Requirement already satisfied: mistune<2,>=0.8.1 in c:\\users\\usuario\\anaconda3\\lib\\site-packages (from nbconvert->jupyter>=1.0->tutormagic) (0.8.4)\n",
      "Requirement already satisfied: pandocfilters>=1.4.1 in c:\\users\\usuario\\anaconda3\\lib\\site-packages (from nbconvert->jupyter>=1.0->tutormagic) (1.4.3)\n",
      "Requirement already satisfied: bleach in c:\\users\\usuario\\anaconda3\\lib\\site-packages (from nbconvert->jupyter>=1.0->tutormagic) (3.3.0)\n",
      "Requirement already satisfied: defusedxml in c:\\users\\usuario\\anaconda3\\lib\\site-packages (from nbconvert->jupyter>=1.0->tutormagic) (0.7.1)\n",
      "Requirement already satisfied: testpath in c:\\users\\usuario\\anaconda3\\lib\\site-packages (from nbconvert->jupyter>=1.0->tutormagic) (0.5.0)\n",
      "Requirement already satisfied: jupyterlab-pygments in c:\\users\\usuario\\anaconda3\\lib\\site-packages (from nbconvert->jupyter>=1.0->tutormagic) (0.1.2)\n",
      "Requirement already satisfied: async-generator in c:\\users\\usuario\\anaconda3\\lib\\site-packages (from nbclient<0.6.0,>=0.5.0->nbconvert->jupyter>=1.0->tutormagic) (1.10)\n",
      "Requirement already satisfied: nest-asyncio in c:\\users\\usuario\\anaconda3\\lib\\site-packages (from nbclient<0.6.0,>=0.5.0->nbconvert->jupyter>=1.0->tutormagic) (1.5.1)\n",
      "Requirement already satisfied: webencodings in c:\\users\\usuario\\anaconda3\\lib\\site-packages (from bleach->nbconvert->jupyter>=1.0->tutormagic) (0.5.1)\n",
      "Requirement already satisfied: packaging in c:\\users\\usuario\\anaconda3\\lib\\site-packages (from bleach->nbconvert->jupyter>=1.0->tutormagic) (21.0)\n",
      "Requirement already satisfied: pyparsing>=2.0.2 in c:\\users\\usuario\\anaconda3\\lib\\site-packages (from packaging->bleach->nbconvert->jupyter>=1.0->tutormagic) (2.4.7)\n",
      "Requirement already satisfied: qtpy in c:\\users\\usuario\\anaconda3\\lib\\site-packages (from qtconsole->jupyter>=1.0->tutormagic) (1.9.0)\n"
     ]
    }
   ],
   "source": [
    "!pip3 install tutormagic\n",
    "%load_ext tutormagic"
   ]
  },
  {
   "cell_type": "code",
   "execution_count": 14,
   "id": "08c614c5",
   "metadata": {},
   "outputs": [],
   "source": [
    "import warnings\n",
    "warnings.filterwarnings(\"ignore\", category=DeprecationWarning)"
   ]
  },
  {
   "cell_type": "markdown",
   "id": "c703b7aa",
   "metadata": {},
   "source": [
    "# Estructura de un programa en Java"
   ]
  },
  {
   "cell_type": "markdown",
   "id": "0bf7c933",
   "metadata": {},
   "source": [
    "Como punto de partida vamos a aprender a codificar un programa en java mediante la comparación con un programa en python tal y como se muestran en la siguientes secciones"
   ]
  },
  {
   "cell_type": "markdown",
   "id": "c6c90bfb",
   "metadata": {},
   "source": [
    "## Estructura de un programa en python\n",
    "\n",
    "Supongase que se desea realizar un programa en python que imprima en pantalla la frase ```Hola mundo!!!```. A continuación se muestra el codigo que realiza esto:"
   ]
  },
  {
   "cell_type": "code",
   "execution_count": 15,
   "id": "f6122266",
   "metadata": {
    "scrolled": true
   },
   "outputs": [
    {
     "data": {
      "text/html": [
       "\n",
       "        <iframe\n",
       "            width=\"100%\"\n",
       "            height=\"350\"\n",
       "            src=\"http://pythontutor.com/iframe-embed.html#code=print%28%22Hola%20mundo%22%29%0A&origin=opt-frontend.js&cumulative=false&heapPrimitives=false&textReferences=false&curInstr=0&&verticalStack=false&py=3&rawInputLstJSON=%5B%5D&codeDivWidth=50%25&codeDivHeight=100%25\"\n",
       "            frameborder=\"0\"\n",
       "            allowfullscreen\n",
       "        ></iframe>\n",
       "        "
      ],
      "text/plain": [
       "<IPython.lib.display.IFrame at 0x18ce41ad9d0>"
      ]
     },
     "metadata": {},
     "output_type": "display_data"
    }
   ],
   "source": [
    "%%tutor \n",
    "print(\"Hola mundo\")"
   ]
  },
  {
   "cell_type": "markdown",
   "id": "227c4c41",
   "metadata": {},
   "source": [
    "## Estructura de un programa en Java\n",
    "\n",
    "En Java, las cosas cambian un poco. A continuación se muestra la forma como se haria el mismo programa anterior empleando lenguaje java"
   ]
  },
  {
   "cell_type": "code",
   "execution_count": 17,
   "id": "b59dbfec",
   "metadata": {},
   "outputs": [
    {
     "data": {
      "text/html": [
       "\n",
       "        <iframe\n",
       "            width=\"100%\"\n",
       "            height=\"350\"\n",
       "            src=\"http://pythontutor.com/iframe-embed.html#code=%0Apublic%20class%20HolaMundo%20%7B%0A%20%20%20%20public%20static%20void%20main%28String%5B%5D%20args%29%20%7B%0A%20%20%20%20%20%20%20%20System.out.println%28%22Hola%20mundo%21%21%21%22%29%3B%20%20%20%20%20%20%20%20%0A%20%20%20%20%7D%0A%7D%0A&origin=opt-frontend.js&cumulative=false&heapPrimitives=false&textReferences=false&curInstr=0&&verticalStack=false&py=java&rawInputLstJSON=%5B%5D&codeDivWidth=50%25&codeDivHeight=100%25\"\n",
       "            frameborder=\"0\"\n",
       "            allowfullscreen\n",
       "        ></iframe>\n",
       "        "
      ],
      "text/plain": [
       "<IPython.lib.display.IFrame at 0x18ce42d5b50>"
      ]
     },
     "metadata": {},
     "output_type": "display_data"
    }
   ],
   "source": [
    "%%tutor -l java\n",
    "\n",
    "public class HolaMundo {\n",
    "    public static void main(String[] args) {\n",
    "        System.out.println(\"Hola mundo!!!\");        \n",
    "    }\n",
    "}"
   ]
  },
  {
   "cell_type": "markdown",
   "id": "11164602",
   "metadata": {},
   "source": [
    "**Observaciones importantes**:\n",
    "1. La unidad básica de un programa en Java es una clase (```class```).\n",
    "2. Cada clase contiene uno o mas metodos.\n",
    "3. La sintaxis basica de una clase (por ahora) se muestra a continuación:\n",
    "\n",
    "```java\n",
    "import instrucciones si las hay\n",
    "\n",
    "public class NombreClase {\n",
    "  constantes nombradas y/o declaraciones de flujo de objetos\n",
    "  public static void main(String[] args) {\n",
    "    declaracion de variables\n",
    "    instrucciones\n",
    "  }\n",
    "}\n",
    "```"
   ]
  },
  {
   "cell_type": "markdown",
   "id": "6c5b055a",
   "metadata": {},
   "source": [
    "## Ejemplos\n",
    "\n",
    "1. Dado el siguiente programa en python:"
   ]
  },
  {
   "cell_type": "code",
   "execution_count": 18,
   "id": "2abbc820",
   "metadata": {},
   "outputs": [
    {
     "data": {
      "text/html": [
       "<div class=\"text-center\"><strong><a style=\"box-sizing: border-box; padding: 0 5px; border: 1px solid #CFCFCF;\" target=\"_\" href=http://pythontutor.com/iframe-embed.html#code=print%28%22Mi%20primer%20programa%20en%20Java.%22%29%3B%0Aprint%28%22La%20suma%20de%202%20y%203%20%3D%22%2C5%29%3B%0Aprint%28%227%20%2B%208%20%3D%20%22%20%2B%20str%287%20%2B%208%29%29%3B%0A&origin=opt-frontend.js&cumulative=false&heapPrimitives=false&textReferences=false&curInstr=0&&verticalStack=false&py=3&rawInputLstJSON=%5B%5D&codeDivWidth=50%25&codeDivHeight=100%25>Python Tutor</a></strong></div>"
      ],
      "text/plain": [
       "<IPython.core.display.HTML object>"
      ]
     },
     "metadata": {},
     "output_type": "display_data"
    }
   ],
   "source": [
    "%%tutor -k\n",
    "print(\"Mi primer programa en Java.\");\n",
    "print(\"La suma de 2 y 3 =\",5);\n",
    "print(\"7 + 8 = \" + str(7 + 8));"
   ]
  },
  {
   "cell_type": "markdown",
   "id": "af42734f",
   "metadata": {},
   "source": [
    "A continuación se muestra su codificación en Java, cuya clase se llama ```ASimpleJavaProgram```"
   ]
  },
  {
   "cell_type": "code",
   "execution_count": 19,
   "id": "ba386f93",
   "metadata": {},
   "outputs": [
    {
     "data": {
      "text/html": [
       "<div class=\"text-center\"><strong><a style=\"box-sizing: border-box; padding: 0 5px; border: 1px solid #CFCFCF;\" target=\"_\" href=http://pythontutor.com/iframe-embed.html#code=%0A//%2A%2A%2A%2A%2A%2A%2A%2A%2A%2A%2A%2A%2A%2A%2A%2A%2A%2A%2A%2A%2A%2A%2A%2A%2A%2A%2A%2A%2A%2A%2A%2A%2A%2A%2A%2A%2A%2A%2A%2A%2A%2A%2A%2A%2A%2A%2A%2A%2A%2A%2A%2A%2A%2A%2A%2A%2A%2A%0A//%20Este%20es%20un%20programa%20simple%20en%20Java.%20Presenta%20tres%20lineas%0A//%20de%20texto%2C%20incluyendo%20la%20suma%20de%20dos%20numeros.%0A//%2A%2A%2A%2A%2A%2A%2A%2A%2A%2A%2A%2A%2A%2A%2A%2A%2A%2A%2A%2A%2A%2A%2A%2A%2A%2A%2A%2A%2A%2A%2A%2A%2A%2A%2A%2A%2A%2A%2A%2A%2A%2A%2A%2A%2A%2A%2A%2A%2A%2A%2A%2A%2A%2A%2A%2A%2A%2A%0Apublic%20class%20ASimpleJavaProgram%20%7B%0A%20%20%20%20public%20static%20void%20main%28String%5B%5D%20args%29%20%7B%0A%20%20%20%20%20%20%20%20System.out.println%28%22Mi%20primer%20programa%20en%20Java.%22%29%3B%0A%20%20%20%20%20%20%20%20System.out.println%28%22La%20suma%20de%202%20y%203%20%3D%20%22%20%2B%205%29%3B%0A%20%20%20%20%20%20%20%20System.out.println%28%227%20%2B%208%20%3D%20%22%20%2B%20%287%20%2B%208%29%29%3B%0A%20%20%20%20%7D%0A%7D%0A&origin=opt-frontend.js&cumulative=false&heapPrimitives=false&textReferences=false&curInstr=0&&verticalStack=false&py=java&rawInputLstJSON=%5B%5D&codeDivWidth=50%25&codeDivHeight=100%25>Python Tutor</a></strong></div>"
      ],
      "text/plain": [
       "<IPython.core.display.HTML object>"
      ]
     },
     "metadata": {},
     "output_type": "display_data"
    }
   ],
   "source": [
    "%%tutor -l java -k\n",
    "\n",
    "//**********************************************************\n",
    "// Este es un programa simple en Java. Presenta tres lineas\n",
    "// de texto, incluyendo la suma de dos numeros.\n",
    "//**********************************************************\n",
    "public class ASimpleJavaProgram {\n",
    "    public static void main(String[] args) {\n",
    "        System.out.println(\"Mi primer programa en Java.\");\n",
    "        System.out.println(\"La suma de 2 y 3 = \" + 5);\n",
    "        System.out.println(\"7 + 8 = \" + (7 + 8));\n",
    "    }\n",
    "}"
   ]
  },
  {
   "cell_type": "markdown",
   "id": "6ae7cb5a",
   "metadata": {},
   "source": [
    "## Elementos de un programa en java\n",
    "\n",
    "Java es un **lenguaje de programación** y como tal poseee conjunto de reglas, símbolos y palabras especiales utilizadas para\n",
    "construir programas. "
   ]
  },
  {
   "cell_type": "markdown",
   "id": "d5583706",
   "metadata": {},
   "source": [
    "### 1. Comentarios\n",
    "\n",
    "Un **comentario** es una parte del código que puede ser usada con diversos propósitos, generalmente explicativos, y que no tienen ninguna incidencia en la ejecución del código ni son procesados por el compilador. Existen dos tipos de comentarios:\n",
    "1. **Comentarios de una sola linea**:\n",
    "\n",
    "```java\n",
    "//Esto es un comentario de una sola línea      \n",
    "```\n",
    "\n",
    "2. **Comentarios de varias lineas**:\n",
    "\n",
    "```java\n",
    "/* Esto es un comentario\n",
    "de más de\n",
    "una línea */      \n",
    "```"
   ]
  },
  {
   "cell_type": "markdown",
   "id": "66413dc0",
   "metadata": {},
   "source": [
    "### 2. Palabras reservadas (palabras clave)\n",
    "\n",
    "Son palabras que no se pueden redefinir dentro de algún programa para un proposito distinto para el que fueron hechas. Algunas son:\n",
    "\n",
    "```java\n",
    "int, float, double, char, void, public, static, throws, return\n",
    "```\n"
   ]
  },
  {
   "cell_type": "markdown",
   "id": "c341547d",
   "metadata": {},
   "source": [
    "### 3. Variables\n",
    "Una variable es un espacio en memoria, especificado a la hora de escribir un programa en cualquier lenguaje de programación, que tiene un nombre, y que puede tener una información conocida o desconocida, denominada valor. \n",
    "\n",
    "Cuando se declara una variable en java (a diferencia de python) se debe especificar el tipo de dato tal y como se muestra a continuación:\n",
    "\n",
    "```java\n",
    "tipo nombreVariable <= Valor inicial>;  // Sintaxis de declaracion de una variable.\n",
    "```\n",
    "\n",
    "Tal y como se muestra entre los simbolos ```<``` y ```>```, la inicialización de una variable es opcional. Un ejemplo de una declaración de variables se muestra a continuación:\n",
    "\n",
    "```java\n",
    "int sumando;\n",
    "boolean estaActivado;\n",
    "double promedio;\n",
    "```\n",
    "\n",
    "Notesé que en el caso anterior, las variables no fueron inicializadas y por lo tanto sus valores iniciales serán desconocidos. A continuación se muestran algunos casos donde las variables son inicializadas:\n",
    "\n",
    "```java\n",
    "byte dividendo = 47;\n",
    "char sexo = 'f';\n",
    "boolean estaEncendido = false;  \n",
    "```\n",
    "\n",
    "* **Nota importante**: Toda variable antes de ser usada debe haber sido previamente declarada:\n",
    "\n",
    "```java\n",
    "float peso;\n",
    "peso = 84;\n",
    "```\n",
    "\n",
    "Si no se respeta lo anterior, se arrojará un error.\n",
    "\n",
    "\n",
    "Veamos mas sobre los diferentes tipos de datos manejados en java.\n",
    "    \n",
    "#### Tipos de Datos Primitivos\n",
    "\n",
    "En Java, a la hora de declarar variables, contamos con ocho tipos de datos primitivos, más el tipo ```String```, que podemos considerar un tipo de dato especial. Estos se resumen a continuación:\n",
    "\n",
    "|Categoria|Tipo de dato en java|\n",
    "|:---|:---|\n",
    "|Entero|```byte, short, int, long```|\n",
    "|Real|```float, double```|\n",
    "|Boleano|```boolean```|\n",
    "\n",
    "Finalmente, el tipo de datos ```char```  puede almacenar un solo carácter. De hecho, una cadena de caracteres en Java, de tipo ```String``` es, internamente, un arreglo o array de caracteres (```char```), como veremos posteriormente.\n",
    "\n",
    "En la siguiente tabla se muestra la lista de los tipos de datos primitivos en Java, incluyendo el tamaño que ocupan las variables de cada tipo de memoria, el rango que pueden tomar los valores de cada tipo y un ejemplo de cómo se escribe un valor para su asignación a dicha variable, lo que se denomina literal.\n",
    "\n",
    "|Tipo|\tTamaño|\tRango|\tLiteral (ejemplo)|\n",
    "|:---|:---|:---|:---|\n",
    "|```byte```|8 bit\t|$[-128 , 127]$| ```100```|\n",
    "|```short```|16 bit\t|$[-32768 , 32767]$| ```10000```|\n",
    "|```long```|64 bit\t|$[-2^{63} , 2^{63}-1]$| ```100000l```  ó ```100000L```|\n",
    "|```float```|32 bit\t||```4.25f```  ó ```4.25f```|\n",
    "|```double```|64 bit || ```42.5``` ó ```42.5d``` ó ```42.5D``` ó ```4.25e1```|\n",
    "|```boolean```|1 bit |```true``` / ```false```|```false```|\n",
    "|```char```|16 bit\t|[```'\\u0000'``` , ```'\\uffff'```]| ```'a'```|\n",
    "\n"
   ]
  },
  {
   "cell_type": "markdown",
   "id": "0b17a2fa",
   "metadata": {},
   "source": [
    "### 4. Operadores\n",
    "\n",
    "La siguiente tabla resume los principales operadores en java:\n",
    "\n",
    "|Tipo de operadores|Operadores|\n",
    "|:---|:---|\n",
    "|Aritmeticos|```+```, ```-```, ```*```, ```/```, ```%```|\n",
    "|Relacionales|```>```, ```<```, ```>=```, ```<=```, ```!=```,```==```|\n",
    "|Logicos|```|```, ```&```, ```!```|\n",
    "\n",
    "A continuación se muestran algunos programas ejemplo:"
   ]
  },
  {
   "cell_type": "markdown",
   "id": "6d9c681a",
   "metadata": {},
   "source": [
    "**Ejemplo 1**: Programa que muestra algunas operaciones con numeros enteros."
   ]
  },
  {
   "cell_type": "code",
   "execution_count": 20,
   "id": "a65cef6d",
   "metadata": {},
   "outputs": [
    {
     "data": {
      "text/html": [
       "<div class=\"text-center\"><strong><a style=\"box-sizing: border-box; padding: 0 5px; border: 1px solid #CFCFCF;\" target=\"_\" href=http://pythontutor.com/iframe-embed.html#code=%0Apublic%20class%20Example1%20%7B%0A%20%20%20%20public%20static%20void%20main%28String%5B%5D%20args%29%20%7B%0A%20%20%20%20%20%20%20%20System.out.println%28%222%20%2B%205%20%3D%20%22%20%2B%20%282%20%2B%205%29%29%3B%0A%20%20%20%20%20%20%20%20System.out.println%28%2213%20%2B%2089%20%3D%20%22%20%2B%20%2813%20%2B%2089%29%29%3B%0A%20%20%20%20%20%20%20%20System.out.println%28%2234%20-%2020%20%3D%20%22%20%2B%20%2834%20-%2020%29%29%3B%0A%20%20%20%20%20%20%20%20System.out.println%28%2245%20-%2090%20%3D%20%22%20%2B%20%2845%20-%2090%29%29%3B%0A%20%20%20%20%20%20%20%20System.out.println%28%222%20%2A%207%20%3D%20%22%20%2B%20%282%20%2A%207%29%29%3B%0A%20%20%20%20%20%20%20%20System.out.println%28%225%20/%202%20%3D%20%22%20%2B%20%285%20/%202%29%29%3B%0A%20%20%20%20%20%20%20%20System.out.println%28%2214%20/%207%20%3D%20%22%20%2B%20%2814%20/%207%29%29%3B%0A%20%20%20%20%20%20%20%20System.out.println%28%2234%20%25%205%20%3D%20%22%20%2B%20%2834%20%25%205%29%29%3B%0A%20%20%20%20%20%20%20%20System.out.println%28%224%20%25%206%20%3D%20%22%20%2B%20%284%20%25%206%29%29%3B%0A%20%20%20%20%7D%0A%7D%0A&origin=opt-frontend.js&cumulative=false&heapPrimitives=false&textReferences=false&curInstr=0&&verticalStack=false&py=java&rawInputLstJSON=%5B%5D&codeDivWidth=50%25&codeDivHeight=100%25>Python Tutor</a></strong></div>"
      ],
      "text/plain": [
       "<IPython.core.display.HTML object>"
      ]
     },
     "metadata": {},
     "output_type": "display_data"
    }
   ],
   "source": [
    "%%tutor -l java -k\n",
    "\n",
    "public class Example1 {\n",
    "    public static void main(String[] args) {\n",
    "        System.out.println(\"2 + 5 = \" + (2 + 5));\n",
    "        System.out.println(\"13 + 89 = \" + (13 + 89));\n",
    "        System.out.println(\"34 - 20 = \" + (34 - 20));\n",
    "        System.out.println(\"45 - 90 = \" + (45 - 90));\n",
    "        System.out.println(\"2 * 7 = \" + (2 * 7));\n",
    "        System.out.println(\"5 / 2 = \" + (5 / 2));\n",
    "        System.out.println(\"14 / 7 = \" + (14 / 7));\n",
    "        System.out.println(\"34 % 5 = \" + (34 % 5));\n",
    "        System.out.println(\"4 % 6 = \" + (4 % 6));\n",
    "    }\n",
    "}"
   ]
  },
  {
   "cell_type": "markdown",
   "id": "843e8e5e",
   "metadata": {},
   "source": [
    "**Ejemplo 2**: Programa que muestra algunas operaciones con numeros de punto flotante."
   ]
  },
  {
   "cell_type": "code",
   "execution_count": 21,
   "id": "156ca65d",
   "metadata": {},
   "outputs": [
    {
     "data": {
      "text/html": [
       "<div class=\"text-center\"><strong><a style=\"box-sizing: border-box; padding: 0 5px; border: 1px solid #CFCFCF;\" target=\"_\" href=http://pythontutor.com/iframe-embed.html#code=%0Apublic%20class%20Example2%20%7B%0A%20%20%20%20public%20static%20void%20main%28String%5B%5D%20args%29%20%7B%0A%20%20%20%20%20%20%20%20System.out.println%28%225.0%20%2B%203.5%20%3D%20%22%20%2B%20%285.0%20%2B%203.5%29%29%3B%0A%20%20%20%20%20%20%20%20System.out.println%28%223.0%20%2B%209.4%20%3D%20%22%20%2B%20%283.0%20%2B%209.4%29%29%3B%0A%20%20%20%20%20%20%20%20System.out.println%28%2216.4%20-%205.2%20%3D%20%22%20%2B%20%2816.4%20-%205.2%29%29%3B%0A%20%20%20%20%20%20%20%20System.out.println%28%224.2%20%2A%202.5%20%3D%20%22%20%2B%20%284.2%20%2A%202.5%29%29%3B%0A%20%20%20%20%20%20%20%20System.out.println%28%225.0%20/%202.0%20%3D%20%22%20%2B%20%285.0%20/%202.0%29%29%3B%0A%20%20%20%20%20%20%20%20System.out.println%28%2234.5%20/%206.0%20%3D%20%22%20%2B%20%2834.5%20/%206.0%29%29%3B%0A%20%20%20%20%20%20%20%20System.out.println%28%2234.5%20%25%206.0%20%3D%20%22%20%2B%20%2834.5%20%25%206.0%29%29%3B%0A%20%20%20%20%20%20%20%20System.out.println%28%2234.5%20/%206.5%20%3D%20%22%20%2B%20%2834.5%20/%206.5%29%29%3B%0A%20%20%20%20%20%20%20%20System.out.println%28%2234.5%20%25%206.5%20%3D%20%22%20%2B%20%2834.5%20%25%206.5%29%29%3B%0A%20%20%20%20%7D%0A%7D%0A&origin=opt-frontend.js&cumulative=false&heapPrimitives=false&textReferences=false&curInstr=0&&verticalStack=false&py=java&rawInputLstJSON=%5B%5D&codeDivWidth=50%25&codeDivHeight=100%25>Python Tutor</a></strong></div>"
      ],
      "text/plain": [
       "<IPython.core.display.HTML object>"
      ]
     },
     "metadata": {},
     "output_type": "display_data"
    }
   ],
   "source": [
    "%%tutor -l java -k\n",
    "\n",
    "public class Example2 {\n",
    "    public static void main(String[] args) {\n",
    "        System.out.println(\"5.0 + 3.5 = \" + (5.0 + 3.5));\n",
    "        System.out.println(\"3.0 + 9.4 = \" + (3.0 + 9.4));\n",
    "        System.out.println(\"16.4 - 5.2 = \" + (16.4 - 5.2));\n",
    "        System.out.println(\"4.2 * 2.5 = \" + (4.2 * 2.5));\n",
    "        System.out.println(\"5.0 / 2.0 = \" + (5.0 / 2.0));\n",
    "        System.out.println(\"34.5 / 6.0 = \" + (34.5 / 6.0));\n",
    "        System.out.println(\"34.5 % 6.0 = \" + (34.5 % 6.0));\n",
    "        System.out.println(\"34.5 / 6.5 = \" + (34.5 / 6.5));\n",
    "        System.out.println(\"34.5 % 6.5 = \" + (34.5 % 6.5));\n",
    "    }\n",
    "}"
   ]
  },
  {
   "cell_type": "markdown",
   "id": "4c8978f2",
   "metadata": {},
   "source": [
    "**Ejemplo 3**: Programa que muestra algunas operaciones relacionales"
   ]
  },
  {
   "cell_type": "code",
   "execution_count": 23,
   "id": "9ab9cf51",
   "metadata": {},
   "outputs": [
    {
     "data": {
      "text/html": [
       "<div class=\"text-center\"><strong><a style=\"box-sizing: border-box; padding: 0 5px; border: 1px solid #CFCFCF;\" target=\"_\" href=http://pythontutor.com/iframe-embed.html#code=%0Apublic%20class%20Example3%20%7B%0A%20%20%20%20public%20static%20void%20main%28String%5B%5D%20args%29%20%7B%20%20%0A%20%20%20%20%20%20%20%20System.out.println%28%221%20%3D%3D%202%3A%20%22%20%2B%20%281%20%3D%3D%202%29%29%3B%0A%20%20%20%20%20%20%20%20System.out.println%28%221%20%21%3D%202%3A%20%22%20%2B%20%281%20%21%3D%202%29%29%3B%0A%20%20%20%20%20%20%20%20System.out.println%28%221%20%3E%202%3A%20%22%20%2B%20%281%20%3E%202%29%29%3B%0A%20%20%20%20%20%20%20%20System.out.println%28%221%20%3C%202%3A%20%22%20%2B%20%281%20%3C%202%29%29%3B%0A%20%20%20%20%20%20%20%20System.out.println%28%221%20%3E%3D%202%3A%20%22%20%2B%20%281%20%3E%3D%202%29%29%3B%0A%20%20%20%20%20%20%20%20System.out.println%28%221%20%3C%3D%202%3A%20%22%20%2B%20%281%20%3C%3D%202%29%29%3B%0A%20%20%20%20%7D%0A%7D%0A&origin=opt-frontend.js&cumulative=false&heapPrimitives=false&textReferences=false&curInstr=0&&verticalStack=false&py=java&rawInputLstJSON=%5B%5D&codeDivWidth=50%25&codeDivHeight=100%25>Python Tutor</a></strong></div>"
      ],
      "text/plain": [
       "<IPython.core.display.HTML object>"
      ]
     },
     "metadata": {},
     "output_type": "display_data"
    }
   ],
   "source": [
    "%%tutor -l java -k\n",
    "\n",
    "public class Example3 {\n",
    "    public static void main(String[] args) {  \n",
    "        System.out.println(\"1 == 2: \" + (1 == 2));\n",
    "        System.out.println(\"1 != 2: \" + (1 != 2));\n",
    "        System.out.println(\"1 > 2: \" + (1 > 2));\n",
    "        System.out.println(\"1 < 2: \" + (1 < 2));\n",
    "        System.out.println(\"1 >= 2: \" + (1 >= 2));\n",
    "        System.out.println(\"1 <= 2: \" + (1 <= 2));\n",
    "    }\n",
    "}"
   ]
  },
  {
   "cell_type": "markdown",
   "id": "86116e81",
   "metadata": {},
   "source": [
    "**Ejemplo 4**: La siguiente tabla muestra la equivalencia entre los operadores logicos en python con los operadores logicos de Java:\n",
    "\n",
    "|Operador Lógico en Python|Operador Lógico en Java|Observaciones|\n",
    "|:---|:---|:---|\n",
    "|```or```|```|```|Solo falsa cuando los dos operandos son falsos|\n",
    "|```and```|```&```|Solo verdadera cuando los dos operandos son verdaderos|\n",
    "|```not```|```!```|La salida tiene el valor logico contrario al valor logico de la entrada|"
   ]
  },
  {
   "cell_type": "code",
   "execution_count": 29,
   "id": "2961bf70",
   "metadata": {},
   "outputs": [
    {
     "data": {
      "text/html": [
       "<div class=\"text-center\"><strong><a style=\"box-sizing: border-box; padding: 0 5px; border: 1px solid #CFCFCF;\" target=\"_\" href=http://pythontutor.com/iframe-embed.html#code=%0Apublic%20class%20Example4%20%7B%0A%20%20%20%20public%20static%20void%20main%28String%5B%5D%20args%29%20%7B%0A%20%20%20%20%20%20%20%20System.out.println%28%22-----------%20Operador%20or%20%28%7C%29%20-----------%22%29%3B%0A%20%20%20%20%20%20%20%20System.out.println%28false%20%2B%20%22%20%7C%20%22%20%2B%20false%20%2B%20%22%20%3D%20%22%20%2B%20%28false%20%7C%20false%29%29%3B%0A%20%20%20%20%20%20%20%20System.out.println%28false%20%2B%20%22%20%7C%20%22%20%2B%20true%20%2B%20%22%20%3D%20%22%20%2B%20%28false%20%7C%20true%29%29%3B%0A%20%20%20%20%20%20%20%20System.out.println%28true%20%2B%20%22%20%7C%20%22%20%2B%20false%20%2B%20%22%20%3D%20%22%20%2B%20%28true%20%7C%20false%29%29%3B%0A%20%20%20%20%20%20%20%20System.out.println%28true%20%2B%20%22%20%7C%20%22%20%2B%20true%20%2B%20%22%20%3D%20%22%20%2B%20%28true%20%7C%20true%29%29%3B%0A%20%20%20%20%20%20%20%20System.out.println%28%22-----------%20Operador%20and%20%28%26%29%20-----------%22%29%3B%0A%20%20%20%20%20%20%20%20System.out.println%28false%20%2B%20%22%20%26%20%22%20%2B%20false%20%2B%20%22%20%3D%20%22%20%2B%20%28false%20%26%20false%29%29%3B%0A%20%20%20%20%20%20%20%20System.out.println%28false%20%2B%20%22%20%26%20%22%20%2B%20true%20%2B%20%22%20%3D%20%22%20%2B%20%28false%20%26%20true%29%29%3B%0A%20%20%20%20%20%20%20%20System.out.println%28true%20%2B%20%22%20%26%20%22%20%2B%20false%20%2B%20%22%20%3D%20%22%20%2B%20%28true%20%26%20false%29%29%3B%0A%20%20%20%20%20%20%20%20System.out.println%28true%20%2B%20%22%20%26%20%22%20%2B%20true%20%2B%20%22%20%3D%20%22%20%2B%20%28true%20%26%20true%29%29%3B%0A%20%20%20%20%20%20%20%20System.out.println%28%22-----------%20Operador%20not%20%28%21%29%20-----------%22%29%3B%0A%20%20%20%20%20%20%20%20System.out.println%28%22%21%22%20%2B%20false%20%2B%20%22%20%3D%20%22%20%2B%20%21%28false%29%29%3B%0A%20%20%20%20%20%20%20%20System.out.println%28%22%21%22%20%2B%20true%20%2B%20%22%20%3D%20%22%20%2B%20%21%28true%29%29%3B%0A%20%20%20%20%7D%0A%7D%0A&origin=opt-frontend.js&cumulative=false&heapPrimitives=false&textReferences=false&curInstr=0&&verticalStack=false&py=java&rawInputLstJSON=%5B%5D&codeDivWidth=50%25&codeDivHeight=100%25>Python Tutor</a></strong></div>"
      ],
      "text/plain": [
       "<IPython.core.display.HTML object>"
      ]
     },
     "metadata": {},
     "output_type": "display_data"
    }
   ],
   "source": [
    "%%tutor -l java -k\n",
    "\n",
    "public class Example4 {\n",
    "    public static void main(String[] args) {\n",
    "        System.out.println(\"----------- Operador or (|) -----------\");\n",
    "        System.out.println(false + \" | \" + false + \" = \" + (false | false));\n",
    "        System.out.println(false + \" | \" + true + \" = \" + (false | true));\n",
    "        System.out.println(true + \" | \" + false + \" = \" + (true | false));\n",
    "        System.out.println(true + \" | \" + true + \" = \" + (true | true));\n",
    "        System.out.println(\"----------- Operador and (&) -----------\");\n",
    "        System.out.println(false + \" & \" + false + \" = \" + (false & false));\n",
    "        System.out.println(false + \" & \" + true + \" = \" + (false & true));\n",
    "        System.out.println(true + \" & \" + false + \" = \" + (true & false));\n",
    "        System.out.println(true + \" & \" + true + \" = \" + (true & true));\n",
    "        System.out.println(\"----------- Operador not (!) -----------\");\n",
    "        System.out.println(\"!\" + false + \" = \" + !(false));\n",
    "        System.out.println(\"!\" + true + \" = \" + !(true));\n",
    "    }\n",
    "}"
   ]
  },
  {
   "cell_type": "markdown",
   "id": "0fe424e0",
   "metadata": {},
   "source": [
    "**OJO --- FALTA**: Colocar sobre los operadores:\n",
    "* Abreviados.\n",
    "* Operadores de post y preincremento.\n",
    "* Prioridad y asociatividad. \n",
    "* Datos tipo String"
   ]
  },
  {
   "cell_type": "markdown",
   "id": "d67b4b9a",
   "metadata": {},
   "source": [
    "### 5. Expresiones, Sentencias y Bloques\n",
    "\n",
    "* **Expresiones**: Una expresión se compone de variables, literales (valores), llamadas a métodos y operadores. A continuación se muestran algunos ejemplos de expresiones:\n",
    "\n",
    "```java\n",
    "peso/(estatura*estatura)\n",
    "a + b + c*(d - 3)    \n",
    "(x + y)/z - 4\n",
    "(edad >= 3) & (edad <= 10)\n",
    "```\n",
    "\n",
    "* **Sentencia**: En Java, a una oración en el lenguaje natural. Define una instrucción que damos usando el lenguaje. En Java las sentencias terminan en punto y coma (```;```). La siguiente tabla muestra diferentes tipos de sentencias:\n",
    "\n",
    "|Tipos de sentencias |\tEjemplos|\n",
    "|:---|:---|\n",
    "|Expresiones de asignación\t|```temperatura = 28;```|\n",
    "|Uso de operadores de incremento\t|```temperatura++;```|\n",
    "|Invocación de métodos |```System.out.println(\"Hace calor!!\");```|\n",
    "|Expresiones de creación de objetos | ```Avion unAvion = new Avion(); ```|\n",
    "|Sentencia de declaración | ```float nota = 2.9;```|\n",
    "|Sentencias de control de flujo | ```Las veremos posteriormente ```|\n",
    "\n",
    "* **Bloques**: Un bloque es un conjunto de cero o más sentencias encerradas entre llaves (```{}```), y están permitidos en cualquier lugar que se permita una sola sentencia. Los bloques suelen delimitar las sentencias condicionales y de control de flujo (como los ciclos).\n",
    "\n",
    "```java\n",
    "{ \n",
    "    // Bloque\n",
    "    instruccion1;\n",
    "    instruccion2;\n",
    "    ...\n",
    "    instruccionN;\n",
    "}\n",
    "```\n",
    "\n",
    "A continuación se muestra un bloque de código con dos instrucciones:\n",
    "\n",
    "```java\n",
    "{\n",
    "\tint c = 1.4 + 1.6;\n",
    "\tSystem.out.println(\"La nota es: \" + c);\n",
    "}      \n",
    "```"
   ]
  },
  {
   "cell_type": "markdown",
   "id": "2b727000",
   "metadata": {},
   "source": [
    "**Ejemplo 5**: A continuación se muestra un ejemplo que ilustra varias expresiones."
   ]
  },
  {
   "cell_type": "code",
   "execution_count": 30,
   "id": "760e094e",
   "metadata": {},
   "outputs": [
    {
     "data": {
      "text/html": [
       "<div class=\"text-center\"><strong><a style=\"box-sizing: border-box; padding: 0 5px; border: 1px solid #CFCFCF;\" target=\"_\" href=http://pythontutor.com/iframe-embed.html#code=%0Apublic%20class%20Example5%20%7B%0A%20%20%20%20public%20static%20void%20main%28String%5B%5D%20args%29%20%7B%0A%20%20%20%20%20%20%20%20System.out.println%28%223%20/%202%20%2B%205.0%20%3D%20%22%20%2B%20%283%20/%202%20%2B%205.0%29%29%3B%0A%20%20%20%20%20%20%20%20System.out.println%28%2215.6%20/%202%20%2B%205%20%3D%20%22%20%2B%20%2815.6%20/%202%20%2B%205%29%29%3B%0A%20%20%20%20%20%20%20%20System.out.println%28%224%20%2B%205%20/%202.0%20%3D%20%22%20%2B%20%284%20%2B%205%20/%202.0%29%29%3B%0A%20%20%20%20%20%20%20%20System.out.println%28%224%20%2A%203%20%2B%207%20/%205%20-%2025.5%20%3D%20%22%20%2B%20%284%20%2A%203%20%2B%207%20/%205%20-%2025.5%29%29%3B%0A%20%20%20%20%7D%0A%7D%0A&origin=opt-frontend.js&cumulative=false&heapPrimitives=false&textReferences=false&curInstr=0&&verticalStack=false&py=java&rawInputLstJSON=%5B%5D&codeDivWidth=50%25&codeDivHeight=100%25>Python Tutor</a></strong></div>"
      ],
      "text/plain": [
       "<IPython.core.display.HTML object>"
      ]
     },
     "metadata": {},
     "output_type": "display_data"
    }
   ],
   "source": [
    "%%tutor -l java -k\n",
    "\n",
    "public class Example5 {\n",
    "    public static void main(String[] args) {\n",
    "        System.out.println(\"3 / 2 + 5.0 = \" + (3 / 2 + 5.0));\n",
    "        System.out.println(\"15.6 / 2 + 5 = \" + (15.6 / 2 + 5));\n",
    "        System.out.println(\"4 + 5 / 2.0 = \" + (4 + 5 / 2.0));\n",
    "        System.out.println(\"4 * 3 + 7 / 5 - 25.5 = \" + (4 * 3 + 7 / 5 - 25.5));\n",
    "    }\n",
    "}"
   ]
  },
  {
   "cell_type": "markdown",
   "id": "8fd5391b",
   "metadata": {},
   "source": [
    "**Ejemplo 6**: El siguiente ejemplo muestra algunas operaciones con variables."
   ]
  },
  {
   "cell_type": "code",
   "execution_count": 31,
   "id": "f50ef1fc",
   "metadata": {},
   "outputs": [
    {
     "data": {
      "text/html": [
       "<div class=\"text-center\"><strong><a style=\"box-sizing: border-box; padding: 0 5px; border: 1px solid #CFCFCF;\" target=\"_\" href=http://pythontutor.com/iframe-embed.html#code=%0Apublic%20class%20Example6%20%7B%0A%20%20%20%20public%20void%20main%28string%5B%5D%20args%29%20%7B%0A%20%20%20%20%20%20%20%20double%20i%20%3D%2050.0%3B%0A%20%20%20%20%20%20%20%20double%20k%20%3D%20i%20%2B%2050.0%3B%0A%20%20%20%20%20%20%20%20double%20j%20%3D%20k%20%2B%201%3B%0A%20%20%20%20%20%20%20%20System.out.println%28%22j%20es%20%22%20%2B%20j%20%2B%20%22%20y%20k%20es%20%22%20%2B%20k%29%3B%0A%20%20%20%20%7D%0A%7D%0A&origin=opt-frontend.js&cumulative=false&heapPrimitives=false&textReferences=false&curInstr=0&&verticalStack=false&py=java&rawInputLstJSON=%5B%5D&codeDivWidth=50%25&codeDivHeight=100%25>Python Tutor</a></strong></div>"
      ],
      "text/plain": [
       "<IPython.core.display.HTML object>"
      ]
     },
     "metadata": {},
     "output_type": "display_data"
    }
   ],
   "source": [
    "%%tutor -l java -k\n",
    "\n",
    "public class Example6 {\n",
    "    public void main(string[] args) {\n",
    "        double i = 50.0;\n",
    "        double k = i + 50.0;\n",
    "        double j = k + 1;\n",
    "        System.out.println(\"j es \" + j + \" y k es \" + k);\n",
    "    }\n",
    "}"
   ]
  },
  {
   "cell_type": "markdown",
   "id": "e1baca3a",
   "metadata": {},
   "source": [
    "**Ejemplo 7**: El siguiente calcula el area de un circulo de radio 20 haciendo uso de expresiones y variables."
   ]
  },
  {
   "cell_type": "code",
   "execution_count": 32,
   "id": "abec0510",
   "metadata": {},
   "outputs": [
    {
     "data": {
      "text/html": [
       "<div class=\"text-center\"><strong><a style=\"box-sizing: border-box; padding: 0 5px; border: 1px solid #CFCFCF;\" target=\"_\" href=http://pythontutor.com/iframe-embed.html#code=%0Apublic%20class%20Example7%20%7B%0A%20%20%20%20public%20static%20void%20main%28String%5B%5D%20args%29%20%7B%0A%20%20%20%20%20%20%20%20double%20radius%3B%20%0A%20%20%20%20%20%20%20%20double%20area%3B%0A%20%20%20%20%20%20%20%20%0A%20%20%20%20%20%20%20%20radius%20%3D%2020%3B%0A%20%20%20%20%20%20%20%20area%20%3D%20radius%20%2A%20radius%20%2A%203.14159%3B%0A%20%20%20%20%20%20%20%20System.out.println%28%22El%20area%20del%20circulo%20de%20%22%20%2B%20radius%20%2B%20%22%20es%20%22%20%2B%20area%29%3B%0A%20%20%20%20%7D%0A%7D%0A&origin=opt-frontend.js&cumulative=false&heapPrimitives=false&textReferences=false&curInstr=0&&verticalStack=false&py=java&rawInputLstJSON=%5B%5D&codeDivWidth=50%25&codeDivHeight=100%25>Python Tutor</a></strong></div>"
      ],
      "text/plain": [
       "<IPython.core.display.HTML object>"
      ]
     },
     "metadata": {},
     "output_type": "display_data"
    }
   ],
   "source": [
    "%%tutor -l java -k\n",
    "\n",
    "public class Example7 {\n",
    "    public static void main(String[] args) {\n",
    "        double radius; \n",
    "        double area;\n",
    "        \n",
    "        radius = 20;\n",
    "        area = radius * radius * 3.14159;\n",
    "        System.out.println(\"El area del circulo de \" + radius + \" es \" + area);\n",
    "    }\n",
    "}"
   ]
  },
  {
   "cell_type": "markdown",
   "id": "98424828",
   "metadata": {},
   "source": [
    "### 6. Conversión de tipos (casting)\n",
    "\n",
    "Por **casting** hacemos referencia a una conversion de datos. Existen dos tipos de casting: \n",
    "* **coverción de tipo implícita**: Se da cuando un valor de un tipo de datos se trata automáticamente como otro tipo de datos. Por ejemplo cuando se evalua una expresión aritmética si el operador tiene operandos mezclados, el valor entero se trata como un valor de punto flotante con la parte decimal de cero. Por ejemplo:\n",
    "\n",
    "```java\n",
    "int x = 3;\n",
    "double y = 2.3, z;\n",
    "z = x + y;  // x es convertida de manera automatica a un dato tipo double antes de operar\n",
    "```\n",
    "\n",
    "* **Conversión explícita**: Java proporciona la conversión de tipo implícita mediante el uso de un **operador de casting** el cual tiene la siguiente forma:\n",
    "\n",
    "```java\n",
    "(nombreTipoDato) expresion\n",
    "```\n",
    "\n",
    "Si se hiciera el ejemplo anterior empleando el operador de casting se tendria el siguiente fragmento de código:\n",
    "\n",
    "```java\n",
    "int x = 3;\n",
    "double y = 2.3, z;\n",
    "z = (double)x + y;  // x es convertida de manera explicita haciendo un casting\n",
    "```"
   ]
  },
  {
   "cell_type": "markdown",
   "id": "04a52f6b",
   "metadata": {},
   "source": [
    "**Ejemplo 8**: A continuación se muestra el resultado de varios casting "
   ]
  },
  {
   "cell_type": "code",
   "execution_count": 35,
   "id": "6132b96c",
   "metadata": {},
   "outputs": [
    {
     "data": {
      "text/html": [
       "<div class=\"text-center\"><strong><a style=\"box-sizing: border-box; padding: 0 5px; border: 1px solid #CFCFCF;\" target=\"_\" href=http://pythontutor.com/iframe-embed.html#code=%0Apublic%20class%20Example8%20%7B%0A%20%20%20%20public%20static%20void%20main%28String%5B%5D%20args%29%20%7B%0A%20%20%20%20%20%20%20%20System.out.println%28%22%28int%29%287.9%29%20%3D%20%22%20%2B%20%28int%29%287.9%29%29%3B%0A%20%20%20%20%20%20%20%20System.out.println%28%22%28int%29%283.3%29%20%3D%20%22%20%2B%20%28int%29%283.3%29%29%3B%0A%20%20%20%20%20%20%20%20System.out.println%28%22%28double%29%2825%29%20%3D%20%22%20%2B%20%28double%29%2825%29%29%3B%0A%20%20%20%20%20%20%20%20System.out.println%28%22%28double%29%285%20%2B%203%29%20%3D%20%22%20%2B%20%28double%29%285%20%2B%203%29%29%3B%0A%20%20%20%20%20%20%20%20System.out.println%28%22%28double%29%2815%29%20/%202%20%3D%20%22%20%2B%20%28%28double%29%2815%29%20/%202%29%29%3B%0A%20%20%20%20%20%20%20%20System.out.println%28%22%28double%29%2815%20/%202%29%20%3D%20%22%20%2B%20%28%28double%29%2815%20/%202%29%29%29%3B%0A%20%20%20%20%20%20%20%20System.out.println%28%22%28int%29%287.8%20%2B%20%28double%29%2815%29%20/%202%29%20%3D%20%22%20%2B%20%28%28int%29%287.8%20%2B%20%28double%29%2815%29%20/%202%29%29%29%3B%0A%20%20%20%20%20%20%20%20System.out.println%28%22%28int%29%287.8%20%2B%20%28double%29%2815%20/%202%29%29%20%3D%20%22%20%2B%20%28%28int%29%287.8%20%2B%20%28double%29%2815%20/%202%29%29%29%29%3B%0A%20%20%20%20%20%20%20%20System.out.println%28%22%28int%29%28%27A%27%29%20%3D%20%22%20%2B%20%28int%29%28%27A%27%29%29%3B%0A%20%20%20%20%20%20%20%20System.out.println%28%22%28char%29%2865%29%20%3D%20%22%20%2B%20%28char%29%2865%29%29%3B%0A%20%20%20%20%20%20%20%20System.out.println%28%22%28int%29%28%278%27%29%20%3D%20%22%20%2B%20%28int%29%28%278%27%29%29%3B%0A%20%20%20%20%20%20%20%20System.out.println%28%22%28char%29%2856%29%20%3D%20%22%20%2B%20%28char%29%2856%29%29%3B%0A%20%20%20%20%7D%0A%7D%0A&origin=opt-frontend.js&cumulative=false&heapPrimitives=false&textReferences=false&curInstr=0&&verticalStack=false&py=java&rawInputLstJSON=%5B%5D&codeDivWidth=50%25&codeDivHeight=100%25>Python Tutor</a></strong></div>"
      ],
      "text/plain": [
       "<IPython.core.display.HTML object>"
      ]
     },
     "metadata": {},
     "output_type": "display_data"
    }
   ],
   "source": [
    "%%tutor -l java -k\n",
    "\n",
    "public class Example8 {\n",
    "    public static void main(String[] args) {\n",
    "        System.out.println(\"(int)(7.9) = \" + (int)(7.9));\n",
    "        System.out.println(\"(int)(3.3) = \" + (int)(3.3));\n",
    "        System.out.println(\"(double)(25) = \" + (double)(25));\n",
    "        System.out.println(\"(double)(5 + 3) = \" + (double)(5 + 3));\n",
    "        System.out.println(\"(double)(15) / 2 = \" + ((double)(15) / 2));\n",
    "        System.out.println(\"(double)(15 / 2) = \" + ((double)(15 / 2)));\n",
    "        System.out.println(\"(int)(7.8 + (double)(15) / 2) = \" + ((int)(7.8 + (double)(15) / 2)));\n",
    "        System.out.println(\"(int)(7.8 + (double)(15 / 2)) = \" + ((int)(7.8 + (double)(15 / 2))));\n",
    "        System.out.println(\"(int)('A') = \" + (int)('A'));\n",
    "        System.out.println(\"(char)(65) = \" + (char)(65));\n",
    "        System.out.println(\"(int)('8') = \" + (int)('8'));\n",
    "        System.out.println(\"(char)(56) = \" + (char)(56));\n",
    "    }\n",
    "}"
   ]
  },
  {
   "cell_type": "markdown",
   "id": "6c191828",
   "metadata": {},
   "source": [
    "### 7. Constantes\n",
    "Una constante es una localización de memoria cuyo contenido no se permite que cambie durante la ejecución de un programa. La forma tipica de definir una constante en Java se hace con la palabra reservada ```final``` tal y como se muestra a continuación:\n",
    "\n",
    "```java\n",
    "final dataType IDENTIFICADOR = valor;\n",
    "```\n",
    "\n",
    "A continuación se muestran algunos ejemplos:\n",
    "\n",
    "```java\n",
    "final double CENTIMETROS_POR_PULGADA = 2.54;\n",
    "final int NUM_DE_ESTUDIANTES = 20;\n",
    "final char ESPACIO = ' ';\n",
    "final double PAGO_SALARIO = 15.75;\n",
    "```\n",
    "\n",
    "Por convención las constantes se declaran con mayusculas."
   ]
  },
  {
   "cell_type": "markdown",
   "id": "20f0f03c",
   "metadata": {},
   "source": [
    "## Sobre los identificadores\n",
    "\n",
    "A la hora de nombrar las variables en Java (esto incluye nombres de variables, arreglos y objetos) se debe tener en cuenta lo siguiente:\n",
    "* Los nombres de variables en Java son **case-sensitive**, es decir, distinguen entre mayúsculas y minúsculas.\n",
    "* El nombre de una variable puede ser un identificador alfanumérico que empiece por una letra, el signo ```$```  o guion bajo (```_```). No se permiten espacios en blanco.\n",
    "* Se recomiendan palabras auto-descriptivas que no sean una palabra reservada del lenguaje (que se pueden conocer en la referencia de Java).\n",
    "* Para el nombrado de variables, se recomienda la notación camel-case, es decir: Si el nombre consta de una sola palabra, dicha palabra se escribe toda en minúsculas, si son dos o más palabras, se escribe la primera palabra toda en minúsculas, y las palabras subsecuentes, en minúscula, pero con la primera letra en mayúscula, así:  frecuencia, telefono, direccionResidencia, cambioTraseroActual."
   ]
  },
  {
   "cell_type": "markdown",
   "id": "58b295ae",
   "metadata": {},
   "source": [
    "## Actividad de refuerzo\n",
    "\n",
    "Analizar los codigos propuestos a continuación (tomados del siguiente [link](http://pythontutor.com/java.html#mode=edit)):"
   ]
  },
  {
   "cell_type": "code",
   "execution_count": 36,
   "id": "4da18f35",
   "metadata": {},
   "outputs": [
    {
     "data": {
      "text/html": [
       "\n",
       "        <iframe\n",
       "            width=\"100%\"\n",
       "            height=\"350\"\n",
       "            src=\"http://pythontutor.com/iframe-embed.html#code=public%20class%20Variables%20%7B%0A%20%20%20public%20static%20void%20main%28String%5B%5D%20args%29%20%7B%0A%20%20%20%20%20%20String%20me%20%3D%20%22me%22%3B%0A%20%20%20%20%20%20String%20you%20%3D%20%22you%22%3B%0A%20%20%20%20%20%20String%20tmp%20%3D%20me%3B%0A%20%20%20%20%20%20me%20%3D%20you%3B%0A%20%20%20%20%20%20you%20%3D%20tmp%3B%0A%0A%20%20%20%20%20%20int%20x%20%3D%205%3B%0A%20%20%20%20%20%20int%20y%20%3D%2010%3B%0A%20%20%20%20%20%20int%20t%20%3D%20x%3B%0A%20%20%20%20%20%20x%20%3D%20y%3B%0A%20%20%20%20%20%20y%20%3D%20t%3B%0A%20%20%20%7D%0A%7D%0A&origin=opt-frontend.js&cumulative=false&heapPrimitives=false&textReferences=false&curInstr=0&&verticalStack=false&py=java&rawInputLstJSON=%5B%5D&codeDivWidth=50%25&codeDivHeight=100%25\"\n",
       "            frameborder=\"0\"\n",
       "            allowfullscreen\n",
       "        ></iframe>\n",
       "        "
      ],
      "text/plain": [
       "<IPython.lib.display.IFrame at 0x18ce42d5ac0>"
      ]
     },
     "metadata": {},
     "output_type": "display_data"
    }
   ],
   "source": [
    "%%tutor -l java\n",
    "public class Variables {\n",
    "   public static void main(String[] args) {\n",
    "      String me = \"me\";\n",
    "      String you = \"you\";\n",
    "      String tmp = me;\n",
    "      me = you;\n",
    "      you = tmp;\n",
    "\n",
    "      int x = 5;\n",
    "      int y = 10;\n",
    "      int t = x;\n",
    "      x = y;\n",
    "      y = t;\n",
    "   }\n",
    "}"
   ]
  },
  {
   "cell_type": "code",
   "execution_count": 38,
   "id": "e7e1dfe0",
   "metadata": {},
   "outputs": [
    {
     "data": {
      "text/html": [
       "\n",
       "        <iframe\n",
       "            width=\"100%\"\n",
       "            height=\"350\"\n",
       "            src=\"http://pythontutor.com/iframe-embed.html#code=%0Apublic%20class%20Strings%20%7B%0A%20%20%20public%20static%20void%20main%28String%5B%5D%20args%29%20%7B%20%0A%20%20%20%20%20%20String%20a%20%3D%20%22Hello%2C%20world%21%22%3B%0A%20%20%20%20%20%20String%20b%20%3D%20%22Hello%2C%20world%21%21%22.substring%280%2C%2013%29%3B%0A%20%20%20%20%20%20String%20c%20%3D%20%22Hello%2C%20%22%3B%0A%20%20%20%20%20%20c%20%2B%3D%20%22world%21%22%3B%0A%20%20%20%20%20%20String%20d%20%3D%20%22Hello%2C%20w%22%2B%22orld%21%22%3B%20//%20constant%20expr%2C%20interned%0A%20%20%20%20%20%20String%20e%20%3D%20a.substring%280%2C%2013%29%3B%0A%20%20%20%20%20%20System.out.println%28%28a%20%3D%3D%20b%29%20%2B%20%22%20%22%20%2B%20a.equals%28b%29%29%3B%0A%20%20%20%20%20%20System.out.println%28%28a%20%3D%3D%20c%29%20%2B%20%22%20%22%20%2B%20a.equals%28c%29%29%3B%0A%20%20%20%20%20%20System.out.println%28%28a%20%3D%3D%20d%29%20%2B%20%22%20%22%20%2B%20a.equals%28d%29%29%3B%0A%20%20%20%20%20%20System.out.println%28%28a%20%3D%3D%20e%29%20%2B%20%22%20%22%20%2B%20a.equals%28e%29%29%3B%0A%20%20%20%7D%0A%7D%0A&origin=opt-frontend.js&cumulative=false&heapPrimitives=false&textReferences=false&curInstr=0&&verticalStack=false&py=java&rawInputLstJSON=%5B%5D&codeDivWidth=50%25&codeDivHeight=100%25\"\n",
       "            frameborder=\"0\"\n",
       "            allowfullscreen\n",
       "        ></iframe>\n",
       "        "
      ],
      "text/plain": [
       "<IPython.lib.display.IFrame at 0x18ce40d5a30>"
      ]
     },
     "metadata": {},
     "output_type": "display_data"
    }
   ],
   "source": [
    "%%tutor -l java\n",
    "\n",
    "public class Strings {\n",
    "   public static void main(String[] args) { \n",
    "      String a = \"Hello, world!\";\n",
    "      String b = \"Hello, world!!\".substring(0, 13);\n",
    "      String c = \"Hello, \";\n",
    "      c += \"world!\";\n",
    "      String d = \"Hello, w\"+\"orld!\"; // constant expr, interned\n",
    "      String e = a.substring(0, 13);\n",
    "      System.out.println((a == b) + \" \" + a.equals(b));\n",
    "      System.out.println((a == c) + \" \" + a.equals(c));\n",
    "      System.out.println((a == d) + \" \" + a.equals(d));\n",
    "      System.out.println((a == e) + \" \" + a.equals(e));\n",
    "   }\n",
    "}"
   ]
  },
  {
   "cell_type": "code",
   "execution_count": null,
   "id": "742b0371",
   "metadata": {},
   "outputs": [],
   "source": []
  }
 ],
 "metadata": {
  "kernelspec": {
   "display_name": "Python 3",
   "language": "python",
   "name": "python3"
  },
  "language_info": {
   "codemirror_mode": {
    "name": "ipython",
    "version": 3
   },
   "file_extension": ".py",
   "mimetype": "text/x-python",
   "name": "python",
   "nbconvert_exporter": "python",
   "pygments_lexer": "ipython3",
   "version": "3.8.8"
  }
 },
 "nbformat": 4,
 "nbformat_minor": 5
}

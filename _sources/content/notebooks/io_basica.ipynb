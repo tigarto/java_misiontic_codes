{
 "cells": [
  {
   "cell_type": "code",
   "execution_count": 3,
   "id": "ad74248c",
   "metadata": {},
   "outputs": [
    {
     "name": "stdout",
     "output_type": "stream",
     "text": [
      "Requirement already satisfied: tutormagic in c:\\users\\usuario\\anaconda3\\lib\\site-packages (0.3.1)\n",
      "Requirement already satisfied: jupyter>=1.0 in c:\\users\\usuario\\anaconda3\\lib\\site-packages (from tutormagic) (1.0.0)\n",
      "Requirement already satisfied: notebook in c:\\users\\usuario\\anaconda3\\lib\\site-packages (from jupyter>=1.0->tutormagic) (6.3.0)\n",
      "Requirement already satisfied: ipykernel in c:\\users\\usuario\\anaconda3\\lib\\site-packages (from jupyter>=1.0->tutormagic) (5.5.5)\n",
      "Requirement already satisfied: nbconvert in c:\\users\\usuario\\anaconda3\\lib\\site-packages (from jupyter>=1.0->tutormagic) (6.1.0)\n",
      "Requirement already satisfied: qtconsole in c:\\users\\usuario\\anaconda3\\lib\\site-packages (from jupyter>=1.0->tutormagic) (5.1.0)\n",
      "Requirement already satisfied: ipywidgets in c:\\users\\usuario\\anaconda3\\lib\\site-packages (from jupyter>=1.0->tutormagic) (7.6.3)\n",
      "Requirement already satisfied: jupyter-console in c:\\users\\usuario\\anaconda3\\lib\\site-packages (from jupyter>=1.0->tutormagic) (6.4.0)\n",
      "Requirement already satisfied: tornado>=4.2 in c:\\users\\usuario\\anaconda3\\lib\\site-packages (from ipykernel->jupyter>=1.0->tutormagic) (6.1)\n",
      "Requirement already satisfied: jupyter-client in c:\\users\\usuario\\anaconda3\\lib\\site-packages (from ipykernel->jupyter>=1.0->tutormagic) (6.1.12)\n",
      "Requirement already satisfied: ipython>=5.0.0 in c:\\users\\usuario\\anaconda3\\lib\\site-packages (from ipykernel->jupyter>=1.0->tutormagic) (7.22.0)\n",
      "Requirement already satisfied: traitlets>=4.1.0 in c:\\users\\usuario\\anaconda3\\lib\\site-packages (from ipykernel->jupyter>=1.0->tutormagic) (5.0.5)\n",
      "Requirement already satisfied: decorator in c:\\users\\usuario\\anaconda3\\lib\\site-packages (from ipython>=5.0.0->ipykernel->jupyter>=1.0->tutormagic) (5.0.9)\n",
      "Requirement already satisfied: backcall in c:\\users\\usuario\\anaconda3\\lib\\site-packages (from ipython>=5.0.0->ipykernel->jupyter>=1.0->tutormagic) (0.2.0)\n",
      "Requirement already satisfied: setuptools>=18.5 in c:\\users\\usuario\\anaconda3\\lib\\site-packages (from ipython>=5.0.0->ipykernel->jupyter>=1.0->tutormagic) (52.0.0.post20210125)\n",
      "Requirement already satisfied: pickleshare in c:\\users\\usuario\\anaconda3\\lib\\site-packages (from ipython>=5.0.0->ipykernel->jupyter>=1.0->tutormagic) (0.7.5)\n",
      "Requirement already satisfied: prompt-toolkit!=3.0.0,!=3.0.1,<3.1.0,>=2.0.0 in c:\\users\\usuario\\anaconda3\\lib\\site-packages (from ipython>=5.0.0->ipykernel->jupyter>=1.0->tutormagic) (3.0.17)\n",
      "Requirement already satisfied: pygments in c:\\users\\usuario\\anaconda3\\lib\\site-packages (from ipython>=5.0.0->ipykernel->jupyter>=1.0->tutormagic) (2.9.0)\n",
      "Requirement already satisfied: jedi>=0.16 in c:\\users\\usuario\\anaconda3\\lib\\site-packages (from ipython>=5.0.0->ipykernel->jupyter>=1.0->tutormagic) (0.17.2)\n",
      "Requirement already satisfied: colorama in c:\\users\\usuario\\anaconda3\\lib\\site-packages (from ipython>=5.0.0->ipykernel->jupyter>=1.0->tutormagic) (0.4.4)\n",
      "Requirement already satisfied: parso<0.8.0,>=0.7.0 in c:\\users\\usuario\\anaconda3\\lib\\site-packages (from jedi>=0.16->ipython>=5.0.0->ipykernel->jupyter>=1.0->tutormagic) (0.7.0)\n",
      "Requirement already satisfied: wcwidth in c:\\users\\usuario\\anaconda3\\lib\\site-packages (from prompt-toolkit!=3.0.0,!=3.0.1,<3.1.0,>=2.0.0->ipython>=5.0.0->ipykernel->jupyter>=1.0->tutormagic) (0.2.5)\n",
      "Requirement already satisfied: ipython-genutils in c:\\users\\usuario\\anaconda3\\lib\\site-packages (from traitlets>=4.1.0->ipykernel->jupyter>=1.0->tutormagic) (0.2.0)\n",
      "Requirement already satisfied: nbformat>=4.2.0 in c:\\users\\usuario\\anaconda3\\lib\\site-packages (from ipywidgets->jupyter>=1.0->tutormagic) (5.1.3)\n",
      "Requirement already satisfied: widgetsnbextension~=3.5.0 in c:\\users\\usuario\\anaconda3\\lib\\site-packages (from ipywidgets->jupyter>=1.0->tutormagic) (3.5.1)\n",
      "Requirement already satisfied: jupyterlab-widgets>=1.0.0 in c:\\users\\usuario\\anaconda3\\lib\\site-packages (from ipywidgets->jupyter>=1.0->tutormagic) (1.0.0)\n",
      "Requirement already satisfied: jupyter-core in c:\\users\\usuario\\anaconda3\\lib\\site-packages (from nbformat>=4.2.0->ipywidgets->jupyter>=1.0->tutormagic) (4.7.1)\n",
      "Requirement already satisfied: jsonschema!=2.5.0,>=2.4 in c:\\users\\usuario\\anaconda3\\lib\\site-packages (from nbformat>=4.2.0->ipywidgets->jupyter>=1.0->tutormagic) (3.2.0)\n",
      "Requirement already satisfied: attrs>=17.4.0 in c:\\users\\usuario\\anaconda3\\lib\\site-packages (from jsonschema!=2.5.0,>=2.4->nbformat>=4.2.0->ipywidgets->jupyter>=1.0->tutormagic) (21.2.0)\n",
      "Requirement already satisfied: six>=1.11.0 in c:\\users\\usuario\\anaconda3\\lib\\site-packages (from jsonschema!=2.5.0,>=2.4->nbformat>=4.2.0->ipywidgets->jupyter>=1.0->tutormagic) (1.16.0)\n",
      "Requirement already satisfied: pyrsistent>=0.14.0 in c:\\users\\usuario\\anaconda3\\lib\\site-packages (from jsonschema!=2.5.0,>=2.4->nbformat>=4.2.0->ipywidgets->jupyter>=1.0->tutormagic) (0.17.3)\n",
      "Requirement already satisfied: terminado>=0.8.3 in c:\\users\\usuario\\anaconda3\\lib\\site-packages (from notebook->jupyter>=1.0->tutormagic) (0.9.4)\n",
      "Requirement already satisfied: jinja2 in c:\\users\\usuario\\anaconda3\\lib\\site-packages (from notebook->jupyter>=1.0->tutormagic) (3.0.1)\n",
      "Requirement already satisfied: pyzmq>=17 in c:\\users\\usuario\\anaconda3\\lib\\site-packages (from notebook->jupyter>=1.0->tutormagic) (20.0.0)\n",
      "Requirement already satisfied: prometheus-client in c:\\users\\usuario\\anaconda3\\lib\\site-packages (from notebook->jupyter>=1.0->tutormagic) (0.11.0)\n",
      "Requirement already satisfied: Send2Trash>=1.5.0 in c:\\users\\usuario\\anaconda3\\lib\\site-packages (from notebook->jupyter>=1.0->tutormagic) (1.5.0)\n",
      "Requirement already satisfied: argon2-cffi in c:\\users\\usuario\\anaconda3\\lib\\site-packages (from notebook->jupyter>=1.0->tutormagic) (20.1.0)\n",
      "Requirement already satisfied: python-dateutil>=2.1 in c:\\users\\usuario\\anaconda3\\lib\\site-packages (from jupyter-client->ipykernel->jupyter>=1.0->tutormagic) (2.8.1)\n",
      "Requirement already satisfied: pywin32>=1.0 in c:\\users\\usuario\\anaconda3\\lib\\site-packages (from jupyter-core->nbformat>=4.2.0->ipywidgets->jupyter>=1.0->tutormagic) (227)\n",
      "Requirement already satisfied: pywinpty>=0.5 in c:\\users\\usuario\\anaconda3\\lib\\site-packages (from terminado>=0.8.3->notebook->jupyter>=1.0->tutormagic) (0.5.7)\n",
      "Requirement already satisfied: cffi>=1.0.0 in c:\\users\\usuario\\anaconda3\\lib\\site-packages (from argon2-cffi->notebook->jupyter>=1.0->tutormagic) (1.14.6)\n",
      "Requirement already satisfied: pycparser in c:\\users\\usuario\\anaconda3\\lib\\site-packages (from cffi>=1.0.0->argon2-cffi->notebook->jupyter>=1.0->tutormagic) (2.20)\n",
      "Requirement already satisfied: MarkupSafe>=2.0 in c:\\users\\usuario\\anaconda3\\lib\\site-packages (from jinja2->notebook->jupyter>=1.0->tutormagic) (2.0.1)\n",
      "Requirement already satisfied: nbclient<0.6.0,>=0.5.0 in c:\\users\\usuario\\anaconda3\\lib\\site-packages (from nbconvert->jupyter>=1.0->tutormagic) (0.5.3)\n",
      "Requirement already satisfied: mistune<2,>=0.8.1 in c:\\users\\usuario\\anaconda3\\lib\\site-packages (from nbconvert->jupyter>=1.0->tutormagic) (0.8.4)\n",
      "Requirement already satisfied: bleach in c:\\users\\usuario\\anaconda3\\lib\\site-packages (from nbconvert->jupyter>=1.0->tutormagic) (3.3.0)\n",
      "Requirement already satisfied: defusedxml in c:\\users\\usuario\\anaconda3\\lib\\site-packages (from nbconvert->jupyter>=1.0->tutormagic) (0.7.1)\n",
      "Requirement already satisfied: entrypoints>=0.2.2 in c:\\users\\usuario\\anaconda3\\lib\\site-packages (from nbconvert->jupyter>=1.0->tutormagic) (0.3)\n",
      "Requirement already satisfied: testpath in c:\\users\\usuario\\anaconda3\\lib\\site-packages (from nbconvert->jupyter>=1.0->tutormagic) (0.5.0)\n",
      "Requirement already satisfied: jupyterlab-pygments in c:\\users\\usuario\\anaconda3\\lib\\site-packages (from nbconvert->jupyter>=1.0->tutormagic) (0.1.2)\n",
      "Requirement already satisfied: pandocfilters>=1.4.1 in c:\\users\\usuario\\anaconda3\\lib\\site-packages (from nbconvert->jupyter>=1.0->tutormagic) (1.4.3)\n",
      "Requirement already satisfied: async-generator in c:\\users\\usuario\\anaconda3\\lib\\site-packages (from nbclient<0.6.0,>=0.5.0->nbconvert->jupyter>=1.0->tutormagic) (1.10)\n",
      "Requirement already satisfied: nest-asyncio in c:\\users\\usuario\\anaconda3\\lib\\site-packages (from nbclient<0.6.0,>=0.5.0->nbconvert->jupyter>=1.0->tutormagic) (1.5.1)\n",
      "Requirement already satisfied: webencodings in c:\\users\\usuario\\anaconda3\\lib\\site-packages (from bleach->nbconvert->jupyter>=1.0->tutormagic) (0.5.1)\n",
      "Requirement already satisfied: packaging in c:\\users\\usuario\\anaconda3\\lib\\site-packages (from bleach->nbconvert->jupyter>=1.0->tutormagic) (21.0)\n",
      "Requirement already satisfied: pyparsing>=2.0.2 in c:\\users\\usuario\\anaconda3\\lib\\site-packages (from packaging->bleach->nbconvert->jupyter>=1.0->tutormagic) (2.4.7)\n",
      "Requirement already satisfied: qtpy in c:\\users\\usuario\\anaconda3\\lib\\site-packages (from qtconsole->jupyter>=1.0->tutormagic) (1.9.0)\n"
     ]
    }
   ],
   "source": [
    "!pip3 install tutormagic\n",
    "%load_ext tutormagic"
   ]
  },
  {
   "cell_type": "code",
   "execution_count": 5,
   "id": "08c614c5",
   "metadata": {},
   "outputs": [],
   "source": [
    "import warnings\n",
    "warnings.filterwarnings(\"ignore\", category=DeprecationWarning)"
   ]
  },
  {
   "cell_type": "markdown",
   "id": "c703b7aa",
   "metadata": {},
   "source": [
    "# Entrada y salida en java"
   ]
  },
  {
   "cell_type": "markdown",
   "id": "0bf7c933",
   "metadata": {},
   "source": [
    "Las operaciones de entrada y salida son importantes por que permiten la interacción entre el programa y el usuario. Para este caso, la salida la asociaremos a la pantalla y la entrada la asociaremos al teclado."
   ]
  },
  {
   "cell_type": "markdown",
   "id": "c6c90bfb",
   "metadata": {},
   "source": [
    "## Salida en java\n",
    "\n",
    "### 1. Recordando la salida en Python\n",
    "\n",
    "En python la instrucción para mostrar datos en pantalla es la función ```print```, esta, desde el punto de vista mas basico, tiene la siguiente sintaxis:\n",
    "\n",
    "```python\n",
    "print(\"Lista de mensajes y variables separados por coma\")\n",
    "```\n",
    "\n",
    "### 2. Salida en pantalla en Java\n",
    "\n",
    "El dispositivo de salida estándar suele ser un monitor. En Java la salida en el dispositivo de salida estándar se efectúa empleando el objeto de salida estándar ```System.out```. El objeto ```System.out``` tiene acceso a dos métodos, ```print``` y ```println```, para dar salida a una cadena en el dispositivo de salida estándar.\n",
    "\n",
    "La forma general empleada para mostrar algo en consola se muestra a continuación:\n",
    "\n",
    "```java\n",
    "System.out.printf(FormatString, ArgList);\n",
    "```\n",
    "\n",
    "Donde:\n",
    "* **FormatString**: String que contiene texto y/o espeficidadores de formato especiales.\n",
    "* **ArgList**: Es una lista de argumentos adicionales que seran formateados de acuerdo a los especificadores de formato listadoa en el argumento pasado como ```FormatString```.\n",
    "\n",
    "Es importante aclarar sintaxis anterior tambien aplica al método ```println```. La diferencia entre los metodos ```print``` y ```println``` radica en que el último método agrega un enter al final de la cadena desplegada en la pantalla.\n",
    "\n",
    "Para comprender como es la salida en pantalla en java, realicemos una comparación con el caso de python mediante una serie de ejemplos."
   ]
  },
  {
   "cell_type": "markdown",
   "id": "81bfdbd9",
   "metadata": {},
   "source": [
    "**Ejemplo 1**: Dado el siguiente código python:"
   ]
  },
  {
   "cell_type": "code",
   "execution_count": 14,
   "id": "f6122266",
   "metadata": {
    "scrolled": true
   },
   "outputs": [
    {
     "name": "stdout",
     "output_type": "stream",
     "text": [
      "Adios mundo cruel\n"
     ]
    }
   ],
   "source": [
    "print(\"Adios mundo cruel\")"
   ]
  },
  {
   "cell_type": "markdown",
   "id": "5fea644b",
   "metadata": {},
   "source": [
    "¿Como es su implementacion en java?"
   ]
  },
  {
   "cell_type": "code",
   "execution_count": 15,
   "id": "0f4c3878",
   "metadata": {},
   "outputs": [
    {
     "data": {
      "text/html": [
       "<div class=\"text-center\"><strong><a style=\"box-sizing: border-box; padding: 0 5px; border: 1px solid #CFCFCF;\" target=\"_\" href=http://pythontutor.com/iframe-embed.html#code=%0Apublic%20class%20ExampleIO1%20%7B%0A%20%20%20%20public%20static%20void%20main%28String%5B%5D%20args%29%20%7B%0A%20%20%20%20%20%20%20%20System.out.println%28%22Adios%20mundo%20cruel%22%29%3B%0A%20%20%20%20%7D%0A%7D%0A&origin=opt-frontend.js&cumulative=false&heapPrimitives=false&textReferences=false&curInstr=0&&verticalStack=false&py=java&rawInputLstJSON=%5B%5D&codeDivWidth=50%25&codeDivHeight=100%25>Python Tutor</a></strong></div>"
      ],
      "text/plain": [
       "<IPython.core.display.HTML object>"
      ]
     },
     "metadata": {},
     "output_type": "display_data"
    }
   ],
   "source": [
    "%%tutor -l java -k\n",
    "\n",
    "public class ExampleIO1 {\n",
    "    public static void main(String[] args) {\n",
    "        System.out.println(\"Adios mundo cruel\");\n",
    "    }\n",
    "}"
   ]
  },
  {
   "cell_type": "markdown",
   "id": "df5c4032",
   "metadata": {},
   "source": [
    "**Ejemplo 2**: Dado el siguiente código python:"
   ]
  },
  {
   "cell_type": "code",
   "execution_count": 16,
   "id": "be05cd6b",
   "metadata": {},
   "outputs": [
    {
     "name": "stdout",
     "output_type": "stream",
     "text": [
      "7.25\n",
      "Hola que tal?\n",
      "12\n",
      "4 + 7\n",
      "11\n",
      "A\n",
      "4 + 7 = 11\n",
      "17\n",
      "Hola \n",
      "que tal?\n"
     ]
    }
   ],
   "source": [
    "print(29/4)\n",
    "print(\"Hola que tal?\")\n",
    "print(12)\n",
    "print(\"4 + 7\")\n",
    "print(4 + 7)\n",
    "print('A')\n",
    "print(\"4 + 7 = \" + str(4 + 7))   # print(\"4 + 7 =\",(4 + 7)) \n",
    "print(2 + 3*5)\n",
    "print(\"Hola \\nque tal?\")"
   ]
  },
  {
   "cell_type": "markdown",
   "id": "92ad7826",
   "metadata": {},
   "source": [
    "La implementación en java es: "
   ]
  },
  {
   "cell_type": "code",
   "execution_count": 17,
   "id": "25984364",
   "metadata": {},
   "outputs": [
    {
     "data": {
      "text/html": [
       "<div class=\"text-center\"><strong><a style=\"box-sizing: border-box; padding: 0 5px; border: 1px solid #CFCFCF;\" target=\"_\" href=http://pythontutor.com/iframe-embed.html#code=%0Apublic%20class%20ExampleIO2%20%7B%0A%20%20%20%20public%20static%20void%20main%28String%5B%5D%20args%29%20%7B%0A%20%20%20%20%20%20%20%20System.out.println%28%22Adios%20mundo%20cruel%22%29%3B%0A%20%20%20%20%20%20%20%20System.out.println%2829/4%29%3B%0A%20%20%20%20%20%20%20%20System.out.println%28%22Hola%20que%20tal%3F%22%29%3B%0A%20%20%20%20%20%20%20%20System.out.println%2812%29%3B%0A%20%20%20%20%20%20%20%20System.out.println%28%224%20%2B%207%22%29%3B%0A%20%20%20%20%20%20%20%20System.out.println%284%20%2B%207%29%3B%0A%20%20%20%20%20%20%20%20System.out.println%28%27A%27%29%3B%0A%20%20%20%20%20%20%20%20System.out.println%28%224%20%2B%207%20%3D%20%22%20%2B%20%284%20%2B%207%29%29%3B%0A%20%20%20%20%20%20%20%20System.out.println%282%20%2B%203%2A5%29%3B%0A%20%20%20%20%20%20%20%20System.out.println%28%22Hola%20%5Cnque%20tal%3F%22%29%3B%0A%20%20%20%20%7D%0A%7D%0A&origin=opt-frontend.js&cumulative=false&heapPrimitives=false&textReferences=false&curInstr=0&&verticalStack=false&py=java&rawInputLstJSON=%5B%5D&codeDivWidth=50%25&codeDivHeight=100%25>Python Tutor</a></strong></div>"
      ],
      "text/plain": [
       "<IPython.core.display.HTML object>"
      ]
     },
     "metadata": {},
     "output_type": "display_data"
    }
   ],
   "source": [
    "%%tutor -l java -k\n",
    "\n",
    "public class ExampleIO2 {\n",
    "    public static void main(String[] args) {\n",
    "        System.out.println(\"Adios mundo cruel\");\n",
    "        System.out.println(29/4);\n",
    "        System.out.println(\"Hola que tal?\");\n",
    "        System.out.println(12);\n",
    "        System.out.println(\"4 + 7\");\n",
    "        System.out.println(4 + 7);\n",
    "        System.out.println('A');\n",
    "        System.out.println(\"4 + 7 = \" + (4 + 7));\n",
    "        System.out.println(2 + 3*5);\n",
    "        System.out.println(\"Hola \\nque tal?\");\n",
    "    }\n",
    "}"
   ]
  },
  {
   "cell_type": "markdown",
   "id": "c4e12af9",
   "metadata": {},
   "source": [
    "**Ejemplo 3**: Dado el siguiente código python:"
   ]
  },
  {
   "cell_type": "code",
   "execution_count": 18,
   "id": "e0148f96",
   "metadata": {},
   "outputs": [
    {
     "name": "stdout",
     "output_type": "stream",
     "text": [
      "Hola que tal. Mi nombre es Bon, James Bon.\n"
     ]
    }
   ],
   "source": [
    "print(\"Hola que tal. \", end = \"\")\n",
    "print(\"Mi nombre es Bon, James Bon.\")"
   ]
  },
  {
   "cell_type": "markdown",
   "id": "f1e61e8e",
   "metadata": {},
   "source": [
    "La implementación en código java se muestra a continuación:"
   ]
  },
  {
   "cell_type": "code",
   "execution_count": 20,
   "id": "f747864f",
   "metadata": {},
   "outputs": [
    {
     "data": {
      "text/html": [
       "<div class=\"text-center\"><strong><a style=\"box-sizing: border-box; padding: 0 5px; border: 1px solid #CFCFCF;\" target=\"_\" href=http://pythontutor.com/iframe-embed.html#code=%0Apublic%20class%20ExampleIO3%20%7B%0A%20%20%20%20public%20static%20void%20main%28String%5B%5D%20args%29%20%7B%0A%20%20%20%20%20%20%20%20System.out.print%28%22Hola%20que%20tal.%20%22%29%3B%20%20%20%20%20%20%20%20%20%20%20%20%20%20%20%20%20%20%20%20%20//%20Metodo%20print%20%28no%20hay%20cambio%20de%20linea%29%0A%20%20%20%20%20%20%20%20System.out.println%28%22Mi%20nombre%20es%20Bon%2C%20James%20Bon.%22%29%3B%20%20%20%20%20//%20Metodo%20println%20%20%0A%20%20%20%20%7D%0A%7D%0A&origin=opt-frontend.js&cumulative=false&heapPrimitives=false&textReferences=false&curInstr=0&&verticalStack=false&py=java&rawInputLstJSON=%5B%5D&codeDivWidth=50%25&codeDivHeight=100%25>Python Tutor</a></strong></div>"
      ],
      "text/plain": [
       "<IPython.core.display.HTML object>"
      ]
     },
     "metadata": {},
     "output_type": "display_data"
    }
   ],
   "source": [
    "%%tutor -l java -k\n",
    "\n",
    "public class ExampleIO3 {\n",
    "    public static void main(String[] args) {\n",
    "        System.out.print(\"Hola que tal. \");                     // Metodo print (no hay cambio de linea)\n",
    "        System.out.println(\"Mi nombre es Bon, James Bon.\");     // Metodo println  \n",
    "    }\n",
    "}"
   ]
  },
  {
   "cell_type": "markdown",
   "id": "f0062a6b",
   "metadata": {},
   "source": [
    "#### Caracteres especiales\n",
    "\n",
    "La siguiente tabla muestra algunas secuencias de escape las cuales permiten controlar la salida mostrada en pantalla.\n",
    "\n",
    "|Simbolo|Secuencia de escape |Descripción|\n",
    "|:---|:---|:---|\n",
    "|```\\n``` | Nueva línea | El cursor se mueve al inicio de la siguiente línea |\n",
    "|```\\t``` |Tabulador | El cursor se mueve a la siguiente parada del tabulador |\n",
    "|```\\b``` |Espacio de retroceso | El cursor se mueve un espacio a la izquierda |\n",
    "|```\\r``` |Retorno | El cursor se mueve al inicio de la línea actual (no a la siguiente línea) |\n",
    "|```\\\\``` |Diagonales invertidas | Se imprime una diagonal inversa |\n",
    "|```\\'``` |Comilla simple | Se imprime una comilla simple |\n",
    "|```\\\"``` |Comilla doble | Se imprimen comillas dobles |\n",
    "\n"
   ]
  },
  {
   "cell_type": "markdown",
   "id": "11f1b3ba",
   "metadata": {},
   "source": [
    "**Ejemplo 4**: Analice y comprenda la salida arrojada por el siguiente programa en java:"
   ]
  },
  {
   "cell_type": "code",
   "execution_count": 22,
   "id": "949b4a6f",
   "metadata": {},
   "outputs": [
    {
     "data": {
      "text/html": [
       "<div class=\"text-center\"><strong><a style=\"box-sizing: border-box; padding: 0 5px; border: 1px solid #CFCFCF;\" target=\"_\" href=http://pythontutor.com/iframe-embed.html#code=%0Apublic%20class%20ExampleIO4%20%7B%0A%20%20%20%20public%20static%20void%20main%28String%5B%5D%20args%29%20%7B%0A%20%20%20%20%20%20%20%20System.out.println%28%22Hello%20%22%20%2B%20%22World%22%29%3B%0A%20%20%20%20%20%20%20%20System.out.println%28%22The%20value%20is%3A%20%22%20%2B%205%29%3B%0A%20%20%20%20%20%20%20%20System.out.println%28%22The%20value%20is%3A%20%22%20%2B%20value%29%3B%0A%20%20%20%20%20%20%20%20System.out.println%28%29%3B%0A%20%20%20%20%20%20%20%20System.out.print%28%22These%20are%20our%20top%20sellers%3A%5Cn%22%29%3B%0A%20%20%20%20%20%20%20%20System.out.print%28%22%5CtComputer%20games%5Cn%5CtCoffee%5Cn%20%22%29%3B%0A%20%20%20%20%20%20%20%20System.out.println%28%22%5CtAspirin%22%29%3B%0A%20%20%20%20%20%20%20%20System.out.println%28%29%3B%0A%20%20%20%20%20%20%20%20System.out.println%28%22We%20can%20join%20a%20string%20to%20%22%20%2B%0A%20%20%20%20%20%20%20%20%20%20%20%20%20%20%20%20%20%20%20%20%20%20%20%20%20%20%20%22a%20number%20like%20this%3A%20%22%20%2B%205%29%3B%0A%20%20%20%20%20%20%20%20System.out.println%28%29%3B%0A%20%20%20%20%20%20%20%20System.out.println%28%22The%20following%20will%20be%20printed%20%22%20%2B%0A%20%20%20%20%20%20%20%20%20%20%20%20%20%20%20%20%20%20%20%20%20%20%20%20%20%20%20%22in%20a%20tabbed%20format%3A%20%22%20%2B%0A%20%20%20%20%20%20%20%20%20%20%20%20%20%20%20%20%20%20%20%20%20%20%20%20%20%20%20%22%5Cn%5CtFirst%20%3D%20%22%20%2B%205%20%2A%206%20%2B%20%22%2C%20%22%20%2B%0A%20%20%20%20%20%20%20%20%20%20%20%20%20%20%20%20%20%20%20%20%20%20%20%20%20%20%20%22%5Cn%5CtSecond%20%3D%20%22%20%2B%20%286%20%2B%204%29%20%2B%20%22%2C%22%20%2B%0A%20%20%20%20%20%20%20%20%20%20%20%20%20%20%20%20%20%20%20%20%20%20%20%20%20%20%20%22%5Cn%5CtThird%20%3D%20%22%20%2B%2016.7%20%2B%20%22.%22%29%3B%20%0A%20%20%20%20%7D%0A%7D%0A&origin=opt-frontend.js&cumulative=false&heapPrimitives=false&textReferences=false&curInstr=0&&verticalStack=false&py=java&rawInputLstJSON=%5B%5D&codeDivWidth=50%25&codeDivHeight=100%25>Python Tutor</a></strong></div>"
      ],
      "text/plain": [
       "<IPython.core.display.HTML object>"
      ]
     },
     "metadata": {},
     "output_type": "display_data"
    }
   ],
   "source": [
    "%%tutor -l java -k\n",
    "\n",
    "public class ExampleIO4 {\n",
    "    public static void main(String[] args) {\n",
    "        System.out.println(\"Hello \" + \"World\");\n",
    "        System.out.println(\"The value is: \" + 5);\n",
    "        System.out.println(\"The value is: \" + value);\n",
    "        System.out.println();\n",
    "        System.out.print(\"These are our top sellers:\\n\");\n",
    "        System.out.print(\"\\tComputer games\\n\\tCoffee\\n \");\n",
    "        System.out.println(\"\\tAspirin\");\n",
    "        System.out.println();\n",
    "        System.out.println(\"We can join a string to \" +\n",
    "                           \"a number like this: \" + 5);\n",
    "        System.out.println();\n",
    "        System.out.println(\"The following will be printed \" +\n",
    "                           \"in a tabbed format: \" +\n",
    "                           \"\\n\\tFirst = \" + 5 * 6 + \", \" +\n",
    "                           \"\\n\\tSecond = \" + (6 + 4) + \",\" +\n",
    "                           \"\\n\\tThird = \" + 16.7 + \".\"); \n",
    "    }\n",
    "}"
   ]
  },
  {
   "cell_type": "markdown",
   "id": "5a8011fb",
   "metadata": {},
   "source": [
    "#### Formateando la salida\n",
    "\n",
    "Recordemos la sintaxis de uso asociada a las funciones ```print``` y ```println```\n",
    "\n",
    "```java\n",
    "System.out.printf(FormatString, ArgList);\n",
    "```\n",
    "\n",
    "Mediante el formateo de una salida, se puede obtener un mayor control sobre lo que se quiere mostrar a la salida. Antes de entrar en detalle a hablar del tema, observe las siguiente figuras:\n",
    "\n",
    "![print1](io_basica/print1.jpg)\n",
    "\n",
    "![print2](io_basica/print2.jpg)\n",
    "\n",
    "![print3](io_basica/print3.jpg)\n",
    "\n",
    "![print4](io_basica/print4.jpg)\n",
    "\n",
    "Si observa con detenimiento, hay una porción de la cadena que contiene el signo de **%** seguido de unos caracteres (Cerrado en circulo en las figuras anteriores), a esta se le conoce como **especificador de formato y control**. Un especificador de formato para uso general, carácter y tipos numéricos tiene la siguiente sintaxis:\n",
    "\n",
    "```java\n",
    "%[argument_index$][flags][width][.precision]conversion\n",
    "```\n",
    "\n",
    "Sobre la sintaxis anterior tenemos:\n",
    "* Las expresiones entre corchetes son opcionales. Es decir, pueden o no aparecer en un especificador de formato.\n",
    "* La opción **```argument_index```** es un número entero (decimal), que indica la posición del argumento en la lista de argumentos. \n",
    "* La opción **```flags```** es un conjunto de caracteres que modifica el formato de salida. El conjunto de banderas válidas depende de la conversión.\n",
    "* La opción **```width```** es un número entero (decimal), que indica el número mínimo de caracteres que se escriben en la salida.\n",
    "* La opción **```precision```** es un número entero (decimal) que normalmente se usa para restringir el número de caracteres. El comportamiento específico depende de la conversión.\n",
    "* La **```conversion```** requerida es de un carácter que indica cómo se debe formatear el argumento. El conjunto de conversiones válidas para un argumento dado depende del tipo de datos del argumento. La siguiente tabla muestra algunos de los caracteres empleados para conversión:\n",
    "\n",
    "|Caracter de conversion|Descripción|\n",
    "|:---|:---|\n",
    "|```s```|Cadena de caracteres|\n",
    "|```c```|Carácter sencillo |\n",
    "|```d```|Entero en formato de decimal |\n",
    "|```e```|Punto flotante en formato en notación científica |\n",
    "|```f```|Punto flotante en formato en decimal|\n",
    "\n",
    "Los siguientes ejemplos permiten entender el siguificado del formateo anteriormente expuesto:"
   ]
  },
  {
   "cell_type": "markdown",
   "id": "5c18ff88",
   "metadata": {},
   "source": [
    "**Ejemplo 5**:"
   ]
  },
  {
   "cell_type": "code",
   "execution_count": 25,
   "id": "286840e7",
   "metadata": {},
   "outputs": [
    {
     "data": {
      "text/html": [
       "<div class=\"text-center\"><strong><a style=\"box-sizing: border-box; padding: 0 5px; border: 1px solid #CFCFCF;\" target=\"_\" href=http://pythontutor.com/iframe-embed.html#code=%0Apublic%20class%20ExampleIO5%20%7B%0A%20%20%20%20public%20static%20void%20main%28String%5B%5D%20args%29%20%7B%0A%20%20%20%20%20%20%20%20double%20horas%20%3D%2034.45%3B%0A%20%20%20%20%20%20%20%20double%20tarifa%20%3D%2015.00%3B%0A%20%20%20%20%20%20%20%20double%20tolerancia%20%3D%200.01000%3B%0A%20%20%20%20%20%20%20%20System.out.println%28%22Notacion%20decimal%20fija%3A%22%29%3B%0A%20%20%20%20%20%20%20%20System.out.printf%28%22horas%20%3D%20%25.2f%2C%20tarifa%20%3D%20%25.2f%2C%20pago%20%3D%20%25.2f%2C%22%20%2B%20%0A%20%20%20%20%20%20%20%20%20%20%20%20%20%20%20%20%20%20%20%20%20%20%20%20%20%20%22%20tolerancia%20%3D%20%25.2f%5Cn%5Cn%22%2C%20horas%2C%20tarifa%2C%20horas%20%2A%20tarifa%2C%20tolerancia%29%3B%0A%20%20%20%20%20%20%20%20System.out.println%28%22Notacion%20cientifica%3A%22%29%3B%0A%20%20%20%20%20%20%20%20System.out.printf%28%22horas%20%3D%20%25e%2C%20tarifa%20%3D%20%25e%2C%20pago%20%3D%20%25e%2C%20%5Cn%22%20%2B%20%0A%20%20%20%20%20%20%20%20%20%20%20%20%20%20%20%20%20%20%20%20%20%20%20%20%20%20%20%22tolerancia%20%3D%20%25e%5Cn%22%2Choras%2C%20tarifa%2C%20horas%20%2A%20tarifa%2C%20tolerancia%29%3B%0A%20%20%20%20%7D%0A%7D%0A&origin=opt-frontend.js&cumulative=false&heapPrimitives=false&textReferences=false&curInstr=0&&verticalStack=false&py=java&rawInputLstJSON=%5B%5D&codeDivWidth=50%25&codeDivHeight=100%25>Python Tutor</a></strong></div>"
      ],
      "text/plain": [
       "<IPython.core.display.HTML object>"
      ]
     },
     "metadata": {},
     "output_type": "display_data"
    }
   ],
   "source": [
    "%%tutor -l java -k\n",
    "\n",
    "public class ExampleIO5 {\n",
    "    public static void main(String[] args) {\n",
    "        double horas = 34.45;\n",
    "        double tarifa = 15.00;\n",
    "        double tolerancia = 0.01000;\n",
    "        System.out.println(\"Notacion decimal fija:\");\n",
    "        System.out.printf(\"horas = %.2f, tarifa = %.2f, pago = %.2f,\" + \n",
    "                          \" tolerancia = %.2f\\n\\n\", horas, tarifa, horas * tarifa, tolerancia);\n",
    "        System.out.println(\"Notacion cientifica:\");\n",
    "        System.out.printf(\"horas = %e, tarifa = %e, pago = %e, \\n\" + \n",
    "                           \"tolerancia = %e\\n\",horas, tarifa, horas * tarifa, tolerancia);\n",
    "    }\n",
    "}"
   ]
  },
  {
   "cell_type": "markdown",
   "id": "676d0fc9",
   "metadata": {},
   "source": [
    "**Ejemplo 6**:"
   ]
  },
  {
   "cell_type": "code",
   "execution_count": 28,
   "id": "7b734f21",
   "metadata": {},
   "outputs": [
    {
     "data": {
      "text/html": [
       "<div class=\"text-center\"><strong><a style=\"box-sizing: border-box; padding: 0 5px; border: 1px solid #CFCFCF;\" target=\"_\" href=http://pythontutor.com/iframe-embed.html#code=%0Apublic%20class%20ExampleIO6%20%7B%0A%20%20%20%20public%20static%20void%20main%28String%5B%5D%20args%29%20%7B%0A%20%20%20%20%20%20%20%20final%20double%20PI%20%3D%203.14159265%3B%0A%20%20%20%20%20%20%20%20double%20radio%20%3D%2012.67%3B%20%0A%20%20%20%20%20%20%20%20double%20altura%20%3D%2012.00%3B%0A%20%20%20%20%20%20%20%20%0A%20%20%20%20%20%20%20%20System.out.println%28%22Dos%20cifras%20decimales%3A%20%22%29%3B%0A%20%20%20%20%20%20%20%20System.out.printf%28%22radio%20%3D%20%25.2f%2C%20%22%0A%20%20%20%20%20%20%20%20%20%20%20%20%20%20%20%20%20%20%20%20%20%20%20%20%20%20%2B%20%22altura%20%3D%20%25.2f%2C%20volumen%20%3D%20%25.2f%2C%20%22%0A%20%20%20%20%20%20%20%20%20%20%20%20%20%20%20%20%20%20%20%20%20%20%20%20%20%20%2B%20%22PI%20%3D%20%25.2f%5Cn%5Cn%22%2C%20radio%2C%20altura%2CPI%20%2A%20radio%20%2A%20radio%20%2A%20altura%2C%20PI%29%3B%0A%20%20%20%20%20%20%20%20%0A%20%20%20%20%20%20%20%20System.out.println%28%22Tres%20cifras%20decimales%3A%20%22%29%3B%0A%20%20%20%20%20%20%20%20System.out.printf%28%22radio%20%3D%20%25.3f%2C%20%22%0A%20%20%20%20%20%20%20%20%20%20%20%20%20%20%20%20%20%20%20%20%20%20%20%20%20%20%2B%20%22altura%20%3D%20%25.3f%2C%20volumen%20%3D%20%25.3f%2C%20%22%0A%20%20%20%20%20%20%20%20%20%20%20%20%20%20%20%20%20%20%20%20%20%20%20%20%20%20%2B%20%22PI%20%3D%20%25.3f%5Cn%5Cn%22%2C%20radio%2C%20altura%2CPI%20%2A%20radio%20%2A%20radio%20%2A%20altura%2C%20PI%29%3B%0A%20%20%20%20%20%20%20%20%0A%20%20%20%20%20%20%20%20System.out.println%28%22Cuatro%20cifras%20decimales%3A%20%22%29%3B%0A%20%20%20%20%20%20%20%20System.out.printf%28%22radio%20%3D%20%25.4f%2C%20%22%0A%20%20%20%20%20%20%20%20%20%20%20%20%20%20%20%20%20%20%20%20%20%20%20%20%20%20%2B%20%22altura%20%3D%20%25.4f%2C%20volumen%20%3D%20%25.4f%2C%20%22%0A%20%20%20%20%20%20%20%20%20%20%20%20%20%20%20%20%20%20%20%20%20%20%20%20%20%20%2B%20%22PI%20%3D%20%25.4f%5Cn%5Cn%22%2C%20radio%2C%20altura%2CPI%20%2A%20radio%20%2A%20radio%20%2A%20altura%2C%20PI%29%3B%0A%20%20%20%20%20%20%20%20%0A%20%20%20%20%20%20%20%20System.out.println%28%22Diferentes%20cifras%20decimales%3A%20%22%29%3B%0A%20%20%20%20%20%20%20%20System.out.printf%28%22radio%20%3D%20%25.1f%2C%20%22%0A%20%20%20%20%20%20%20%20%20%20%20%20%20%20%20%20%20%20%20%20%20%20%20%20%20%20%2B%20%22altura%20%3D%20%25.2f%2C%20volumen%20%3D%20%25.5f%2C%20%22%0A%20%20%20%20%20%20%20%20%20%20%20%20%20%20%20%20%20%20%20%20%20%20%20%20%20%20%2B%20%22PI%20%3D%20%25.4f%5Cn%5Cn%22%2C%20radio%2C%20altura%2CPI%20%2A%20radio%20%2A%20radio%20%2A%20altura%2C%20PI%29%3B%0A%20%20%20%20%7D%0A%7D%0A&origin=opt-frontend.js&cumulative=false&heapPrimitives=false&textReferences=false&curInstr=0&&verticalStack=false&py=java&rawInputLstJSON=%5B%5D&codeDivWidth=50%25&codeDivHeight=100%25>Python Tutor</a></strong></div>"
      ],
      "text/plain": [
       "<IPython.core.display.HTML object>"
      ]
     },
     "metadata": {},
     "output_type": "display_data"
    }
   ],
   "source": [
    "%%tutor -l java -k\n",
    "\n",
    "public class ExampleIO6 {\n",
    "    public static void main(String[] args) {\n",
    "        final double PI = 3.14159265;\n",
    "        double radio = 12.67; \n",
    "        double altura = 12.00;\n",
    "        \n",
    "        System.out.println(\"Dos cifras decimales: \");\n",
    "        System.out.printf(\"radio = %.2f, \"\n",
    "                          + \"altura = %.2f, volumen = %.2f, \"\n",
    "                          + \"PI = %.2f\\n\\n\", radio, altura,PI * radio * radio * altura, PI);\n",
    "        \n",
    "        System.out.println(\"Tres cifras decimales: \");\n",
    "        System.out.printf(\"radio = %.3f, \"\n",
    "                          + \"altura = %.3f, volumen = %.3f, \"\n",
    "                          + \"PI = %.3f\\n\\n\", radio, altura,PI * radio * radio * altura, PI);\n",
    "        \n",
    "        System.out.println(\"Cuatro cifras decimales: \");\n",
    "        System.out.printf(\"radio = %.4f, \"\n",
    "                          + \"altura = %.4f, volumen = %.4f, \"\n",
    "                          + \"PI = %.4f\\n\\n\", radio, altura,PI * radio * radio * altura, PI);\n",
    "        \n",
    "        System.out.println(\"Diferentes cifras decimales: \");\n",
    "        System.out.printf(\"radio = %.1f, \"\n",
    "                          + \"altura = %.2f, volumen = %.5f, \"\n",
    "                          + \"PI = %.4f\\n\\n\", radio, altura,PI * radio * radio * altura, PI);\n",
    "    }\n",
    "}"
   ]
  },
  {
   "cell_type": "markdown",
   "id": "736c78a2",
   "metadata": {},
   "source": [
    "**Ejemplo 7**:"
   ]
  },
  {
   "cell_type": "code",
   "execution_count": 31,
   "id": "6fe087d2",
   "metadata": {},
   "outputs": [
    {
     "data": {
      "text/html": [
       "<div class=\"text-center\"><strong><a style=\"box-sizing: border-box; padding: 0 5px; border: 1px solid #CFCFCF;\" target=\"_\" href=http://pythontutor.com/iframe-embed.html#code=%0Apublic%20class%20ExampleIO7%20%7B%0A%20%20%20%20public%20static%20void%20main%28String%5B%5D%20args%29%20%7B%0A%20%20%20%20%20%20%20%20int%20num%20%3D%2096%3B%0A%20%20%20%20%20%20%20%20double%20tasa%20%3D%2015.50%3B%0A%20%20%20%20%20%20%20%20System.out.println%28%22123456789012345%22%29%3B%0A%20%20%20%20%20%20%20%20System.out.printf%28%22%255d%20%5Cn%22%2C%20num%29%3B%20%0A%20%20%20%20%20%20%20%20System.out.printf%28%22%255.2f%20%5Cn%22%2C%20tasa%29%3B%20%0A%20%20%20%20%20%20%20%20System.out.printf%28%22%255d%256.2f%20%5Cn%22%2C%20num%2C%20tasa%29%3B%0A%20%20%20%20%20%20%20%20System.out.printf%28%22%255d%256.2f%20%5Cn%22%2C%20num%2C%20tasa%29%3B%0A%20%20%20%20%7D%0A%7D%0A&origin=opt-frontend.js&cumulative=false&heapPrimitives=false&textReferences=false&curInstr=0&&verticalStack=false&py=java&rawInputLstJSON=%5B%5D&codeDivWidth=50%25&codeDivHeight=100%25>Python Tutor</a></strong></div>"
      ],
      "text/plain": [
       "<IPython.core.display.HTML object>"
      ]
     },
     "metadata": {},
     "output_type": "display_data"
    }
   ],
   "source": [
    "%%tutor -l java -k\n",
    "\n",
    "public class ExampleIO7 {\n",
    "    public static void main(String[] args) {\n",
    "        int num = 96;\n",
    "        double tasa = 15.50;\n",
    "        System.out.println(\"123456789012345\");\n",
    "        System.out.printf(\"%5d \\n\", num); \n",
    "        System.out.printf(\"%5.2f \\n\", tasa); \n",
    "        System.out.printf(\"%5d%6.2f \\n\", num, tasa);\n",
    "        System.out.printf(\"%5d%6.2f \\n\", num, tasa);\n",
    "    }\n",
    "}"
   ]
  },
  {
   "cell_type": "markdown",
   "id": "5cd1b33e",
   "metadata": {},
   "source": [
    "**Ejemplo 8**:"
   ]
  },
  {
   "cell_type": "code",
   "execution_count": 32,
   "id": "b5b91412",
   "metadata": {},
   "outputs": [
    {
     "data": {
      "text/html": [
       "<div class=\"text-center\"><strong><a style=\"box-sizing: border-box; padding: 0 5px; border: 1px solid #CFCFCF;\" target=\"_\" href=http://pythontutor.com/iframe-embed.html#code=%0Apublic%20class%20ExampleIO8%20%7B%0A%20%20%20%20public%20static%20void%20main%28String%5B%5D%20args%29%20%7B%0A%20%20%20%20%20%20%20%20int%20num%20%3D%20763%3B%20%0A%20%20%20%20%20%20%20%20double%20x%20%3D%20658.75%3B%20%0A%20%20%20%20%20%20%20%20String%20str%20%3D%20%22%20Programa%20Java.%22%3B%0A%20%20%20%20%20%20%20%20System.out.println%28%221234567890123456789%22%20%2B%20%0A%20%20%20%20%20%20%20%20%20%20%20%20%20%20%20%20%20%20%20%20%20%20%20%20%20%20%20%2201234567890%22%29%3B%20%0A%20%20%20%20%20%20%20%20System.out.printf%28%22%255d%257.2f%2515s%5Cn%22%2C%20num%2C%20x%2C%20str%29%3B%20%0A%20%20%20%20%20%20%20%20System.out.printf%28%22%2515s%256d%259.2f%5Cn%22%2C%20str%2C%20num%2C%20x%29%3B%20%0A%20%20%20%20%20%20%20%20System.out.printf%28%22%258.2f%257d%2515s%5Cn%22%2C%20x%2C%20num%2C%20str%29%3B%20%0A%20%20%20%20%20%20%20%20System.out.printf%28%22num%20%3D%20%255d%5Cn%22%2C%20num%29%3B%20%0A%20%20%20%20%20%20%20%20System.out.printf%28%22x%20%3D%20%2510.2f%5Cn%22%2C%20x%29%3B%20%0A%20%20%20%20%20%20%20%20System.out.printf%28%22str%20%3D%20%2515s%5Cn%22%2C%20str%29%3B%20%0A%20%20%20%20%20%20%20%20System.out.printf%28%22%2510s%257d%5Cn%22%2C%20%22Programa%20No.%22%2C%204%29%3B%0A%20%20%20%20%7D%0A%7D%0A&origin=opt-frontend.js&cumulative=false&heapPrimitives=false&textReferences=false&curInstr=0&&verticalStack=false&py=java&rawInputLstJSON=%5B%5D&codeDivWidth=50%25&codeDivHeight=100%25>Python Tutor</a></strong></div>"
      ],
      "text/plain": [
       "<IPython.core.display.HTML object>"
      ]
     },
     "metadata": {},
     "output_type": "display_data"
    }
   ],
   "source": [
    "%%tutor -l java -k\n",
    "\n",
    "public class ExampleIO8 {\n",
    "    public static void main(String[] args) {\n",
    "        int num = 763; \n",
    "        double x = 658.75; \n",
    "        String str = \" Programa Java.\";\n",
    "        System.out.println(\"1234567890123456789\" + \n",
    "                           \"01234567890\"); \n",
    "        System.out.printf(\"%5d%7.2f%15s\\n\", num, x, str); \n",
    "        System.out.printf(\"%15s%6d%9.2f\\n\", str, num, x); \n",
    "        System.out.printf(\"%8.2f%7d%15s\\n\", x, num, str); \n",
    "        System.out.printf(\"num = %5d\\n\", num); \n",
    "        System.out.printf(\"x = %10.2f\\n\", x); \n",
    "        System.out.printf(\"str = %15s\\n\", str); \n",
    "        System.out.printf(\"%10s%7d\\n\", \"Programa No.\", 4);\n",
    "    }\n",
    "}"
   ]
  },
  {
   "cell_type": "markdown",
   "id": "0b0266dd",
   "metadata": {},
   "source": [
    "**Ejemplo 9**:"
   ]
  },
  {
   "cell_type": "code",
   "execution_count": 34,
   "id": "3160fe4d",
   "metadata": {},
   "outputs": [
    {
     "data": {
      "text/html": [
       "<div class=\"text-center\"><strong><a style=\"box-sizing: border-box; padding: 0 5px; border: 1px solid #CFCFCF;\" target=\"_\" href=http://pythontutor.com/iframe-embed.html#code=%0Apublic%20class%20ExampleIO8%20%7B%0A%20%20%20%20public%20static%20void%20main%28String%5B%5D%20args%29%20%7B%0A%20%20%20%20%20%20%20%20int%20num%20%3D%20763%3B%20%0A%20%20%20%20%20%20%20%20double%20x%20%3D%20658.75%3B%20%0A%20%20%20%20%20%20%20%20String%20str%20%3D%20%22Programa%20Java.%22%3B%20%0A%20%20%20%20%20%20%20%20System.out.println%28%221234567890123456789%22%20%2B%20%2201234567890%22%29%3B%20%0A%20%20%20%20%20%20%20%20System.out.printf%28%22%25-5d%257.2f%25-15s%20%2A%2A%2A%20%5Cn%22%2C%20num%2C%20x%2C%20str%29%3B%20%0A%20%20%20%20%20%20%20%20System.out.printf%28%22%25-15s%25-6d%25-9.2f%20%2A%2A%2A%20%5Cn%22%2C%20str%2C%20num%2C%20x%29%3B%20%0A%20%20%20%20%20%20%20%20System.out.printf%28%22%25-8.2f%25-7d%25-15s%20%2A%2A%2A%20%5Cn%22%2C%20x%2C%20num%2C%20str%29%3B%20%0A%20%20%20%20%20%20%20%20System.out.printf%28%22num%20%3D%20%25-5d%20%2A%2A%2A%5Cn%22%2Cnum%29%3B%20%0A%20%20%20%20%20%20%20%20System.out.printf%28%22x%20%3D%20%25-10.2f%20%2A%2A%2A%5Cn%22%2C%20x%29%3B%20%0A%20%20%20%20%20%20%20%20System.out.printf%28%22str%20%3D%20%25-15s%20%2A%2A%2A%5Cn%22%2C%20str%29%3B%20%0A%20%20%20%20%20%20%20%20System.out.printf%28%22%25-10s%25-7d%20%2A%2A%2A%5Cn%22%2C%20%22Programa%20No.%22%2C%204%29%3B%0A%20%20%20%20%7D%0A%7D%0A&origin=opt-frontend.js&cumulative=false&heapPrimitives=false&textReferences=false&curInstr=0&&verticalStack=false&py=java&rawInputLstJSON=%5B%5D&codeDivWidth=50%25&codeDivHeight=100%25>Python Tutor</a></strong></div>"
      ],
      "text/plain": [
       "<IPython.core.display.HTML object>"
      ]
     },
     "metadata": {},
     "output_type": "display_data"
    }
   ],
   "source": [
    "%%tutor -l java -k\n",
    "\n",
    "public class ExampleIO8 {\n",
    "    public static void main(String[] args) {\n",
    "        int num = 763; \n",
    "        double x = 658.75; \n",
    "        String str = \"Programa Java.\"; \n",
    "        System.out.println(\"1234567890123456789\" + \"01234567890\"); \n",
    "        System.out.printf(\"%-5d%7.2f%-15s *** \\n\", num, x, str); \n",
    "        System.out.printf(\"%-15s%-6d%-9.2f *** \\n\", str, num, x); \n",
    "        System.out.printf(\"%-8.2f%-7d%-15s *** \\n\", x, num, str); \n",
    "        System.out.printf(\"num = %-5d ***\\n\",num); \n",
    "        System.out.printf(\"x = %-10.2f ***\\n\", x); \n",
    "        System.out.printf(\"str = %-15s ***\\n\", str); \n",
    "        System.out.printf(\"%-10s%-7d ***\\n\", \"Programa No.\", 4);\n",
    "    }\n",
    "}"
   ]
  },
  {
   "cell_type": "markdown",
   "id": "227c4c41",
   "metadata": {},
   "source": [
    "## Entrada en Java\n",
    "\n",
    "Pedimos disculpas. Sección en construcción..."
   ]
  },
  {
   "cell_type": "markdown",
   "id": "0150b193",
   "metadata": {},
   "source": [
    "## Referencias \n",
    "\n",
    "* https://learn.oracle.com/ols/course-list/40805\n",
    "* https://developer.ibm.com/es/languages/java/tutorials/j-introtojava1/\n",
    "* https://developer.ibm.com/es/languages/java/tutorials/j-perry-writing-good-java-code/\n",
    "* https://developer.ibm.com/es/languages/java/tutorials/java-language-constructs-1/\n",
    "* https://codelabs.developers.google.com/\n",
    "* https://developers.google.com/classroom/quickstart/java\n",
    "* https://developers.google.com/edu/python/introduction\n",
    "* http://docs.oracle.com/javase/tutorial/\n",
    "* https://docs.oracle.com/javase/tutorial/tutorialLearningPaths.html\n",
    "* https://education.oracle.com/es/learning-explorer"
   ]
  },
  {
   "cell_type": "code",
   "execution_count": null,
   "id": "6084529f",
   "metadata": {},
   "outputs": [],
   "source": []
  }
 ],
 "metadata": {
  "kernelspec": {
   "display_name": "Python 3",
   "language": "python",
   "name": "python3"
  },
  "language_info": {
   "codemirror_mode": {
    "name": "ipython",
    "version": 3
   },
   "file_extension": ".py",
   "mimetype": "text/x-python",
   "name": "python",
   "nbconvert_exporter": "python",
   "pygments_lexer": "ipython3",
   "version": "3.8.8"
  }
 },
 "nbformat": 4,
 "nbformat_minor": 5
}

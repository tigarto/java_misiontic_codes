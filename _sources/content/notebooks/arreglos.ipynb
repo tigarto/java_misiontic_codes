{
 "cells": [
  {
   "cell_type": "code",
   "execution_count": null,
   "metadata": {},
   "outputs": [],
   "source": [
    "!pip install tutormagic\n",
    "%load_ext tutormagic"
   ]
  },
  {
   "cell_type": "code",
   "execution_count": null,
   "metadata": {},
   "outputs": [],
   "source": [
    "import warnings\n",
    "warnings.filterwarnings(\"ignore\", category=DeprecationWarning)"
   ]
  },
  {
   "cell_type": "code",
   "execution_count": null,
   "metadata": {},
   "outputs": [],
   "source": [
    "# Run and print a shell command.\n",
    "def run(cmd):\n",
    "    print('>> {}'.format(cmd))\n",
    "    !{cmd}  # This is magic to run 'cmd' in the shell.\n",
    "    print('')\n",
    "\n",
    "def compile(nombre_clase):\n",
    "    run('javac {}.java'.format(nombre_clase))\n",
    "\n",
    "def execute(nombre_clase):\n",
    "    run('java {}'.format(nombre_clase))\n",
    "\n",
    "def ejecutar(nombre_clase):\n",
    "    compile(nombre_clase)\n",
    "    execute(nombre_clase)"
   ]
  },
  {
   "cell_type": "code",
   "execution_count": null,
   "metadata": {},
   "outputs": [],
   "source": [
    "# Check the Java version to see if everything is working well.\n",
    "run(\"javac -version\")"
   ]
  },
  {
   "cell_type": "markdown",
   "metadata": {},
   "source": [
    "# Arreglos #"
   ]
  },
  {
   "cell_type": "markdown",
   "metadata": {},
   "source": [
    "## Definición ##\n",
    "\n",
    "Un arreglo es una secuencia de datos del mismo tipo llamados elementos los cuales pueden ser accedidos medinte un subindice."
   ]
  },
  {
   "cell_type": "markdown",
   "metadata": {},
   "source": [
    "### Declaración  y creación de un arreglo ###\n",
    "\n",
    "### Declaración ###\n",
    "\n",
    "Un array se declara de modo similar a otros tipos de datos; sin embargo, se debe indicar al compilador que es un arreglo y esto se hace con corchetes. La declaración se puede hacer de dos formas:\n",
    "1. **Colocando los corchetes al principio**:\n",
    "\n",
    "```java\n",
    "tipo [] identificador;\n",
    "```\n",
    "\n",
    "2. **Colocando los corchetes al final**:\n",
    "\n",
    "```java\n",
    "tipo identificador[];\n",
    "```\n",
    "\n",
    "**Ejemplos**: A continuación se muestran varios ejempls de declración:\n",
    "\n",
    "1. Declaración tipica:\n",
    "\n",
    "```java\n",
    "int[] numbers;\n",
    "```\n",
    "\n",
    "O tambien la forma equivalente:\n",
    "\n",
    "\n",
    "```java\n",
    "int numbers[];\n",
    "```\n",
    "\n",
    "2. Declaración de varios arreglos en una misma linea:\n",
    "\n",
    "```java\n",
    "int[] numbers, codes, scores; // numbers, codes, scores son arreglos tipo int\n",
    "```\n",
    "\n",
    "3. Notación que combina arreglos y datos simples:\n",
    "\n",
    "```java\n",
    "int numbers[], codes[], scores; // Solo numbers y codes son arrays tipo int, \n",
    "                                // scores es una variable sencilla tipo int.\n",
    "```\n",
    "\n",
    "\n",
    "### Creación ###\n",
    "\n",
    "Java considera que un arreglo es una referencia a un objeto por lo tanto para que realmente cree un arreglo, es necesario usar el operador ```new``` junto altipo de los elementos del arreglo y su número.\n",
    "\n",
    "```java\n",
    "tipo nombreArreglo [] = new tipo[numeroDeElementos];\n",
    "```\n",
    "\n",
    "### En resumen ###\n",
    "\n",
    "Tal y como se mostró anteriormente, la definición y creación de un arreglo involucra dos pasos tal y como se muestra en el siguiente fragmento de codigo:\n",
    "\n",
    "```java\n",
    "int[] numbers;              // 1. Declarar una referencia al array que mantendra los enteros.\n",
    "numbers = new int[6];       // 2. Crear un nuevo array que mantenga 6 enteros\n",
    "```\n",
    "\n",
    "El proceso anterior (declarar la referencia a un arreglo y crearlo) puede ser realizado en una sola instrucción tal y como se muestra a continuación:\n",
    "\n",
    "```java\n",
    "int[] numbers = new int[6]; // Declaración y creacion de un array que mantiene 6 enteros\n",
    "```\n",
    "\n"
   ]
  },
  {
   "cell_type": "markdown",
   "metadata": {},
   "source": [
    "**Ejemplo**: A continuación se muestran varias formas de inicializar un arreglo."
   ]
  },
  {
   "cell_type": "code",
   "execution_count": null,
   "metadata": {},
   "outputs": [],
   "source": [
    "%%tutor -l java -k\n",
    "\n",
    "public class ArraysExample1 {\n",
    "    public static void main(String[] args) {\n",
    "        // Forma 1\n",
    "        int a[] = new int [10];\n",
    "        // Forma 2\n",
    "        final int N = 20;\n",
    "        float [] vector;\n",
    "        vector = new float[N];\n",
    "\n",
    "    }\n",
    "}"
   ]
  },
  {
   "cell_type": "markdown",
   "metadata": {},
   "source": [
    "**Consideraciones sobre el tamaño**:\n",
    "* Debe ser un numero entero positivo.\n",
    "* Puede ser un valor literal, una constante o una variable.\n",
    "\n",
    "```java\n",
    "final int ARRAY_SIZE = 6;\n",
    "int[] numbers = new int[ARRAY_SIZE];\n",
    "```\n",
    "\n",
    "* Una vez que el  array es creado el tamaño de este es fijo y no puede ser cambiado\n",
    "\n",
    "El siguiente fragmento de código aterriza este concepto:\n",
    "\n"
   ]
  },
  {
   "cell_type": "code",
   "execution_count": null,
   "metadata": {},
   "outputs": [],
   "source": [
    "%%tutor -l java -k\n",
    "\n",
    "public class ArraysExample2 {\n",
    "    public static void main(String[] args) {\n",
    "        // Tamaño del array constante \n",
    "        final int ARRAY_SIZE = 6;\n",
    "        int[] numbers = new int[ARRAY_SIZE];\n",
    "        \n",
    "        // Tamaño del array a partir de una variable\n",
    "        int tam = 10;\n",
    "        float [] vector = new float[tam];\n",
    "    }\n",
    "}"
   ]
  },
  {
   "cell_type": "markdown",
   "metadata": {},
   "source": [
    "## Acceso a un arreglo ##\n",
    "\n",
    "Son empleados para acceder a un arreglo especificando la posición a la cual se desea acceder. Un array es accedido por medio:\n",
    "1. La referencia el nombre.\n",
    "2. El subindice que especifica a cual elemento en en array se va a acceder. \n",
    "\n",
    "\n",
    "\n"
   ]
  },
  {
   "cell_type": "markdown",
   "metadata": {},
   "source": [
    "**Ejemplo**: Crear un arreglo de 10 enteros y asignar a los elementos con subindice 0, 3, 6 los valores de -3, 10, 25 respectivamente."
   ]
  },
  {
   "cell_type": "code",
   "execution_count": null,
   "metadata": {},
   "outputs": [],
   "source": [
    "%%tutor -l java -k\n",
    "\n",
    "public class ArraysExamples4 {\n",
    "    public static void main(String[] args) {\n",
    "        final int TAM = 10;\n",
    "        int [] mes = new numbers[TAM];\n",
    "        numbers[0] = -3;  // Acceso al elemento con subindice 0 para asignarle el valor de 3\n",
    "        numbers[3] = 10;  // Acceso al elemento con subindice 0 para asignarle el valor de 3\n",
    "        numbers[6] = 26;  // Acceso al elemento con subindice 0 para asignarle el valor de 3\n",
    "    }\n",
    "}"
   ]
  },
  {
   "cell_type": "markdown",
   "metadata": {},
   "source": [
    "**Ejemplo**: Simule y comprenda el siguiente fragmento de código."
   ]
  },
  {
   "cell_type": "code",
   "execution_count": null,
   "metadata": {},
   "outputs": [],
   "source": [
    "%%tutor -l java -k\n",
    "\n",
    "public class ArraysExamples3 {\n",
    "    public static void main(String[] args) {\n",
    "        float s;\n",
    "        int [] mes = new int[6];\n",
    "        float salarios[];\n",
    "        salarios = new float[13];\n",
    "        mes[4] = 2;\n",
    "        s = salarios[mes[4]*3];\n",
    "    }\n",
    "}"
   ]
  },
  {
   "cell_type": "markdown",
   "metadata": {},
   "source": [
    "## Procesamiento del contenido de un arreglo ##\n",
    "El procesamiento de los elementos de un array (lectura o escritura) se hace de a uno a la vez. Asi por ejemplo, si se tiene un arreglo de 5 elementos, será necesario ingresar 5 los elementos al array uno por uno. Esto mismo aplica para mostrar el contenido de un array. A continuación se muestran 3 escenarios basicos en donde se hace esto:\n",
    "\n",
    "**Escenario 1**: Cuando se entran elementos a una array:\n",
    "\n",
    "```java\n",
    "// code\n",
    "```\n",
    "\n",
    "**Escenario 2**: Cuando se muestran elementos de un array:\n",
    "\n",
    "```java\n",
    "// code\n",
    "```\n",
    "**Escenario 3**: Cuando se procesan los elementos de un array:\n",
    "\n",
    "```java\n",
    "grossPay = hours[3] * payRate;\n",
    "```\n",
    "\n",
    "```java\n",
    "int[] score = {7, 8, 9, 10, 11};\n",
    "++score[2]; // Pre-increment operation\n",
    "score[4]++; // Post-increment operation\n",
    "```\n",
    "\n"
   ]
  },
  {
   "cell_type": "markdown",
   "metadata": {},
   "source": [
    "**Ejemplo 1**: Este programa muestra y despliega los valores almacenados en los elementos de un arreglo\n",
    "(** Programa tomado del libro de Gaddis (Starting Out Java early objects))\n",
    "\n",
    "```java\n",
    "import java.util.Scanner;   // Needed for Scanner class\n",
    "\n",
    "/**\n",
    "   This program shows an array being processed with loops.\n",
    "*/\n",
    "\n",
    "public class ArrayDemo2\n",
    "{\n",
    "   public static void main(String[] args)\n",
    "   {\n",
    "      final int EMPLOYEES = 3;           // Number of employees\n",
    "      int[] hours = new int[EMPLOYEES];  // Array of hours\n",
    "      \n",
    "      // Create a Scanner object for keyboard input.\n",
    "      Scanner keyboard = new Scanner(System.in);\n",
    "\n",
    "      System.out.println(\"Enter the hours worked by \" +\n",
    "                         EMPLOYEES + \" employees.\");\n",
    "\n",
    "      // Get the hours for each employee.\n",
    "      for (int index = 0; index < EMPLOYEES; index++)\n",
    "      {\n",
    "         System.out.print(\"Employee \" + (index + 1) + \": \");\n",
    "         hours[index] = keyboard.nextInt();\n",
    "      }\n",
    "\n",
    "      System.out.println(\"The hours you entered are:\");\n",
    "\n",
    "      // Display the values entered.\n",
    "      for (int index = 0; index < EMPLOYEES; index++)\n",
    "         System.out.println(hours[index]);\n",
    "   }\n",
    "}     \n",
    "```"
   ]
  },
  {
   "cell_type": "markdown",
   "metadata": {},
   "source": [
    "## Inicialización de un arreglo ##\n",
    "\n",
    "Java permite inicializar los elementos de un arreglo cuando este es creado. Para esto lo que se hace es crear el arreglo y pasarle un serie de valores separados por coma y entre llaves conocida como **lista de inicialización**. A continuación se muestran algunos ejemplos:\n",
    "\n",
    "#### Ejemplo 1 ####\n",
    "\n",
    "```java\n",
    "int numeros[] = {10, 20, 30, 40, 50, 60};\n",
    "int[]nms = {3, 4, 5}\n",
    "char c[] = {'L','u','i','s'};\n",
    "\n",
    "```\n",
    "\n",
    "#### Ejemplo 2 ####\n",
    "\n",
    "```java\n",
    "int[] days = {31, 28, 31, 30, 31, 30, 31, 31, 30, 31, 30, 31};\n",
    "\n",
    "final int ENE = 31, FEB = 28, MAR = 31, ABR = 30, MAY = 31,\n",
    "          JUN = 30, JUL = 31, AGO = 31, SEP = 30, OCT = 31,\n",
    "          NOV = 30, DIC = 31;\n",
    "\n",
    "int meses[] = {ENE, FEB, MAR, ABR, MAY, JUN, JUL, AGO, SEP, OCT, NOV, DIC};\n",
    "```\n",
    "\n",
    "#### Ejemplo 3 ####\n",
    "A veces para facilitar la claridad es bueno inicializar un array empleando multiples lineas:\n",
    "\n",
    "```java\n",
    "double[] coins = { 0.05,\n",
    "                   0.1,\n",
    "                   0.25,\n",
    "                   0.5,\n",
    "                   1.0 };\n",
    "```\n"
   ]
  },
  {
   "cell_type": "markdown",
   "metadata": {},
   "source": [
    "### Tamaño de los arreglos, atributo length ###\n",
    "\n",
    "Java considera cada arreglo como un **objeto** que, además de tener capacidad para almacenar elementos, dispone del atributo **length** el cual contiene el numero de elementos que tiene el array. Por ejemplo:\n",
    "\n",
    "```java\n",
    "double [] v = new double[15];\n",
    "System.out.print(v.length);    // Muestra en pantalla 15 (numero de elementos del array v)\n",
    "```"
   ]
  },
  {
   "cell_type": "code",
   "execution_count": null,
   "metadata": {},
   "outputs": [],
   "source": [
    "%%tutor -l java -k\n",
    "\n",
    "public class ArraysExample2 {\n",
    "    public static void main(String[] args) {\n",
    "        ArraysExample2 example = new ArraysExample2();  // Por que se uso ???\n",
    "        double [] v = new double[4];\n",
    "        double rSum = 0;\n",
    "        for (int i = 0; i < v.length; i++) {\n",
    "            v[i] = i;\n",
    "            System.out.print(v[i] + \" \");\n",
    "        }\n",
    "        System.out.println();\n",
    "        rSum = example.suma(v);  // Por que se uso ???\n",
    "        System.out.println(\"Resultado suma: \" + rSum);\n",
    "    }\n",
    "    \n",
    "    double suma (double[] w) {\n",
    "      double s = 0.0;\n",
    "      for (int i = 0; i < w.length; i++)\n",
    "        s += w[i];\n",
    "      return s;\n",
    "    }\n",
    "}"
   ]
  },
  {
   "cell_type": "markdown",
   "metadata": {},
   "source": [
    "## Verificación del índice de un arreglo ##\n",
    "En el siguiente fragmento de código se muestra proteger un vector de un error por indice fuera de rango\n",
    "\n",
    "```java\n",
    "int datos(double a[])\n",
    "{\n",
    "  int n;\n",
    "  System.out.println(\"Entrada de datos, cuantos elementos: ? \");\n",
    "  n = entrada.nextInt();\n",
    "  if (n > a.length)\n",
    "    return 0;\n",
    "  for (int i = 0; i < n; i++)\n",
    "    a[i]= entrada.nextDouble();\n",
    "  return 1;\n",
    "}\n",
    "```\n"
   ]
  },
  {
   "cell_type": "markdown",
   "metadata": {},
   "source": [
    "### Ejercicio 10.1 ###\n",
    "El programa escrito a continuación lee NUM enteros en un arreglo,\n",
    "multiplica los elementos del arreglo y visualiza el producto.\n",
    "\n",
    "**Solución**:\n",
    "    \n",
    "```java\n",
    "import java.util.Scanner;\n",
    "\n",
    "class Inicial {\n",
    "    public static void main(String [] a) {\n",
    "        final int NUM = 10;\n",
    "        Scanner entrada = new Scanner(System.in);\n",
    "        int []nums= new int[NUM];\n",
    "        int total = 1;\n",
    "        \n",
    "        System.out.println(\"Por favor, introduzca \" + NUM + \" datos\");\n",
    "        for (int i = 0; i < NUM; i++) {\n",
    "            nums[i] = entrada.nextInt();\n",
    "        }\n",
    "        \n",
    "        System.out.print(\"\\nLista de números: \");\n",
    "        for (int i = 0; i < NUM; i++) {\n",
    "            System.out.print(\" \" + nums[i]);\n",
    "            total *= nums[i];\n",
    "        }\n",
    "        \n",
    "        System.out.println(\"\\nEl producto de los números es \" + total);\n",
    "    }\n",
    "}\n",
    "```    "
   ]
  },
  {
   "cell_type": "markdown",
   "metadata": {},
   "source": [
    "### Copia de arreglos ###"
   ]
  },
  {
   "cell_type": "markdown",
   "metadata": {},
   "source": [
    "Observe el siguiente fragmendo de codigo:"
   ]
  },
  {
   "cell_type": "code",
   "execution_count": null,
   "metadata": {},
   "outputs": [],
   "source": [
    "%%tutor -l java -k\n",
    "\n",
    "public class CopyExample2 {\n",
    "    public static void main(String[] args) {\n",
    "        double [] r, w;\n",
    "        r = new double[11];\n",
    "        w = new double[15];\n",
    "        for (int j = 0; j < r.length; j++) {\n",
    "            r[j] = (double) 2*j-1;\n",
    "        }\n",
    "        // asignación del arreglo r a w\n",
    "        w = r;\n",
    "        r[3] = 4;\n",
    "        w[4] = -6;\n",
    "    }\n",
    "}"
   ]
  },
  {
   "cell_type": "markdown",
   "metadata": {},
   "source": [
    "Ahora, observe el siguiente codigo. ¿En que se diferencia respecto al anterior?"
   ]
  },
  {
   "cell_type": "code",
   "execution_count": null,
   "metadata": {},
   "outputs": [],
   "source": [
    "%%tutor -l java -k\n",
    "\n",
    "public class CopyExample1 {\n",
    "    public static void main(String[] args) {\n",
    "        double [] r, w;\n",
    "        r = new double[11];\n",
    "        w = new double[11];\n",
    "        for (int j = 0; j < r.length; j++) {\n",
    "            r[j] = (double) 2*j-1;\n",
    "        }\n",
    "        // asignación del arreglo r a w\n",
    "        for (int j = 0; j < r.length; j++) {\n",
    "            w[j] = r[j];\n",
    "        }\n",
    "        r[3] = 4;\n",
    "        w[4] = -6;\n",
    "    }\n",
    "}"
   ]
  },
  {
   "cell_type": "markdown",
   "metadata": {},
   "source": [
    "## Metodo arraycopy ##\n",
    "\n",
    "**Sintaxis**:\n",
    "\n",
    "```java\n",
    "System.arraycopy (arreglo Origen, inicioOrigen, arreglo Destino, inicioDestino, numElementos)\n",
    "```\n",
    "\n",
    "**Donde**:\n",
    "* **arreglo Origen**: nombre del arreglo que se va a copiar.\n",
    "* **inicioOrigen**: posición del arreglo origen donde se inicia la copia.\n",
    "* **arreglo Destino**: nombre del arreglo en el que se hace la copia.\n",
    "* **inicioDestino**: es la posición del arreglo destino donde empieza la copia.\n",
    "* **numElementos**: número de elementos del arreglo origen que se van a copiar."
   ]
  },
  {
   "cell_type": "code",
   "execution_count": null,
   "metadata": {},
   "outputs": [],
   "source": [
    "%%tutor -l java -k\n",
    "\n",
    "public class CopyExample3 {\n",
    "    public static void main(String[] args) {\n",
    "        double [] r, w;\n",
    "        r = new double[11];\n",
    "        w = new double[11];\n",
    "        for (int j = 0; j < r.length; j++) {\n",
    "            r[j] = (double) 2*j-1;\n",
    "        }\n",
    "        // asignación del arreglo r a w\n",
    "        System.arraycopy (r, 0, w, 0, r.length);\n",
    "        r[3] = 4;\n",
    "        w[4] = -6;\n",
    "    }\n",
    "}"
   ]
  },
  {
   "cell_type": "markdown",
   "metadata": {},
   "source": [
    "### Ejercicio 10.2 ###\n",
    "Definir dos arreglos de tipo double, v y w con 15 y 20 elementos respectivamente; \n",
    "en el primero se guardan los valores de la función e^(2*x - 1); el segundo inicializa cada elemento al ordinal del elemento; después se copian los 10 últimos\n",
    "elementos de v a partir del elemento 11 de w; por ultimo, se escriben los\n",
    "elementos de ambos arreglos.\n",
    "\n",
    "**Solución**:\n",
    "    \n",
    "```java\n",
    "public class CopiArreglo\n",
    "{\n",
    "    public static void main(String [] a)\n",
    "    {\n",
    "        final int N = 15;\n",
    "        final int M = 20;\n",
    "        double [] v = new double[N];\n",
    "        double [] w = new double [M];\n",
    "        double x = 1.0;\n",
    "\n",
    "        for (int i = 0; i < N; x+=0.2,i++) {\n",
    "            v[i] = Math.exp(2 * x - 1);\n",
    "        }\n",
    "\n",
    "        for (int i = 0; i < M; i++) {\n",
    "            w[i] = (double) i;\n",
    "        }\n",
    "\n",
    "        // Se imprimen los elementos del vector v\n",
    "        System.out.println(\"\\n Valores del vector v\");\n",
    "        for (int i = 0; i < N; i++) {\n",
    "            System.out.print(v[i] + \" \");\n",
    "        }\n",
    "\n",
    "        // Es realizada la copia de v a w\n",
    "        System.arraycopy(v, (N-1)-10 +1, w, 10, 10);\n",
    "\n",
    "        // Se imprimen los elementos del vector w\n",
    "        System.out.println(\"\\n Valores del vector w\");\n",
    "        for (int i = 0; i < M; i++) {\n",
    "            System.out.print(w[i] + \" \");\n",
    "        }\n",
    "    }\n",
    "}\n",
    "```  "
   ]
  },
  {
   "cell_type": "markdown",
   "metadata": {},
   "source": [
    "### Bucle for each para recorrido de arreglos y colecciones ###"
   ]
  },
  {
   "cell_type": "code",
   "execution_count": null,
   "metadata": {},
   "outputs": [],
   "source": [
    "%%tutor -l java -k\n",
    "\n",
    "public class Bucle {\n",
    "    public static void main(String[] args) {\n",
    "        int sumA = 0, sumB = 0;\n",
    "        int [] a = {1,2,3};\n",
    "        int [] b = {4,5,6};\n",
    "        \n",
    "        // Forma tradicional\n",
    "        for (int i = 0; i < a.length; i++) {\n",
    "            System.out.print(a[i] + \" \");\n",
    "            sumA += a[i];\n",
    "        }\n",
    "        System.out.print(\"\\nsumA = \" + sumA + \"\\n\\n\");\n",
    "        // Forma for each\n",
    "        for (int num:b) {\n",
    "            System.out.print(num + \" \");\n",
    "            sumB += num;\n",
    "        }\n",
    "        System.out.print(\"\\nsumB = \" + sumB + \"\\n\");\n",
    "    }\n",
    "}"
   ]
  },
  {
   "cell_type": "code",
   "execution_count": null,
   "metadata": {},
   "outputs": [],
   "source": []
  }
 ],
 "metadata": {
  "kernelspec": {
   "display_name": "Python 3",
   "language": "python",
   "name": "python3"
  },
  "language_info": {
   "codemirror_mode": {
    "name": "ipython",
    "version": 3
   },
   "file_extension": ".py",
   "mimetype": "text/x-python",
   "name": "python",
   "nbconvert_exporter": "python",
   "pygments_lexer": "ipython3",
   "version": "3.8.8"
  }
 },
 "nbformat": 4,
 "nbformat_minor": 2
}

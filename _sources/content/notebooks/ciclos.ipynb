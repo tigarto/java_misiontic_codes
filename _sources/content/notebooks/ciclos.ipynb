{
  "nbformat": 4,
  "nbformat_minor": 2,
  "metadata": {
    "colab": {
      "name": "clase4.ipynb",
      "provenance": [],
      "collapsed_sections": []
    },
    "kernelspec": {
      "display_name": "Python 3",
      "name": "python3"
    },
    "language_info": {
      "name": "python"
    }
  },
  "cells": [
    {
      "cell_type": "code",
      "execution_count": null,
      "source": [
        "pip install metakernel"
      ],
      "outputs": [],
      "metadata": {
        "id": "8r-Rb8L4fCYG"
      }
    },
    {
      "cell_type": "code",
      "execution_count": null,
      "source": [
        "from metakernel import register_ipython_magics\r\n",
        "register_ipython_magics()"
      ],
      "outputs": [],
      "metadata": {
        "id": "_jz10zFnd3YS"
      }
    },
    {
      "cell_type": "code",
      "execution_count": null,
      "source": [
        "# Run and print a shell command.\r\n",
        "def run(cmd):\r\n",
        "  print('>> {}'.format(cmd))\r\n",
        "  !{cmd}  # This is magic to run 'cmd' in the shell.\r\n",
        "  print('')\r\n",
        "\r\n",
        "def compile(nombre_clase):\r\n",
        "  run('javac {}.java'.format(nombre_clase))\r\n",
        "\r\n",
        "def execute(nombre_clase):\r\n",
        "  run('java {}'.format(nombre_clase))\r\n",
        "\r\n",
        "def ejecutar(nombre_clase):\r\n",
        "  compile(nombre_clase)\r\n",
        "  execute(nombre_clase)"
      ],
      "outputs": [],
      "metadata": {
        "id": "y1IIPKyIDuZu"
      }
    },
    {
      "cell_type": "code",
      "execution_count": null,
      "source": [
        "# Ejecutar esto solo si lo está usando online o en linux\r\n",
        "# Update and upgrade the system before installing anything else.\r\n",
        "run('apt-get update > /dev/null')\r\n",
        "run('apt-get upgrade > /dev/null')\r\n",
        "\r\n",
        "# Install the Java JDK.\r\n",
        "run('apt-get install default-jdk > /dev/null')"
      ],
      "outputs": [],
      "metadata": {
        "id": "s4y6Z03eDzQ2"
      }
    },
    {
      "cell_type": "code",
      "execution_count": null,
      "source": [
        "# Check the Java version to see if everything is working well.\r\n",
        "run('javac -version')"
      ],
      "outputs": [
        {
          "output_type": "stream",
          "name": "stdout",
          "text": [
            ">> javac -version\n",
            "javac 11.0.11\n",
            "\n"
          ]
        }
      ],
      "metadata": {
        "colab": {
          "base_uri": "https://localhost:8080/"
        },
        "id": "WS1PBO7eD7jB",
        "outputId": "9a238efa-4b96-4da1-e4c7-f506d6b608a8"
      }
    },
    {
      "cell_type": "markdown",
      "source": [
        "\n",
        "# **Estructuras repetitivas**\n",
        "\n",
        "## **Contextualización**\n",
        "\n",
        "Suponga que le solucitan un programa que obtenga la suma de los primeros 10 numeros y que imprima su resultado. La solución para este caso será:"
      ],
      "metadata": {
        "id": "zoYd146YeQnv"
      }
    },
    {
      "cell_type": "code",
      "execution_count": null,
      "source": [
        "%%tutor\r\n",
        "# código en python\r\n",
        "CANTIDAD_NUMEROS = 10\r\n",
        "sum = 0 + 1 + 2 + 3 + 4 + 5 + 6 + 7 + 8 + 9   # sum = 45\r\n",
        "print(\"La suma de los primeros \" + str(CANTIDAD_NUMEROS) + \" numeros es: \" + str(sum))"
      ],
      "outputs": [],
      "metadata": {
        "id": "KfJH0IuUfS_E"
      }
    },
    {
      "cell_type": "code",
      "execution_count": null,
      "source": [
        "%%writefile Ejemplo1.java\r\n",
        "/*\r\n",
        "Código en java\r\n",
        "*/\r\n",
        "public class Ejemplo1{\r\n",
        "    public static void main(String[] args){\r\n",
        "        final int CANTIDAD_NUMEROS = 10;\r\n",
        "        int sum = 1 + 2 + 3 + 4 + 5 + 6 + 7 + 8 + 9; // sum=45\r\n",
        "        System.out.println(\"La suma de los primeros \" + CANTIDAD_NUMEROS + \" numeros es: \" + sum);\r\n",
        "    }\r\n",
        "}"
      ],
      "outputs": [
        {
          "output_type": "stream",
          "name": "stdout",
          "text": [
            "Writing Ejemplo1.java\n"
          ]
        }
      ],
      "metadata": {
        "colab": {
          "base_uri": "https://localhost:8080/"
        },
        "id": "9PyQOLT0Csi4",
        "outputId": "f50d673c-e4bc-4ffa-9a7e-dbc29cc5f277"
      }
    },
    {
      "cell_type": "code",
      "execution_count": null,
      "source": [
        "ejecutar('Ejemplo1')"
      ],
      "outputs": [
        {
          "output_type": "stream",
          "name": "stdout",
          "text": [
            ">> javac Ejemplo1.java\n",
            "\n",
            ">> java Ejemplo1\n",
            "La suma de los primeros 10 numeros es: 45\n",
            "\n"
          ]
        }
      ],
      "metadata": {
        "colab": {
          "base_uri": "https://localhost:8080/"
        },
        "id": "t7wUeCu9EBmo",
        "outputId": "e47f78c5-5420-462d-a8a1-4b67856eca8f"
      }
    },
    {
      "cell_type": "markdown",
      "source": [
        "Ahora supongamos que nos piden que calculemos e impromamos el suma de los 1000 primeros numeros. Si hacemos uso de lo que hemos visto hasta el momento, la implementación del algoritmo sería sumamente engorrosa. Veamos la implementación propuesta (en python):\n",
        "\n",
        "```python\n",
        "CANTIDAD_NUMEROS = 1000\n",
        "sum = 0 + 1 + 2 + 3 + 4 + ... + 997 + 998 + 999   # sum = ?\n",
        "print(\"La suma de los primeros \" + str(cantidad_numeros) + \" numeros es: \" + str(sum))\n",
        "```\n",
        "\n",
        "De la solución anterior, vemos que la implementación anterior no es practica y por lo tanto no es viable. Sin embargo, afortunamente existe una forma de tratar problemas como este y es mediante las **estructuras repetitivas** las cuales trataremos a continuación."
      ],
      "metadata": {
        "id": "HekN--YtfcQo"
      }
    },
    {
      "cell_type": "markdown",
      "source": [
        "## **Definición**\r\n",
        "\r\n",
        "Una **estructura repetitiva** o **ciclo** es una estructura que permite solucionar problemas que requieran que se repitan un concunto de instrucciones un determinado numero de veces. El diagrama de flujo tipico de un ciclo se muestra a continuación:\r\n",
        "\r\n",
        "![](ciclos/ciclo.jpg) \r\n",
        "\r\n",
        "Como se puede observar en la figura anterior, un **ciclo** esta compuesto de dos partes principales: \r\n",
        "1. **La condición**: Esta es la expresión logica que se evalua antes entrar al ciclo. Si el resultado de la evaluación da **True** (V) se ingresa al cuerpo del ciclo y se ejecutan las instrucciones que alli se encuentran. En caso contrario, cuando la evaluación de la instrucción es **False** (F), entonces no se ingresa al cuerpo del ciclo continuandose por lo tanto, con la siguiente instruccion fuera del ciclo.\r\n",
        "2. **Cuerpo**: Conjunto de instrucciones que se ejecutan cuando se ingresa al ciclo (cuando la condición da verdadera (**True**)). Como se puede ver en la figura, una vez se ejecutan todas al instrucciones que estan en el cuerpo del ciclo, se retorna nuevamente a la **condición** para proceder a determinar si se ingresara de nuevo al cuerpo de ciclo o se culminará su ejecución.\r\n",
        "\r\n",
        "En el caso de java, existen dos tipos de ciclo:\r\n",
        "1. El ciclo while.\r\n",
        "2. El ciclo do-while\r\n",
        "3. El ciclo for.\r\n"
      ],
      "metadata": {
        "id": "kN3tdB-ugzag"
      }
    },
    {
      "cell_type": "markdown",
      "source": [
        "##**Ciclo while**##\n",
        "\n",
        "Este ciclo tiene la siguiente sintaxis:\n",
        "\n",
        "```python\n",
        "# sintaxis en python\n",
        "while (condicion):\n",
        "  #  Cuerpo del ciclo\n",
        "  instruccion_1\n",
        "  instruccion_2\n",
        "  ...\n",
        "  instruccion_N\n",
        "```\n",
        "```java\n",
        "// sintaxis en java\n",
        "while (condicion){\n",
        "  #  Cuerpo del ciclo\n",
        "  instruccion_1\n",
        "  instruccion_2\n",
        "  ...\n",
        "  instruccion_N\n",
        "}\n",
        "```\n",
        "\n",
        "Como todo ciclo, inicialmente lo primero que se hace es evaluar la **condición** para determinar si se ingresa (condición verdadera) o no al ciclo (condición falsa). \n",
        "\n",
        "##**Sobre la condición de control**##\n",
        "Como se dijo previamente, el resultado obtenido al evaluar la condición determina si se ingresa al ciclo o no. El objetivo es que el ciclo solo se repita un numero determinado de veces de modo que debe haber un momento en que esta condición **debe hacerse falsa** para que el programa se salga del ciclo sino, lo que se trenda será un **ciclo infinito**. \n",
        "\n",
        "Para hacer que una condición se haga falsa se emplea una variable especial conocida como **variable de control del ciclo**. Esta variable es la que se evalua en la condición con el fin de determinar si se ingresa o no al ciclo por lo tanto se debe modificar dentro del cuerpo para evitar la condicion de ciclo infinito. Para entender esto, analicemos nuevamente el ejemplo de sumar los mil primeros numeros empleando el ciclo.\n",
        "\n",
        "\n",
        "\n",
        "\n",
        "\n",
        "\n",
        "\n"
      ],
      "metadata": {
        "id": "ftMLsTCtkp4o"
      }
    },
    {
      "cell_type": "markdown",
      "source": [
        "**Ejemplo**: Hacer un programa que sume los 1000 primeros numeros y los muestre en pantalla.\n",
        "\n",
        "**Analisis del problema**:\n",
        "\n",
        "* **Entradas**:\n",
        "  * No hay\n",
        "* **Salidas**:\n",
        "  * **sum**: suma de los 1000 primeros numeros.  \n",
        "* **Variables auxiliares**:\n",
        "  * **i**: i-esimo numero (**variable de control del ciclo**)\n",
        "* **Constantes**:\n",
        "  * **CANTIDAD_NUMEROS = 1000**: Cantidad de numeros que se van a sumar.\n",
        "**Proceso**\n",
        "\n",
        "1. Declarar constantes\n",
        "2. Inicializar variables: ```i = 0```, ```sum = 0```\n",
        "3. Calcular la suma (ciclo).\n",
        "4. Desplegar el resultado de la suma.\n",
        "\n",
        "**Codigo python**:"
      ],
      "metadata": {
        "id": "SXZr3k4Uqw-Y"
      }
    },
    {
      "cell_type": "code",
      "execution_count": null,
      "source": [
        "# %%tutor\r\n",
        "# Constantes\r\n",
        "CANTIDAD_NUMEROS = 1000\r\n",
        "\r\n",
        "# Inicializacion de variables\r\n",
        "i = 0 # Variable de control del ciclo\r\n",
        "sum = 0\r\n",
        "\r\n",
        "# Calculo de la suma\r\n",
        "while i < CANTIDAD_NUMEROS:\r\n",
        "  sum = sum + i    # sum += i\r\n",
        "  i += 1 # Actualizacion de la variable de control\r\n",
        "\r\n",
        "# Despliegue del resultado\r\n",
        "print(\"La suma de los primeros \" + str(CANTIDAD_NUMEROS) + \" numeros es: \" + str(sum))\r\n"
      ],
      "outputs": [
        {
          "output_type": "stream",
          "name": "stdout",
          "text": [
            "La suma de los primeros 1000 numeros es: 499500\n"
          ]
        }
      ],
      "metadata": {
        "colab": {
          "base_uri": "https://localhost:8080/"
        },
        "id": "RKAnTfyasUWy",
        "outputId": "cc2a3c6f-8d72-45a4-f45e-0f2337ea468c"
      }
    },
    {
      "cell_type": "markdown",
      "source": [
        "**Código Java**"
      ],
      "metadata": {
        "id": "NMfh3xhc-CBP"
      }
    },
    {
      "cell_type": "code",
      "execution_count": null,
      "source": [
        "%%writefile CicloWhile.java \r\n",
        "\r\n",
        "public class CicloWhile{\r\n",
        "    public static void main(String[] args){\r\n",
        "      // Constantes\r\n",
        "      final int CANTIDAD_NUMEROS = 1000;\r\n",
        "\r\n",
        "      // Inicializacion de variables\r\n",
        "      int i = 0; // Variable de control del ciclo\r\n",
        "      int sum = 0;\r\n",
        "\r\n",
        "      // Calculo de la suma\r\n",
        "      while(i < CANTIDAD_NUMEROS){\r\n",
        "        sum = sum + i;    // sum += i\r\n",
        "        i += 1; // Actualizacion de la variable de control\r\n",
        "      }\r\n",
        "      //Despliegue del resultado\r\n",
        "      System.out.println(\"La suma de los primeros \" + CANTIDAD_NUMEROS + \" numeros es: \" + sum);       \r\n",
        "    }\r\n",
        "}"
      ],
      "outputs": [
        {
          "output_type": "stream",
          "name": "stdout",
          "text": [
            "Overwriting CicloWhile.java\n"
          ]
        }
      ],
      "metadata": {
        "colab": {
          "base_uri": "https://localhost:8080/"
        },
        "id": "JGXdDBep8-dA",
        "outputId": "cb67e779-1457-4192-fe95-bc2e307156d3"
      }
    },
    {
      "cell_type": "code",
      "execution_count": null,
      "source": [
        "ejecutar('CicloWhile')"
      ],
      "outputs": [
        {
          "output_type": "stream",
          "name": "stdout",
          "text": [
            ">> javac CicloWhile.java\n",
            "\n",
            ">> java CicloWhile\n",
            "La suma de los primeros 1000 numeros es: 499500\n",
            "\n"
          ]
        }
      ],
      "metadata": {
        "colab": {
          "base_uri": "https://localhost:8080/"
        },
        "id": "8PXXLS79Dn3k",
        "outputId": "ddd23b95-29b9-4e38-b8a4-4d3abbe53494"
      }
    },
    {
      "cell_type": "markdown",
      "source": [
        "Como se puede notar, ahora si es posible implementar el algoritmo solución gracias a esta nueva estructura."
      ],
      "metadata": {
        "id": "wUn06HP5twxA"
      }
    },
    {
      "cell_type": "markdown",
      "source": [
        "##**Preguntas importantes al trabajar problemas con ciclos**##\n",
        "Al trabajar problemas que impliquen el uso de ciclos debe hacerse las siguientes preguntas para plantear la solución del problema.\n",
        "1. ¿Dentro del problema hay cosas que se deben repetir?\n",
        "2. ¿Que cosas se deben repetir?\n",
        "3. ¿Es conocido o no el numero de iteraciónes?. Una **iteración** es una ejecución dentro del cuerpo del ciclo.\n",
        "4. ¿Que instrucciones deberían ir dentro del cuerpo del ciclo?. Recuerde, aqui van las que se repiten.\n",
        "5. ¿Como debe ser la condición de control del ciclo?\n",
        "\n",
        "En resumen, un problema que implique el manejo de ciclos se reduce a determinar cual será la condición y que instrucciones se repetiran (iran dentro del cuerpo). Un vez se tiene identificado, ya se podrá proceder a codificar.\n",
        "\n",
        "## **Estrategias de diseño con Loops para primiparos** \n",
        "Cuando escriba ciclos tenga en cuenta las siguientes estrategias:\n",
        "1. Identifique las instrucciones (**Statements**) que necesita que se repitan.\n",
        "2. Coloque estas instrucciones (**Statements**) dentro del cuerpo del loop:\n",
        "\n",
        "```java\n",
        "while(true){\n",
        "  Statements\n",
        "}\n",
        "```\n",
        "3. Codifique a continuación la condición de test del loop\n",
        "(**loop-continuation-condition**) y agregue las instrucciones adicionales para\n",
        "controlar el loop (**Aditional statements for controlling the loop**)\n",
        "\n",
        "```java\n",
        "while(loop-continuation-condition){\n",
        "  Statements\n",
        "  Aditional statements for controlling the loop\n",
        "}\n",
        "```\n",
        "\n",
        "##**Sobre el numero de iteraciones de los ciclos**##\n",
        "Se puede dar el caso en que se conozcan o no el numero de iteraciones que correra un ciclo. En tal caso podemos definir dos grandes clasificaciones para los problemas que impliquen el uso de ciclos:\n",
        "1. Problemas donde se conocen el numero de iteraciones.\n",
        "2. Problemas donde no se conocen el numero de iteraciones.\n",
        "\n",
        "En breve nos volveremos a referir un poco a estos.\n",
        "\n",
        "##**Ejemplos de ciclos while**##\n",
        "\n",
        "Los siguientes fragmentos de código permiten entender como funciona el ciclo while en java.\n",
        "\n"
      ],
      "metadata": {
        "id": "M7UeqdK4uB1U"
      }
    },
    {
      "cell_type": "markdown",
      "source": [
        "**Codigo 1**: Hacer un programa que muestre en pantalla los numeros del 0 al 9.¿Cuantas iteraciones hay?"
      ],
      "metadata": {
        "id": "181dn0f5whmt"
      }
    },
    {
      "cell_type": "code",
      "execution_count": null,
      "source": [
        "%%writefile Ciclo1.java\r\n",
        "public class Ciclo1{\r\n",
        "    public static void main(String[] a){\r\n",
        "      int i = 0;\r\n",
        "      while(i < 10){\r\n",
        "        System.out.println(i);\r\n",
        "        i = i + 1;\r\n",
        "      }\r\n",
        "      System.out.println(\"Terminó el ciclo\");\r\n",
        "    }\r\n",
        "}"
      ],
      "outputs": [
        {
          "output_type": "stream",
          "name": "stdout",
          "text": [
            "Writing Ciclo1.java\n"
          ]
        }
      ],
      "metadata": {
        "colab": {
          "base_uri": "https://localhost:8080/"
        },
        "id": "nFdBzU8FwkYE",
        "outputId": "2f32ba88-72a4-4328-f022-89369f841dac"
      }
    },
    {
      "cell_type": "code",
      "execution_count": null,
      "source": [
        "ejecutar('Ciclo1')"
      ],
      "outputs": [
        {
          "output_type": "stream",
          "name": "stdout",
          "text": [
            ">> javac Ciclo1.java\n",
            "\n",
            ">> java Ciclo1\n",
            "0\n",
            "1\n",
            "2\n",
            "3\n",
            "4\n",
            "5\n",
            "6\n",
            "7\n",
            "8\n",
            "9\n",
            "Terminó el ciclo\n",
            "\n"
          ]
        }
      ],
      "metadata": {
        "colab": {
          "base_uri": "https://localhost:8080/"
        },
        "id": "EBzVaTCzE9nT",
        "outputId": "dce45538-2d8b-43e7-a43a-a27763f42f02"
      }
    },
    {
      "cell_type": "markdown",
      "source": [
        "**Codigo 2**: Hacer un programa que muestre en pantalla los numeros del 1 al 5. ¿Cuantas iteraciones hay?"
      ],
      "metadata": {
        "id": "P2zEbiuJtlKG"
      }
    },
    {
      "cell_type": "code",
      "execution_count": null,
      "source": [
        "%%writefile Ciclo2.java\r\n",
        "public class Ciclo2{\r\n",
        "    public static void main(String[] a){\r\n",
        "      int i = 1;\r\n",
        "      while(i <= 5){\r\n",
        "        System.out.println(i);\r\n",
        "        i = i + 1;\r\n",
        "      }\r\n",
        "      System.out.println(\"Fuera del ciclo\");\r\n",
        "    }\r\n",
        "}"
      ],
      "outputs": [
        {
          "output_type": "stream",
          "name": "stdout",
          "text": [
            "Overwriting Ciclo2.java\n"
          ]
        }
      ],
      "metadata": {
        "colab": {
          "base_uri": "https://localhost:8080/"
        },
        "id": "S3uf6rs0tIl4",
        "outputId": "07e197b4-fa4a-47e4-e033-190c31a79a56"
      }
    },
    {
      "cell_type": "code",
      "execution_count": null,
      "source": [
        "ejecutar('Ciclo2')"
      ],
      "outputs": [
        {
          "output_type": "stream",
          "name": "stdout",
          "text": [
            ">> javac Ciclo2.java\n",
            "\n",
            ">> java Ciclo2\n",
            "1\n",
            "2\n",
            "3\n",
            "4\n",
            "5\n",
            "Fuera del ciclo\n",
            "\n"
          ]
        }
      ],
      "metadata": {
        "colab": {
          "base_uri": "https://localhost:8080/"
        },
        "id": "A1T6pBIdFCph",
        "outputId": "bb1f1c14-d6d0-4f94-ad92-0cf81ae8543c"
      }
    },
    {
      "cell_type": "markdown",
      "source": [
        "**Codigo 3**: Hacer un programa que muestre los numeros entre 20 y 30 incluidos estos.\n"
      ],
      "metadata": {
        "id": "1rpd3k0bucAL"
      }
    },
    {
      "cell_type": "code",
      "execution_count": null,
      "source": [
        "%%writefile Ciclo3.java\r\n",
        "public class Ciclo3{\r\n",
        "    public static void main(String[] args){\r\n",
        "      int i = 20; // Variable de control\r\n",
        "      while(i <= 30){\r\n",
        "        // Intrucciones\r\n",
        "        System.out.println(i);\r\n",
        "        i += 1;   \r\n",
        "      }   \r\n",
        "    }\r\n",
        "}"
      ],
      "outputs": [
        {
          "output_type": "stream",
          "name": "stdout",
          "text": [
            "Overwriting Ciclo3.java\n"
          ]
        }
      ],
      "metadata": {
        "id": "ZM-3TX1Cup8P",
        "colab": {
          "base_uri": "https://localhost:8080/"
        },
        "outputId": "8d9245a2-0b94-49ce-aa4c-abe205d70d4f"
      }
    },
    {
      "cell_type": "code",
      "execution_count": null,
      "source": [
        "ejecutar('Ciclo3')"
      ],
      "outputs": [
        {
          "output_type": "stream",
          "name": "stdout",
          "text": [
            ">> javac Ciclo3.java\n",
            "\n",
            ">> java Ciclo3\n",
            "20\n",
            "21\n",
            "22\n",
            "23\n",
            "24\n",
            "25\n",
            "26\n",
            "27\n",
            "28\n",
            "29\n",
            "30\n",
            "\n"
          ]
        }
      ],
      "metadata": {
        "colab": {
          "base_uri": "https://localhost:8080/"
        },
        "id": "o7FDly9FFL29",
        "outputId": "dcedb227-8444-4757-b092-bc4ecf8fe326"
      }
    },
    {
      "cell_type": "markdown",
      "source": [
        "**Codigo 4**: ¿Cuantas iteraciones hay?"
      ],
      "metadata": {
        "id": "IgMbatAhw5aY"
      }
    },
    {
      "cell_type": "code",
      "execution_count": null,
      "source": [
        "%%writefile Ciclo4.java\r\n",
        "\r\n",
        "public class Ciclo4{\r\n",
        "    public static void main(String[] ar){\r\n",
        "      int i = 0;\r\n",
        "      while(i <= 10){\r\n",
        "        i += 1; //Actualizacion de la variable de control\r\n",
        "        if(i > 3){\r\n",
        "          System.out.print('+');   \r\n",
        "        }else{\r\n",
        "          System.out.print('-');   \r\n",
        "        }\r\n",
        "        System.out.print(i);\r\n",
        "      }\r\n",
        "    }\r\n",
        "}"
      ],
      "outputs": [
        {
          "output_type": "stream",
          "name": "stdout",
          "text": [
            "Writing Ciclo4.java\n"
          ]
        }
      ],
      "metadata": {
        "id": "xUAuNIjiw975",
        "colab": {
          "base_uri": "https://localhost:8080/"
        },
        "outputId": "c8562d4a-4cae-4b77-eb08-8267e2fd8c0d"
      }
    },
    {
      "cell_type": "code",
      "execution_count": null,
      "source": [
        "ejecutar('Ciclo4')"
      ],
      "outputs": [
        {
          "output_type": "stream",
          "name": "stdout",
          "text": [
            ">> javac Ciclo4.java\n",
            "\n",
            ">> java Ciclo4\n",
            "-1-2-3+4+5+6+7+8+9+10+11\n"
          ]
        }
      ],
      "metadata": {
        "colab": {
          "base_uri": "https://localhost:8080/"
        },
        "id": "CPcnEQDPFgsx",
        "outputId": "42107dd3-d8c4-4903-c283-07f9c92714ce"
      }
    },
    {
      "cell_type": "markdown",
      "source": [
        "**Codigo 5**: Hacer un programa que imprima los primeros N numeros indicando si estos son pares o impares."
      ],
      "metadata": {
        "id": "DWTIqpwAw6PW"
      }
    },
    {
      "cell_type": "code",
      "execution_count": null,
      "source": [
        "%%writefile Ciclo5.java\r\n",
        "\r\n",
        "import java.util.Scanner;\r\n",
        "public class Ciclo5{\r\n",
        "    public static void main(String[] args){\r\n",
        "      Scanner lector = new Scanner(System.in);\r\n",
        "      int i = 1;\r\n",
        "      System.out.print(\"Digite la cantidad de numeros: \");\r\n",
        "      int cantNum = lector.nextInt();\r\n",
        "      while(i <= cantNum){\r\n",
        "        // Determinacion si un numero es paso o impar\r\n",
        "        if(i%2 == 0){\r\n",
        "          System.out.printf(\"%d es par%n\", i);\r\n",
        "        }else{\r\n",
        "          System.out.printf(\"%d es impar%n\", i);\r\n",
        "        }\r\n",
        "        i += 1; // Actualizacion de la variable de control   \r\n",
        "      }\r\n",
        "    }\r\n",
        "}  "
      ],
      "outputs": [
        {
          "output_type": "stream",
          "name": "stdout",
          "text": [
            "Overwriting Ciclo5.java\n"
          ]
        }
      ],
      "metadata": {
        "id": "G7AMg7_G16EA",
        "colab": {
          "base_uri": "https://localhost:8080/"
        },
        "outputId": "1c346be9-e757-45f9-b60f-759549e3a13f"
      }
    },
    {
      "cell_type": "code",
      "execution_count": null,
      "source": [
        "ejecutar('Ciclo5')"
      ],
      "outputs": [
        {
          "output_type": "stream",
          "name": "stdout",
          "text": [
            ">> javac Ciclo5.java\n",
            "\n",
            ">> java Ciclo5\n",
            "Digite la cantidad de numeros: 21\n",
            "1 es impar\n",
            "2 es par\n",
            "3 es impar\n",
            "4 es par\n",
            "5 es impar\n",
            "6 es par\n",
            "7 es impar\n",
            "8 es par\n",
            "9 es impar\n",
            "10 es par\n",
            "11 es impar\n",
            "12 es par\n",
            "13 es impar\n",
            "14 es par\n",
            "15 es impar\n",
            "16 es par\n",
            "17 es impar\n",
            "18 es par\n",
            "19 es impar\n",
            "20 es par\n",
            "21 es impar\n",
            "\n"
          ]
        }
      ],
      "metadata": {
        "colab": {
          "base_uri": "https://localhost:8080/"
        },
        "id": "2HKleozSFrt9",
        "outputId": "2cfea68e-d5c2-4d54-c809-b2bb6fe64860"
      }
    },
    {
      "cell_type": "markdown",
      "source": [
        "**Codigo 6**: Hacer un programa que solicite 2 numeros e imprima la cantidad de numeros impares entre estos."
      ],
      "metadata": {
        "id": "9OmCUbqRw6gh"
      }
    },
    {
      "cell_type": "code",
      "execution_count": null,
      "source": [
        "%%writefile Ciclo6.java\r\n",
        "\r\n",
        "import java.util.Scanner;\r\n",
        "\r\n",
        "public class Ciclo6{\r\n",
        "    public static void main(String[] args){\r\n",
        "      Scanner scanner = new Scanner(System.in);\r\n",
        "      int numMenor;\r\n",
        "      int numMayor;\r\n",
        "      int i;\r\n",
        "      System.out.print(\"Ingrese el numero menor: \");\r\n",
        "      numMenor = scanner.nextInt();\r\n",
        "      System.out.print(\"Ingrese el numero mayor: \");     \r\n",
        "      numMenor = scanner.nextInt();\r\n",
        "      i = numMenor;\r\n",
        "      while(i <= numMayor){\r\n",
        "        if(i%2 != 0){\r\n",
        "          print(i, end = \" \")   \r\n",
        "        }\r\n",
        "        i++;\r\n",
        "      }\r\n",
        "    }\r\n",
        "}"
      ],
      "outputs": [
        {
          "output_type": "stream",
          "name": "stdout",
          "text": [
            "Overwriting Ciclo6.java\n"
          ]
        }
      ],
      "metadata": {
        "id": "Ll39xYDn2ZyC",
        "colab": {
          "base_uri": "https://localhost:8080/"
        },
        "outputId": "c5b3c71f-4fd0-48a4-f229-adcda924e197"
      }
    },
    {
      "cell_type": "markdown",
      "source": [
        "**Codigo 7**: ¿Cuantas iteraciones hay?"
      ],
      "metadata": {
        "id": "5-AAsEzM22pZ"
      }
    },
    {
      "cell_type": "code",
      "execution_count": null,
      "source": [
        "%%writefile Ciclo7.java\r\n",
        "public class Ciclo7{\r\n",
        "    public static void main(String[] args){\r\n",
        "        int i = 0;\r\n",
        "        while(i<=20){\r\n",
        "            if(i<5){\r\n",
        "                i+=1;\r\n",
        "            }else if(i<=10){\r\n",
        "                i+=2;\r\n",
        "            }else if(i<=15){\r\n",
        "                i+=3;\r\n",
        "            }\r\n",
        "            System.out.println(\"Vamos en \" + i);\r\n",
        "            i++;\r\n",
        "        }\r\n",
        "        System.out.println(\"Valor final de i: \"+ i);\r\n",
        "    }\r\n",
        "}"
      ],
      "outputs": [
        {
          "output_type": "stream",
          "name": "stdout",
          "text": [
            "Writing Ciclo7.java\n"
          ]
        }
      ],
      "metadata": {
        "id": "PozH7hiB28SI",
        "colab": {
          "base_uri": "https://localhost:8080/"
        },
        "outputId": "f726c888-d910-4247-da02-7baecbb23ca1"
      }
    },
    {
      "cell_type": "code",
      "execution_count": null,
      "source": [
        "ejecutar('Ciclo7')"
      ],
      "outputs": [
        {
          "output_type": "stream",
          "name": "stdout",
          "text": [
            ">> javac Ciclo7.java\n",
            "\n",
            ">> java Ciclo7\n",
            "Vamos en 1\n",
            "Vamos en 3\n",
            "Vamos en 5\n",
            "Vamos en 8\n",
            "Vamos en 11\n",
            "Vamos en 15\n",
            "Vamos en 16\n",
            "Vamos en 17\n",
            "Vamos en 18\n",
            "Vamos en 19\n",
            "Vamos en 20\n",
            "Valor final de i: 21\n",
            "\n"
          ]
        }
      ],
      "metadata": {
        "colab": {
          "base_uri": "https://localhost:8080/"
        },
        "id": "wxxdRGb8HTDC",
        "outputId": "e31e94ee-a98b-4888-ae1d-b69ab50031a8"
      }
    },
    {
      "cell_type": "markdown",
      "source": [
        "## **Ciclos definidos**\n",
        "\n",
        "Para en este caso, el numero de iteraciones es conocido. Vamos a ver los siguientes ejemplos para aterrizar el concepto."
      ],
      "metadata": {
        "id": "DEjthbQ523QI"
      }
    },
    {
      "cell_type": "markdown",
      "source": [
        "**Ejemplo**: Hacer un programa que encuentre e imprime la suma de los N primeros numeros.\n",
        "\n",
        "\n",
        "**Analisis del problema**:\n",
        "\n",
        "* **Entradas**:\n",
        "  * **numData**: Numero de datos\n",
        "* **Salidas**:\n",
        "  * **sum**: suma de los N primeros numeros.  \n",
        "* **Variables auxiliares**:\n",
        "  * **i**: i-esimo numero (**variable de control del ciclo**)\n",
        "* **Constantes**:\n",
        "\n",
        "**Proceso**\n",
        "\n",
        "1. Inicializar variables: ```i = 0```, ```sum = 0```\n",
        "2. Solucitar el numero de datos\n",
        "3. Calcular la suma (ciclo).\n",
        "4. Desplegar el resultado de la suma.\n",
        "\n",
        "**Codigo java**:"
      ],
      "metadata": {
        "id": "IJb1EwBE8gIE"
      }
    },
    {
      "cell_type": "code",
      "execution_count": null,
      "source": [
        "%%writefile SumaNumeros.java\r\n",
        "\r\n",
        "import java.util.Scanner;\r\n",
        "\r\n",
        "public class SumaNumeros{\r\n",
        "    public static void main(String[] args){\r\n",
        "        /* Inicialización de variables */\r\n",
        "        Scanner lector = new Scanner(System.in);\r\n",
        "        int i = 0; //variable de control\r\n",
        "        int sum = 0; //acumulador\r\n",
        "\r\n",
        "        //entrada de datos\r\n",
        "        System.out.print(\"Ingrese el numero de datos a sumar: \");\r\n",
        "        int numData = lector.nextInt();\r\n",
        "        while(i < numData){\r\n",
        "            sum += i; //sum = sum + i;\r\n",
        "            i++;      // i = i + 1;\r\n",
        "        }\r\n",
        "        System.out.println(\"La suma de los \" + numData + \" numeros da: \" + sum);\r\n",
        "    }\r\n",
        "}"
      ],
      "outputs": [
        {
          "output_type": "stream",
          "name": "stdout",
          "text": [
            "Overwriting SumaNumeros.java\n"
          ]
        }
      ],
      "metadata": {
        "id": "kMu30lS98e-Q",
        "colab": {
          "base_uri": "https://localhost:8080/"
        },
        "outputId": "a0fb890f-d17a-43ef-8631-2750f113e57a"
      }
    },
    {
      "cell_type": "code",
      "execution_count": null,
      "source": [
        "ejecutar('SumaNumeros')"
      ],
      "outputs": [
        {
          "output_type": "stream",
          "name": "stdout",
          "text": [
            ">> javac SumaNumeros.java\n",
            "\n",
            ">> java SumaNumeros\n",
            "Ingrese el numero de datos a sumar: 5\n",
            "La suma de los 5 numeros da: 10\n",
            "\n"
          ]
        }
      ],
      "metadata": {
        "colab": {
          "base_uri": "https://localhost:8080/"
        },
        "id": "0ajKeCh5JM-0",
        "outputId": "6e1fcfb5-35d4-4773-8403-2b789b101cfb"
      }
    },
    {
      "cell_type": "markdown",
      "source": [
        "##**Contadores y acumuladores**\n",
        "Cuando se usan ciclos se manejan dos tipos de variables conocidas como el contador y el acumulador. Veamos que son y para que sirven cada uno de estos tipos de variables.\n",
        "\n",
        "###**Contadores**\n",
        "Como su nombre lo dice, un contador cuenta el número de ocurrencias de un evento dentro de un ciclo. El contador es una variable que se incrementa (contador ascendente) o disminuye en un valor constante (contador descendente), y tiene la siguiente forma:\n",
        "\n",
        "```python\n",
        "contador = contador + CONSTANTE\n",
        "```\n",
        "\n",
        "###**Acumuladores**\n",
        "Un acumulador o totalizador Es una variable cuya finalidad es almacenar cantidades variables resultantes de procesos sucesivos. La diferencia con el contador radica en que el incremento o disminución de cada suma es variable en lugar de constante; de este modo la forma general de un acumulador es:\n",
        "\n",
        "```python\n",
        "acumulador = acumuador + variable\n",
        "```\n",
        " **Nota importante**: Tanto los contadores como los acumuladores **deben inicializarse a un valor conocido** antes de ser usados. El caso mas comun suele ser la inicialización a 0.\n",
        "\n",
        "\n",
        "\n",
        "\n"
      ],
      "metadata": {
        "id": "aercSMavAN8m"
      }
    },
    {
      "cell_type": "markdown",
      "source": [
        "**Ejemplo**: El **bar de Moe** fue reinagurado por lo que la noche de inaguración el aforo iba ser limitado a 5 personas. A modo de promoción, la entrada quedo a 10000 para hombres y 5000 para mujeres. Con el fin de facilitar el registro de personas, Moe le pidió a usted que realizara un programa que:\n",
        "1. Determinara la cantidad de hombres y mujeres que fueron al bar el dia de la inaguración.\n",
        "2. Determinar la cantidad de dinero obtenido.\n",
        "\n",
        "\n",
        "**Analisis del problema**:\n",
        "\n",
        "* **Entradas**:\n",
        "  * **sexo**: Sexo de la persona (1: Mujer; 2: Hombre)\n",
        "* **Salidas**:\n",
        "  * **totalMujeres**: Total de mujeres. (Contador).\n",
        "  * **totalHombres**: Total de hombres. (Contador).\n",
        "  * **totalDinero**: Dinero acumulado. (Acumulador).\n",
        "* **Variables auxiliares**:\n",
        "  * **i**: i-esimo cliente (**variable de control del ciclo**).\n",
        "\n",
        "* **Constantes**:\n",
        "  * **CUPO_MAXIMO = 5**: Cupo maximo de clientes\n",
        "\n",
        "**Proceso**\n",
        "\n",
        "1. Definir constantes\n",
        "1. Inicializar variables (contadores, acumuladores, variable de control).\n",
        "3. Ciclo:\n",
        "   * Solicitar sexo.\n",
        "   * Contar el numero de mujeres y hombres y calcular el total  dinero obtenidos en el bar.\n",
        "4. Imprimir los resultados.\n",
        "\n",
        "**Codigo java**:"
      ],
      "metadata": {
        "id": "gyUOq0uvCyzN"
      }
    },
    {
      "cell_type": "code",
      "execution_count": null,
      "source": [
        "%%writefile BarMoe.java\r\n",
        "\r\n",
        "import java.util.Scanner;\r\n",
        "\r\n",
        "public class BarMoe{\r\n",
        "    public static void main(String[] args){\r\n",
        "        final int CUPO_MAXIMO = 5; // Constantes\r\n",
        "\r\n",
        "        // Variables\r\n",
        "        int i = 0,  // variable de control\r\n",
        "        totalMujeres = 0,\r\n",
        "        totalHombres = 0,\r\n",
        "        totalDinero = 0,\r\n",
        "        sexo;\r\n",
        "        Scanner scanner = new Scanner(System.in);\r\n",
        "\r\n",
        "        while(i < CUPO_MAXIMO){\r\n",
        "            // Entrada de datos\r\n",
        "            System.out.println(\"+++ Bienvenido al bar de Moe +++\");\r\n",
        "            System.out.println(\"Por favor digite el sexo\");\r\n",
        "            System.out.println(\"-> 1. Mujer\");\r\n",
        "            System.out.println(\"-> 2. Hombre\");\r\n",
        "            sexo = scanner.nextInt();\r\n",
        "\r\n",
        "            //Calculos\r\n",
        "            if(sexo == 1){\r\n",
        "                System.out.println(\"Bienvenida\");\r\n",
        "                totalMujeres += 1;\r\n",
        "                totalDinero += 5000;\r\n",
        "            }else{\r\n",
        "                System.out.println(\"Bienvenido\");\r\n",
        "                totalHombres += 1;\r\n",
        "                totalDinero += 100000;\r\n",
        "            }\r\n",
        "            System.out.println();\r\n",
        "            i++;\r\n",
        "        }\r\n",
        "\r\n",
        "        // Resumen\r\n",
        "        System.out.println(\"+++ Resumen noche de inaguracion +++\");\r\n",
        "        System.out.println(\"-> Total mujeres: \" + totalMujeres);\r\n",
        "        System.out.println(\"-> Total hombres: \" + totalHombres);\r\n",
        "        System.out.println(\"-> Total entradas: $\" + totalDinero);\r\n",
        "    }\r\n",
        "}"
      ],
      "outputs": [
        {
          "output_type": "stream",
          "name": "stdout",
          "text": [
            "Overwriting BarMoe.java\n"
          ]
        }
      ],
      "metadata": {
        "id": "pFYtD-T7FwII",
        "colab": {
          "base_uri": "https://localhost:8080/"
        },
        "outputId": "de41abb2-aea4-40ac-f0ff-7afdc1328e8d"
      }
    },
    {
      "cell_type": "code",
      "execution_count": null,
      "source": [
        "ejecutar('BarMoe')"
      ],
      "outputs": [
        {
          "output_type": "stream",
          "name": "stdout",
          "text": [
            ">> javac BarMoe.java\n",
            "\n",
            ">> java BarMoe\n",
            "+++ Bienvenido al bar de Moe +++\n",
            "Por favor digite el sexo\n",
            "-> 1. Mujer\n",
            "-> 2. Hombre\n",
            "1\n",
            "Bienvenida\n",
            "\n",
            "+++ Bienvenido al bar de Moe +++\n",
            "Por favor digite el sexo\n",
            "-> 1. Mujer\n",
            "-> 2. Hombre\n",
            "1\n",
            "Bienvenida\n",
            "\n",
            "+++ Bienvenido al bar de Moe +++\n",
            "Por favor digite el sexo\n",
            "-> 1. Mujer\n",
            "-> 2. Hombre\n",
            "2\n",
            "Bienvenido\n",
            "\n",
            "+++ Bienvenido al bar de Moe +++\n",
            "Por favor digite el sexo\n",
            "-> 1. Mujer\n",
            "-> 2. Hombre\n",
            "1\n",
            "Bienvenida\n",
            "\n",
            "+++ Bienvenido al bar de Moe +++\n",
            "Por favor digite el sexo\n",
            "-> 1. Mujer\n",
            "-> 2. Hombre\n",
            "2\n",
            "Bienvenido\n",
            "\n",
            "+++ Resumen noche de inaguracion +++\n",
            "-> Total mujeres: 3\n",
            "-> Total hombres: 2\n",
            "-> Total entradas: $215000\n",
            "\n"
          ]
        }
      ],
      "metadata": {
        "colab": {
          "base_uri": "https://localhost:8080/"
        },
        "id": "O97REXWPLkJl",
        "outputId": "a9095b5e-cba0-4b97-848b-ae4a7cfe05d3"
      }
    },
    {
      "cell_type": "markdown",
      "source": [
        "**Ejemplo**: Hacer un programa que dado un numero N de estudiantes (que se ingresa por teclado). Permita solicitar el nombre y 2 notas de cada estudiante. Luego, una vez introducidas las notas, calcule el promedio de este y lo imprima en pantalla. \n",
        "\n",
        "Una vez ingresados los datos de todos los estudiantes, el programa debera mostrar las siguientes estadisticas:\n",
        "1. El promedio general de notas.\n",
        "2. La cantidad de notas de los estudiantes que perdieron y su respectivo porcentaje.\n",
        "3. La cantidad de notas de los estudiantes que ganaron y sus respectuvo porcentaje.\n",
        "\n",
        "**Analisis del problema**:\n",
        "\n",
        "* **Entradas**:\n",
        "  * **numEstudiantes**: Numero de estudiantes\n",
        "  * **nom**: Nombre del estudiante\n",
        "  * **nota1**: Nota 1\n",
        "  * **nota2**: Nota 2\n",
        "* **Salidas**:\n",
        "  * **promGrupo**: Promedio de las notas del grupo\n",
        "  * **totalPerdedores**: Total perdedores. (Contador).\n",
        "  * **totalGanadores**: Total ganadores. (Contador).\n",
        "  * **porcPerdedores**: Porcentaje de perdedores.\n",
        "  * **porcGanadores**: Porcentaje de ganadores.\n",
        "  * **prom**: Promedio individual por estudiante.\n",
        "* **Variables auxiliares**:\n",
        "  * **i**: i-esimo estudiante (**variable de control del ciclo**).\n",
        "  * **sumPromedios**: Acumulador de los promedios de los estudiantes.\n",
        "* **Constantes**:\n",
        "  \n",
        "**Proceso**\n",
        "\n",
        "1. Inicializar variables, contadores y acumuladores.\n",
        "2. Solicitar el numero de estudiantes.\n",
        "3. Para cada estudiante (ciclo): \n",
        "   * Solicitar el nombre.\n",
        "   * Solicitar las dos notas las notas.\n",
        "   * Calculo del promedio.\n",
        "   * Muestro el promedio del estudiante.\n",
        "   * Contar si es ganador o perdedor\n",
        "   * Sumar promedios.\n",
        "4. Calcular porcentajes.\n",
        "5. Calcular promedio del grupo\n",
        "6. Imprimir los resultados. (Estadisticas del grupo).\n",
        "\n",
        "**Codigo java**:\n"
      ],
      "metadata": {
        "id": "sWAwjRICIwq2"
      }
    },
    {
      "cell_type": "code",
      "execution_count": null,
      "source": [
        "%%writefile Estudiantes.java\r\n",
        "\r\n",
        "import java.util.Scanner;\r\n",
        "\r\n",
        "public class Estudiantes{\r\n",
        "    public static void main(String[] args){\r\n",
        "        \r\n",
        "      // Inincializacion de variables, contadores y acumuladores\r\n",
        "      int i = 0,           // Contador (variable de control)\r\n",
        "      totalPerdedores = 0, // Contador\r\n",
        "      totalGanadores = 0,  // Contador\r\n",
        "      numEstudiantes;\r\n",
        "      \r\n",
        "      float nota1,\r\n",
        "      nota2,\r\n",
        "      prom,\r\n",
        "      sumPromedios = 0.0f; // Acumulador\r\n",
        "      \r\n",
        "\r\n",
        "      String nom;\r\n",
        "      Scanner scanner = new Scanner(System.in);\r\n",
        "\r\n",
        "      // Solicitud del numero de estudiantes\r\n",
        "      System.out.print(\"Ingrese la cantidad de estudiantes: \");\r\n",
        "      numEstudiantes = scanner.nextInt();\r\n",
        "      while(i < numEstudiantes){\r\n",
        "        // Solicitud de la informacion por estudiante\r\n",
        "        System.out.print(\"Ingrese el nombre del estudiante: \");\r\n",
        "        nom = scanner.nextLine();\r\n",
        "        System.out.print(\"\\n* Nota 1: \");\r\n",
        "        nota1 = scanner.nextFloat();\r\n",
        "        System.out.print(\"\\n* Nota 2: \");\r\n",
        "        nota2 = scanner.nextFloat();\r\n",
        "        prom = (nota1 + nota2)/2;\r\n",
        "\r\n",
        "        // Impresion de la informacion por estudiante\r\n",
        "        System.out.println(\"*************** Informe del estudiante ***************\");\r\n",
        "        System.out.println(\"-> Nombre: \" + nom);\r\n",
        "        System.out.printf(\"-> Promedio: %f %n\", prom);\r\n",
        "        System.out.println(\"******************************************************\\n\");\r\n",
        "        \r\n",
        "        // Conteo de ganadores y perdedores\r\n",
        "        if (prom >= 3){\r\n",
        "          // Estudiante gano\r\n",
        "          totalGanadores += 1;\r\n",
        "        }else{\r\n",
        "          // Estudiante perdio\r\n",
        "          totalPerdedores += 1;\r\n",
        "        }\r\n",
        "        // Totalizacion de los promedios\r\n",
        "        sumPromedios += prom;\r\n",
        "      }\r\n",
        "    \r\n",
        "      i += 1; // Continuacion del proximo estudiante (Actualizacion de la variable de control)\r\n",
        "\r\n",
        "      // Calculo de las estadisticas\r\n",
        "      float porcPerdedores = (totalPerdedores/numEstudiantes)*100;\r\n",
        "      float porcGanadores = (totalGanadores/numEstudiantes)*100;\r\n",
        "      float promGrupo = sumPromedios/numEstudiantes;\r\n",
        "\r\n",
        "      // Ddespliegue de las estadisticas\r\n",
        "\r\n",
        "      System.out.println(\"*************** Estadisticas del grupo ***************\");\r\n",
        "      System.out.println(\"-> Total perdedores: \" + totalPerdedores + \"(\" + porcPerdedores + \"%)\");\r\n",
        "      System.out.println(\"-> Total ganadores: \" + totalGanadores + \"(\" + porcGanadores + \"%)\");\r\n",
        "      System.out.println(\"-> Nota promedio del grupo:\" + promGrupo);\r\n",
        "      System.out.println(\"******************************************************\");\r\n",
        "    }\r\n",
        "}\r\n",
        "\r\n",
        "\r\n"
      ],
      "outputs": [
        {
          "output_type": "stream",
          "name": "stdout",
          "text": [
            "Overwriting Estudiantes.java\n"
          ]
        }
      ],
      "metadata": {
        "id": "__1d9kitMvit",
        "colab": {
          "base_uri": "https://localhost:8080/"
        },
        "outputId": "dc45f9c5-a03a-417d-9a34-23e20cf36543"
      }
    },
    {
      "cell_type": "code",
      "execution_count": null,
      "source": [
        "ejecutar('Estudiantes')"
      ],
      "outputs": [
        {
          "output_type": "stream",
          "name": "stdout",
          "text": [
            ">> javac Estudiantes.java\n",
            "\n",
            ">> java Estudiantes\n",
            "Ingrese la cantidad de estudiantes: 3\n",
            "Ingrese el nombre del estudiante: \n",
            "* Nota 1: \n"
          ]
        }
      ],
      "metadata": {
        "colab": {
          "base_uri": "https://localhost:8080/"
        },
        "id": "hyx-PhIgUFQh",
        "outputId": "858e96e3-021f-4a77-9ad6-7a673b2fc298"
      }
    },
    {
      "cell_type": "markdown",
      "source": [
        "## **Ciclos indefinidos o condicionales**\n",
        "\n",
        "En los problemas de este tipo, no se conocen el numero de iteraciones que se llevaran a cabo. Para este caso se manejan 2 tipos.\n",
        "1. Ciclos interactivos\n",
        "2. Ciclos con centinela.\n",
        "\n",
        "### **Ciclos interactivos**\n",
        "\n",
        "Los ciclos interactivos permiten a un usuario decidir si realizar o no la interacion de un ciclo haciendo uso de variables que se entran por teclado.\n",
        "\n",
        "\n"
      ],
      "metadata": {
        "id": "VZAOers4S9_A"
      }
    },
    {
      "cell_type": "markdown",
      "source": [
        "**Ejemplo**: Hacer un programa que solicite cualquier cantidad de numeros y despliege su promedio.\n",
        "\n",
        "\n",
        "**Analisis del problema**:\n",
        "\n",
        "* **Entradas**:\n",
        "  * **seguir**: Opcion de seguir o no (posibles valores: 'y': Si, 'n': No). Esta sera la variable de control.\n",
        "  * **num**: numero ingresado\n",
        "* **Salidas**:\n",
        "  * **prom**: Promedio de los numeros ingresados\n",
        "* **Variables auxiliares**:\n",
        "  * **cnt**: Cantidad de numeros ingresados (contador).\n",
        "  * **sum**: Suma de los numeros ingresados (acumulador).\n",
        "  \n",
        "**Proceso**\n",
        "\n",
        "1. Inicializar variables, contadores y acumuladores.\n",
        "2. Solicitar si el usuario quiere ingresar un numero\n",
        "2. Si el usuario decide ingresar un numero (ciclo): \n",
        "   * Solicitar el numero y realizar los calculos solicitados en el problema. \n",
        "   * Volver a preguntar al usuario si desea ingresar el numero.\n",
        "4. Imprimir los resultados.\n",
        "\n",
        "\n",
        "**Codigo java**"
      ],
      "metadata": {
        "id": "UaGc8lt5Wr2j"
      }
    },
    {
      "cell_type": "code",
      "execution_count": null,
      "source": [
        "%%writefile PromedioNumeros.java\r\n",
        "\r\n",
        "\r\n",
        "import java.util.Scanner;\r\n",
        "\r\n",
        "public class PromedioNumeros{\r\n",
        "    public static void main(String[] args){\r\n",
        "        // Inicialización de variables\r\n",
        "        int cnt = 0;\r\n",
        "        float sum = 0.0f,\r\n",
        "        num; // para almacenar el número que se pide\r\n",
        "        Scanner scan = new Scanner(System.in);\r\n",
        "\r\n",
        "        // Solicitud al usuario si deseo o no ingresar el numero\r\n",
        "        System.out.print(\"Desea ingresar un dato (y/n): \");\r\n",
        "        String seguir = scan.next();\r\n",
        "        System.out.println(seguir);\r\n",
        "        while (seguir.equals(\"y\")){\r\n",
        "          // Solicitud del numero\r\n",
        "          System.out.print(\"Digite el numero >> \");\r\n",
        "          num = scan.nextFloat();\r\n",
        "          sum = sum + num;\r\n",
        "          cnt = cnt + 1;\r\n",
        "          System.out.print(\"Desea ingresar un dato (y/n): \");\r\n",
        "          seguir = scan.next();\r\n",
        "        }\r\n",
        "\r\n",
        "        // Se pregunta si se ingreso numeros\r\n",
        "        if (cnt == 0){\r\n",
        "          // No se ingresaron numeros\r\n",
        "          System.out.println(\"\\nEl promedio de los numeros ingresados es: 0\");\r\n",
        "        }else{\r\n",
        "          System.out.println(\"\\nEl promedio de los numeros ingresados es:\" + sum/cnt);\r\n",
        "        }\r\n",
        "    }\r\n",
        "}"
      ],
      "outputs": [
        {
          "output_type": "stream",
          "name": "stdout",
          "text": [
            "Overwriting PromedioNumeros.java\n"
          ]
        }
      ],
      "metadata": {
        "id": "snCpLwwyYG3_",
        "colab": {
          "base_uri": "https://localhost:8080/"
        },
        "outputId": "43db16b3-c866-45c7-dbf0-59bd28eb47fc"
      }
    },
    {
      "cell_type": "code",
      "execution_count": null,
      "source": [
        "ejecutar('PromedioNumeros')"
      ],
      "outputs": [
        {
          "output_type": "stream",
          "name": "stdout",
          "text": [
            ">> javac PromedioNumeros.java\n",
            "\n",
            ">> java PromedioNumeros\n",
            "Desea ingresar un dato (y/n): y\n",
            "y\n",
            "Digite el numero >> 3\n",
            "Desea ingresar un dato (y/n): y\n",
            "Digite el numero >> 5\n",
            "Desea ingresar un dato (y/n): y\n",
            "Digite el numero >> 4\n",
            "Desea ingresar un dato (y/n): n\n",
            "\n",
            "El promedio de los numeros ingresados es:4.0\n",
            "\n"
          ]
        }
      ],
      "metadata": {
        "colab": {
          "base_uri": "https://localhost:8080/"
        },
        "id": "NKWSj4etXM-m",
        "outputId": "0aa41c21-6a52-4cd9-a426-b945f1b8e6fa"
      }
    },
    {
      "cell_type": "markdown",
      "source": [
        "### **Ciclos con centinelas**\n",
        "\n",
        "Un ciclo con centinela se caracteriza por que la iteración se da hasta que el dato que esta siendo empleado en la condición de comparación alcanza un valor que indica el fin del ciclo.\n",
        "\n",
        "Este valor especial es conocido como **centinela**. El centinela debe ser distinguible del dato ya que este no es procesado como parte de los datos.\n",
        "\n",
        "Veamos el mismo ejemplo anterior pero usando la variable un valor negativo para **num** como centinela.\n"
      ],
      "metadata": {
        "id": "Ac9ZMVkibSj6"
      }
    },
    {
      "cell_type": "markdown",
      "source": [
        "**Ejemplo**: Hacer un programa que solicite cualquier cantidad numeros positivos y despliege su promedio.\n",
        "\n",
        "\n",
        "**Analisis del problema**:\n",
        "\n",
        "* **Entradas**:\n",
        "  * **num**: numero ingresado (Variable de control)\n",
        "* **Salidas**:\n",
        "  * **prom**: Promedio de los numeros ingresados\n",
        "* **Variables auxiliares**:\n",
        "  * **cnt**: Cantidad de numeros ingresados (contador).\n",
        "  * **sum**: Suma de los numeros ingresados (acumulador).\n",
        "  \n",
        "**Proceso**\n",
        "\n",
        "1. Inicializar variables, contadores y acumuladores.\n",
        "2. Solicitar el numero (si es positivo se ingresa al ciclo: centinela)\n",
        "2. Si se ingresa al ciclo: \n",
        "   * Aumentar el contador de numeros.\n",
        "   * Acumular el numero\n",
        "   * Volver a solicitar el numero.\n",
        "4. Imprimir los resultados.\n",
        "\n",
        "\n",
        "**Codigo java**"
      ],
      "metadata": {
        "id": "W1VG1KT7cmMP"
      }
    },
    {
      "cell_type": "code",
      "execution_count": null,
      "source": [
        "%%writefile Centinela.java\r\n",
        "\r\n",
        "import java.util.Scanner;\r\n",
        "\r\n",
        "public class Centinela{\r\n",
        "    public static void main(String[] args){\r\n",
        "        // Inicializacion de variables\r\n",
        "        float sum = 0.0f;\r\n",
        "        int cnt = 0,\r\n",
        "        num;\r\n",
        "        Scanner scan = new Scanner(System.in);\r\n",
        "\r\n",
        "        System.out.print(\"Digite el numero (para salir, ingrese un numero negativo) >> \");\r\n",
        "        num = scan.nextInt();\r\n",
        "        while(num >= 0){\r\n",
        "            cnt = cnt + 1;\r\n",
        "            sum = sum + num;\r\n",
        "            // Solicitud del numero\r\n",
        "            System.out.print(\"Digite el numero (para salir, ingrese un numero negativo) >> \");\r\n",
        "            num = scan.nextInt();\r\n",
        "        }\r\n",
        "        // Se pregunta si se ingreso numeros\r\n",
        "        if(cnt == 0){\r\n",
        "          // No se ingresaron numeros\r\n",
        "          System.out.println(\"\\nEl promedio de los numeros ingresados es: 0\");\r\n",
        "        }else{\r\n",
        "          System.out.println(\"\\nEl promedio de los numeros ingresados es:\" + sum/cnt);\r\n",
        "        }\r\n",
        "    }\r\n",
        "}"
      ],
      "outputs": [
        {
          "output_type": "stream",
          "name": "stdout",
          "text": [
            "Overwriting Centinela.java\n"
          ]
        }
      ],
      "metadata": {
        "id": "0JniCLR6dE8j",
        "colab": {
          "base_uri": "https://localhost:8080/"
        },
        "outputId": "53d14f80-852e-4e21-dc5b-6fa87fb65a2a"
      }
    },
    {
      "cell_type": "code",
      "execution_count": null,
      "source": [
        "ejecutar('Centinela')"
      ],
      "outputs": [
        {
          "output_type": "stream",
          "name": "stdout",
          "text": [
            ">> javac Centinela.java\n",
            "\n",
            ">> java Centinela\n",
            "Digite el numero (para salir, ingrese un numero negativo) >> 5\n",
            "Digite el numero (para salir, ingrese un numero negativo) >> 6\n",
            "Digite el numero (para salir, ingrese un numero negativo) >> 7\n",
            "Digite el numero (para salir, ingrese un numero negativo) >> -2\n",
            "\n",
            "El promedio de los numeros ingresados es:6.0\n",
            "\n"
          ]
        }
      ],
      "metadata": {
        "colab": {
          "base_uri": "https://localhost:8080/"
        },
        "id": "oLAXSZyDZ4RQ",
        "outputId": "526dcf80-9090-46ed-efdd-49a200a9cca3"
      }
    },
    {
      "cell_type": "markdown",
      "source": [
        "Como se puede ver en el ejemplo anterior, el uso de un centinela facilita la implementación de un ciclo interactivo ya que no hay que estar ingresando continuamente si se desea o no seguir ingresando numeros todo el tiempo pues esto, es una molestia.\n"
      ],
      "metadata": {
        "id": "Wkm4-6c8doq2"
      }
    },
    {
      "cell_type": "markdown",
      "source": [
        "##**Ciclo for**##\n",
        "\n",
        "El ciclo **for** nos permite iterar a traves e una secuencia de valores. Este ciclo tiene la siguiente sintaxis:\n",
        "\n",
        "```python\n",
        "for variable in secuencia:\n",
        "  #  Cuerpo del ciclo\n",
        "  instruccion_1\n",
        "  instruccion_2\n",
        "  ...\n",
        "  instruccion_N\n",
        "```\n",
        "```java\n",
        "for(INICIALIZA VARIABLE; CONDICION DE PARADA; INCREMENTO){\n",
        "  //  Cuerpo del ciclo\n",
        "  instruccion_1\n",
        "  instruccion_2\n",
        "  ...\n",
        "  instruccion_N\n",
        "}\n",
        "```"
      ],
      "metadata": {
        "id": "jEU19_6Ac4wM"
      }
    },
    {
      "cell_type": "markdown",
      "source": [
        "####**Ejemplos de implementación de ciclos for**\n",
        "A continuación se reimplementaran algunos ejemplos ,que se realizaron previamente empleando ciclos **while**, empleando ciclos **for**"
      ],
      "metadata": {
        "id": "jnxGguZLw-gA"
      }
    },
    {
      "cell_type": "markdown",
      "source": [
        "**Codigo 1**: Hacer un programa que muestre en pantalla los numeros del 0 al 9.\n",
        "\n",
        "La solución mediante **while** fue la siguiente:\n"
      ],
      "metadata": {
        "id": "dW5V-opzxQdQ"
      }
    },
    {
      "cell_type": "code",
      "execution_count": null,
      "source": [
        "%%writefile Ciclo1.java\r\n",
        "public class Ciclo1{\r\n",
        "    public static void main(String[] a){\r\n",
        "      int i = 0;\r\n",
        "      while(i < 10){\r\n",
        "        System.out.println(i);\r\n",
        "        i = i + 1;\r\n",
        "      }\r\n",
        "      System.out.println(\"Terminó el ciclo\");\r\n",
        "    }\r\n",
        "}"
      ],
      "outputs": [
        {
          "output_type": "stream",
          "name": "stdout",
          "text": [
            "Overwriting Ciclo1.java\n"
          ]
        }
      ],
      "metadata": {
        "colab": {
          "base_uri": "https://localhost:8080/"
        },
        "id": "g3yMruM6xaNm",
        "outputId": "01d4fb08-cb39-4dd9-e7b5-9bb4aef891d1"
      }
    },
    {
      "cell_type": "code",
      "execution_count": null,
      "source": [
        "ejecutar('Ciclo1')"
      ],
      "outputs": [
        {
          "output_type": "stream",
          "name": "stdout",
          "text": [
            ">> javac Ciclo1.java\n",
            "\n",
            ">> java Ciclo1\n",
            "0\n",
            "1\n",
            "2\n",
            "3\n",
            "4\n",
            "5\n",
            "6\n",
            "7\n",
            "8\n",
            "9\n",
            "Terminó el ciclo\n",
            "\n"
          ]
        }
      ],
      "metadata": {
        "colab": {
          "base_uri": "https://localhost:8080/"
        },
        "id": "gT_helHRazON",
        "outputId": "83e558a1-78c5-4b10-9ffa-ed23e151486b"
      }
    },
    {
      "cell_type": "markdown",
      "source": [
        "La solución equivalente empleando **for** se muestra a continuación:"
      ],
      "metadata": {
        "id": "C4ceB30zxdX1"
      }
    },
    {
      "cell_type": "code",
      "execution_count": null,
      "source": [
        "%%writefile Ciclo1For.java\r\n",
        "public class Ciclo1For{\r\n",
        "    public static void main(String[] a){\r\n",
        "      for(int i = 0;i < 10; i++){\r\n",
        "        System.out.println(i);\r\n",
        "      }\r\n",
        "      System.out.println(\"Terminó el ciclo\");\r\n",
        "    }\r\n",
        "}"
      ],
      "outputs": [
        {
          "output_type": "stream",
          "name": "stdout",
          "text": [
            "Writing Ciclo1For.java\n"
          ]
        }
      ],
      "metadata": {
        "colab": {
          "base_uri": "https://localhost:8080/"
        },
        "id": "5fa5gyZDxkyu",
        "outputId": "03f3dd03-3bfb-4d92-bcb5-f5ed2c67ccde"
      }
    },
    {
      "cell_type": "code",
      "execution_count": null,
      "source": [
        "ejecutar('Ciclo1For')"
      ],
      "outputs": [
        {
          "output_type": "stream",
          "name": "stdout",
          "text": [
            ">> javac Ciclo1For.java\n",
            "\n",
            ">> java Ciclo1For\n",
            "0\n",
            "1\n",
            "2\n",
            "3\n",
            "4\n",
            "5\n",
            "6\n",
            "7\n",
            "8\n",
            "9\n",
            "Terminó el ciclo\n",
            "\n"
          ]
        }
      ],
      "metadata": {
        "colab": {
          "base_uri": "https://localhost:8080/"
        },
        "id": "nlI4sFjla_cp",
        "outputId": "868c322f-abc4-446d-b367-6420ab5d8781"
      }
    },
    {
      "cell_type": "markdown",
      "source": [
        "**Codigo 2**: Hacer un programa que muestre y sume los numeros entre 20 y 30 incluidos estos.\n",
        "\n",
        "La solución mediante **while** fue la siguiente:\n",
        "\n"
      ],
      "metadata": {
        "id": "s6FiDtFIxzRz"
      }
    },
    {
      "cell_type": "code",
      "execution_count": null,
      "source": [
        "%%writefile Ciclo3.java\r\n",
        "public class Ciclo3{\r\n",
        "    public static void main(String[] args){\r\n",
        "      int i = 20; // Variable de control\r\n",
        "      while(i <= 30){\r\n",
        "        // Intrucciones\r\n",
        "        System.out.println(i);\r\n",
        "        i += 1;   \r\n",
        "      }   \r\n",
        "    }\r\n",
        "}"
      ],
      "outputs": [
        {
          "output_type": "stream",
          "name": "stdout",
          "text": [
            "Overwriting Ciclo3.java\n"
          ]
        }
      ],
      "metadata": {
        "id": "SnP3zeyNnV3o",
        "colab": {
          "base_uri": "https://localhost:8080/"
        },
        "outputId": "44fa2a66-5288-44e7-aa3f-1f1c088a702b"
      }
    },
    {
      "cell_type": "code",
      "execution_count": null,
      "source": [
        "ejecutar('Ciclo3')"
      ],
      "outputs": [
        {
          "output_type": "stream",
          "name": "stdout",
          "text": [
            ">> javac Ciclo3.java\n",
            "\n",
            ">> java Ciclo3\n",
            "20\n",
            "21\n",
            "22\n",
            "23\n",
            "24\n",
            "25\n",
            "26\n",
            "27\n",
            "28\n",
            "29\n",
            "30\n",
            "\n"
          ]
        }
      ],
      "metadata": {
        "colab": {
          "base_uri": "https://localhost:8080/"
        },
        "id": "JrwQi8-pbRWf",
        "outputId": "d8904cae-20fd-42dc-a8e3-a24d89e9a2c4"
      }
    },
    {
      "cell_type": "markdown",
      "source": [
        "La solución equivalente empleando **for** se muestra a continuación:"
      ],
      "metadata": {
        "id": "5_i0hF2DySo9"
      }
    },
    {
      "cell_type": "code",
      "execution_count": null,
      "source": [
        "%%writefile Ciclo3For.java\r\n",
        "public class Ciclo3For{\r\n",
        "    public static void main(String[] args){\r\n",
        "      for(int i = 20;i <= 30; i++){\r\n",
        "        System.out.println(i);\r\n",
        "      }   \r\n",
        "    }\r\n",
        "}"
      ],
      "outputs": [
        {
          "output_type": "stream",
          "name": "stdout",
          "text": [
            "Overwriting Ciclo3For.java\n"
          ]
        }
      ],
      "metadata": {
        "id": "prj5F1OMxbrt",
        "colab": {
          "base_uri": "https://localhost:8080/"
        },
        "outputId": "920f566f-9cec-4d7f-8f2e-b7ee1241e30c"
      }
    },
    {
      "cell_type": "code",
      "execution_count": null,
      "source": [
        "ejecutar('Ciclo3For')"
      ],
      "outputs": [
        {
          "output_type": "stream",
          "name": "stdout",
          "text": [
            ">> javac Ciclo3For.java\n",
            "\n",
            ">> java Ciclo3For\n",
            "20\n",
            "21\n",
            "22\n",
            "23\n",
            "24\n",
            "25\n",
            "26\n",
            "27\n",
            "28\n",
            "29\n",
            "30\n",
            "\n"
          ]
        }
      ],
      "metadata": {
        "colab": {
          "base_uri": "https://localhost:8080/"
        },
        "id": "86mUhFbCbduA",
        "outputId": "66ac3988-ba0a-4111-9d88-f09d1b0c0f03"
      }
    },
    {
      "cell_type": "markdown",
      "source": [
        "**Codigo 3**: Hacer un programa que imprima los primeros N numeros indicando si estos son pares o impares.\n",
        "\n",
        "La solución mediante **while** fue la siguiente:"
      ],
      "metadata": {
        "id": "TTLOHpu6yqwr"
      }
    },
    {
      "cell_type": "code",
      "execution_count": null,
      "source": [
        "%%writefile Ciclo5.java\r\n",
        "\r\n",
        "import java.util.Scanner;\r\n",
        "public class Ciclo5{\r\n",
        "    public static void main(String[] args){\r\n",
        "      Scanner lector = new Scanner(System.in);\r\n",
        "      int i = 1;\r\n",
        "      System.out.print(\"Digite la cantidad de numeros: \");\r\n",
        "      int cantNum = lector.nextInt();\r\n",
        "      while(i <= cantNum){\r\n",
        "        // Determinacion si un numero es paso o impar\r\n",
        "        if(i%2 == 0){\r\n",
        "          System.out.printf(\"%d es par%n\", i);\r\n",
        "        }else{\r\n",
        "          System.out.printf(\"%d es impar%n\", i);\r\n",
        "        }\r\n",
        "        i += 1; // Actualizacion de la variable de control   \r\n",
        "      }\r\n",
        "    }\r\n",
        "} "
      ],
      "outputs": [
        {
          "output_type": "stream",
          "name": "stdout",
          "text": [
            "Overwriting Ciclo5.java\n"
          ]
        }
      ],
      "metadata": {
        "colab": {
          "base_uri": "https://localhost:8080/"
        },
        "id": "9pj5tIG4yuer",
        "outputId": "2a9183ac-1297-4ac5-d2d5-fe9b671d323a"
      }
    },
    {
      "cell_type": "code",
      "execution_count": null,
      "source": [
        "ejecutar('Ciclo5')"
      ],
      "outputs": [
        {
          "output_type": "stream",
          "name": "stdout",
          "text": [
            ">> javac Ciclo5.java\n",
            "\n",
            ">> java Ciclo5\n",
            "Digite la cantidad de numeros: 3\n",
            "1 es impar\n",
            "2 es par\n",
            "3 es impar\n",
            "\n"
          ]
        }
      ],
      "metadata": {
        "colab": {
          "base_uri": "https://localhost:8080/"
        },
        "id": "OMguPpPqcMTz",
        "outputId": "9e73d1e2-b499-4d67-ff37-5664a970d778"
      }
    },
    {
      "cell_type": "markdown",
      "source": [
        "La solución equivalente empleando **for** se muestra a continuación:"
      ],
      "metadata": {
        "id": "A6k2TVM8yvYQ"
      }
    },
    {
      "cell_type": "code",
      "execution_count": null,
      "source": [
        "%%writefile Ciclo5For.java\r\n",
        "\r\n",
        "import java.util.Scanner;\r\n",
        "public class Ciclo5For{\r\n",
        "    public static void main(String[] args){\r\n",
        "      Scanner lector = new Scanner(System.in);\r\n",
        "      System.out.print(\"Digite la cantidad de numeros: \");\r\n",
        "      int cantNum = lector.nextInt();\r\n",
        "      for(int i = 1; i <= cantNum; i++){\r\n",
        "        // Determinacion si un numero es paso o impar\r\n",
        "        if(i%2 == 0){\r\n",
        "          System.out.printf(\"%d es par%n\", i);\r\n",
        "        }else{\r\n",
        "          System.out.printf(\"%d es impar%n\", i);\r\n",
        "        }\r\n",
        "      }\r\n",
        "    }\r\n",
        "} "
      ],
      "outputs": [
        {
          "output_type": "stream",
          "name": "stdout",
          "text": [
            "Writing Ciclo5For.java\n"
          ]
        }
      ],
      "metadata": {
        "id": "SIVCL_vrywEK",
        "colab": {
          "base_uri": "https://localhost:8080/"
        },
        "outputId": "910ed51f-1631-4563-a149-771a19fa1202"
      }
    },
    {
      "cell_type": "code",
      "execution_count": null,
      "source": [
        "ejecutar('Ciclo5For')"
      ],
      "outputs": [
        {
          "output_type": "stream",
          "name": "stdout",
          "text": [
            ">> javac Ciclo5For.java\n",
            "\n",
            ">> java Ciclo5For\n",
            "Digite la cantidad de numeros: 3\n",
            "1 es impar\n",
            "2 es par\n",
            "3 es impar\n",
            "\n"
          ]
        }
      ],
      "metadata": {
        "colab": {
          "base_uri": "https://localhost:8080/"
        },
        "id": "IkpXoepMcgtr",
        "outputId": "405d4c1f-f11a-4da0-964e-635169a769fb"
      }
    },
    {
      "cell_type": "markdown",
      "source": [
        "###**Instrucciones break y continue**\n",
        "\n",
        "####**Instrucción break**\n",
        "\n",
        "Esta instrucción es usada para romper un ciclo. Para comprender su funcionamiento observe el siguiente ejemplo:"
      ],
      "metadata": {
        "id": "tIGH4ZOt6FWa"
      }
    },
    {
      "cell_type": "code",
      "execution_count": null,
      "source": [
        "%%writefile CicloBreak.java\n",
        "\n",
        "public class CicloBreak{\n",
        "    public static void main(String[] args){\n",
        "        for(int i = 0; i < 10; i++){\n",
        "            if(i == 4){\n",
        "                System.out.println(\"Hasta acá llegamos: \" + i);\n",
        "                break;\n",
        "            }\n",
        "            System.out.println(i);\n",
        "        }\n",
        "    }\n",
        "}"
      ],
      "outputs": [
        {
          "output_type": "stream",
          "name": "stdout",
          "text": [
            "Overwriting CicloBreak.java\n"
          ]
        }
      ],
      "metadata": {
        "colab": {
          "base_uri": "https://localhost:8080/"
        },
        "id": "wjYbG8i06e6f",
        "outputId": "8606a62b-aa76-4281-ca78-39709a825397"
      }
    },
    {
      "cell_type": "code",
      "execution_count": null,
      "source": [
        "ejecutar('CicloBreak')"
      ],
      "outputs": [
        {
          "output_type": "stream",
          "name": "stdout",
          "text": [
            ">> javac CicloBreak.java\n",
            "\n",
            ">> java CicloBreak\n",
            "0\n",
            "1\n",
            "2\n",
            "3\n",
            "Hasta acá llegamos: 4\n",
            "\n"
          ]
        }
      ],
      "metadata": {
        "colab": {
          "base_uri": "https://localhost:8080/"
        },
        "id": "fDro_CCydW3C",
        "outputId": "61d976d0-22e1-4761-cfad-f56ea585c700"
      }
    },
    {
      "cell_type": "markdown",
      "source": [
        "####**Instrucción continue**\n",
        "\n",
        "Cuando se ejecuta la instrucción **continue** un ciclo salta al inicio evitando que se ejecute el codigo que se encuentra despues de esta. A diferencia de la instrucción **break** el ciclo no se rompe y por lo tanto el programa permanece en este hasta que, la condicion de control se hace falsa.\n",
        "\n",
        "Para comprender su funcionamiento observe el siguiente ejemplo:"
      ],
      "metadata": {
        "id": "2eiywlqd7Cl6"
      }
    },
    {
      "cell_type": "code",
      "execution_count": null,
      "source": [
        "%%writefile CicloContinue.java\n",
        "\n",
        "public class CicloContinue{\n",
        "    public static void main(String[] args){\n",
        "        for(int i = 0; i < 10; i++){\n",
        "            if(i > 3 && i < 7){\n",
        "                continue;\n",
        "            }\n",
        "            System.out.println(i);\n",
        "        }\n",
        "    }\n",
        "}"
      ],
      "outputs": [
        {
          "output_type": "stream",
          "name": "stdout",
          "text": [
            "Writing CicloContinue.java\n"
          ]
        }
      ],
      "metadata": {
        "colab": {
          "base_uri": "https://localhost:8080/"
        },
        "id": "IJ8F4gG36zet",
        "outputId": "cdfa23be-09cf-4c4a-b2f8-b38175e79de3"
      }
    },
    {
      "cell_type": "code",
      "execution_count": null,
      "source": [
        "ejecutar('CicloContinue')"
      ],
      "outputs": [
        {
          "output_type": "stream",
          "name": "stdout",
          "text": [
            ">> javac CicloContinue.java\n",
            "\n",
            ">> java CicloContinue\n",
            "0\n",
            "1\n",
            "2\n",
            "3\n",
            "7\n",
            "8\n",
            "9\n",
            "\n"
          ]
        }
      ],
      "metadata": {
        "colab": {
          "base_uri": "https://localhost:8080/"
        },
        "id": "KSvtn7qgd3si",
        "outputId": "b3cfe370-d1d6-4b03-8380-b116242bff0b"
      }
    },
    {
      "cell_type": "markdown",
      "source": [
        "###**Ciclos infinitos**\n"
      ],
      "metadata": {
        "id": "YkXGBEdE8AsL"
      }
    },
    {
      "cell_type": "markdown",
      "source": [
        "\n",
        " **Falta**\n",
        "\n",
        " \n",
        " Ciclos anidados\n",
        " \n",
        "Post test loops\n",
        "\n",
        "We seed the loop condition so we’re guaranteed to execute the loop once.\n",
        "\n",
        " Problemas de repaso.\n",
        "\n",
        "---\n",
        "\n"
      ],
      "metadata": {
        "id": "l4REjKxO0SYa"
      }
    },
    {
      "cell_type": "markdown",
      "source": [
        "**Referencias**:\n",
        "* https://realpython.com/\n",
        "* https://realpython.com/python-while-loop/\n",
        "* https://realpython.com/python-for-loop/\n",
        "* https://github.com/rajathkmp/Python-Lectures\n",
        "* https://facundoq.github.io/courses/aa2018/res/02_python.html\n",
        "* https://www.stavros.io/tutorials/python/\n",
        "* https://github.com/mGalarnyk/Python_Tutorials\n",
        "* https://github.com/Avik-Jain/100-Days-Of-ML-Code\n",
        "* https://github.com/chiphuyen/stanford-tensorflow-tutorials\n",
        "* https://github.com/tuvtran/project-based-learning\n",
        "* https://github.com/mGalarnyk/Python_Tutorials\n",
        "* https://github.com/hussien89aa/PythonTutorial\n",
        "* https://colab.research.google.com/github/hmok/Tutorials/blob/master/beginnersPythonCheatSheet.ipynb\n",
        "* https://colab.research.google.com/github/cs231n/cs231n.github.io/blob/master/python-colab.ipynb\n",
        "* https://colab.research.google.com/github/cs231n/cs231n.github.io/blob/master/python-colab.ipynb\n",
        "* https://jupyter.brynmawr.edu/services/public/dblank/Examples/Tutor%20Magic%20in%20IPython.ipynb\n",
        "* https://github.com/kikocorreoso/tutormagic\n",
        "* https://rramosp.github.io/ai4eng.v1/intro.html\n",
        "* https://www.mclibre.org/consultar/python/lecciones/python-entrada-teclado.html\n",
        "* https://www.geeksforgeeks.org/taking-multiple-inputs-from-user-in-python/\n",
        "* https://www.python-course.eu/python3_course.php\n",
        "* https://realpython.com/courses/stacks-queues-ideal-data-structure/\n",
        "* https://realpython.com/pysimplegui-python/\n",
        "* https://realpython.com/lessons/simplify-gui-pysimplegui-overview/\n",
        "* https://realpython.com/courses/creating-pyqt-layouts-gui-applications/\n",
        "* https://realpython.com/python-first-steps/\n",
        "* https://realpython.com/python-pyqt-qthread/\n",
        "* https://realpython.com/intermediate-python-project-ideas/\n",
        "* https://realpython.com/arduino-python/\n",
        "* https://websitesetup.org/python-cheat-sheet/\n",
        "* https://www.mclibre.org/\n",
        "* https://realpython.com/best-python-books/\n",
        "* https://websitesetup.org/python-cheat-sheet/\n",
        "\n"
      ],
      "metadata": {
        "id": "fV7H02J3U_w8"
      }
    }
  ]
}
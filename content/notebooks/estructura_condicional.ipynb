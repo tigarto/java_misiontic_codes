{
 "cells": [
  {
   "cell_type": "markdown",
   "id": "c703b7aa",
   "metadata": {},
   "source": [
    "# Estructuras de selección en java"
   ]
  },
  {
   "cell_type": "markdown",
   "id": "0bf7c933",
   "metadata": {},
   "source": [
    "## Recordando el tema anterior\n",
    "\n",
    "En las secciones anteriores se estudió todo aquello relacionado a la creación de programas sencillos, los tipos de datos, los tipos de operadores y las instrucciones de entrada y salida. Recuerde los métodos de la clase ```Scanner``` mostrados en la siguiente tabla:\n",
    "\n",
    "|Tipo|Método|\n",
    "|:---|:---|\n",
    "|```byte```|```nextByte```|\n",
    "|```short```|```nextShort```|\n",
    "|```int```|```nextInt```|\n",
    "|```long```|```nextLong```|\n",
    "|```float```|```nextFloat```|\n",
    "|```double```|```nextDouble```|\n",
    "|```boolean```|```nextBoolean```|\n",
    "|```String```|```nextString```|\n",
    "\n",
    "A modo de repaso vamos a realizar el siguiente ejemplo:\n",
    "\n",
    "**Ejemplo 1**: Hacer un programa que solicite una candidad de segundos y retorne una salida en la que se muestre la cantidad de minutos y segundos restantes asociados. A continuación se muestra un caso de uso cuando la cantidad de segundos ingresada es de ```500```:\n",
    "\n",
    "```bash\n",
    "Digite la cantidad de segundos: 500\n",
    "500 segundos equivale a 8 minutos y 20 segundos\n",
    "```\n",
    "\n",
    "**Solución en Python**"
   ]
  },
  {
   "cell_type": "code",
   "execution_count": 5,
   "id": "98780914",
   "metadata": {},
   "outputs": [
    {
     "name": "stdout",
     "output_type": "stream",
     "text": [
      "Digite la cantidad de segundos: 500\n",
      "500 segundos equivale a 8 minutos 8 minutos y 20 segundos\n"
     ]
    }
   ],
   "source": [
    "seconds = int(input(\"Digite la cantidad de segundos: \"))\n",
    "minutes = seconds//60\n",
    "remainingSeconds = seconds%60\n",
    "print(str(seconds) + \" segundos equivale a 8 minutos \" + str(minutes) \n",
    "      + \" minutos y \" + str(remainingSeconds) + \" segundos\")"
   ]
  },
  {
   "cell_type": "markdown",
   "id": "561427a3",
   "metadata": {},
   "source": [
    "**Solución en Java**\n",
    "\n",
    "```java\n",
    "import java.util.Scanner;\n",
    "\n",
    "public class DisplayTime {\n",
    "public static void main(String[] args) {\n",
    "    Scanner input = new Scanner(System.in);\n",
    "    \n",
    "    System.out.print(\"Enter an integer for seconds: \");\n",
    "    int seconds = input.nextInt();\n",
    "    int minutes = seconds/60; \n",
    "    int remainingSeconds = seconds%60; \n",
    "    System.out.println(seconds + \" seconds is \" + minutes +\n",
    "                       \" minutes and \" + remainingSeconds + \" seconds\");\n",
    "    }\n",
    "}\n",
    "```"
   ]
  },
  {
   "cell_type": "markdown",
   "id": "ce22f8c0",
   "metadata": {},
   "source": [
    "## Introducción\n",
    "\n",
    "Para aquellos problemas en los cuales se hace necesario elegir entre dos o mas posibilidades se usa la estructura **condicional**. En una estructura condicional el flujo de ejecución del programa depende de operaciones cuyo resultado es **booleano** (```true``` o ```false```) por lo que a modo de repaso mostramos lo diferentes operadores tanto en python como en java:\n",
    "* **Operadores relacionales**:\n",
    "\n",
    "|Python|Java|\n",
    "|:---|:---|\n",
    "|```>```|```>```|\n",
    "|```<```|```<```|\n",
    "|```>=```|```>=```|\n",
    "|```<=```|```<=```|\n",
    "|```==```|```==```|\n",
    "|```!=```|```1=```|\n",
    "\n",
    "\n",
    "* **Operadores lógicos**:\n",
    "\n",
    "|Python|Java|\n",
    "|:---|:---|\n",
    "|```and```|```&``` o ```&&```|\n",
    "|```or```|```\\|``` o ```\\|\\|```|\n",
    "|```not```|```!```|\n",
    "\n",
    "\n",
    "La teniendo en cuenta lo anterior, la siguiente tabla muestra algunos casos en los cuales se muestran expresiones logicas implementadas en **python** y **Java**:\n",
    "\n",
    "|Enunciado en palabras | Python | Java |\n",
    "|:---|:---|:---|\n",
    "|Sea ```pob``` una variable asociada a la población escriba <br>la condición que indique si la población es menor que  ```10000000```|```pob < 10000000```|```pob < 10000000```|\n",
    "|Teniendo en cuenta la variable ```pob``` asociada a la <br>población, una condición que muestre que la población <br>se encuentra entre ```10000000``` y ```35000000``` incluidos|```10000000 <= pob <= 35000000```|```(pob >= 10000000) && (pob <= 35000000)```|\n",
    "|Sea ```num``` una variable que guarda un numero. ¿Cual es <br>la condición para indicar que el numero es positivo?|```num >= 0```|```num >= 0```|\n",
    "|Sea ```num``` una variable que guarda un numero. ¿Cual es <br>la condición para indicar que el numero es par?|```num%2 == 0```|```num%2 == 0```|\n",
    "|Sea ```num``` una variable que guarda un numero. <br>¿Cual es la condición para indicar que el numero es <br>multiplo de ```2```, ```3``` y ```5```?|```(num%2 == 0) and (num%3 == 0) and (num%5 == 0)```|```(num%2 == 0) && (num%3 == 0) && (num%5 == 0)```|"
   ]
  },
  {
   "cell_type": "markdown",
   "id": "c6c90bfb",
   "metadata": {},
   "source": [
    "## Tipos de condicionales\n",
    "\n",
    "En lo que respecta las estructuras condicionales se manejan tres tipos:\n",
    "1. Condicional simple.\n",
    "2. Condicional doble.\n",
    "3. Condicional multiple\n",
    "\n",
    "### 1. Condicional simple.\n",
    "\n",
    "Esta es la forma mas simple de la estructura condicional. Para este caso solo hay ejecución de las instrucciones cuando la condición es verdadera. La forma se muestra en la siguiente figura:\n",
    "\n",
    "\n",
    "\n",
    "### 2. Salida en pantalla en Java\n",
    "\n",
    "El dispositivo de salida estándar suele ser un monitor. En Java la salida en el dispositivo de salida estándar se efectúa empleando el objeto de salida estándar ```System.out```. El objeto ```System.out``` tiene acceso a dos métodos, ```print``` y ```println```, para dar salida a una cadena en el dispositivo de salida estándar.\n",
    "\n",
    "La forma general empleada para mostrar algo en consola se muestra a continuación:\n",
    "\n",
    "```java\n",
    "System.out.printf(FormatString, ArgList);\n",
    "```\n",
    "\n",
    "Donde:\n",
    "* **FormatString**: String que contiene texto y/o espeficidadores de formato especiales.\n",
    "* **ArgList**: Es una lista de argumentos adicionales que seran formateados de acuerdo a los especificadores de formato listadoa en el argumento pasado como ```FormatString```.\n",
    "\n",
    "Es importante aclarar sintaxis anterior tambien aplica al método ```println```. La diferencia entre los metodos ```print``` y ```println``` radica en que el último método agrega un enter al final de la cadena desplegada en la pantalla.\n",
    "\n",
    "Para comprender como es la salida en pantalla en java, realicemos una comparación con el caso de python mediante una serie de ejemplos."
   ]
  },
  {
   "cell_type": "markdown",
   "id": "81bfdbd9",
   "metadata": {},
   "source": [
    "**Ejemplo 1**: Dado el siguiente código python:"
   ]
  },
  {
   "cell_type": "code",
   "execution_count": 14,
   "id": "f6122266",
   "metadata": {
    "scrolled": true
   },
   "outputs": [
    {
     "name": "stdout",
     "output_type": "stream",
     "text": [
      "Adios mundo cruel\n"
     ]
    }
   ],
   "source": [
    "print(\"Adios mundo cruel\")"
   ]
  },
  {
   "cell_type": "markdown",
   "id": "5fea644b",
   "metadata": {},
   "source": [
    "¿Como es su implementacion en java?"
   ]
  },
  {
   "cell_type": "code",
   "execution_count": 15,
   "id": "0f4c3878",
   "metadata": {},
   "outputs": [
    {
     "data": {
      "text/html": [
       "<div class=\"text-center\"><strong><a style=\"box-sizing: border-box; padding: 0 5px; border: 1px solid #CFCFCF;\" target=\"_\" href=http://pythontutor.com/iframe-embed.html#code=%0Apublic%20class%20ExampleIO1%20%7B%0A%20%20%20%20public%20static%20void%20main%28String%5B%5D%20args%29%20%7B%0A%20%20%20%20%20%20%20%20System.out.println%28%22Adios%20mundo%20cruel%22%29%3B%0A%20%20%20%20%7D%0A%7D%0A&origin=opt-frontend.js&cumulative=false&heapPrimitives=false&textReferences=false&curInstr=0&&verticalStack=false&py=java&rawInputLstJSON=%5B%5D&codeDivWidth=50%25&codeDivHeight=100%25>Python Tutor</a></strong></div>"
      ],
      "text/plain": [
       "<IPython.core.display.HTML object>"
      ]
     },
     "metadata": {},
     "output_type": "display_data"
    }
   ],
   "source": [
    "%%tutor -l java -k\n",
    "\n",
    "public class ExampleIO1 {\n",
    "    public static void main(String[] args) {\n",
    "        System.out.println(\"Adios mundo cruel\");\n",
    "    }\n",
    "}"
   ]
  },
  {
   "cell_type": "markdown",
   "id": "df5c4032",
   "metadata": {},
   "source": [
    "**Ejemplo 2**: Dado el siguiente código python:"
   ]
  },
  {
   "cell_type": "code",
   "execution_count": 16,
   "id": "be05cd6b",
   "metadata": {},
   "outputs": [
    {
     "name": "stdout",
     "output_type": "stream",
     "text": [
      "7.25\n",
      "Hola que tal?\n",
      "12\n",
      "4 + 7\n",
      "11\n",
      "A\n",
      "4 + 7 = 11\n",
      "17\n",
      "Hola \n",
      "que tal?\n"
     ]
    }
   ],
   "source": [
    "print(29/4)\n",
    "print(\"Hola que tal?\")\n",
    "print(12)\n",
    "print(\"4 + 7\")\n",
    "print(4 + 7)\n",
    "print('A')\n",
    "print(\"4 + 7 = \" + str(4 + 7))   # print(\"4 + 7 =\",(4 + 7)) \n",
    "print(2 + 3*5)\n",
    "print(\"Hola \\nque tal?\")"
   ]
  },
  {
   "cell_type": "markdown",
   "id": "92ad7826",
   "metadata": {},
   "source": [
    "La implementación en java es: "
   ]
  },
  {
   "cell_type": "code",
   "execution_count": 17,
   "id": "25984364",
   "metadata": {},
   "outputs": [
    {
     "data": {
      "text/html": [
       "<div class=\"text-center\"><strong><a style=\"box-sizing: border-box; padding: 0 5px; border: 1px solid #CFCFCF;\" target=\"_\" href=http://pythontutor.com/iframe-embed.html#code=%0Apublic%20class%20ExampleIO2%20%7B%0A%20%20%20%20public%20static%20void%20main%28String%5B%5D%20args%29%20%7B%0A%20%20%20%20%20%20%20%20System.out.println%28%22Adios%20mundo%20cruel%22%29%3B%0A%20%20%20%20%20%20%20%20System.out.println%2829/4%29%3B%0A%20%20%20%20%20%20%20%20System.out.println%28%22Hola%20que%20tal%3F%22%29%3B%0A%20%20%20%20%20%20%20%20System.out.println%2812%29%3B%0A%20%20%20%20%20%20%20%20System.out.println%28%224%20%2B%207%22%29%3B%0A%20%20%20%20%20%20%20%20System.out.println%284%20%2B%207%29%3B%0A%20%20%20%20%20%20%20%20System.out.println%28%27A%27%29%3B%0A%20%20%20%20%20%20%20%20System.out.println%28%224%20%2B%207%20%3D%20%22%20%2B%20%284%20%2B%207%29%29%3B%0A%20%20%20%20%20%20%20%20System.out.println%282%20%2B%203%2A5%29%3B%0A%20%20%20%20%20%20%20%20System.out.println%28%22Hola%20%5Cnque%20tal%3F%22%29%3B%0A%20%20%20%20%7D%0A%7D%0A&origin=opt-frontend.js&cumulative=false&heapPrimitives=false&textReferences=false&curInstr=0&&verticalStack=false&py=java&rawInputLstJSON=%5B%5D&codeDivWidth=50%25&codeDivHeight=100%25>Python Tutor</a></strong></div>"
      ],
      "text/plain": [
       "<IPython.core.display.HTML object>"
      ]
     },
     "metadata": {},
     "output_type": "display_data"
    }
   ],
   "source": [
    "%%tutor -l java -k\n",
    "\n",
    "public class ExampleIO2 {\n",
    "    public static void main(String[] args) {\n",
    "        System.out.println(\"Adios mundo cruel\");\n",
    "        System.out.println(29/4);\n",
    "        System.out.println(\"Hola que tal?\");\n",
    "        System.out.println(12);\n",
    "        System.out.println(\"4 + 7\");\n",
    "        System.out.println(4 + 7);\n",
    "        System.out.println('A');\n",
    "        System.out.println(\"4 + 7 = \" + (4 + 7));\n",
    "        System.out.println(2 + 3*5);\n",
    "        System.out.println(\"Hola \\nque tal?\");\n",
    "    }\n",
    "}"
   ]
  },
  {
   "cell_type": "markdown",
   "id": "c4e12af9",
   "metadata": {},
   "source": [
    "**Ejemplo 3**: Dado el siguiente código python:"
   ]
  },
  {
   "cell_type": "code",
   "execution_count": 18,
   "id": "e0148f96",
   "metadata": {},
   "outputs": [
    {
     "name": "stdout",
     "output_type": "stream",
     "text": [
      "Hola que tal. Mi nombre es Bon, James Bon.\n"
     ]
    }
   ],
   "source": [
    "print(\"Hola que tal. \", end = \"\")\n",
    "print(\"Mi nombre es Bon, James Bon.\")"
   ]
  },
  {
   "cell_type": "markdown",
   "id": "f1e61e8e",
   "metadata": {},
   "source": [
    "La implementación en código java se muestra a continuación:"
   ]
  },
  {
   "cell_type": "code",
   "execution_count": 20,
   "id": "f747864f",
   "metadata": {},
   "outputs": [
    {
     "data": {
      "text/html": [
       "<div class=\"text-center\"><strong><a style=\"box-sizing: border-box; padding: 0 5px; border: 1px solid #CFCFCF;\" target=\"_\" href=http://pythontutor.com/iframe-embed.html#code=%0Apublic%20class%20ExampleIO3%20%7B%0A%20%20%20%20public%20static%20void%20main%28String%5B%5D%20args%29%20%7B%0A%20%20%20%20%20%20%20%20System.out.print%28%22Hola%20que%20tal.%20%22%29%3B%20%20%20%20%20%20%20%20%20%20%20%20%20%20%20%20%20%20%20%20%20//%20Metodo%20print%20%28no%20hay%20cambio%20de%20linea%29%0A%20%20%20%20%20%20%20%20System.out.println%28%22Mi%20nombre%20es%20Bon%2C%20James%20Bon.%22%29%3B%20%20%20%20%20//%20Metodo%20println%20%20%0A%20%20%20%20%7D%0A%7D%0A&origin=opt-frontend.js&cumulative=false&heapPrimitives=false&textReferences=false&curInstr=0&&verticalStack=false&py=java&rawInputLstJSON=%5B%5D&codeDivWidth=50%25&codeDivHeight=100%25>Python Tutor</a></strong></div>"
      ],
      "text/plain": [
       "<IPython.core.display.HTML object>"
      ]
     },
     "metadata": {},
     "output_type": "display_data"
    }
   ],
   "source": [
    "%%tutor -l java -k\n",
    "\n",
    "public class ExampleIO3 {\n",
    "    public static void main(String[] args) {\n",
    "        System.out.print(\"Hola que tal. \");                     // Metodo print (no hay cambio de linea)\n",
    "        System.out.println(\"Mi nombre es Bon, James Bon.\");     // Metodo println  \n",
    "    }\n",
    "}"
   ]
  },
  {
   "cell_type": "markdown",
   "id": "f0062a6b",
   "metadata": {},
   "source": [
    "#### Caracteres especiales\n",
    "\n",
    "La siguiente tabla muestra algunas secuencias de escape las cuales permiten controlar la salida mostrada en pantalla.\n",
    "\n",
    "|Simbolo|Secuencia de escape |Descripción|\n",
    "|:---|:---|:---|\n",
    "|```\\n``` | Nueva línea | El cursor se mueve al inicio de la siguiente línea |\n",
    "|```\\t``` |Tabulador | El cursor se mueve a la siguiente parada del tabulador |\n",
    "|```\\b``` |Espacio de retroceso | El cursor se mueve un espacio a la izquierda |\n",
    "|```\\r``` |Retorno | El cursor se mueve al inicio de la línea actual (no a la siguiente línea) |\n",
    "|```\\\\``` |Diagonales invertidas | Se imprime una diagonal inversa |\n",
    "|```\\'``` |Comilla simple | Se imprime una comilla simple |\n",
    "|```\\\"``` |Comilla doble | Se imprimen comillas dobles |\n",
    "\n"
   ]
  },
  {
   "cell_type": "markdown",
   "id": "11f1b3ba",
   "metadata": {},
   "source": [
    "**Ejemplo 4**: Analice y comprenda la salida arrojada por el siguiente programa en java:"
   ]
  },
  {
   "cell_type": "code",
   "execution_count": 22,
   "id": "949b4a6f",
   "metadata": {},
   "outputs": [
    {
     "data": {
      "text/html": [
       "<div class=\"text-center\"><strong><a style=\"box-sizing: border-box; padding: 0 5px; border: 1px solid #CFCFCF;\" target=\"_\" href=http://pythontutor.com/iframe-embed.html#code=%0Apublic%20class%20ExampleIO4%20%7B%0A%20%20%20%20public%20static%20void%20main%28String%5B%5D%20args%29%20%7B%0A%20%20%20%20%20%20%20%20System.out.println%28%22Hello%20%22%20%2B%20%22World%22%29%3B%0A%20%20%20%20%20%20%20%20System.out.println%28%22The%20value%20is%3A%20%22%20%2B%205%29%3B%0A%20%20%20%20%20%20%20%20System.out.println%28%22The%20value%20is%3A%20%22%20%2B%20value%29%3B%0A%20%20%20%20%20%20%20%20System.out.println%28%29%3B%0A%20%20%20%20%20%20%20%20System.out.print%28%22These%20are%20our%20top%20sellers%3A%5Cn%22%29%3B%0A%20%20%20%20%20%20%20%20System.out.print%28%22%5CtComputer%20games%5Cn%5CtCoffee%5Cn%20%22%29%3B%0A%20%20%20%20%20%20%20%20System.out.println%28%22%5CtAspirin%22%29%3B%0A%20%20%20%20%20%20%20%20System.out.println%28%29%3B%0A%20%20%20%20%20%20%20%20System.out.println%28%22We%20can%20join%20a%20string%20to%20%22%20%2B%0A%20%20%20%20%20%20%20%20%20%20%20%20%20%20%20%20%20%20%20%20%20%20%20%20%20%20%20%22a%20number%20like%20this%3A%20%22%20%2B%205%29%3B%0A%20%20%20%20%20%20%20%20System.out.println%28%29%3B%0A%20%20%20%20%20%20%20%20System.out.println%28%22The%20following%20will%20be%20printed%20%22%20%2B%0A%20%20%20%20%20%20%20%20%20%20%20%20%20%20%20%20%20%20%20%20%20%20%20%20%20%20%20%22in%20a%20tabbed%20format%3A%20%22%20%2B%0A%20%20%20%20%20%20%20%20%20%20%20%20%20%20%20%20%20%20%20%20%20%20%20%20%20%20%20%22%5Cn%5CtFirst%20%3D%20%22%20%2B%205%20%2A%206%20%2B%20%22%2C%20%22%20%2B%0A%20%20%20%20%20%20%20%20%20%20%20%20%20%20%20%20%20%20%20%20%20%20%20%20%20%20%20%22%5Cn%5CtSecond%20%3D%20%22%20%2B%20%286%20%2B%204%29%20%2B%20%22%2C%22%20%2B%0A%20%20%20%20%20%20%20%20%20%20%20%20%20%20%20%20%20%20%20%20%20%20%20%20%20%20%20%22%5Cn%5CtThird%20%3D%20%22%20%2B%2016.7%20%2B%20%22.%22%29%3B%20%0A%20%20%20%20%7D%0A%7D%0A&origin=opt-frontend.js&cumulative=false&heapPrimitives=false&textReferences=false&curInstr=0&&verticalStack=false&py=java&rawInputLstJSON=%5B%5D&codeDivWidth=50%25&codeDivHeight=100%25>Python Tutor</a></strong></div>"
      ],
      "text/plain": [
       "<IPython.core.display.HTML object>"
      ]
     },
     "metadata": {},
     "output_type": "display_data"
    }
   ],
   "source": [
    "%%tutor -l java -k\n",
    "\n",
    "public class ExampleIO4 {\n",
    "    public static void main(String[] args) {\n",
    "        System.out.println(\"Hello \" + \"World\");\n",
    "        System.out.println(\"The value is: \" + 5);\n",
    "        System.out.println(\"The value is: \" + value);\n",
    "        System.out.println();\n",
    "        System.out.print(\"These are our top sellers:\\n\");\n",
    "        System.out.print(\"\\tComputer games\\n\\tCoffee\\n \");\n",
    "        System.out.println(\"\\tAspirin\");\n",
    "        System.out.println();\n",
    "        System.out.println(\"We can join a string to \" +\n",
    "                           \"a number like this: \" + 5);\n",
    "        System.out.println();\n",
    "        System.out.println(\"The following will be printed \" +\n",
    "                           \"in a tabbed format: \" +\n",
    "                           \"\\n\\tFirst = \" + 5 * 6 + \", \" +\n",
    "                           \"\\n\\tSecond = \" + (6 + 4) + \",\" +\n",
    "                           \"\\n\\tThird = \" + 16.7 + \".\"); \n",
    "    }\n",
    "}"
   ]
  },
  {
   "cell_type": "markdown",
   "id": "5a8011fb",
   "metadata": {},
   "source": [
    "#### Formateando la salida\n",
    "\n",
    "Recordemos la sintaxis de uso asociada a las funciones ```print``` y ```println```\n",
    "\n",
    "```java\n",
    "System.out.printf(FormatString, ArgList);\n",
    "```\n",
    "\n",
    "Mediante el formateo de una salida, se puede obtener un mayor control sobre lo que se quiere mostrar a la salida. Antes de entrar en detalle a hablar del tema, observe las siguiente figuras:\n",
    "\n",
    "![print1](io_basica/print1.jpg)\n",
    "\n",
    "![print2](io_basica/print2.jpg)\n",
    "\n",
    "![print3](io_basica/print3.jpg)\n",
    "\n",
    "![print4](io_basica/print4.jpg)\n",
    "\n",
    "Si observa con detenimiento, hay una porción de la cadena que contiene el signo de **%** seguido de unos caracteres (Cerrado en circulo en las figuras anteriores), a esta se le conoce como **especificador de formato y control**. Un especificador de formato para uso general, carácter y tipos numéricos tiene la siguiente sintaxis:\n",
    "\n",
    "```java\n",
    "%[argument_index$][flags][width][.precision]conversion\n",
    "```\n",
    "\n",
    "Sobre la sintaxis anterior tenemos:\n",
    "* Las expresiones entre corchetes son opcionales. Es decir, pueden o no aparecer en un especificador de formato.\n",
    "* La opción **```argument_index```** es un número entero (decimal), que indica la posición del argumento en la lista de argumentos. \n",
    "* La opción **```flags```** es un conjunto de caracteres que modifica el formato de salida. El conjunto de banderas válidas depende de la conversión.\n",
    "* La opción **```width```** es un número entero (decimal), que indica el número mínimo de caracteres que se escriben en la salida.\n",
    "* La opción **```precision```** es un número entero (decimal) que normalmente se usa para restringir el número de caracteres. El comportamiento específico depende de la conversión.\n",
    "* La **```conversion```** requerida es de un carácter que indica cómo se debe formatear el argumento. El conjunto de conversiones válidas para un argumento dado depende del tipo de datos del argumento. La siguiente tabla muestra algunos de los caracteres empleados para conversión:\n",
    "\n",
    "|Caracter de conversion|Descripción|\n",
    "|:---|:---|\n",
    "|```s```|Cadena de caracteres|\n",
    "|```c```|Carácter sencillo |\n",
    "|```d```|Entero en formato de decimal |\n",
    "|```e```|Punto flotante en formato en notación científica |\n",
    "|```f```|Punto flotante en formato en decimal|\n",
    "\n",
    "Los siguientes ejemplos permiten entender el siguificado del formateo anteriormente expuesto:"
   ]
  },
  {
   "cell_type": "markdown",
   "id": "5c18ff88",
   "metadata": {},
   "source": [
    "**Ejemplo 5**:"
   ]
  },
  {
   "cell_type": "code",
   "execution_count": 25,
   "id": "286840e7",
   "metadata": {},
   "outputs": [
    {
     "data": {
      "text/html": [
       "<div class=\"text-center\"><strong><a style=\"box-sizing: border-box; padding: 0 5px; border: 1px solid #CFCFCF;\" target=\"_\" href=http://pythontutor.com/iframe-embed.html#code=%0Apublic%20class%20ExampleIO5%20%7B%0A%20%20%20%20public%20static%20void%20main%28String%5B%5D%20args%29%20%7B%0A%20%20%20%20%20%20%20%20double%20horas%20%3D%2034.45%3B%0A%20%20%20%20%20%20%20%20double%20tarifa%20%3D%2015.00%3B%0A%20%20%20%20%20%20%20%20double%20tolerancia%20%3D%200.01000%3B%0A%20%20%20%20%20%20%20%20System.out.println%28%22Notacion%20decimal%20fija%3A%22%29%3B%0A%20%20%20%20%20%20%20%20System.out.printf%28%22horas%20%3D%20%25.2f%2C%20tarifa%20%3D%20%25.2f%2C%20pago%20%3D%20%25.2f%2C%22%20%2B%20%0A%20%20%20%20%20%20%20%20%20%20%20%20%20%20%20%20%20%20%20%20%20%20%20%20%20%20%22%20tolerancia%20%3D%20%25.2f%5Cn%5Cn%22%2C%20horas%2C%20tarifa%2C%20horas%20%2A%20tarifa%2C%20tolerancia%29%3B%0A%20%20%20%20%20%20%20%20System.out.println%28%22Notacion%20cientifica%3A%22%29%3B%0A%20%20%20%20%20%20%20%20System.out.printf%28%22horas%20%3D%20%25e%2C%20tarifa%20%3D%20%25e%2C%20pago%20%3D%20%25e%2C%20%5Cn%22%20%2B%20%0A%20%20%20%20%20%20%20%20%20%20%20%20%20%20%20%20%20%20%20%20%20%20%20%20%20%20%20%22tolerancia%20%3D%20%25e%5Cn%22%2Choras%2C%20tarifa%2C%20horas%20%2A%20tarifa%2C%20tolerancia%29%3B%0A%20%20%20%20%7D%0A%7D%0A&origin=opt-frontend.js&cumulative=false&heapPrimitives=false&textReferences=false&curInstr=0&&verticalStack=false&py=java&rawInputLstJSON=%5B%5D&codeDivWidth=50%25&codeDivHeight=100%25>Python Tutor</a></strong></div>"
      ],
      "text/plain": [
       "<IPython.core.display.HTML object>"
      ]
     },
     "metadata": {},
     "output_type": "display_data"
    }
   ],
   "source": [
    "%%tutor -l java -k\n",
    "\n",
    "public class ExampleIO5 {\n",
    "    public static void main(String[] args) {\n",
    "        double horas = 34.45;\n",
    "        double tarifa = 15.00;\n",
    "        double tolerancia = 0.01000;\n",
    "        System.out.println(\"Notacion decimal fija:\");\n",
    "        System.out.printf(\"horas = %.2f, tarifa = %.2f, pago = %.2f,\" + \n",
    "                          \" tolerancia = %.2f\\n\\n\", horas, tarifa, horas * tarifa, tolerancia);\n",
    "        System.out.println(\"Notacion cientifica:\");\n",
    "        System.out.printf(\"horas = %e, tarifa = %e, pago = %e, \\n\" + \n",
    "                           \"tolerancia = %e\\n\",horas, tarifa, horas * tarifa, tolerancia);\n",
    "    }\n",
    "}"
   ]
  },
  {
   "cell_type": "markdown",
   "id": "676d0fc9",
   "metadata": {},
   "source": [
    "**Ejemplo 6**:"
   ]
  },
  {
   "cell_type": "code",
   "execution_count": 28,
   "id": "7b734f21",
   "metadata": {},
   "outputs": [
    {
     "data": {
      "text/html": [
       "<div class=\"text-center\"><strong><a style=\"box-sizing: border-box; padding: 0 5px; border: 1px solid #CFCFCF;\" target=\"_\" href=http://pythontutor.com/iframe-embed.html#code=%0Apublic%20class%20ExampleIO6%20%7B%0A%20%20%20%20public%20static%20void%20main%28String%5B%5D%20args%29%20%7B%0A%20%20%20%20%20%20%20%20final%20double%20PI%20%3D%203.14159265%3B%0A%20%20%20%20%20%20%20%20double%20radio%20%3D%2012.67%3B%20%0A%20%20%20%20%20%20%20%20double%20altura%20%3D%2012.00%3B%0A%20%20%20%20%20%20%20%20%0A%20%20%20%20%20%20%20%20System.out.println%28%22Dos%20cifras%20decimales%3A%20%22%29%3B%0A%20%20%20%20%20%20%20%20System.out.printf%28%22radio%20%3D%20%25.2f%2C%20%22%0A%20%20%20%20%20%20%20%20%20%20%20%20%20%20%20%20%20%20%20%20%20%20%20%20%20%20%2B%20%22altura%20%3D%20%25.2f%2C%20volumen%20%3D%20%25.2f%2C%20%22%0A%20%20%20%20%20%20%20%20%20%20%20%20%20%20%20%20%20%20%20%20%20%20%20%20%20%20%2B%20%22PI%20%3D%20%25.2f%5Cn%5Cn%22%2C%20radio%2C%20altura%2CPI%20%2A%20radio%20%2A%20radio%20%2A%20altura%2C%20PI%29%3B%0A%20%20%20%20%20%20%20%20%0A%20%20%20%20%20%20%20%20System.out.println%28%22Tres%20cifras%20decimales%3A%20%22%29%3B%0A%20%20%20%20%20%20%20%20System.out.printf%28%22radio%20%3D%20%25.3f%2C%20%22%0A%20%20%20%20%20%20%20%20%20%20%20%20%20%20%20%20%20%20%20%20%20%20%20%20%20%20%2B%20%22altura%20%3D%20%25.3f%2C%20volumen%20%3D%20%25.3f%2C%20%22%0A%20%20%20%20%20%20%20%20%20%20%20%20%20%20%20%20%20%20%20%20%20%20%20%20%20%20%2B%20%22PI%20%3D%20%25.3f%5Cn%5Cn%22%2C%20radio%2C%20altura%2CPI%20%2A%20radio%20%2A%20radio%20%2A%20altura%2C%20PI%29%3B%0A%20%20%20%20%20%20%20%20%0A%20%20%20%20%20%20%20%20System.out.println%28%22Cuatro%20cifras%20decimales%3A%20%22%29%3B%0A%20%20%20%20%20%20%20%20System.out.printf%28%22radio%20%3D%20%25.4f%2C%20%22%0A%20%20%20%20%20%20%20%20%20%20%20%20%20%20%20%20%20%20%20%20%20%20%20%20%20%20%2B%20%22altura%20%3D%20%25.4f%2C%20volumen%20%3D%20%25.4f%2C%20%22%0A%20%20%20%20%20%20%20%20%20%20%20%20%20%20%20%20%20%20%20%20%20%20%20%20%20%20%2B%20%22PI%20%3D%20%25.4f%5Cn%5Cn%22%2C%20radio%2C%20altura%2CPI%20%2A%20radio%20%2A%20radio%20%2A%20altura%2C%20PI%29%3B%0A%20%20%20%20%20%20%20%20%0A%20%20%20%20%20%20%20%20System.out.println%28%22Diferentes%20cifras%20decimales%3A%20%22%29%3B%0A%20%20%20%20%20%20%20%20System.out.printf%28%22radio%20%3D%20%25.1f%2C%20%22%0A%20%20%20%20%20%20%20%20%20%20%20%20%20%20%20%20%20%20%20%20%20%20%20%20%20%20%2B%20%22altura%20%3D%20%25.2f%2C%20volumen%20%3D%20%25.5f%2C%20%22%0A%20%20%20%20%20%20%20%20%20%20%20%20%20%20%20%20%20%20%20%20%20%20%20%20%20%20%2B%20%22PI%20%3D%20%25.4f%5Cn%5Cn%22%2C%20radio%2C%20altura%2CPI%20%2A%20radio%20%2A%20radio%20%2A%20altura%2C%20PI%29%3B%0A%20%20%20%20%7D%0A%7D%0A&origin=opt-frontend.js&cumulative=false&heapPrimitives=false&textReferences=false&curInstr=0&&verticalStack=false&py=java&rawInputLstJSON=%5B%5D&codeDivWidth=50%25&codeDivHeight=100%25>Python Tutor</a></strong></div>"
      ],
      "text/plain": [
       "<IPython.core.display.HTML object>"
      ]
     },
     "metadata": {},
     "output_type": "display_data"
    }
   ],
   "source": [
    "%%tutor -l java -k\n",
    "\n",
    "public class ExampleIO6 {\n",
    "    public static void main(String[] args) {\n",
    "        final double PI = 3.14159265;\n",
    "        double radio = 12.67; \n",
    "        double altura = 12.00;\n",
    "        \n",
    "        System.out.println(\"Dos cifras decimales: \");\n",
    "        System.out.printf(\"radio = %.2f, \"\n",
    "                          + \"altura = %.2f, volumen = %.2f, \"\n",
    "                          + \"PI = %.2f\\n\\n\", radio, altura,PI * radio * radio * altura, PI);\n",
    "        \n",
    "        System.out.println(\"Tres cifras decimales: \");\n",
    "        System.out.printf(\"radio = %.3f, \"\n",
    "                          + \"altura = %.3f, volumen = %.3f, \"\n",
    "                          + \"PI = %.3f\\n\\n\", radio, altura,PI * radio * radio * altura, PI);\n",
    "        \n",
    "        System.out.println(\"Cuatro cifras decimales: \");\n",
    "        System.out.printf(\"radio = %.4f, \"\n",
    "                          + \"altura = %.4f, volumen = %.4f, \"\n",
    "                          + \"PI = %.4f\\n\\n\", radio, altura,PI * radio * radio * altura, PI);\n",
    "        \n",
    "        System.out.println(\"Diferentes cifras decimales: \");\n",
    "        System.out.printf(\"radio = %.1f, \"\n",
    "                          + \"altura = %.2f, volumen = %.5f, \"\n",
    "                          + \"PI = %.4f\\n\\n\", radio, altura,PI * radio * radio * altura, PI);\n",
    "    }\n",
    "}"
   ]
  },
  {
   "cell_type": "markdown",
   "id": "736c78a2",
   "metadata": {},
   "source": [
    "**Ejemplo 7**:"
   ]
  },
  {
   "cell_type": "code",
   "execution_count": 31,
   "id": "6fe087d2",
   "metadata": {},
   "outputs": [
    {
     "data": {
      "text/html": [
       "<div class=\"text-center\"><strong><a style=\"box-sizing: border-box; padding: 0 5px; border: 1px solid #CFCFCF;\" target=\"_\" href=http://pythontutor.com/iframe-embed.html#code=%0Apublic%20class%20ExampleIO7%20%7B%0A%20%20%20%20public%20static%20void%20main%28String%5B%5D%20args%29%20%7B%0A%20%20%20%20%20%20%20%20int%20num%20%3D%2096%3B%0A%20%20%20%20%20%20%20%20double%20tasa%20%3D%2015.50%3B%0A%20%20%20%20%20%20%20%20System.out.println%28%22123456789012345%22%29%3B%0A%20%20%20%20%20%20%20%20System.out.printf%28%22%255d%20%5Cn%22%2C%20num%29%3B%20%0A%20%20%20%20%20%20%20%20System.out.printf%28%22%255.2f%20%5Cn%22%2C%20tasa%29%3B%20%0A%20%20%20%20%20%20%20%20System.out.printf%28%22%255d%256.2f%20%5Cn%22%2C%20num%2C%20tasa%29%3B%0A%20%20%20%20%20%20%20%20System.out.printf%28%22%255d%256.2f%20%5Cn%22%2C%20num%2C%20tasa%29%3B%0A%20%20%20%20%7D%0A%7D%0A&origin=opt-frontend.js&cumulative=false&heapPrimitives=false&textReferences=false&curInstr=0&&verticalStack=false&py=java&rawInputLstJSON=%5B%5D&codeDivWidth=50%25&codeDivHeight=100%25>Python Tutor</a></strong></div>"
      ],
      "text/plain": [
       "<IPython.core.display.HTML object>"
      ]
     },
     "metadata": {},
     "output_type": "display_data"
    }
   ],
   "source": [
    "%%tutor -l java -k\n",
    "\n",
    "public class ExampleIO7 {\n",
    "    public static void main(String[] args) {\n",
    "        int num = 96;\n",
    "        double tasa = 15.50;\n",
    "        System.out.println(\"123456789012345\");\n",
    "        System.out.printf(\"%5d \\n\", num); \n",
    "        System.out.printf(\"%5.2f \\n\", tasa); \n",
    "        System.out.printf(\"%5d%6.2f \\n\", num, tasa);\n",
    "        System.out.printf(\"%5d%6.2f \\n\", num, tasa);\n",
    "    }\n",
    "}"
   ]
  },
  {
   "cell_type": "markdown",
   "id": "5cd1b33e",
   "metadata": {},
   "source": [
    "**Ejemplo 8**:"
   ]
  },
  {
   "cell_type": "code",
   "execution_count": 32,
   "id": "b5b91412",
   "metadata": {},
   "outputs": [
    {
     "data": {
      "text/html": [
       "<div class=\"text-center\"><strong><a style=\"box-sizing: border-box; padding: 0 5px; border: 1px solid #CFCFCF;\" target=\"_\" href=http://pythontutor.com/iframe-embed.html#code=%0Apublic%20class%20ExampleIO8%20%7B%0A%20%20%20%20public%20static%20void%20main%28String%5B%5D%20args%29%20%7B%0A%20%20%20%20%20%20%20%20int%20num%20%3D%20763%3B%20%0A%20%20%20%20%20%20%20%20double%20x%20%3D%20658.75%3B%20%0A%20%20%20%20%20%20%20%20String%20str%20%3D%20%22%20Programa%20Java.%22%3B%0A%20%20%20%20%20%20%20%20System.out.println%28%221234567890123456789%22%20%2B%20%0A%20%20%20%20%20%20%20%20%20%20%20%20%20%20%20%20%20%20%20%20%20%20%20%20%20%20%20%2201234567890%22%29%3B%20%0A%20%20%20%20%20%20%20%20System.out.printf%28%22%255d%257.2f%2515s%5Cn%22%2C%20num%2C%20x%2C%20str%29%3B%20%0A%20%20%20%20%20%20%20%20System.out.printf%28%22%2515s%256d%259.2f%5Cn%22%2C%20str%2C%20num%2C%20x%29%3B%20%0A%20%20%20%20%20%20%20%20System.out.printf%28%22%258.2f%257d%2515s%5Cn%22%2C%20x%2C%20num%2C%20str%29%3B%20%0A%20%20%20%20%20%20%20%20System.out.printf%28%22num%20%3D%20%255d%5Cn%22%2C%20num%29%3B%20%0A%20%20%20%20%20%20%20%20System.out.printf%28%22x%20%3D%20%2510.2f%5Cn%22%2C%20x%29%3B%20%0A%20%20%20%20%20%20%20%20System.out.printf%28%22str%20%3D%20%2515s%5Cn%22%2C%20str%29%3B%20%0A%20%20%20%20%20%20%20%20System.out.printf%28%22%2510s%257d%5Cn%22%2C%20%22Programa%20No.%22%2C%204%29%3B%0A%20%20%20%20%7D%0A%7D%0A&origin=opt-frontend.js&cumulative=false&heapPrimitives=false&textReferences=false&curInstr=0&&verticalStack=false&py=java&rawInputLstJSON=%5B%5D&codeDivWidth=50%25&codeDivHeight=100%25>Python Tutor</a></strong></div>"
      ],
      "text/plain": [
       "<IPython.core.display.HTML object>"
      ]
     },
     "metadata": {},
     "output_type": "display_data"
    }
   ],
   "source": [
    "%%tutor -l java -k\n",
    "\n",
    "public class ExampleIO8 {\n",
    "    public static void main(String[] args) {\n",
    "        int num = 763; \n",
    "        double x = 658.75; \n",
    "        String str = \" Programa Java.\";\n",
    "        System.out.println(\"1234567890123456789\" + \n",
    "                           \"01234567890\"); \n",
    "        System.out.printf(\"%5d%7.2f%15s\\n\", num, x, str); \n",
    "        System.out.printf(\"%15s%6d%9.2f\\n\", str, num, x); \n",
    "        System.out.printf(\"%8.2f%7d%15s\\n\", x, num, str); \n",
    "        System.out.printf(\"num = %5d\\n\", num); \n",
    "        System.out.printf(\"x = %10.2f\\n\", x); \n",
    "        System.out.printf(\"str = %15s\\n\", str); \n",
    "        System.out.printf(\"%10s%7d\\n\", \"Programa No.\", 4);\n",
    "    }\n",
    "}"
   ]
  },
  {
   "cell_type": "markdown",
   "id": "0b0266dd",
   "metadata": {},
   "source": [
    "**Ejemplo 9**:"
   ]
  },
  {
   "cell_type": "code",
   "execution_count": 34,
   "id": "3160fe4d",
   "metadata": {},
   "outputs": [
    {
     "data": {
      "text/html": [
       "<div class=\"text-center\"><strong><a style=\"box-sizing: border-box; padding: 0 5px; border: 1px solid #CFCFCF;\" target=\"_\" href=http://pythontutor.com/iframe-embed.html#code=%0Apublic%20class%20ExampleIO8%20%7B%0A%20%20%20%20public%20static%20void%20main%28String%5B%5D%20args%29%20%7B%0A%20%20%20%20%20%20%20%20int%20num%20%3D%20763%3B%20%0A%20%20%20%20%20%20%20%20double%20x%20%3D%20658.75%3B%20%0A%20%20%20%20%20%20%20%20String%20str%20%3D%20%22Programa%20Java.%22%3B%20%0A%20%20%20%20%20%20%20%20System.out.println%28%221234567890123456789%22%20%2B%20%2201234567890%22%29%3B%20%0A%20%20%20%20%20%20%20%20System.out.printf%28%22%25-5d%257.2f%25-15s%20%2A%2A%2A%20%5Cn%22%2C%20num%2C%20x%2C%20str%29%3B%20%0A%20%20%20%20%20%20%20%20System.out.printf%28%22%25-15s%25-6d%25-9.2f%20%2A%2A%2A%20%5Cn%22%2C%20str%2C%20num%2C%20x%29%3B%20%0A%20%20%20%20%20%20%20%20System.out.printf%28%22%25-8.2f%25-7d%25-15s%20%2A%2A%2A%20%5Cn%22%2C%20x%2C%20num%2C%20str%29%3B%20%0A%20%20%20%20%20%20%20%20System.out.printf%28%22num%20%3D%20%25-5d%20%2A%2A%2A%5Cn%22%2Cnum%29%3B%20%0A%20%20%20%20%20%20%20%20System.out.printf%28%22x%20%3D%20%25-10.2f%20%2A%2A%2A%5Cn%22%2C%20x%29%3B%20%0A%20%20%20%20%20%20%20%20System.out.printf%28%22str%20%3D%20%25-15s%20%2A%2A%2A%5Cn%22%2C%20str%29%3B%20%0A%20%20%20%20%20%20%20%20System.out.printf%28%22%25-10s%25-7d%20%2A%2A%2A%5Cn%22%2C%20%22Programa%20No.%22%2C%204%29%3B%0A%20%20%20%20%7D%0A%7D%0A&origin=opt-frontend.js&cumulative=false&heapPrimitives=false&textReferences=false&curInstr=0&&verticalStack=false&py=java&rawInputLstJSON=%5B%5D&codeDivWidth=50%25&codeDivHeight=100%25>Python Tutor</a></strong></div>"
      ],
      "text/plain": [
       "<IPython.core.display.HTML object>"
      ]
     },
     "metadata": {},
     "output_type": "display_data"
    }
   ],
   "source": [
    "%%tutor -l java -k\n",
    "\n",
    "public class ExampleIO8 {\n",
    "    public static void main(String[] args) {\n",
    "        int num = 763; \n",
    "        double x = 658.75; \n",
    "        String str = \"Programa Java.\"; \n",
    "        System.out.println(\"1234567890123456789\" + \"01234567890\"); \n",
    "        System.out.printf(\"%-5d%7.2f%-15s *** \\n\", num, x, str); \n",
    "        System.out.printf(\"%-15s%-6d%-9.2f *** \\n\", str, num, x); \n",
    "        System.out.printf(\"%-8.2f%-7d%-15s *** \\n\", x, num, str); \n",
    "        System.out.printf(\"num = %-5d ***\\n\",num); \n",
    "        System.out.printf(\"x = %-10.2f ***\\n\", x); \n",
    "        System.out.printf(\"str = %-15s ***\\n\", str); \n",
    "        System.out.printf(\"%-10s%-7d ***\\n\", \"Programa No.\", 4);\n",
    "    }\n",
    "}"
   ]
  },
  {
   "cell_type": "markdown",
   "id": "227c4c41",
   "metadata": {},
   "source": [
    "## Entrada en Java\n",
    "\n",
    "Para leer datos desde el teclado se usa la clase **```Scanner```**. Esta clase se encuentre definida en **```java.util```**, es necesario importarla agregando la siguiente sentencia en el código fuente:\n",
    "\n",
    "```java\n",
    "import java.util.Scanner;\n",
    "```\n",
    "\n",
    "La clase ```Scanner``` trabaja con ```System.in```. \n",
    "\n",
    "### Uso de la clase Scanner\n",
    "\n",
    "A continuación se detallan los pasos necesarios para entrar datos por teclado mediante la clase ```Scanner```:\n",
    "1. Instanciar un objeto de la clase ```Scanner```:\n",
    "\n",
    "```java\n",
    "Scanner keyboard = new Scanner (System.in);\n",
    "```\n",
    "\n",
    "2. Hacer uso de los diferentes métodos de la ```Scanner``` a traves del objeto creado para tal fin. Por ejemplo, si lo que se deseara es entrar los datos asociados a un nombre el código seria el siguiente:\n",
    "\n",
    "```java\n",
    "System.out.print(\"¿Cual es su nombre?\");\n",
    "String nombre;\n",
    "nombre = keyboard.nextLine();\n",
    "```\n",
    "\n",
    "La clase ```Scanner``` usa métodos diferentes para ingresar los datos según el tipo al que pertenecen. La siguiente tabla muestra como llevar a cabo esto:\n",
    "\n",
    "|Método | Ejemplo y descripción |\n",
    "|:---|:---|\n",
    "|```nextByte```|**Ejemplo de uso**: <br> ```byte x;``` <br>  ```Scanner keyboard = new Scanner(System.in);``` <br>  ```System.out.print(\"Enter a byte value: \");``` <br>  ```x = keyboard.nextByte();``` <br> <br> **Descripción**: Devuelve una entrada como ```byte```|\n",
    "|```nextDouble```|**Ejemplo de uso**: <br> ```double number;``` <br>  ```Scanner keyboard = new Scanner(System.in);``` <br>  ```System.out.print(\"Enter a double value: \");``` <br>  ```number = keyboard.nextDouble();``` <br> <br> **Descripción**: Retorna una entrada como ```double```|\n",
    "|```nextFloat```|**Ejemplo de uso**: <br> ```float number;``` <br>  ```Scanner keyboard = new Scanner(System.in);``` <br>  ```System.out.print(\"Enter a float value: \");``` <br>  ```number = keyboard.nextFloat();``` <br> <br> **Descripción**: Retorna una entrada como ```float```|\n",
    "|```nextInt```|**Ejemplo de uso**: <br> ```int number;``` <br>  ```Scanner keyboard = new Scanner(System.in);``` <br>  ```System.out.print(\"Enter a int value: \");``` <br>  ```number = keyboard.nextInt();``` <br> <br> **Descripción**: Retorna una entrada como ```int```|\n",
    "|```nextLine```|**Ejemplo de uso**: <br> ```String name;``` <br>  ```Scanner keyboard = new Scanner(System.in);``` <br>  ```System.out.print(\"Enter your name: \");``` <br>  ```number = keyboard.nextLine();``` <br> <br> **Descripción**: Retorna una entrada como ```String```|\n",
    "|```nextLong```|**Ejemplo de uso**: <br> ```long number;``` <br>  ```Scanner keyboard = new Scanner(System.in);``` <br>  ```System.out.print(\"Enter a long value: \");``` <br>  ```number = keyboard.nextLong();``` <br> <br> **Descripción**: Retorna una entrada como ```long```|\n",
    "|```nextShort```|**Ejemplo de uso**: <br> ```short number;``` <br>  ```Scanner keyboard = new Scanner(System.in);``` <br>  ```System.out.print(\"Enter a short value: \");``` <br>  ```number = keyboard.nextShort();``` <br> <br> **Descripción**: Retorna una entrada como ```short```|\n",
    "\n",
    "Para aterrizar esto, miremos un programa que ilustre como se entra datos empleando **java** y **python**."
   ]
  },
  {
   "cell_type": "markdown",
   "id": "c046fa89",
   "metadata": {},
   "source": [
    "**Ejemplo 10**: Elabore un algoritmo que lea el nuombre de una persona y que imprima el mensaje Hola seguido del nombre de la persona."
   ]
  },
  {
   "cell_type": "markdown",
   "id": "49c3b53a",
   "metadata": {},
   "source": [
    "**Python**"
   ]
  },
  {
   "cell_type": "code",
   "execution_count": 5,
   "id": "fa3c3ace",
   "metadata": {},
   "outputs": [
    {
     "name": "stdout",
     "output_type": "stream",
     "text": [
      "Digite su nombre: Ramon Valdez\n",
      "Hola Ramon Valdez\n"
     ]
    }
   ],
   "source": [
    "nom = input(\"Digite su nombre: \")\n",
    "print(\"Hola \" + nom)"
   ]
  },
  {
   "cell_type": "markdown",
   "id": "56564f1b",
   "metadata": {},
   "source": [
    "**Java** \n",
    "\n",
    "```java\n",
    "import java.util.Scanner;\n",
    "\n",
    "public class ExampleIO10 {\n",
    "    public static void main(String[] args) {\n",
    "        String nom;\n",
    "        System.out.print(\"Digite su nombre: \");\n",
    "        Scanner teclado = new Scanner(System.in);  // Declaracion de un objeto (llamado teclado) de la clase Scanner\n",
    "        nom = teclado.nextLine();     \n",
    "        System.out.println(\"Hola \" + nom);\n",
    "    }\n",
    "}\n",
    "```"
   ]
  },
  {
   "cell_type": "markdown",
   "id": "5e2e1a8c",
   "metadata": {},
   "source": [
    "**Ejemplo 11**: Elabore un algoritmo que lea el nombre de una persona, la estatura (en cm) y el peso (en kg) y que muestre los datos leidos y la relacion estatura peso (IMC: Indice de masa corporal) cuya formula es:\n",
    "\n",
    "$IMC=\\frac{peso}{estatura^2}$\n",
    "\n",
    "**Python**"
   ]
  },
  {
   "cell_type": "code",
   "execution_count": 9,
   "id": "18eb6c23",
   "metadata": {},
   "outputs": [
    {
     "name": "stdout",
     "output_type": "stream",
     "text": [
      "Digite el peso (en kg): 74\n",
      "Digite la estatura (en kg): 172\n",
      "IMC: 25.013520822065985\n"
     ]
    }
   ],
   "source": [
    "peso = float(input(\"Digite el peso (en kg): \"))\n",
    "estatura = float(input(\"Digite la estatura (en cm): \"))\n",
    "estatura /= 100\n",
    "IMC = peso/estatura**2 \n",
    "print(\"IMC: \" + str(IMC))"
   ]
  },
  {
   "cell_type": "markdown",
   "id": "2ffa738a",
   "metadata": {},
   "source": [
    "**Java** \n",
    "\n",
    "```java\n",
    "import java.util.Scanner;\n",
    "import java.lang.Math;\n",
    "\n",
    "public class ExampleIO11 {\n",
    "    public static void main(String[] args) {\n",
    "        // Declaracion de variables y objetos\n",
    "        double peso, estatura, IMC;\n",
    "        Scanner keyboard = new Scanner(System.in);  \n",
    "        \n",
    "        // Programa\n",
    "        System.out.print(\"Digite el peso (en kg): \");\n",
    "        peso = keyboard.nextDouble();\n",
    "        System.out.print(\"Digite la estatura (en cm): \");\n",
    "        estatura = keyboard.nextDouble();\n",
    "        estatura /= 100;\n",
    "        IMC = peso/Math.pow(estatura, 2);     \n",
    "        System.out.println(\"IMC: \" + IMC);\n",
    "    }\n",
    "}\n",
    "```"
   ]
  },
  {
   "cell_type": "markdown",
   "id": "f25f55f0",
   "metadata": {},
   "source": [
    "**Ejemplo 12**: Elabore un algoritmo que lea los datos enteros correspondientes a los catetos de un triangulo rectangulo y que calcule en imprima el valor de la hipotenusa de dicho triangulo.\n",
    "\n",
    "**Python**"
   ]
  },
  {
   "cell_type": "code",
   "execution_count": 11,
   "id": "7acfb1ac",
   "metadata": {},
   "outputs": [
    {
     "name": "stdout",
     "output_type": "stream",
     "text": [
      "Digite el cateto 1: 3\n",
      "Digite el cateto 2: 4\n",
      "La hipotenusa es: 5.0\n"
     ]
    }
   ],
   "source": [
    "import math\n",
    "\n",
    "cat1 = int(input(\"Digite el cateto 1: \"))\n",
    "cat2 = int(input(\"Digite el cateto 2: \"))\n",
    "hip = math.sqrt(math.pow(cat1, 2) + math.pow(cat2, 2))\n",
    "print(\"La hipotenusa es:\",hip)"
   ]
  },
  {
   "cell_type": "markdown",
   "id": "e5808f73",
   "metadata": {},
   "source": [
    "**Java**\n",
    "\n",
    "```java\n",
    "import java.util.Scanner;\n",
    "import java.lang.Math;\n",
    "\n",
    "public class ExampleIO12 {\n",
    "    public static void main(String[] args) {\n",
    "        // Declaracion de variables y objetos\n",
    "        int cat1, cat2;\n",
    "        double hip;\n",
    "        Scanner entrada = new Scanner(System.in);  \n",
    "        \n",
    "        // Programa\n",
    "        System.out.print(\"Digite el cateto 1: \");\n",
    "        cat1 = entrada.nextInt();\n",
    "        System.out.print(\"Digite el cateto 2: \");\n",
    "        cat2 = entrada.nextInt();\n",
    "        \n",
    "        hip = Math.sqrt(Math.pow(cat1, 2) + Math.pow(cat2, 2));   \n",
    "        System.out.println(\"La hipotenisa es: \" + hip);\n",
    "    }\n",
    "}\n",
    "```"
   ]
  },
  {
   "cell_type": "markdown",
   "id": "1b03b1eb",
   "metadata": {},
   "source": [
    "**Ejemplo 13**: Elabore un algoritmo que solicite un numero de dos digitos y que devuelva como salida el numero invertido. Por ejemplo, si el usuario ingresa 23, el programa deberá mostrar 32."
   ]
  },
  {
   "cell_type": "code",
   "execution_count": 16,
   "id": "fc262564",
   "metadata": {},
   "outputs": [
    {
     "name": "stdout",
     "output_type": "stream",
     "text": [
      "Digite un numero entero de 2 digitos: 32\n",
      "-> Respuesta:  23\n"
     ]
    }
   ],
   "source": [
    "num = int(input(\"Digite un numero entero de 2 digitos: \"))\n",
    "dec = num//10\n",
    "unid = num%10\n",
    "numInv = unid*10 + dec\n",
    "print(\"-> Respuesta:\", numInv)"
   ]
  },
  {
   "cell_type": "markdown",
   "id": "f525a990",
   "metadata": {},
   "source": [
    "**Java**\n",
    "\n",
    "```java\n",
    "import java.util.Scanner;\n",
    "import java.lang.Math;\n",
    "\n",
    "public class ExampleIO13 {\n",
    "    public static void main(String[] args) {\n",
    "        // Declaracion de variables y objetos\n",
    "        int dec, unid, num, numInv;\n",
    "        Scanner key = new Scanner(System.in);  \n",
    "        dec = num/10;\n",
    "        unid = num%10;\n",
    "        numInv = unid*10 + dec;\n",
    "        // Programa\n",
    "        System.out.print(\"-> Respuesta: \" + numInv);\n",
    "    }\n",
    "}\n",
    "```"
   ]
  },
  {
   "cell_type": "markdown",
   "id": "08d54573",
   "metadata": {},
   "source": [
    "**Ejemplo 14**: Ejecute y analice el siguiente programa hecho en **java**:\n",
    "\n",
    "```java\n",
    "import java.util.*;\n",
    "\n",
    "public class ExampleIO14 {\n",
    "    public static void main(String[] args) {\n",
    "        Scanner consola = new Scanner(System.in);\n",
    "        int pies;\n",
    "        int pulgadas;\n",
    "        \n",
    "        System.out.println(\"Ingrese dos enteros separados por espacios.\");\n",
    "        pies = consola.nextInt();\n",
    "        pulgadas = consola.nextInt();\n",
    "        \n",
    "        System.out.println(\"pies = \" + pies);\n",
    "        System.out.println(\"pulgadas = \" + pulgadas);\n",
    "    }\n",
    "}\n",
    "```"
   ]
  },
  {
   "cell_type": "markdown",
   "id": "c8255f57",
   "metadata": {},
   "source": [
    "**Ejemplo 15**: Ejecute y analice el siguiente programa hecho en **java**:\n",
    "\n",
    "```java\n",
    "import java.util.*;\n",
    "\n",
    "public class ExampleIO15 {\n",
    "    public static void main(String[] args) {\n",
    "        Scanner console = new Scanner(System.in);\n",
    "        String nombre;\n",
    "        String apellido;\n",
    "        int edad;\n",
    "        double peso;\n",
    "        \n",
    "        System.out.println(\"Ingrese apellido, nombre,\"\n",
    "                           + \"edad y peso separados \"\n",
    "                           + \"por espacios.\");\n",
    "        nombre = console.nextLine();\n",
    "        apellido = console.nextLine();\n",
    "        edad = console.nextInt();\n",
    "        peso = console.nextDouble();\n",
    "        \n",
    "        System.out.println(\"Nombre: \" + nombre + \" \" + apellido);\n",
    "        System.out.println(\"Edad: \" + edad);\n",
    "        System.out.println(\"Peso: \" + peso);\n",
    "    }\n",
    "}\n",
    "```"
   ]
  },
  {
   "cell_type": "markdown",
   "id": "9a933976",
   "metadata": {},
   "source": [
    "## Referencias \n",
    "\n",
    "* https://www.browxy.com/\n",
    "* https://www.jdoodle.com/\n",
    "* https://www.browxy.com/"
   ]
  },
  {
   "cell_type": "code",
   "execution_count": null,
   "id": "6084529f",
   "metadata": {},
   "outputs": [],
   "source": []
  }
 ],
 "metadata": {
  "kernelspec": {
   "display_name": "Python 3",
   "language": "python",
   "name": "python3"
  },
  "language_info": {
   "codemirror_mode": {
    "name": "ipython",
    "version": 3
   },
   "file_extension": ".py",
   "mimetype": "text/x-python",
   "name": "python",
   "nbconvert_exporter": "python",
   "pygments_lexer": "ipython3",
   "version": "3.8.8"
  }
 },
 "nbformat": 4,
 "nbformat_minor": 5
}

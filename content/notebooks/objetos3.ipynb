{
 "cells": [
  {
   "cell_type": "code",
   "execution_count": 2,
   "metadata": {},
   "outputs": [
    {
     "name": "stdout",
     "output_type": "stream",
     "text": [
      "Requirement already satisfied: tutormagic in /usr/local/lib/python3.5/dist-packages (0.3.0)\n",
      "Requirement already satisfied: notebook>=3.0 in /usr/local/lib/python3.5/dist-packages (from tutormagic) (5.5.0)\n",
      "Requirement already satisfied: jinja2 in /usr/lib/python3/dist-packages (from notebook>=3.0->tutormagic) (2.8)\n",
      "Requirement already satisfied: tornado>=4 in /usr/local/lib/python3.5/dist-packages (from notebook>=3.0->tutormagic) (5.0.2)\n",
      "Collecting pyzmq>=17 (from notebook>=3.0->tutormagic)\n",
      "  Using cached https://files.pythonhosted.org/packages/de/12/2e643c8e2edd332c1a230b2cc546f669b8fca53bfdeb2376773aa2571af9/pyzmq-18.1.1-cp35-cp35m-manylinux1_x86_64.whl\n",
      "Requirement already satisfied: jupyter-client>=5.2.0 in /usr/local/lib/python3.5/dist-packages (from notebook>=3.0->tutormagic) (5.2.3)\n",
      "Requirement already satisfied: terminado>=0.8.1 in /usr/local/lib/python3.5/dist-packages (from notebook>=3.0->tutormagic) (0.8.1)\n",
      "Requirement already satisfied: Send2Trash in /usr/local/lib/python3.5/dist-packages (from notebook>=3.0->tutormagic) (1.5.0)\n",
      "Requirement already satisfied: jupyter-core>=4.4.0 in /usr/local/lib/python3.5/dist-packages (from notebook>=3.0->tutormagic) (4.4.0)\n",
      "Requirement already satisfied: nbconvert in /usr/local/lib/python3.5/dist-packages (from notebook>=3.0->tutormagic) (5.3.1)\n",
      "Requirement already satisfied: ipykernel in /usr/local/lib/python3.5/dist-packages (from notebook>=3.0->tutormagic) (4.8.2)\n",
      "Requirement already satisfied: nbformat in /usr/local/lib/python3.5/dist-packages (from notebook>=3.0->tutormagic) (4.4.0)\n",
      "Requirement already satisfied: ipython-genutils in /usr/local/lib/python3.5/dist-packages (from notebook>=3.0->tutormagic) (0.2.0)\n",
      "Requirement already satisfied: traitlets>=4.2.1 in /usr/local/lib/python3.5/dist-packages (from notebook>=3.0->tutormagic) (4.3.2)\n",
      "Requirement already satisfied: python-dateutil>=2.1 in /usr/local/lib/python3.5/dist-packages (from jupyter-client>=5.2.0->notebook>=3.0->tutormagic) (2.8.0)\n",
      "Requirement already satisfied: ptyprocess; os_name != \"nt\" in /usr/lib/python3/dist-packages (from terminado>=0.8.1->notebook>=3.0->tutormagic) (0.5)\n",
      "Requirement already satisfied: entrypoints>=0.2.2 in /usr/local/lib/python3.5/dist-packages (from nbconvert->notebook>=3.0->tutormagic) (0.2.3)\n",
      "Requirement already satisfied: pandocfilters>=1.4.1 in /usr/local/lib/python3.5/dist-packages (from nbconvert->notebook>=3.0->tutormagic) (1.4.2)\n",
      "Requirement already satisfied: testpath in /usr/local/lib/python3.5/dist-packages (from nbconvert->notebook>=3.0->tutormagic) (0.3.1)\n",
      "Requirement already satisfied: pygments in /usr/lib/python3/dist-packages (from nbconvert->notebook>=3.0->tutormagic) (2.1)\n",
      "Requirement already satisfied: mistune>=0.7.4 in /usr/local/lib/python3.5/dist-packages (from nbconvert->notebook>=3.0->tutormagic) (0.8.3)\n",
      "Requirement already satisfied: bleach in /usr/local/lib/python3.5/dist-packages (from nbconvert->notebook>=3.0->tutormagic) (2.1.3)\n",
      "Requirement already satisfied: ipython>=4.0.0 in /usr/local/lib/python3.5/dist-packages (from ipykernel->notebook>=3.0->tutormagic) (6.4.0)\n",
      "Requirement already satisfied: jsonschema!=2.5.0,>=2.4 in /usr/lib/python3/dist-packages (from nbformat->notebook>=3.0->tutormagic) (2.5.1)\n",
      "Requirement already satisfied: decorator in /usr/lib/python3/dist-packages (from traitlets>=4.2.1->notebook>=3.0->tutormagic) (4.0.6)\n",
      "Requirement already satisfied: six in /usr/lib/python3/dist-packages (from traitlets>=4.2.1->notebook>=3.0->tutormagic) (1.10.0)\n",
      "Collecting html5lib!=1.0b1,!=1.0b2,!=1.0b3,!=1.0b4,!=1.0b5,!=1.0b6,!=1.0b7,!=1.0b8,>=0.99999999pre (from bleach->nbconvert->notebook>=3.0->tutormagic)\n",
      "  Using cached https://files.pythonhosted.org/packages/a5/62/bbd2be0e7943ec8504b517e62bab011b4946e1258842bc159e5dfde15b96/html5lib-1.0.1-py2.py3-none-any.whl\n",
      "Requirement already satisfied: jedi>=0.10 in /usr/local/lib/python3.5/dist-packages (from ipython>=4.0.0->ipykernel->notebook>=3.0->tutormagic) (0.12.0)\n",
      "Requirement already satisfied: setuptools>=18.5 in /usr/lib/python3/dist-packages (from ipython>=4.0.0->ipykernel->notebook>=3.0->tutormagic) (20.7.0)\n",
      "Requirement already satisfied: pexpect; sys_platform != \"win32\" in /usr/lib/python3/dist-packages (from ipython>=4.0.0->ipykernel->notebook>=3.0->tutormagic) (4.0.1)\n",
      "Requirement already satisfied: pickleshare in /usr/local/lib/python3.5/dist-packages (from ipython>=4.0.0->ipykernel->notebook>=3.0->tutormagic) (0.7.4)\n",
      "Requirement already satisfied: backcall in /usr/local/lib/python3.5/dist-packages (from ipython>=4.0.0->ipykernel->notebook>=3.0->tutormagic) (0.1.0)\n",
      "Requirement already satisfied: prompt-toolkit<2.0.0,>=1.0.15 in /usr/local/lib/python3.5/dist-packages (from ipython>=4.0.0->ipykernel->notebook>=3.0->tutormagic) (1.0.15)\n",
      "Requirement already satisfied: simplegeneric>0.8 in /usr/local/lib/python3.5/dist-packages (from ipython>=4.0.0->ipykernel->notebook>=3.0->tutormagic) (0.8.1)\n",
      "Requirement already satisfied: webencodings in /usr/local/lib/python3.5/dist-packages (from html5lib!=1.0b1,!=1.0b2,!=1.0b3,!=1.0b4,!=1.0b5,!=1.0b6,!=1.0b7,!=1.0b8,>=0.99999999pre->bleach->nbconvert->notebook>=3.0->tutormagic) (0.5.1)\n",
      "Requirement already satisfied: parso>=0.2.0 in /usr/local/lib/python3.5/dist-packages (from jedi>=0.10->ipython>=4.0.0->ipykernel->notebook>=3.0->tutormagic) (0.2.1)\n",
      "Requirement already satisfied: wcwidth in /usr/local/lib/python3.5/dist-packages (from prompt-toolkit<2.0.0,>=1.0.15->ipython>=4.0.0->ipykernel->notebook>=3.0->tutormagic) (0.1.7)\n",
      "Installing collected packages: pyzmq, html5lib\n",
      "  Found existing installation: pyzmq 15.2.0\n",
      "\u001b[31mCannot uninstall 'pyzmq'. It is a distutils installed project and thus we cannot accurately determine which files belong to it which would lead to only a partial uninstall.\u001b[0m\n",
      "\u001b[33mYou are using pip version 19.0.3, however version 19.3.1 is available.\n",
      "You should consider upgrading via the 'pip install --upgrade pip' command.\u001b[0m\n"
     ]
    }
   ],
   "source": [
    "!pip3 install tutormagic\n",
    "%load_ext tutormagic"
   ]
  },
  {
   "cell_type": "code",
   "execution_count": null,
   "metadata": {},
   "outputs": [],
   "source": [
    "import warnings\n",
    "warnings.filterwarnings(\"ignore\", category=DeprecationWarning)"
   ]
  },
  {
   "cell_type": "code",
   "execution_count": null,
   "metadata": {},
   "outputs": [],
   "source": [
    "# Run and print a shell command.\n",
    "def run(cmd):\n",
    "    print('>> {}'.format(cmd))\n",
    "    !{cmd}  # This is magic to run 'cmd' in the shell.\n",
    "    print('')\n",
    "\n",
    "def compile(nombre_clase):\n",
    "    run('javac {}.java'.format(nombre_clase))\n",
    "\n",
    "def execute(nombre_clase):\n",
    "    run('java {}'.format(nombre_clase))\n",
    "\n",
    "def ejecutar(nombre_clase):\n",
    "    compile(nombre_clase)\n",
    "    execute(nombre_clase)"
   ]
  },
  {
   "cell_type": "code",
   "execution_count": null,
   "metadata": {},
   "outputs": [],
   "source": [
    "# Check the Java version to see if everything is working well.\n",
    "run('javac -version')"
   ]
  },
  {
   "cell_type": "markdown",
   "metadata": {},
   "source": [
    "# Metodos y variables estaticas #\n",
    "\n",
    "**En construcción...**\n",
    "\n",
    "Tal y como se vio en los ejemplos anteriores cada objeto tiene su propia copia de todas las variables de instancia de la clase. Por ejemplo, para la clase Punto, cada objeto tipo Punto que se instanció a partir de esta clase tiene sus propias coordenadas (variables miembro).\n",
    "\n",
    "Existen casos en los que deben compartirse solamente una copia de cierta variable entre todos los objetos de una clase; en estos campos se utiliza un **campo static** (conocido tambien como **variable de clase**). Una variable **static** representa información en toda la clase (todos los objetos de la clase comparten la misma pieza de datos). La declaración de una variable static comienza con la palabra clave static. \n",
    "\n",
    "\n",
    "Declaracion...\n",
    "\n",
    "A continuación se muestra la sintaxis para acceder a variables tipo static \n",
    "\n",
    "\n",
    "```java\n",
    "<class-name>.<variable-name>\n",
    "```\n",
    "\n",
    "### Ejemplo conceptual tomado del libro de Deitel & Deitel ###\n",
    "\n",
    "Veamos un ejemplo con datos **static**. Suponga que tenemos un videojuego con **Marcianos** y otras criaturas\n",
    "espaciales. Cada **Marciano** tiende a ser valiente y deseoso de atacar a otras criaturas espaciales cuando sabe que hay al menos otros cuatro **Marcianos** presentes. Si están presentes menos de cinco **Marcianos**, cada **Marciano** se vuelve cobarde. Por lo tanto, cada uno de ellos necesita saber el valor de **cuentaMarcianos**. Podríamos dotar a la clase **Marciano** con la variable cuentaMarcianos como variable de instancia. Si hacemos esto, entonces cada **Marciano** tendrá una copia separada de la variable de instancia, y cada vez que creemos un nuevo **Marciano**, tendremos que actualizar la variable de instancia **cuentaMarcianos** en todos los objetos **Marciano**. Las copias redundantes desperdician espacio y tiempo en actualizar cada una de las copias de la variable, además de ser un proceso propenso a errores. En vez de ello, declaramos a **cuentaMarcianos** como **static**, lo cual convierte a **cuentaMarcianos** en datos disponibles en toda la clase. Cada objeto **Marciano** puede ver la **cuentaMarcianos** como si fuera una variable de instancia de la clase **Marciano**, pero sólo se mantiene una copia de la variable static **cuentaMarcianos**. Esto nos ahorra espacio. Ahorramos tiempo al hacer que el constructor de **Marciano** incremente a la variable **static cuentaMarcianos**; como sólo hay una copia, no tenemos que incrementar cada una de las copias de **cuentaMarcianos** para cada uno de los objetos **Marciano**.\n",
    "\n"
   ]
  },
  {
   "cell_type": "markdown",
   "metadata": {},
   "source": [
    "## Recoleccion de basura y medodo finalice ##\n",
    "\n",
    "El método **finalize()** es un método especial que llama el **recolector de basura** (**garbage collector**) para realizar las tareas de preparación para la terminación sobre un objeto, justo antes de que el recolector de basura reclame la memoria de ese objeto. Las principales caracteristicas dle metodo **finalize()** son las siguientes:\n",
    "* No devuelve valor, es de tipo void.\n",
    "* No tiene argumentos.\n",
    "* No puede sobrecargarse.\n",
    "* Su definición es opcional.\n",
    "\n",
    "Un problema con el método finalize es que no se garantiza que el recolector de basura se ejecute en un tiempo especifi cado. De hecho, tal vez el recolector de basura nunca se ejecute antes de que termine un programa. Por ende, no queda claro si (o cuándo) se hará la llamada al método finalize. Por esta razón, la mayoría de los programadores deben evitar el uso del método **finalize**."
   ]
  },
  {
   "cell_type": "markdown",
   "metadata": {},
   "source": [
    "```java\n",
    "\n",
    "// Empleado.java\n",
    "// Variable static que se utiliza para mantener una cuenta del\n",
    "// número de objetos Empleado en la memoria.\n",
    "\n",
    "class Empleado {\n",
    "    private String primerNombre;  \n",
    "    private String apellidoPaterno;\n",
    "    private static int cuenta = 0; // número de objetos en memoria\n",
    "    \n",
    "    // inicializa empleado, suma 1 a la variable static cuenta e\n",
    "    // imprime objeto String que indica que se llamó al constructor\n",
    "    public Empleado( String nombre, String apellido ) {\n",
    "        primerNombre = nombre;\n",
    "        apellidoPaterno = apellido;\n",
    "        cuenta++; // incrementa la variable static cuenta de empleados\n",
    "        System.out.printf( \"Constructor de Empleado: %s %s; cuenta = %d\\n\",\n",
    "                          primerNombre, apellidoPaterno, cuenta );\n",
    "    } // fin de constructor de Empleado\n",
    "\n",
    "    // resta 1 a la variable static cuenta cuando el recolector\n",
    "    // de basura llama a finalize para borrar el objeto;\n",
    "    // confirma que se llamó a finalize\n",
    "    protected void finalize() {\n",
    "        cuenta--; // decrementa la variable static cuenta de empleados\n",
    "        System.out.printf( \"Finalizador de Empleado: %s %s; cuenta = %d\\n\",\n",
    "                          primerNombre, apellidoPaterno, cuenta );\n",
    "    } // fin del método finalize\n",
    "    \n",
    "    // obtiene el primer nombre \n",
    "    public String obtenerPrimerNombre() {\n",
    "        return primerNombre;\n",
    "    } // fin del método obtenerPrimerNombre\n",
    "    \n",
    "    // obtiene el apellido paterno\n",
    "    public String obtenerApellidoPaterno() {\n",
    "        return apellidoPaterno;\n",
    "    } // fin del método obtenerApellidoPaterno\n",
    "    \n",
    "    // método static para obtener el valor de la variable static cuenta\n",
    "    public static int obtenerCuenta() {\n",
    "        return cuenta;\n",
    "    } // fin del método obtenerCuenta\n",
    "} // fin de la clase Empleado\n",
    "\n",
    "\n",
    "// PruebaEmpleado.java\n",
    "// Demostración de miembros static.\n",
    "public class PruebaEmpleado {\n",
    "    public static void main( String args[] ) {\n",
    "        // muestra que la cuenta es 0 antes de crear Empleados\n",
    "        System.out.printf( \"Empleados antes de instanciar: %d\\n\",\n",
    "                          Empleado.obtenerCuenta() );\n",
    "        // crea dos Empleados; la cuenta debe ser 2\n",
    "        Empleado e1 = new Empleado( \"Susan\", \"Baker\" );\n",
    "        Empleado e2 = new Empleado( \"Bob\", \"Blue\" );\n",
    "        \n",
    "        // muestra que la cuenta es 2 después de crear dos Empleados\n",
    "        System.out.println( \"\\nEmpleados despues de instanciar: \" );\n",
    "        System.out.printf( \"mediante e1.obtenerCuenta(): %d\\n\", e1.obtenerCuenta() );\n",
    "        System.out.printf( \"mediante e2.obtenerCuenta(): %d\\n\", e2.obtenerCuenta() );\n",
    "        System.out.printf( \"mediante Empleado.obtenerCuenta(): %d\\n\",\n",
    "                          Empleado.obtenerCuenta() );\n",
    "        \n",
    "        // obtiene los nombres de los Empleados\n",
    "        System.out.printf( \"\\nEmpleado 1: %s %s\\nEmpleado 2: %s %s\\n\\n\",\n",
    "                          e1.obtenerPrimerNombre(), e1.obtenerApellidoPaterno(),\n",
    "                          e2.obtenerPrimerNombre(), e2.obtenerApellidoPaterno() );\n",
    "        \n",
    "        // en este ejemplo, sólo hay una referencia a cada Empleado,\n",
    "        // por lo que las siguientes dos instrucciones hacen que la JVM\n",
    "        // marque a cada objeto Empleado para la recolección de basura\n",
    "        \n",
    "        e1 = null;\n",
    "        e2 = null;\n",
    "        \n",
    "        System.gc(); // pide que la recolección de basura se realice ahora\n",
    "        \n",
    "        // muestra la cuenta de Empleados después de llamar al recolector de basura;\n",
    "        // la cuenta a mostrar puede ser 0, 1 o 2 dependiendo de si el recolector de\n",
    "        // basura se ejecuta de inmediato, y del número de objetos Empleado recolectados\n",
    "        System.out.printf( \"\\nEmpleados despues de System.gc(): %d\\n\",\n",
    "                          Empleado.obtenerCuenta() );\n",
    "    } // fin de main\n",
    "} // fin de la clase PruebaEmpleado\n",
    "```\n",
    "\n",
    "El codigo anterior se puede ejecutar dando click en el siguiente [enlace](https://repl.it/@HENRYALBERTOALB/ejemploEmpleado)"
   ]
  },
  {
   "cell_type": "markdown",
   "metadata": {},
   "source": [
    "### Ejemplo ###\n",
    "El siguiente programa crea 3 instancias de la clase **Countable** (**object1**, **object2** and **object3**). Notese que aunque hay 3 instancias de la clase, solo hay un copia del campo **static** (lamado **instanceCount**) tal y como se muestra en la siguiente fígura:\n",
    "\n",
    "![countable](objetos/static_countable.jpg)\n",
    "\n",
    "El código java asociado se encuentra a continuación (este tambien se puede simular en el siguiente [enlace](https://repl.it/@HENRYALBERTOALB/staticDemo))."
   ]
  },
  {
   "cell_type": "code",
   "execution_count": 12,
   "metadata": {},
   "outputs": [
    {
     "data": {
      "text/html": [
       "<div class=\"text-center\"><strong><a style=\"box-sizing: border-box; padding: 0 5px; border: 1px solid #CFCFCF;\" target=\"_\" href=http://pythontutor.com/iframe-embed.html#code=/%2A%2A%0A%20%20%20This%20class%20demonstrates%20a%20static%20field.%0A%2A/%0A%0Aclass%20Countable%0A%7B%0A%20%20%20private%20static%20int%20instanceCount%20%3D%200%3B%0A%0A%20%20%20/%2A%2A%0A%20%20%20%20%20%20The%20constructor%20increments%20the%20static%0A%20%20%20%20%20%20field%20instanceCount.%20This%20keeps%20track%0A%20%20%20%20%20%20of%20the%20number%20of%20instances%20of%20this%0A%20%20%20%20%20%20class%20that%20are%20created.%0A%20%20%20%2A/%0A%0A%20%20%20public%20Countable%28%29%0A%20%20%20%7B%0A%20%20%20%20%20%20instanceCount%2B%2B%3B%0A%20%20%20%7D%0A%0A%20%20%20/%2A%2A%0A%20%20%20%20%20%20The%20getInstanceCount%20method%20returns%0A%20%20%20%20%20%20the%20number%20of%20instances%20of%20this%20class%0A%20%20%20%20%20%20that%20have%20been%20created.%0A%20%20%20%20%20%20%40return%20The%20value%20in%20the%20instanceCount%20field.%0A%20%20%20%2A/%0A%0A%20%20%20public%20int%20getInstanceCount%28%29%0A%20%20%20%7B%0A%20%20%20%20%20%20return%20instanceCount%3B%0A%20%20%20%7D%0A%7D%0A%0A/%2A%2A%0A%20%20%20This%20program%20demonstrates%20the%20Countable%20class.%0A%2A/%0A%0Apublic%20class%20StaticDemo%0A%7B%0A%20%20%20public%20static%20void%20main%28String%5B%5D%20args%29%0A%20%20%20%7B%0A%20%20%20%20%20%20int%20objectCount%3B%0A%0A%20%20%20%20%20%20//%20Create%20three%20instances%20of%20the%20%0A%20%20%20%20%20%20//%20Countable%20class.%0A%20%20%20%20%20%20Countable%20object1%20%3D%20new%20Countable%28%29%3B%0A%20%20%20%20%20%20Countable%20object2%20%3D%20new%20Countable%28%29%3B%0A%20%20%20%20%20%20Countable%20object3%20%3D%20new%20Countable%28%29%3B%0A%0A%20%20%20%20%20%20//%20Get%20the%20number%20of%20instances%20from%0A%20%20%20%20%20%20//%20the%20class%27s%20static%20field.%0A%20%20%20%20%20%20objectCount%20%3D%20object1.getInstanceCount%28%29%3B%0A%20%20%20%20%20%20System.out.println%28objectCount%20%2B%20%0A%20%20%20%20%20%20%20%20%20%20%20%20%20%20%20%20%20%20%20%20%22%20instances%20of%20the%20class%20%22%20%2B%0A%20%20%20%20%20%20%20%20%20%20%20%20%20%20%20%20%20%20%20%20%22were%20created.%22%29%3B%0A%20%20%7D%0A%7D&origin=opt-frontend.js&cumulative=false&heapPrimitives=false&textReferences=false&curInstr=0&&verticalStack=false&py=java&rawInputLstJSON=%5B%5D&codeDivWidth=50%25&codeDivHeight=100%25>Python Tutor</a></strong></div>"
      ],
      "text/plain": [
       "<IPython.core.display.HTML object>"
      ]
     },
     "metadata": {},
     "output_type": "display_data"
    }
   ],
   "source": [
    "%%tutor -l java -k\n",
    "/**\n",
    "   This class demonstrates a static field.\n",
    "*/\n",
    "\n",
    "class Countable\n",
    "{\n",
    "   private static int instanceCount = 0;\n",
    "\n",
    "   /**\n",
    "      The constructor increments the static\n",
    "      field instanceCount. This keeps track\n",
    "      of the number of instances of this\n",
    "      class that are created.\n",
    "   */\n",
    "\n",
    "   public Countable()\n",
    "   {\n",
    "      instanceCount++;\n",
    "   }\n",
    "\n",
    "   /**\n",
    "      The getInstanceCount method returns\n",
    "      the number of instances of this class\n",
    "      that have been created.\n",
    "      @return The value in the instanceCount field.\n",
    "   */\n",
    "\n",
    "   public int getInstanceCount()\n",
    "   {\n",
    "      return instanceCount;\n",
    "   }\n",
    "}\n",
    "\n",
    "/**\n",
    "   This program demonstrates the Countable class.\n",
    "*/\n",
    "\n",
    "public class StaticDemo\n",
    "{\n",
    "   public static void main(String[] args)\n",
    "   {\n",
    "      int objectCount;\n",
    "\n",
    "      // Create three instances of the \n",
    "      // Countable class.\n",
    "      Countable object1 = new Countable();\n",
    "      Countable object2 = new Countable();\n",
    "      Countable object3 = new Countable();\n",
    "\n",
    "      // Get the number of instances from\n",
    "      // the class's static field.\n",
    "      objectCount = object1.getInstanceCount();\n",
    "      System.out.println(objectCount + \n",
    "                    \" instances of the class \" +\n",
    "                    \"were created.\");\n",
    "  }\n",
    "}\n"
   ]
  },
  {
   "cell_type": "markdown",
   "metadata": {},
   "source": [
    "### Ejemplo ###\n",
    "Dada una clase se quieren conocer en todo momento los objetos activos en la aplicación. Se declara la clase **Ejemplo** con un constructor por defecto y otro con un argumento; ambos incrementan la variable static **cuenta**, en uno; de esa manera cada nuevo objeto queda contabilizado. También se declara el método **finalize()**, de tal forma que al activarse cuenta disminuye en uno. El método **main()** crea objetos de la clase Ejemplo y visualiza la variable que contabiliza el número de sus objetos ([enlace](https://repl.it/@HENRYALBERTOALB/exampleStatic) de compilación online)."
   ]
  },
  {
   "cell_type": "code",
   "execution_count": 13,
   "metadata": {},
   "outputs": [
    {
     "data": {
      "text/html": [
       "<div class=\"text-center\"><strong><a style=\"box-sizing: border-box; padding: 0 5px; border: 1px solid #CFCFCF;\" target=\"_\" href=http://pythontutor.com/iframe-embed.html#code=class%20Ejemplo%20%7B%0A%20%20%20%20private%20int%20datos%3B%0A%20%20%20%20static%20int%20cuenta%20%3D%200%3B%0A%20%20%20%20%0A%20%20%20%20public%20Ejemplo%28%29%20%7B%0A%20%20%20%20%20%20%20%20datos%20%3D%200%3B%0A%20%20%20%20%20%20%20%20cuenta%2B%2B%3B%20//%20nuevo%20objeto%0A%20%20%20%20%7D%0A%20%20%20%20%0A%20%20%20%20public%20Ejemplo%28int%20g%29%20%7B%0A%20%20%20%20%20%20%20%20datos%20%3D%20g%3B%0A%20%20%20%20%20%20%20%20cuenta%2B%2B%3B%20//%20nuevo%20objeto%0A%20%20%20%20%7D%0A%0A%20%20%20%20//%0A%20%20%20%20public%20void%20finalize%28%29%20%7B%0A%20%20%20%20%20%20%20%20System.out.println%28%22Fin%20de%20objeto%20Ejemplo%22%29%3B%0A%20%20%20%20%20%20%20%20cuenta--%3B%0A%20%20%20%20%7D%0A%7D%0A%0Apublic%20class%20ProbarEjemplo%20%7B%0A%20%20%20%20public%20static%20void%20main%28String%5B%5D%20ar%29%20%7B%0A%20%20%20%20%20%20%20%20Ejemplo%20d1%2C%20d2%3B%0A%20%20%20%20%20%20%20%20System.out.println%28%22Objetos%20Ejemplo%3A%20%22%20%2B%20Ejemplo.cuenta%29%3B%0A%20%20%20%20%20%20%20%20d1%20%3D%20new%20Ejemplo%28%29%3B%0A%20%20%20%20%20%20%20%20d2%20%3D%20new%20Ejemplo%2811%29%3B%0A%20%20%20%20%20%20%20%20System.out.println%28%22Objetos%20Ejemplo%3A%20%22%20%2B%20Ejemplo.cuenta%29%3B%0A%20%20%20%20%20%20%20%20d2%20%3D%20d1%3B%0A%20%20%20%20%20%20%20%20System.gc%28%29%3B%0A%20%20%20%20%20%20%20%20System.out.println%28%22Objetos%20Ejemplo%3A%20%22%20%2B%20Ejemplo.cuenta%29%3B%0A%20%20%20%20%20%20%20%20d2%20%3D%20d1%20%3D%20null%3B%0A%20%20%20%20%20%20%20%20System.gc%28%29%3B%0A%20%20%20%20%20%20%20%20System.out.println%28%22Objetos%20Ejemplo%3A%20%22%20%2B%20Ejemplo.cuenta%29%3B%0A%20%20%20%20%7D%0A%7D%0A&origin=opt-frontend.js&cumulative=false&heapPrimitives=false&textReferences=false&curInstr=0&&verticalStack=false&py=java&rawInputLstJSON=%5B%5D&codeDivWidth=50%25&codeDivHeight=100%25>Python Tutor</a></strong></div>"
      ],
      "text/plain": [
       "<IPython.core.display.HTML object>"
      ]
     },
     "metadata": {},
     "output_type": "display_data"
    }
   ],
   "source": [
    "%%tutor -l java -k\n",
    "class Ejemplo {\n",
    "    private int datos;\n",
    "    static int cuenta = 0;\n",
    "    \n",
    "    public Ejemplo() {\n",
    "        datos = 0;\n",
    "        cuenta++; // nuevo objeto\n",
    "    }\n",
    "    \n",
    "    public Ejemplo(int g) {\n",
    "        datos = g;\n",
    "        cuenta++; // nuevo objeto\n",
    "    }\n",
    "\n",
    "    //\n",
    "    public void finalize() {\n",
    "        System.out.println(\"Fin de objeto Ejemplo\");\n",
    "        cuenta--;\n",
    "    }\n",
    "}\n",
    "\n",
    "public class ProbarEjemplo {\n",
    "    public static void main(String[] ar) {\n",
    "        Ejemplo d1, d2;\n",
    "        System.out.println(\"Objetos Ejemplo: \" + Ejemplo.cuenta);\n",
    "        d1 = new Ejemplo();\n",
    "        d2 = new Ejemplo(11);\n",
    "        System.out.println(\"Objetos Ejemplo: \" + Ejemplo.cuenta);\n",
    "        d2 = d1;\n",
    "        System.gc();\n",
    "        System.out.println(\"Objetos Ejemplo: \" + Ejemplo.cuenta);\n",
    "        d2 = d1 = null;\n",
    "        System.gc();\n",
    "        System.out.println(\"Objetos Ejemplo: \" + Ejemplo.cuenta);\n",
    "    }\n",
    "}\n",
    "\n"
   ]
  },
  {
   "cell_type": "markdown",
   "metadata": {},
   "source": [
    "## Sobre los métodos estaticos ##\n",
    "Cuando una clase contiene con un método estatico, no es necesario crear una instancia de la clase para que este pueda ser ejecutado. Esto se muestra en el siguiente código fuente:\n"
   ]
  },
  {
   "cell_type": "code",
   "execution_count": 5,
   "metadata": {},
   "outputs": [
    {
     "data": {
      "text/html": [
       "<div class=\"text-center\"><strong><a style=\"box-sizing: border-box; padding: 0 5px; border: 1px solid #CFCFCF;\" target=\"_\" href=http://pythontutor.com/iframe-embed.html#code=/%2A%2A%0A%20%20%20This%20class%20demonstrates%20static%20methods.%0A%2A/%0A%0Aclass%20Metric%0A%7B%0A%20%20%20/%2A%2A%0A%20%20%20%20%20%20The%20milesToKilometers%20method%20converts%20a%0A%20%20%20%20%20%20distance%20in%20miles%20to%20kilometers.%0A%20%20%20%20%20%20%40param%20m%20The%20distance%20in%20miles.%0A%20%20%20%20%20%20%40return%20The%20distance%20in%20kilometers.%0A%20%20%20%2A/%0A%0A%20%20%20public%20static%20double%20milesToKilometers%28double%20m%29%0A%20%20%20%7B%0A%20%20%20%20%20%20return%20m%20%2A%201.609%3B%0A%20%20%20%7D%0A%0A%20%20%20/%2A%2A%0A%20%20%20%20%20%20The%20kilometersToMiles%20method%20converts%0A%20%20%20%20%20%20a%20distance%20in%20kilometers%20to%20miles.%0A%20%20%20%20%20%20%40param%20k%20The%20distance%20in%20kilometers.%0A%20%20%20%20%20%20%40return%20The%20distance%20in%20miles.%0A%20%20%20%2A/%0A%20%20%20%0A%20%20%20public%20static%20double%20kilometersToMiles%28double%20k%29%0A%20%20%20%7B%0A%20%20%20%20%20%20return%20k%20/%201.609%3B%0A%20%20%20%7D%0A%7D%0A%0A/%2A%2A%0A%20%20%20This%20program%20demonstrates%20the%20Metric%20class.%0A%2A/%0A%0Apublic%20class%20MetricDemo%0A%7B%0A%20%20%20public%20static%20void%20main%28String%5B%5D%20args%29%0A%20%20%20%7B%0A%20%20%20%20%20%20String%20input%3B%20//%20To%20hold%20input%0A%20%20%20%20%20%20double%20miles%3B%20//%20A%20distance%20in%20miles%0A%20%20%20%20%20%20double%20kilos%3B%20//%20A%20distance%20in%20kilometers%0A%20%20%20%20%20%20%0A%20%20%20%20%20%20%0A%20%20%20%20%20%20miles%20%3D%201000%3B%0A%0A%20%20%20%20%20%20//%20Convert%20the%20distance%20to%20kilometers.%0A%20%20%20%20%20%20kilos%20%3D%20Metric.milesToKilometers%28miles%29%3B%0A%20%20%20%20%20%20System.out.printf%28%22%25%2C.2f%20miles%20equals%20%25%2C.2f%20kilometers.%5Cn%22%2Cmiles%2C%20kilos%29%3B%0A%0A%20%20%20%20%20%20kilos%20%3D%202500%3B%0A%0A%20%20%20%20%20%20//%20Convert%20the%20distance%20to%20kilometers.%0A%20%20%20%20%20%20miles%20%3D%20Metric.kilometersToMiles%28kilos%29%3B%0A%20%20%20%20%20%20System.out.printf%28%22%25%2C.2f%20kilometers%20equals%20%25%2C.2f%20miles.%5Cn%22%2Ckilos%2C%20miles%29%3B%0A%20%20%20%20%20%20%0A%20%20%20%20%20%20System.exit%280%29%3B%0A%20%20%20%7D%0A%7D&origin=opt-frontend.js&cumulative=false&heapPrimitives=false&textReferences=false&curInstr=0&&verticalStack=false&py=java&rawInputLstJSON=%5B%5D&codeDivWidth=50%25&codeDivHeight=100%25>Python Tutor</a></strong></div>"
      ],
      "text/plain": [
       "<IPython.core.display.HTML object>"
      ]
     },
     "metadata": {},
     "output_type": "display_data"
    }
   ],
   "source": [
    "%%tutor -l java -k\n",
    "/**\n",
    "   This class demonstrates static methods.\n",
    "*/\n",
    "\n",
    "class Metric\n",
    "{\n",
    "   /**\n",
    "      The milesToKilometers method converts a\n",
    "      distance in miles to kilometers.\n",
    "      @param m The distance in miles.\n",
    "      @return The distance in kilometers.\n",
    "   */\n",
    "\n",
    "   public static double milesToKilometers(double m)\n",
    "   {\n",
    "      return m * 1.609;\n",
    "   }\n",
    "\n",
    "   /**\n",
    "      The kilometersToMiles method converts\n",
    "      a distance in kilometers to miles.\n",
    "      @param k The distance in kilometers.\n",
    "      @return The distance in miles.\n",
    "   */\n",
    "   \n",
    "   public static double kilometersToMiles(double k)\n",
    "   {\n",
    "      return k / 1.609;\n",
    "   }\n",
    "}\n",
    "\n",
    "/**\n",
    "   This program demonstrates the Metric class.\n",
    "*/\n",
    "\n",
    "public class MetricDemo\n",
    "{\n",
    "   public static void main(String[] args)\n",
    "   {\n",
    "      String input; // To hold input\n",
    "      double miles; // A distance in miles\n",
    "      double kilos; // A distance in kilometers\n",
    "      \n",
    "      \n",
    "      miles = 1000;\n",
    "\n",
    "      // Convert the distance to kilometers.\n",
    "      kilos = Metric.milesToKilometers(miles);\n",
    "      System.out.printf(\"%,.2f miles equals %,.2f kilometers.\\n\",miles, kilos);\n",
    "\n",
    "      kilos = 2500;\n",
    "\n",
    "      // Convert the distance to kilometers.\n",
    "      miles = Metric.kilometersToMiles(kilos);\n",
    "      System.out.printf(\"%,.2f kilometers equals %,.2f miles.\\n\",kilos, miles);\n",
    "      \n",
    "      System.exit(0);\n",
    "   }\n",
    "}"
   ]
  },
  {
   "cell_type": "markdown",
   "metadata": {},
   "source": [
    "El codigo en IDE online [repl.it](https://en.wikipedia.org/wiki/Repl.it) se puede ejecutar en el siguiente [enlace](https://repl.it/@HENRYALBERTOALB/metricDemo)."
   ]
  },
  {
   "cell_type": "markdown",
   "metadata": {},
   "source": [
    "## Referencias ##\n",
    "1. https://www.guru99.com/java-static-variable-methods.html\n",
    "2. https://www.geeksforgeeks.org/difference-between-static-and-non-static-variables-in-java/\n",
    "3. https://www.ntu.edu.sg/home/ehchua/programming/java/J3c_OOPWrappingUp.html\n",
    "4. https://www.cis.upenn.edu/~matuszek/General/JavaSyntax/static.html\n",
    "5. https://www.educative.io/edpresso/how-to-use-static-keyword-in-java \n",
    "6. http://www.mfbarcell.es/docencia_uned/fund_inf_ing/\n",
    "7. http://www.deitel.com/\n",
    "8. https://github.com/pdeitel"
   ]
  },
  {
   "cell_type": "code",
   "execution_count": null,
   "metadata": {},
   "outputs": [],
   "source": []
  }
 ],
 "metadata": {
  "kernelspec": {
   "display_name": "Python 3",
   "language": "python",
   "name": "python3"
  },
  "language_info": {
   "codemirror_mode": {
    "name": "ipython",
    "version": 3
   },
   "file_extension": ".py",
   "mimetype": "text/x-python",
   "name": "python",
   "nbconvert_exporter": "python",
   "pygments_lexer": "ipython3",
   "version": "3.8.8"
  }
 },
 "nbformat": 4,
 "nbformat_minor": 2
}

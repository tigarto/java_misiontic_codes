{
 "cells": [
  {
   "cell_type": "code",
   "execution_count": null,
   "metadata": {
    "id": "l5dD-RN9tQJP",
    "outputId": "e1edf6d8-e5fe-4fb4-f9d0-04c21dba73f3"
   },
   "outputs": [],
   "source": [
    "!pip3 install tutormagic\n",
    "%load_ext tutormagic"
   ]
  },
  {
   "cell_type": "code",
   "execution_count": null,
   "metadata": {
    "id": "jYwUKfsEtQJR"
   },
   "outputs": [],
   "source": [
    "import warnings\n",
    "warnings.filterwarnings(\"ignore\", category=DeprecationWarning)"
   ]
  },
  {
   "cell_type": "code",
   "execution_count": null,
   "metadata": {},
   "outputs": [],
   "source": [
    "# Run and print a shell command.\n",
    "def run(cmd):\n",
    "    print('>> {}'.format(cmd))\n",
    "    !{cmd}  # This is magic to run 'cmd' in the shell.\n",
    "    print('')\n",
    "\n",
    "def compile(nombre_clase):\n",
    "    run('javac {}.java'.format(nombre_clase))\n",
    "\n",
    "def execute(nombre_clase):\n",
    "    run('java {}'.format(nombre_clase))\n",
    "\n",
    "def ejecutar(nombre_clase):\n",
    "    compile(nombre_clase)\n",
    "    execute(nombre_clase)"
   ]
  },
  {
   "cell_type": "code",
   "execution_count": null,
   "metadata": {},
   "outputs": [],
   "source": [
    "# Check the Java version to see if everything is working well.\n",
    "run(\"javac -version\")"
   ]
  },
  {
   "cell_type": "markdown",
   "metadata": {
    "id": "TzegoRcztQJS"
   },
   "source": [
    "# Matrices #"
   ]
  },
  {
   "cell_type": "markdown",
   "metadata": {
    "id": "LU6D02cXtQJT"
   },
   "source": [
    "## Declaración ##"
   ]
  },
  {
   "cell_type": "code",
   "execution_count": null,
   "metadata": {
    "id": "uKFSMZswtQJU",
    "outputId": "3dde9e90-3763-401b-c90b-5656fb8dcab0"
   },
   "outputs": [],
   "source": [
    "%%tutor -l java -k\n",
    "\n",
    "public class MatrixExample1 {\n",
    "    public static void main(String[] args) {\n",
    "        \n",
    "        char pantalla[][] = pantalla = new char[4][3];\n",
    "        \n",
    "        int puestos[][];\n",
    "        puestos = new int[5][2];\n",
    "        \n",
    "        final int N = 4;\n",
    "        double [][]matriz;\n",
    "        matriz = new double[N][N];\n",
    "\n",
    "    }\n",
    "}"
   ]
  },
  {
   "cell_type": "markdown",
   "metadata": {
    "id": "Qc_rLUWrtQJV"
   },
   "source": [
    "## Inicialización de arreglos multidimensionales ##"
   ]
  },
  {
   "cell_type": "code",
   "execution_count": null,
   "metadata": {
    "id": "jXpIHPbptQJX",
    "outputId": "5b552d3a-c670-4693-bfe7-2fc816afef34"
   },
   "outputs": [],
   "source": [
    "%%tutor -l java -k\n",
    "\n",
    "public class MatrixExample2 {\n",
    "    public static void main(String[] args) {\n",
    "        \n",
    "        int tabla1_1[][] = { {51, 52, 53},{54, 55, 56} };\n",
    "        \n",
    "        int tabla1_2[][]= { {51, 52, 53},\n",
    "                            {54, 55, 56} };\n",
    "        \n",
    "        int tabla2[][] = {\n",
    "                           {1, 2, 3, 4},\n",
    "                           {5, 6, 7, 8},\n",
    "                           {9, 10, 11, 12}\n",
    "                         };\n",
    "    }\n",
    "}"
   ]
  },
  {
   "cell_type": "markdown",
   "metadata": {
    "id": "_oTUfHVxtQJZ"
   },
   "source": [
    "##  Arreglos irregulares o triangulares ##"
   ]
  },
  {
   "cell_type": "code",
   "execution_count": null,
   "metadata": {
    "id": "Ya2SkyDAtQJa",
    "outputId": "5df9cb75-33e4-412a-a23c-93d603bf0ac4"
   },
   "outputs": [],
   "source": [
    "%%tutor -l java -k\n",
    "\n",
    "public class ArraysExample2 {\n",
    "    public static void main(String[] args) {\n",
    "        // Forma 1\n",
    "        double [][] numForma1 = new double[2][3];\n",
    "        \n",
    "        // Forma 2\n",
    "        double [][] numForma2;\n",
    "        numForma2 = new double[2][];\n",
    "        numForma2[0] = new double [3];\n",
    "        numForma2[1] = new double [3];\n",
    "        \n",
    "        // Matrix irregular\n",
    "        double [][] numIrreg;\n",
    "        numIrreg = new double[3][];\n",
    "        numIrreg[0] = new double [3];\n",
    "        numIrreg[1] = new double [2];\n",
    "        numIrreg[2] = new double [1];\n",
    "    }  \n",
    "}"
   ]
  },
  {
   "cell_type": "markdown",
   "metadata": {
    "id": "fzrKGV6htQJb"
   },
   "source": [
    "## Acceso a los elementos de arreglos bidimensionales ##\n",
    "\n",
    "El formato general para asignación directa de valores a los elementos es:\n",
    "\n",
    "### Inserción de elementos\n",
    "\n",
    "```java\n",
    "nombreArreglo[indiceFila][indiceCcolumna] = valorElemento;\n",
    "```\n",
    "\n",
    "### Extracción de elementos\n",
    "\n",
    "```java\n",
    "variable = nombreArreglo[indiceFila][indiceCcolumna];\n",
    "```\n",
    "\n",
    "### Acceso a los elementos de la matrix\n",
    "\n",
    "### Forma 1  \n",
    "\n",
    "Con dos bucles anidados se accede a todos los elementos de una matriz; su sintaxis es:\n",
    "\n",
    "```java\n",
    "int fila, col;\n",
    "for (fila = 0; fila < numFilas; ++fila) {\n",
    "    for (col = 0; col < numCol; ++col) {\n",
    "        Procesar elemento Matriz[fila][col];\n",
    "    }\n",
    "}\n",
    "```\n",
    "\n",
    "### Forma 2\n",
    "\n",
    "El número de filas y de columnas se puede obtener con el atributo length; en este caso, la sintaxis para acceder a los elementos es:\n",
    "\n",
    "```java\n",
    "<tipo> Matriz[][];\n",
    "<especificación de filas y columnas con operador new>\n",
    "for (fila = 0; fila < Matriz.length; ++fila) {\n",
    "    for (col = 0; col < Matriz[fila].length; ++col) {\n",
    "         Procesar elemento Matriz[fila][col];\n",
    "    }\n",
    "}         \n",
    "```"
   ]
  },
  {
   "cell_type": "markdown",
   "metadata": {
    "id": "7NtCIQjytQJc"
   },
   "source": [
    "### ejercicio 10.3 ###\n",
    "Codificar un programa para dar entrada y posterior visualización de un arreglo bidimensional.\n",
    "El método leer() da entrada a los elementos de la matriz que se pasa como argumento, y el método visualizar() muestra la tabla en la pantalla.\n",
    "\n",
    "**Solución**:\n",
    "\n",
    "```java\n",
    "import java.util.Scanner;\n",
    "\n",
    "class Tabla { \n",
    "    public static void main(String [] a) {\n",
    "        int v[][]= new int[3][5];\n",
    "        leer(v);\n",
    "        visualizar(v);\n",
    "    }\n",
    "    \n",
    "    static void leer(int a[][]) {\n",
    "        int i,j;\n",
    "        Scanner entrada = new Scanner(System.in);\n",
    "        System.out.println(\"Entrada de datos de la matriz\");\n",
    "        for (i = 0; i < a.length; i++) {\n",
    "            System.out.println(\"Fila: \" + i);\n",
    "            for (j = 0; j < a[i].length; j++)\n",
    "                a[i][j]= entrada.nextInt();\n",
    "        }\n",
    "    }\n",
    "    \n",
    "    static void visualizar (int a[][]) {\n",
    "        int i,j;\n",
    "        System.out.println(\"\\n\\t Matriz leída\\n\");for (i = 0; i < a.length; i++)\n",
    "        {\n",
    "            for (j = 0; j < a[i].length; j++)\n",
    "                System.out.print(a[i][j] + \" \");\n",
    "            System.out.println(\" \");\n",
    "        }\n",
    "    }\n",
    "}        \n",
    "```\n",
    "\n",
    "\n"
   ]
  },
  {
   "cell_type": "markdown",
   "metadata": {
    "id": "XHuNNdxetQJd"
   },
   "source": [
    "## Utilización de arreglos como parámetros ##\n",
    "\n",
    "   \n",
    "```java\n",
    "\n",
    "// Funcion\n",
    "void SumaDeMats(double m1[][], double m2[][]) {\n",
    "  // Codigo ...\n",
    "}\n",
    "\n",
    "// Invocación\n",
    "final int N = 5;\n",
    "double mat1[][] = new double[N][N];\n",
    "double mat2[][] = new double[N][N];\n",
    "SumaDeMats(mat1,mat2);\n",
    "```    "
   ]
  },
  {
   "cell_type": "markdown",
   "metadata": {
    "id": "5hvv6qEPtQJf"
   },
   "source": [
    "### ejercicio 10.4 ###\n",
    "Haga un programa que lea un array e imprima el producto de sus elementos.\n",
    "\n",
    "**Solución**\n",
    "\n",
    "    \n",
    "```java\n",
    "import java.util.Scanner;\n",
    "\n",
    "class ProductoMat {\n",
    "    \n",
    "    static Scanner entrada = new Scanner(System.in);\n",
    "    \n",
    "    public static void main(String [] a) { \n",
    "        double v[];\n",
    "        int n;\n",
    "        System.out.print(\"Número de elementos: \");\n",
    "        n = entrada.nextInt();\n",
    "        v = new double[n];\n",
    "        leerArreglo (v);\n",
    "        System.out.println(\"El producto de los elementos = \" + producto(v));\n",
    "    }\n",
    "    \n",
    "    static void leerArreglo (double a[]) {\n",
    "        int n = 0;\n",
    "        System.out.println(\"Introduzca \" + a.length + \" datos.\");\n",
    "        for (; n < a.length; n++) {\n",
    "            a[n] = entrada.nextDouble();\n",
    "        }\n",
    "    }\n",
    "    \n",
    "    static double producto(double w[]) {\n",
    "        double pd = 1.0;\n",
    "        int n = w.length - 1;\n",
    "        while (n > 0) {\n",
    "            if (w[n] > 0.0) {\n",
    "                pd *= w[n--];\n",
    "            }\n",
    "            else {\n",
    "                n--;\n",
    "            }\n",
    "        }\n",
    "        return pd;\n",
    "    }\n",
    "}\n",
    "```"
   ]
  },
  {
   "cell_type": "markdown",
   "metadata": {
    "id": "zToXs76ftQJg"
   },
   "source": [
    "## Precauciones ##\n",
    "\n",
    "Un método conoce cuántos elementos tiene el arreglo pasado como argumento pero\n",
    "puede ocurrir que no todos los elementos sean significativos; si esto ocurre, hay que pasar un segundo argumento que indique el número real de elementos.\n",
    "\n",
    "#### Ejemplo ###\n",
    "\n",
    "El método sumaDeEnteros() suma los valores de los n elementos de un arreglo y devuelve el resultado.\n",
    "\n",
    "**Solución**:\n",
    "    \n",
    "```java\n",
    "// Metodo\n",
    "int sumaDeEnteros(int[]arregloEnteros, int n) {\n",
    "    int i, s;\n",
    "    for (i = s = 0; i < n; )\n",
    "        s += arregloEnteros[i++];\n",
    "    return s;\n",
    "}\n",
    "...    \n",
    "// Invocacion\n",
    "int lista[] = new int[33];\n",
    "n = 10;\n",
    "sumaDeEnteros (lista, n);\n",
    "```"
   ]
  },
  {
   "cell_type": "markdown",
   "metadata": {
    "id": "xOslQGBqtQJh"
   },
   "source": [
    "### ejercicio 10.5 ###\n",
    "\n",
    "**Solución**:\n",
    "\n",
    "```java\n",
    "import java.util.Scanner;\n",
    "\n",
    "class SumaMax {\n",
    "    public static void main(String [] a) {\n",
    "        final int NUM = 21;\n",
    "        int items[] = new int[NUM];\n",
    "        int n;\n",
    "        n = entrada(items); // devuelve el número de elementos\n",
    "        System.out.println(\"\\nSuma de los elementos: \" +\n",
    "                sumaEnteros(items,n));\n",
    "        System.out.println(\"\\nValor máximo: \" + maximo(items,n));\n",
    "    }\n",
    "\n",
    "    static int entrada(int w[]) {\n",
    "        int k = 0, x;\n",
    "        Scanner entrada = new Scanner(System.in);\n",
    "        System.out.println(\"Introduzca un máximo de \" + w.length + \"datos, terminar con -1\");\n",
    "        do {\n",
    "            x = entrada.nextInt();\n",
    "            if (x != -1 )\n",
    "                w[k++] = x;\n",
    "        } while ((k < w.length) && (x != -1));\n",
    "        return k;\n",
    "    }\n",
    "\n",
    "    static int sumaEnteros(int w [], int n) {\n",
    "        int i, total = 0;\n",
    "        for (i = 0; i < n; i++)\n",
    "            total += w[i];\n",
    "        return total;\n",
    "    }\n",
    "\n",
    "    static int maximo(int w[], int n) {\n",
    "        int mx, i;\n",
    "        mx = w[0];\n",
    "        for (i = 1; i < n; i++)\n",
    "            mx = (w[i]>mx ? w[i]: mx);\n",
    "        return mx;\n",
    "    }\n",
    "}\n",
    "```"
   ]
  },
  {
   "cell_type": "code",
   "execution_count": null,
   "metadata": {
    "id": "SC8XxibutQJi"
   },
   "outputs": [],
   "source": []
  }
 ],
 "metadata": {
  "colab": {
   "name": "matrices.ipynb",
   "provenance": []
  },
  "kernelspec": {
   "display_name": "Python 3",
   "language": "python",
   "name": "python3"
  },
  "language_info": {
   "codemirror_mode": {
    "name": "ipython",
    "version": 3
   },
   "file_extension": ".py",
   "mimetype": "text/x-python",
   "name": "python",
   "nbconvert_exporter": "python",
   "pygments_lexer": "ipython3",
   "version": "3.8.8"
  }
 },
 "nbformat": 4,
 "nbformat_minor": 1
}

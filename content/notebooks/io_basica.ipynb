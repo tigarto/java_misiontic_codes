{
 "cells": [
  {
   "cell_type": "code",
   "execution_count": null,
   "metadata": {},
   "outputs": [],
   "source": [
    "!pip3 install tutormagic\n",
    "%load_ext tutormagic"
   ]
  },
  {
   "cell_type": "code",
   "execution_count": null,
   "metadata": {},
   "outputs": [],
   "source": [
    "import warnings\n",
    "warnings.filterwarnings(\"ignore\", category=DeprecationWarning)"
   ]
  },
  {
   "cell_type": "code",
   "execution_count": null,
   "metadata": {},
   "outputs": [],
   "source": [
    "# Run and print a shell command.\n",
    "def run(cmd):\n",
    "  print('>> {}'.format(cmd))\n",
    "  !{cmd}  # This is magic to run 'cmd' in the shell.\n",
    "  print('')\n",
    "\n",
    "def compile(nombre_clase):\n",
    "  run('javac {}.java'.format(nombre_clase))\n",
    "\n",
    "def execute(nombre_clase):\n",
    "  run('java {}'.format(nombre_clase))\n",
    "\n",
    "def ejecutar(nombre_clase):\n",
    "  compile(nombre_clase)\n",
    "  execute(nombre_clase)"
   ]
  },
  {
   "cell_type": "code",
   "execution_count": null,
   "metadata": {},
   "outputs": [],
   "source": [
    "# Update and upgrade the system before installing anything else.\n",
    "run('apt-get update > /dev/null')\n",
    "run('apt-get upgrade > /dev/null')\n",
    "\n",
    "# Install the Java JDK.\n",
    "run('apt-get install default-jdk > /dev/null')\n",
    "\n",
    "# Check the Java version to see if everything is working well.\n",
    "run('javac -version')"
   ]
  },
  {
   "cell_type": "markdown",
   "metadata": {},
   "source": [
    "# Entrada y salida en java"
   ]
  },
  {
   "cell_type": "markdown",
   "metadata": {},
   "source": [
    "Las operaciones de entrada y salida son importantes por que permiten la interacción entre el programa y el usuario. Para este caso, la salida la asociaremos a la pantalla y la entrada la asociaremos al teclado."
   ]
  },
  {
   "cell_type": "markdown",
   "metadata": {},
   "source": [
    "## Salida en java\n",
    "\n",
    "### 1. Recordando la salida en Python\n",
    "\n",
    "En python la instrucción para mostrar datos en pantalla es la función ```print```, esta, desde el punto de vista mas basico, tiene la siguiente sintaxis:\n",
    "\n",
    "```python\n",
    "print(\"Lista de mensajes y variables separados por coma\")\n",
    "```\n",
    "\n",
    "### 2. Salida en pantalla en Java\n",
    "\n",
    "El dispositivo de salida estándar suele ser un monitor. En Java la salida en el dispositivo de salida estándar se efectúa empleando el objeto de salida estándar ```System.out```. El objeto ```System.out``` tiene acceso a dos métodos, ```print``` y ```println```, para dar salida a una cadena en el dispositivo de salida estándar.\n",
    "\n",
    "La forma general empleada para mostrar algo en consola se muestra a continuación:\n",
    "\n",
    "```java\n",
    "System.out.printf(FormatString, ArgList);\n",
    "```\n",
    "\n",
    "Donde:\n",
    "* **FormatString**: String que contiene texto y/o espeficidadores de formato especiales.\n",
    "* **ArgList**: Es una lista de argumentos adicionales que seran formateados de acuerdo a los especificadores de formato listadoa en el argumento pasado como ```FormatString```.\n",
    "\n",
    "Es importante aclarar sintaxis anterior tambien aplica al método ```println```. La diferencia entre los metodos ```print``` y ```println``` radica en que el último método agrega un enter al final de la cadena desplegada en la pantalla.\n",
    "\n",
    "Para comprender como es la salida en pantalla en java, realicemos una comparación con el caso de python mediante una serie de ejemplos."
   ]
  },
  {
   "cell_type": "markdown",
   "metadata": {},
   "source": [
    "**Ejemplo 1**: Dado el siguiente código python:"
   ]
  },
  {
   "cell_type": "code",
   "execution_count": null,
   "metadata": {
    "scrolled": true
   },
   "outputs": [],
   "source": [
    "print(\"Adios mundo cruel\")"
   ]
  },
  {
   "cell_type": "markdown",
   "metadata": {},
   "source": [
    "¿Como es su implementacion en java?"
   ]
  },
  {
   "cell_type": "code",
   "execution_count": null,
   "metadata": {},
   "outputs": [],
   "source": [
    "%%writefile ExampleIO1.java \n",
    "public class ExampleIO1 {\n",
    "    public static void main(String[] args) {\n",
    "        System.out.println(\"Adios mundo cruel\");\n",
    "    }\n",
    "}"
   ]
  },
  {
   "cell_type": "code",
   "execution_count": null,
   "metadata": {},
   "outputs": [],
   "source": [
    "ejecutar('ExampleIO1')"
   ]
  },
  {
   "cell_type": "code",
   "execution_count": null,
   "metadata": {},
   "outputs": [],
   "source": [
    "%%tutor -l java -k\n",
    "\n",
    "public class ExampleIO1 {\n",
    "    public static void main(String[] args) {\n",
    "        System.out.println(\"Adios mundo cruel\");\n",
    "    }\n",
    "}"
   ]
  },
  {
   "cell_type": "markdown",
   "metadata": {},
   "source": [
    "**Ejemplo 2**: Dado el siguiente código python:"
   ]
  },
  {
   "cell_type": "code",
   "execution_count": null,
   "metadata": {},
   "outputs": [],
   "source": [
    "print(29/4)\n",
    "print(\"Hola que tal?\")\n",
    "print(12)\n",
    "print(\"4 + 7\")\n",
    "print(4 + 7)\n",
    "print('A')\n",
    "print(\"4 + 7 = \" + str(4 + 7))   # print(\"4 + 7 =\",(4 + 7)) \n",
    "print(2 + 3*5)\n",
    "print(\"Hola \\nque tal?\")"
   ]
  },
  {
   "cell_type": "markdown",
   "metadata": {},
   "source": [
    "La implementación en java es: "
   ]
  },
  {
   "cell_type": "code",
   "execution_count": null,
   "metadata": {},
   "outputs": [],
   "source": [
    "%%writefile ExampleIO2.java \n",
    "\n",
    "public class ExampleIO2 {\n",
    "    public static void main(String[] args) {\n",
    "        System.out.println(\"Adios mundo cruel\");\n",
    "        System.out.println(29/4); // el resultado es 7 y no 7.25\n",
    "        System.out.println(\"Hola que tal?\");\n",
    "        System.out.println(12);\n",
    "        System.out.println(\"4 + 7\");\n",
    "        System.out.println(4 + 7);\n",
    "        System.out.println('A');\n",
    "        System.out.println(\"4 + 7 = \" + (4 + 7));\n",
    "        System.out.println(2 + 3*5);\n",
    "        System.out.println(\"Hola \\nque tal?\");\n",
    "    }\n",
    "}"
   ]
  },
  {
   "cell_type": "code",
   "execution_count": null,
   "metadata": {},
   "outputs": [],
   "source": [
    "ejecutar('ExampleIO2')"
   ]
  },
  {
   "cell_type": "code",
   "execution_count": null,
   "metadata": {},
   "outputs": [],
   "source": [
    "%%tutor -l java -k\n",
    "\n",
    "public class ExampleIO2 {\n",
    "    public static void main(String[] args) {\n",
    "        System.out.println(\"Adios mundo cruel\");\n",
    "        System.out.println(29/4);\n",
    "        System.out.println(\"Hola que tal?\");\n",
    "        System.out.println(12);\n",
    "        System.out.println(\"4 + 7\");\n",
    "        System.out.println(4 + 7);\n",
    "        System.out.println('A');\n",
    "        System.out.println(\"4 + 7 = \" + (4 + 7));\n",
    "        System.out.println(2 + 3*5);\n",
    "        System.out.println(\"Hola \\nque tal?\");\n",
    "    }\n",
    "}"
   ]
  },
  {
   "cell_type": "markdown",
   "metadata": {},
   "source": [
    "**Ejemplo 3**: Dado el siguiente código python:"
   ]
  },
  {
   "cell_type": "code",
   "execution_count": null,
   "metadata": {},
   "outputs": [],
   "source": [
    "print(\"Hola que tal. \", end = \"\")\n",
    "print(\"Mi nombre es Bon, James Bon.\")"
   ]
  },
  {
   "cell_type": "markdown",
   "metadata": {},
   "source": [
    "La implementación en código java se muestra a continuación:"
   ]
  },
  {
   "cell_type": "code",
   "execution_count": null,
   "metadata": {},
   "outputs": [],
   "source": [
    "%%tutor -l java -k\n",
    "\n",
    "public class ExampleIO3 {\n",
    "    public static void main(String[] args) {\n",
    "        System.out.print(\"Hola que tal. \");                     // Metodo print (no hay cambio de linea)\n",
    "        System.out.println(\"Mi nombre es Bon, James Bon.\");     // Metodo println  \n",
    "    }\n",
    "}"
   ]
  },
  {
   "cell_type": "markdown",
   "metadata": {},
   "source": [
    "#### Caracteres especiales\n",
    "\n",
    "La siguiente tabla muestra algunas secuencias de escape las cuales permiten controlar la salida mostrada en pantalla.\n",
    "\n",
    "|Simbolo|Secuencia de escape |Descripción|\n",
    "|:---|:---|:---|\n",
    "|```\\n``` | Nueva línea | El cursor se mueve al inicio de la siguiente línea |\n",
    "|```\\t``` |Tabulador | El cursor se mueve a la siguiente parada del tabulador |\n",
    "|```\\b``` |Espacio de retroceso | El cursor se mueve un espacio a la izquierda |\n",
    "|```\\r``` |Retorno | El cursor se mueve al inicio de la línea actual (no a la siguiente línea) |\n",
    "|```\\\\``` |Diagonales invertidas | Se imprime una diagonal inversa |\n",
    "|```\\'``` |Comilla simple | Se imprime una comilla simple |\n",
    "|```\\\"``` |Comilla doble | Se imprimen comillas dobles |\n",
    "\n"
   ]
  },
  {
   "cell_type": "markdown",
   "metadata": {},
   "source": [
    "**Ejemplo 4**: Analice y comprenda la salida arrojada por el siguiente programa en java:"
   ]
  },
  {
   "cell_type": "code",
   "execution_count": null,
   "metadata": {},
   "outputs": [],
   "source": [
    "%%tutor -l java -k\n",
    "\n",
    "public class ExampleIO4 {\n",
    "    public static void main(String[] args) {\n",
    "        System.out.println(\"Hello \" + \"World\");\n",
    "        System.out.println(\"The value is: \" + 5);\n",
    "        System.out.println(\"The value is: \" + value);\n",
    "        System.out.println();\n",
    "        System.out.print(\"These are our top sellers:\\n\");\n",
    "        System.out.print(\"\\tComputer games\\n\\tCoffee\\n \");\n",
    "        System.out.println(\"\\tAspirin\");\n",
    "        System.out.println();\n",
    "        System.out.println(\"We can join a string to \" +\n",
    "                           \"a number like this: \" + 5);\n",
    "        System.out.println();\n",
    "        System.out.println(\"The following will be printed \" +\n",
    "                           \"in a tabbed format: \" +\n",
    "                           \"\\n\\tFirst = \" + 5 * 6 + \", \" +\n",
    "                           \"\\n\\tSecond = \" + (6 + 4) + \",\" +\n",
    "                           \"\\n\\tThird = \" + 16.7 + \".\"); \n",
    "    }\n",
    "}"
   ]
  },
  {
   "cell_type": "markdown",
   "metadata": {},
   "source": [
    "#### Formateando la salida\n",
    "\n",
    "Recordemos la sintaxis de uso asociada a las funciones ```print``` y ```println```\n",
    "\n",
    "```java\n",
    "System.out.printf(FormatString, ArgList);\n",
    "```\n",
    "\n",
    "Mediante el formateo de una salida, se puede obtener un mayor control sobre lo que se quiere mostrar a la salida. Antes de entrar en detalle a hablar del tema, observe las siguiente figuras:\n",
    "\n",
    "![print1](io_basica/print1.jpg)\n",
    "\n",
    "![print2](io_basica/print2.jpg)\n",
    "\n",
    "![print3](io_basica/print3.jpg)\n",
    "\n",
    "![print4](io_basica/print4.jpg)\n",
    "\n",
    "Si observa con detenimiento, hay una porción de la cadena que contiene el signo de **%** seguido de unos caracteres (Cerrado en circulo en las figuras anteriores), a esta se le conoce como **especificador de formato y control**. Un especificador de formato para uso general, carácter y tipos numéricos tiene la siguiente sintaxis:\n",
    "\n",
    "```java\n",
    "%[argument_index$][flags][width][.precision]conversion\n",
    "```\n",
    "\n",
    "Sobre la sintaxis anterior tenemos:\n",
    "* Las expresiones entre corchetes son opcionales. Es decir, pueden o no aparecer en un especificador de formato.\n",
    "* La opción **```argument_index```** es un número entero (decimal), que indica la posición del argumento en la lista de argumentos. \n",
    "* La opción **```flags```** es un conjunto de caracteres que modifica el formato de salida. El conjunto de banderas válidas depende de la conversión.\n",
    "* La opción **```width```** es un número entero (decimal), que indica el número mínimo de caracteres que se escriben en la salida.\n",
    "* La opción **```precision```** es un número entero (decimal) que normalmente se usa para restringir el número de caracteres. El comportamiento específico depende de la conversión.\n",
    "* La **```conversion```** requerida es de un carácter que indica cómo se debe formatear el argumento. El conjunto de conversiones válidas para un argumento dado depende del tipo de datos del argumento. La siguiente tabla muestra algunos de los caracteres empleados para conversión:\n",
    "\n",
    "|Caracter de conversion|Descripción|\n",
    "|:---|:---|\n",
    "|```s```|Cadena de caracteres|\n",
    "|```c```|Carácter sencillo |\n",
    "|```d```|Entero en formato de decimal |\n",
    "|```e```|Punto flotante en formato en notación científica |\n",
    "|```f```|Punto flotante en formato en decimal|\n",
    "\n",
    "Los siguientes ejemplos permiten entender el siguificado del formateo anteriormente expuesto:"
   ]
  },
  {
   "cell_type": "markdown",
   "metadata": {},
   "source": [
    "**Ejemplo 5**:"
   ]
  },
  {
   "cell_type": "code",
   "execution_count": null,
   "metadata": {},
   "outputs": [],
   "source": [
    "%%tutor -l java -k\n",
    "\n",
    "public class ExampleIO5 {\n",
    "    public static void main(String[] args) {\n",
    "        double horas = 34.45;\n",
    "        double tarifa = 15.00;\n",
    "        double tolerancia = 0.01000;\n",
    "        System.out.println(\"Notacion decimal fija:\");\n",
    "        System.out.printf(\"horas = %.2f, tarifa = %.2f, pago = %.2f,\" + \n",
    "                          \" tolerancia = %.2f\\n\\n\", horas, tarifa, horas * tarifa, tolerancia);\n",
    "        System.out.println(\"Notacion cientifica:\");\n",
    "        System.out.printf(\"horas = %e, tarifa = %e, pago = %e, \\n\" + \n",
    "                           \"tolerancia = %e\\n\",horas, tarifa, horas * tarifa, tolerancia);\n",
    "    }\n",
    "}"
   ]
  },
  {
   "cell_type": "markdown",
   "metadata": {},
   "source": [
    "**Ejemplo 6**:"
   ]
  },
  {
   "cell_type": "code",
   "execution_count": null,
   "metadata": {},
   "outputs": [],
   "source": [
    "%%writefile ExampleIO6.java \n",
    "public class ExampleIO6 {\n",
    "    public static void main(String[] args) {\n",
    "        final double PI = 3.14159265;\n",
    "        double radio = 12.67; \n",
    "        double altura = 12.00;\n",
    "        \n",
    "        System.out.println(\"Dos cifras decimales: \");\n",
    "        System.out.printf(\"radio = %.2f, \"\n",
    "                          + \"altura = %.2f, volumen = %.2f, \"\n",
    "                          + \"PI = %.2f\\n\\n\", radio, altura,PI * radio * radio * altura, PI);\n",
    "        \n",
    "        System.out.println(\"Tres cifras decimales: \");\n",
    "        System.out.printf(\"radio = %.3f, \"\n",
    "                          + \"altura = %.3f, volumen = %.3f, \"\n",
    "                          + \"PI = %.3f\\n\\n\", radio, altura,PI * radio * radio * altura, PI);\n",
    "        \n",
    "        System.out.println(\"Cuatro cifras decimales: \");\n",
    "        System.out.printf(\"radio = %.4f, \"\n",
    "                          + \"altura = %.4f, volumen = %.4f, \"\n",
    "                          + \"PI = %.4f\\n\\n\", radio, altura,PI * radio * radio * altura, PI);\n",
    "        \n",
    "        System.out.println(\"Diferentes cifras decimales: \");\n",
    "        System.out.printf(\"radio = %.1f, \"\n",
    "                          + \"altura = %.2f, volumen = %.5f, \"\n",
    "                          + \"PI = %.4f\\n\\n\", radio, altura,PI * radio * radio * altura, PI);\n",
    "    }\n",
    "}"
   ]
  },
  {
   "cell_type": "code",
   "execution_count": null,
   "metadata": {},
   "outputs": [],
   "source": [
    "ejecutar('ExampleIO6')"
   ]
  },
  {
   "cell_type": "code",
   "execution_count": null,
   "metadata": {},
   "outputs": [],
   "source": [
    "%%tutor -l java -k\n",
    "\n",
    "public class ExampleIO6 {\n",
    "    public static void main(String[] args) {\n",
    "        final double PI = 3.14159265;\n",
    "        double radio = 12.67; \n",
    "        double altura = 12.00;\n",
    "        \n",
    "        System.out.println(\"Dos cifras decimales: \");\n",
    "        System.out.printf(\"radio = %.2f, \"\n",
    "                          + \"altura = %.2f, volumen = %.2f, \"\n",
    "                          + \"PI = %.2f\\n\\n\", radio, altura,PI * radio * radio * altura, PI);\n",
    "        \n",
    "        System.out.println(\"Tres cifras decimales: \");\n",
    "        System.out.printf(\"radio = %.3f, \"\n",
    "                          + \"altura = %.3f, volumen = %.3f, \"\n",
    "                          + \"PI = %.3f\\n\\n\", radio, altura,PI * radio * radio * altura, PI);\n",
    "        \n",
    "        System.out.println(\"Cuatro cifras decimales: \");\n",
    "        System.out.printf(\"radio = %.4f, \"\n",
    "                          + \"altura = %.4f, volumen = %.4f, \"\n",
    "                          + \"PI = %.4f\\n\\n\", radio, altura,PI * radio * radio * altura, PI);\n",
    "        \n",
    "        System.out.println(\"Diferentes cifras decimales: \");\n",
    "        System.out.printf(\"radio = %.1f, \"\n",
    "                          + \"altura = %.2f, volumen = %.5f, \"\n",
    "                          + \"PI = %.4f\\n\\n\", radio, altura,PI * radio * radio * altura, PI);\n",
    "    }\n",
    "}"
   ]
  },
  {
   "cell_type": "markdown",
   "metadata": {},
   "source": [
    "**Ejemplo 7**:"
   ]
  },
  {
   "cell_type": "code",
   "execution_count": null,
   "metadata": {},
   "outputs": [],
   "source": [
    "%%tutor -l java -k\n",
    "\n",
    "public class ExampleIO7 {\n",
    "    public static void main(String[] args) {\n",
    "        int num = 96;\n",
    "        double tasa = 15.50;\n",
    "        System.out.println(\"123456789012345\");\n",
    "        System.out.printf(\"%5d \\n\", num); \n",
    "        System.out.printf(\"%5.2f \\n\", tasa); \n",
    "        System.out.printf(\"%5d%6.2f \\n\", num, tasa);\n",
    "        System.out.printf(\"%5d%6.2f \\n\", num, tasa);\n",
    "    }\n",
    "}"
   ]
  },
  {
   "cell_type": "markdown",
   "metadata": {},
   "source": [
    "**Ejemplo 8**:"
   ]
  },
  {
   "cell_type": "code",
   "execution_count": null,
   "metadata": {},
   "outputs": [],
   "source": [
    "%%tutor -l java -k\n",
    "\n",
    "public class ExampleIO8 {\n",
    "    public static void main(String[] args) {\n",
    "        int num = 763; \n",
    "        double x = 658.75; \n",
    "        String str = \" Programa Java.\";\n",
    "        System.out.println(\"1234567890123456789\" + \n",
    "                           \"01234567890\"); \n",
    "        System.out.printf(\"%5d%7.2f%15s\\n\", num, x, str); \n",
    "        System.out.printf(\"%15s%6d%9.2f\\n\", str, num, x); \n",
    "        System.out.printf(\"%8.2f%7d%15s\\n\", x, num, str); \n",
    "        System.out.printf(\"num = %5d\\n\", num); \n",
    "        System.out.printf(\"x = %10.2f\\n\", x); \n",
    "        System.out.printf(\"str = %15s\\n\", str); \n",
    "        System.out.printf(\"%10s%7d\\n\", \"Programa No.\", 4);\n",
    "    }\n",
    "}"
   ]
  },
  {
   "cell_type": "markdown",
   "metadata": {},
   "source": [
    "**Ejemplo 9**:"
   ]
  },
  {
   "cell_type": "code",
   "execution_count": null,
   "metadata": {},
   "outputs": [],
   "source": [
    "%%tutor -l java -k\n",
    "\n",
    "public class ExampleIO8 {\n",
    "    public static void main(String[] args) {\n",
    "        int num = 763; \n",
    "        double x = 658.75; \n",
    "        String str = \"Programa Java.\"; \n",
    "        System.out.println(\"1234567890123456789\" + \"01234567890\"); \n",
    "        System.out.printf(\"%-5d%7.2f%-15s *** \\n\", num, x, str); \n",
    "        System.out.printf(\"%-15s%-6d%-9.2f *** \\n\", str, num, x); \n",
    "        System.out.printf(\"%-8.2f%-7d%-15s *** \\n\", x, num, str); \n",
    "        System.out.printf(\"num = %-5d ***\\n\",num); \n",
    "        System.out.printf(\"x = %-10.2f ***\\n\", x); \n",
    "        System.out.printf(\"str = %-15s ***\\n\", str); \n",
    "        System.out.printf(\"%-10s%-7d ***\\n\", \"Programa No.\", 4);\n",
    "    }\n",
    "}"
   ]
  },
  {
   "cell_type": "markdown",
   "metadata": {},
   "source": [
    "## Entrada en Java\n",
    "\n",
    "Para leer datos desde el teclado se usa la clase **```Scanner```**. Esta clase se encuentre definida en **```java.util```**, es necesario importarla agregando la siguiente sentencia en el código fuente:\n",
    "\n",
    "```java\n",
    "import java.util.Scanner;\n",
    "```\n",
    "\n",
    "La clase ```Scanner``` trabaja con ```System.in```. \n",
    "\n",
    "### Uso de la clase Scanner\n",
    "\n",
    "A continuación se detallan los pasos necesarios para entrar datos por teclado mediante la clase ```Scanner```:\n",
    "1. Instanciar un objeto de la clase ```Scanner```:\n",
    "\n",
    "```java\n",
    "Scanner keyboard = new Scanner (System.in);\n",
    "```\n",
    "\n",
    "2. Hacer uso de los diferentes métodos de la ```Scanner``` a traves del objeto creado para tal fin. Por ejemplo, si lo que se deseara es entrar los datos asociados a un nombre el código seria el siguiente:\n",
    "\n",
    "```java\n",
    "System.out.print(\"¿Cual es su nombre?\");\n",
    "String nombre;\n",
    "nombre = keyboard.nextLine();\n",
    "```\n",
    "\n",
    "La clase ```Scanner``` usa métodos diferentes para ingresar los datos según el tipo al que pertenecen. La siguiente tabla muestra como llevar a cabo esto:\n",
    "\n",
    "|Método | Ejemplo y descripción |\n",
    "|:---|:---|\n",
    "|```nextByte```|**Ejemplo de uso**: <br> ```byte x;``` <br>  ```Scanner keyboard = new Scanner(System.in);``` <br>  ```System.out.print(\"Enter a byte value: \");``` <br>  ```x = keyboard.nextByte();``` <br> <br> **Descripción**: Devuelve una entrada como ```byte```|\n",
    "|```nextDouble```|**Ejemplo de uso**: <br> ```double number;``` <br>  ```Scanner keyboard = new Scanner(System.in);``` <br>  ```System.out.print(\"Enter a double value: \");``` <br>  ```number = keyboard.nextDouble();``` <br> <br> **Descripción**: Retorna una entrada como ```double```|\n",
    "|```nextFloat```|**Ejemplo de uso**: <br> ```float number;``` <br>  ```Scanner keyboard = new Scanner(System.in);``` <br>  ```System.out.print(\"Enter a float value: \");``` <br>  ```number = keyboard.nextFloat();``` <br> <br> **Descripción**: Retorna una entrada como ```float```|\n",
    "|```nextInt```|**Ejemplo de uso**: <br> ```int number;``` <br>  ```Scanner keyboard = new Scanner(System.in);``` <br>  ```System.out.print(\"Enter a int value: \");``` <br>  ```number = keyboard.nextInt();``` <br> <br> **Descripción**: Retorna una entrada como ```int```|\n",
    "|```nextLine```|**Ejemplo de uso**: <br> ```String name;``` <br>  ```Scanner keyboard = new Scanner(System.in);``` <br>  ```System.out.print(\"Enter your name: \");``` <br>  ```number = keyboard.nextLine();``` <br> <br> **Descripción**: Retorna una entrada como ```String```|\n",
    "|```nextLong```|**Ejemplo de uso**: <br> ```long number;``` <br>  ```Scanner keyboard = new Scanner(System.in);``` <br>  ```System.out.print(\"Enter a long value: \");``` <br>  ```number = keyboard.nextLong();``` <br> <br> **Descripción**: Retorna una entrada como ```long```|\n",
    "|```nextShort```|**Ejemplo de uso**: <br> ```short number;``` <br>  ```Scanner keyboard = new Scanner(System.in);``` <br>  ```System.out.print(\"Enter a short value: \");``` <br>  ```number = keyboard.nextShort();``` <br> <br> **Descripción**: Retorna una entrada como ```short```|\n",
    "\n",
    "Para aterrizar esto, miremos un programa que ilustre como se entra datos empleando **java** y **python**."
   ]
  },
  {
   "cell_type": "markdown",
   "metadata": {},
   "source": [
    "**Ejemplo 10**: Elabore un algoritmo que lea el nuombre de una persona y que imprima el mensaje Hola seguido del nombre de la persona."
   ]
  },
  {
   "cell_type": "markdown",
   "metadata": {},
   "source": [
    "**Python**"
   ]
  },
  {
   "cell_type": "code",
   "execution_count": null,
   "metadata": {
    "scrolled": true
   },
   "outputs": [],
   "source": [
    "nom = input(\"Digite su nombre: \")\n",
    "print(\"Hola \" + nom)"
   ]
  },
  {
   "cell_type": "markdown",
   "metadata": {},
   "source": [
    "**Java** "
   ]
  },
  {
   "cell_type": "code",
   "execution_count": null,
   "metadata": {},
   "outputs": [],
   "source": [
    "%%writefile ExampleIO10.java\n",
    "import java.util.Scanner;\n",
    "\n",
    "public class ExampleIO10 {\n",
    "    public static void main(String[] args) {\n",
    "        String nom;\n",
    "        System.out.print(\"Digite su nombre: \");\n",
    "        Scanner teclado = new Scanner(System.in);  // Declaracion de un objeto (llamado teclado) de la clase Scanner\n",
    "        nom = teclado.nextLine();     \n",
    "        System.out.println(\"Hola \" + nom);\n",
    "    }\n",
    "}"
   ]
  },
  {
   "cell_type": "code",
   "execution_count": null,
   "metadata": {},
   "outputs": [],
   "source": []
  },
  {
   "cell_type": "code",
   "execution_count": null,
   "metadata": {},
   "outputs": [],
   "source": [
    "ejecutar('ExampleIO10')"
   ]
  },
  {
   "cell_type": "markdown",
   "metadata": {},
   "source": [
    "**Ejemplo 11**: Elabore un algoritmo que lea el nombre de una persona, la estatura (en cm) y el peso (en kg) y que muestre los datos leidos y la relacion estatura peso (IMC: Indice de masa corporal) cuya formula es:\n",
    "\n",
    "$IMC=\\frac{peso}{estatura^2}$\n",
    "\n",
    "**Python**"
   ]
  },
  {
   "cell_type": "code",
   "execution_count": null,
   "metadata": {},
   "outputs": [],
   "source": [
    "peso = float(input(\"Digite el peso (en kg): \"))\n",
    "estatura = float(input(\"Digite la estatura (en cm): \"))\n",
    "estatura /= 100\n",
    "IMC = peso/estatura**2 \n",
    "print(\"IMC: \" + str(IMC))"
   ]
  },
  {
   "cell_type": "markdown",
   "metadata": {},
   "source": [
    "**Java** \n",
    "\n",
    "```java\n",
    "import java.util.Scanner;\n",
    "import java.lang.Math;\n",
    "\n",
    "public class ExampleIO11 {\n",
    "    public static void main(String[] args) {\n",
    "        // Declaracion de variables y objetos\n",
    "        double peso, estatura, IMC;\n",
    "        Scanner keyboard = new Scanner(System.in);  \n",
    "        \n",
    "        // Programa\n",
    "        System.out.print(\"Digite el peso (en kg): \");\n",
    "        peso = keyboard.nextDouble();\n",
    "        System.out.print(\"Digite la estatura (en cm): \");\n",
    "        estatura = keyboard.nextDouble();\n",
    "        estatura /= 100;\n",
    "        IMC = peso/Math.pow(estatura, 2);     \n",
    "        System.out.println(\"IMC: \" + IMC);\n",
    "    }\n",
    "}\n",
    "```"
   ]
  },
  {
   "cell_type": "markdown",
   "metadata": {},
   "source": [
    "**Ejemplo 12**: Elabore un algoritmo que lea los datos enteros correspondientes a los catetos de un triangulo rectangulo y que calcule en imprima el valor de la hipotenusa de dicho triangulo.\n",
    "\n",
    "**Python**"
   ]
  },
  {
   "cell_type": "code",
   "execution_count": null,
   "metadata": {},
   "outputs": [],
   "source": [
    "import math\n",
    "\n",
    "cat1 = int(input(\"Digite el cateto 1: \"))\n",
    "cat2 = int(input(\"Digite el cateto 2: \"))\n",
    "hip = math.sqrt(math.pow(cat1, 2) + math.pow(cat2, 2))\n",
    "print(\"La hipotenusa es:\",hip)"
   ]
  },
  {
   "cell_type": "markdown",
   "metadata": {},
   "source": [
    "**Java**\n",
    "\n",
    "```java\n",
    "import java.util.Scanner;\n",
    "import java.lang.Math;\n",
    "\n",
    "public class ExampleIO12 {\n",
    "    public static void main(String[] args) {\n",
    "        // Declaracion de variables y objetos\n",
    "        int cat1, cat2;\n",
    "        double hip;\n",
    "        Scanner entrada = new Scanner(System.in);  \n",
    "        \n",
    "        // Programa\n",
    "        System.out.print(\"Digite el cateto 1: \");\n",
    "        cat1 = entrada.nextInt();\n",
    "        System.out.print(\"Digite el cateto 2: \");\n",
    "        cat2 = entrada.nextInt();\n",
    "        \n",
    "        hip = Math.sqrt(Math.pow(cat1, 2) + Math.pow(cat2, 2));   \n",
    "        System.out.println(\"La hipotenisa es: \" + hip);\n",
    "    }\n",
    "}\n",
    "```"
   ]
  },
  {
   "cell_type": "markdown",
   "metadata": {},
   "source": [
    "**Ejemplo 13**: Elabore un algoritmo que solicite un numero de dos digitos y que devuelva como salida el numero invertido. Por ejemplo, si el usuario ingresa 23, el programa deberá mostrar 32."
   ]
  },
  {
   "cell_type": "code",
   "execution_count": null,
   "metadata": {},
   "outputs": [],
   "source": [
    "num = int(input(\"Digite un numero entero de 2 digitos: \"))\n",
    "dec = num//10\n",
    "unid = num%10\n",
    "numInv = unid*10 + dec\n",
    "print(\"-> Respuesta:\", numInv)"
   ]
  },
  {
   "cell_type": "markdown",
   "metadata": {},
   "source": [
    "**Java**\n",
    "\n",
    "```java\n",
    "import java.util.Scanner;\n",
    "import java.lang.Math;\n",
    "\n",
    "public class ExampleIO13 {\n",
    "    public static void main(String[] args) {\n",
    "        // Declaracion de variables y objetos\n",
    "        int dec, unid, num, numInv;\n",
    "        Scanner key = new Scanner(System.in);  \n",
    "        dec = num/10;\n",
    "        unid = num%10;\n",
    "        numInv = unid*10 + dec;\n",
    "        // Programa\n",
    "        System.out.print(\"-> Respuesta: \" + numInv);\n",
    "    }\n",
    "}\n",
    "```"
   ]
  },
  {
   "cell_type": "markdown",
   "metadata": {},
   "source": [
    "**Ejemplo 14**: Ejecute y analice el siguiente programa hecho en **java**:\n",
    "\n",
    "```java\n",
    "import java.util.*;\n",
    "\n",
    "public class ExampleIO14 {\n",
    "    public static void main(String[] args) {\n",
    "        Scanner consola = new Scanner(System.in);\n",
    "        int pies;\n",
    "        int pulgadas;\n",
    "        \n",
    "        System.out.println(\"Ingrese dos enteros separados por espacios.\");\n",
    "        pies = consola.nextInt();\n",
    "        pulgadas = consola.nextInt();\n",
    "        \n",
    "        System.out.println(\"pies = \" + pies);\n",
    "        System.out.println(\"pulgadas = \" + pulgadas);\n",
    "    }\n",
    "}\n",
    "```"
   ]
  },
  {
   "cell_type": "markdown",
   "metadata": {},
   "source": [
    "**Ejemplo 15**: Ejecute y analice el siguiente programa hecho en **java**:\n",
    "\n",
    "```java\n",
    "import java.util.*;\n",
    "\n",
    "public class ExampleIO15 {\n",
    "    public static void main(String[] args) {\n",
    "        Scanner console = new Scanner(System.in);\n",
    "        String nombre;\n",
    "        String apellido;\n",
    "        int edad;\n",
    "        double peso;\n",
    "        \n",
    "        System.out.println(\"Ingrese apellido, nombre,\"\n",
    "                           + \"edad y peso separados \"\n",
    "                           + \"por espacios.\");\n",
    "        nombre = console.nextLine();\n",
    "        apellido = console.nextLine();\n",
    "        edad = console.nextInt();\n",
    "        peso = console.nextDouble();\n",
    "        \n",
    "        System.out.println(\"Nombre: \" + nombre + \" \" + apellido);\n",
    "        System.out.println(\"Edad: \" + edad);\n",
    "        System.out.println(\"Peso: \" + peso);\n",
    "    }\n",
    "}\n",
    "```"
   ]
  },
  {
   "cell_type": "markdown",
   "metadata": {},
   "source": [
    "## Referencias \n",
    "\n",
    "* https://www.browxy.com/\n",
    "* https://www.jdoodle.com/\n",
    "* https://www.browxy.com/"
   ]
  },
  {
   "cell_type": "code",
   "execution_count": null,
   "metadata": {},
   "outputs": [],
   "source": []
  }
 ],
 "metadata": {
  "kernelspec": {
   "display_name": "Python 3",
   "language": "python",
   "name": "python3"
  },
  "language_info": {
   "codemirror_mode": {
    "name": "ipython",
    "version": 3
   },
   "file_extension": ".py",
   "mimetype": "text/x-python",
   "name": "python",
   "nbconvert_exporter": "python",
   "pygments_lexer": "ipython3",
   "version": "3.8.10"
  }
 },
 "nbformat": 4,
 "nbformat_minor": 5
}

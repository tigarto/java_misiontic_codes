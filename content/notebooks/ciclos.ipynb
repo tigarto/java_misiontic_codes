{
 "cells": [
  {
   "cell_type": "code",
   "execution_count": null,
   "metadata": {
    "id": "8r-Rb8L4fCYG"
   },
   "outputs": [],
   "source": [
    "pip install metakernel"
   ]
  },
  {
   "cell_type": "code",
   "execution_count": null,
   "metadata": {
    "id": "_jz10zFnd3YS"
   },
   "outputs": [],
   "source": [
    "from metakernel import register_ipython_magics\n",
    "register_ipython_magics()"
   ]
  },
  {
   "cell_type": "code",
   "execution_count": null,
   "metadata": {
    "id": "y1IIPKyIDuZu"
   },
   "outputs": [],
   "source": [
    "# Run and print a shell command.\n",
    "def run(cmd):\n",
    "  print('>> {}'.format(cmd))\n",
    "  !{cmd}  # This is magic to run 'cmd' in the shell.\n",
    "  print('')\n",
    "\n",
    "def compile(nombre_clase):\n",
    "  run('javac {}.java'.format(nombre_clase))\n",
    "\n",
    "def execute(nombre_clase):\n",
    "  run('java {}'.format(nombre_clase))\n",
    "\n",
    "def ejecutar(nombre_clase):\n",
    "  compile(nombre_clase)\n",
    "  execute(nombre_clase)"
   ]
  },
  {
   "cell_type": "code",
   "execution_count": null,
   "metadata": {
    "id": "s4y6Z03eDzQ2"
   },
   "outputs": [],
   "source": [
    "# Ejecutar esto solo si lo está usando online o en linux\n",
    "# Update and upgrade the system before installing anything else.\n",
    "run('apt-get update > /dev/null')\n",
    "run('apt-get upgrade > /dev/null')\n",
    "\n",
    "# Install the Java JDK.\n",
    "run('apt-get install default-jdk > /dev/null')"
   ]
  },
  {
   "cell_type": "code",
   "execution_count": null,
   "metadata": {
    "colab": {
     "base_uri": "https://localhost:8080/"
    },
    "id": "WS1PBO7eD7jB",
    "outputId": "9a238efa-4b96-4da1-e4c7-f506d6b608a8"
   },
   "outputs": [],
   "source": [
    "# Check the Java version to see if everything is working well.\n",
    "run('javac -version')"
   ]
  },
  {
   "cell_type": "markdown",
   "metadata": {
    "id": "zoYd146YeQnv"
   },
   "source": [
    "\n",
    "# Estructuras repetitivas\n",
    "\n",
    "## Contextualización\n",
    "\n",
    "Suponga que le solucitan un programa que obtenga la suma de los primeros 10 numeros y que imprima su resultado. La solución para este caso será:"
   ]
  },
  {
   "cell_type": "code",
   "execution_count": null,
   "metadata": {
    "id": "KfJH0IuUfS_E"
   },
   "outputs": [],
   "source": [
    "%%tutor\n",
    "# código en python\n",
    "CANTIDAD_NUMEROS = 10\n",
    "sum = 0 + 1 + 2 + 3 + 4 + 5 + 6 + 7 + 8 + 9   # sum = 45\n",
    "print(\"La suma de los primeros \" + str(CANTIDAD_NUMEROS) + \" numeros es: \" + str(sum))"
   ]
  },
  {
   "cell_type": "code",
   "execution_count": null,
   "metadata": {
    "colab": {
     "base_uri": "https://localhost:8080/"
    },
    "id": "9PyQOLT0Csi4",
    "outputId": "f50d673c-e4bc-4ffa-9a7e-dbc29cc5f277"
   },
   "outputs": [],
   "source": [
    "%%writefile Ejemplo1.java\n",
    "/*\n",
    "Código en java\n",
    "*/\n",
    "public class Ejemplo1{\n",
    "    public static void main(String[] args){\n",
    "        final int CANTIDAD_NUMEROS = 10;\n",
    "        int sum = 1 + 2 + 3 + 4 + 5 + 6 + 7 + 8 + 9; // sum=45\n",
    "        System.out.println(\"La suma de los primeros \" + CANTIDAD_NUMEROS + \" numeros es: \" + sum);\n",
    "    }\n",
    "}"
   ]
  },
  {
   "cell_type": "code",
   "execution_count": null,
   "metadata": {
    "colab": {
     "base_uri": "https://localhost:8080/"
    },
    "id": "t7wUeCu9EBmo",
    "outputId": "e47f78c5-5420-462d-a8a1-4b67856eca8f"
   },
   "outputs": [],
   "source": [
    "ejecutar('Ejemplo1')"
   ]
  },
  {
   "cell_type": "markdown",
   "metadata": {
    "id": "HekN--YtfcQo"
   },
   "source": [
    "Ahora supongamos que nos piden que calculemos e impromamos el suma de los 1000 primeros numeros. Si hacemos uso de lo que hemos visto hasta el momento, la implementación del algoritmo sería sumamente engorrosa. Veamos la implementación propuesta (en python):\n",
    "\n",
    "```python\n",
    "CANTIDAD_NUMEROS = 1000\n",
    "sum = 0 + 1 + 2 + 3 + 4 + ... + 997 + 998 + 999   # sum = ?\n",
    "print(\"La suma de los primeros \" + str(cantidad_numeros) + \" numeros es: \" + str(sum))\n",
    "```\n",
    "\n",
    "De la solución anterior, vemos que la implementación anterior no es practica y por lo tanto no es viable. Sin embargo, afortunamente existe una forma de tratar problemas como este y es mediante las **estructuras repetitivas** las cuales trataremos a continuación."
   ]
  },
  {
   "cell_type": "markdown",
   "metadata": {
    "id": "kN3tdB-ugzag"
   },
   "source": [
    "## Definición\n",
    "\n",
    "Una **estructura repetitiva** o **ciclo** es una estructura que permite solucionar problemas que requieran que se repitan un concunto de instrucciones un determinado numero de veces. El diagrama de flujo tipico de un ciclo se muestra a continuación:\n",
    "\n",
    "![](ciclos/ciclo.jpg) \n",
    "\n",
    "Como se puede observar en la figura anterior, un **ciclo** esta compuesto de dos partes principales: \n",
    "1. **La condición**: Esta es la expresión logica que se evalua antes entrar al ciclo. Si el resultado de la evaluación da **True** (V) se ingresa al cuerpo del ciclo y se ejecutan las instrucciones que alli se encuentran. En caso contrario, cuando la evaluación de la instrucción es **False** (F), entonces no se ingresa al cuerpo del ciclo continuandose por lo tanto, con la siguiente instruccion fuera del ciclo.\n",
    "2. **Cuerpo**: Conjunto de instrucciones que se ejecutan cuando se ingresa al ciclo (cuando la condición da verdadera (**True**)). Como se puede ver en la figura, una vez se ejecutan todas al instrucciones que estan en el cuerpo del ciclo, se retorna nuevamente a la **condición** para proceder a determinar si se ingresara de nuevo al cuerpo de ciclo o se culminará su ejecución.\n",
    "\n",
    "En el caso de java, existen dos tipos de ciclo:\n",
    "1. El ciclo while.\n",
    "2. El ciclo do-while\n",
    "3. El ciclo for.\n"
   ]
  },
  {
   "cell_type": "markdown",
   "metadata": {
    "id": "ftMLsTCtkp4o"
   },
   "source": [
    "### Ciclo while\n",
    "\n",
    "Este ciclo tiene la siguiente sintaxis:\n",
    "\n",
    "```python\n",
    "# sintaxis en python\n",
    "while (condicion):\n",
    "    #  Cuerpo del ciclo\n",
    "    instruccion_1\n",
    "    instruccion_2\n",
    "    ...\n",
    "    instruccion_N\n",
    "```\n",
    "```java\n",
    "// sintaxis en java\n",
    "while (condicion){\n",
    "    // Cuerpo del ciclo\n",
    "    instruccion_1;\n",
    "    instruccion_2;\n",
    "    ...\n",
    "    instruccion_N;\n",
    "}\n",
    "```\n",
    "\n",
    "Como todo ciclo, inicialmente lo primero que se hace es evaluar la **condición** para determinar si se ingresa (condición verdadera) o no al ciclo (condición falsa). \n",
    "\n",
    "### Sobre la condición de control\n",
    "\n",
    "Como se dijo previamente, el resultado obtenido al evaluar la condición determina si se ingresa al ciclo o no. El objetivo es que el ciclo solo se repita un numero determinado de veces de modo que debe haber un momento en que esta condición **debe hacerse falsa** para que el programa se salga del ciclo sino, lo que se trenda será un **ciclo infinito**. \n",
    "\n",
    "Para hacer que una condición se haga falsa se emplea una variable especial conocida como **variable de control del ciclo**. Esta variable es la que se evalua en la condición con el fin de determinar si se ingresa o no al ciclo por lo tanto se debe modificar dentro del cuerpo para evitar la condicion de ciclo infinito. Para entender esto, analicemos nuevamente el ejemplo de sumar los mil primeros numeros empleando el ciclo.\n",
    "\n",
    "\n",
    "\n",
    "\n",
    "\n",
    "\n",
    "\n"
   ]
  },
  {
   "cell_type": "markdown",
   "metadata": {
    "id": "SXZr3k4Uqw-Y"
   },
   "source": [
    "**Ejemplo**: Hacer un programa que sume los 1000 primeros numeros y los muestre en pantalla.\n",
    "\n",
    "**Analisis del problema**:\n",
    "\n",
    "* **Entradas**:\n",
    "  * No hay\n",
    "* **Salidas**:\n",
    "  * **sum**: suma de los 1000 primeros numeros.  \n",
    "* **Variables auxiliares**:\n",
    "  * **i**: i-esimo numero (**variable de control del ciclo**)\n",
    "* **Constantes**:\n",
    "  * **CANTIDAD_NUMEROS = 1000**: Cantidad de numeros que se van a sumar.\n",
    "**Proceso**\n",
    "\n",
    "1. Declarar constantes\n",
    "2. Inicializar variables: ```i = 0```, ```sum = 0```\n",
    "3. Calcular la suma (ciclo).\n",
    "4. Desplegar el resultado de la suma.\n",
    "\n",
    "**Codigo python**:"
   ]
  },
  {
   "cell_type": "code",
   "execution_count": null,
   "metadata": {
    "colab": {
     "base_uri": "https://localhost:8080/"
    },
    "id": "RKAnTfyasUWy",
    "outputId": "cc2a3c6f-8d72-45a4-f45e-0f2337ea468c"
   },
   "outputs": [],
   "source": [
    "# %%tutor\n",
    "# Constantes\n",
    "CANTIDAD_NUMEROS = 1000\n",
    "\n",
    "# Inicializacion de variables\n",
    "i = 0 # Variable de control del ciclo\n",
    "sum = 0\n",
    "\n",
    "# Calculo de la suma\n",
    "while i < CANTIDAD_NUMEROS:\n",
    "  sum = sum + i    # sum += i\n",
    "  i += 1 # Actualizacion de la variable de control\n",
    "\n",
    "# Despliegue del resultado\n",
    "print(\"La suma de los primeros \" + str(CANTIDAD_NUMEROS) + \" numeros es: \" + str(sum))\n"
   ]
  },
  {
   "cell_type": "markdown",
   "metadata": {
    "id": "NMfh3xhc-CBP"
   },
   "source": [
    "**Código Java**"
   ]
  },
  {
   "cell_type": "code",
   "execution_count": null,
   "metadata": {
    "colab": {
     "base_uri": "https://localhost:8080/"
    },
    "id": "JGXdDBep8-dA",
    "outputId": "cb67e779-1457-4192-fe95-bc2e307156d3"
   },
   "outputs": [],
   "source": [
    "%%writefile CicloWhile.java \n",
    "\n",
    "public class CicloWhile{\n",
    "    public static void main(String[] args){\n",
    "      // Constantes\n",
    "      final int CANTIDAD_NUMEROS = 1000;\n",
    "\n",
    "      // Inicializacion de variables\n",
    "      int i = 0; // Variable de control del ciclo\n",
    "      int sum = 0;\n",
    "\n",
    "      // Calculo de la suma\n",
    "      while(i < CANTIDAD_NUMEROS){\n",
    "        sum = sum + i;    // sum += i\n",
    "        i += 1; // Actualizacion de la variable de control\n",
    "      }\n",
    "      //Despliegue del resultado\n",
    "      System.out.println(\"La suma de los primeros \" + CANTIDAD_NUMEROS + \" numeros es: \" + sum);       \n",
    "    }\n",
    "}"
   ]
  },
  {
   "cell_type": "code",
   "execution_count": null,
   "metadata": {
    "colab": {
     "base_uri": "https://localhost:8080/"
    },
    "id": "8PXXLS79Dn3k",
    "outputId": "ddd23b95-29b9-4e38-b8a4-4d3abbe53494"
   },
   "outputs": [],
   "source": [
    "ejecutar('CicloWhile')"
   ]
  },
  {
   "cell_type": "markdown",
   "metadata": {
    "id": "wUn06HP5twxA"
   },
   "source": [
    "Como se puede notar, ahora si es posible implementar el algoritmo solución gracias a esta nueva estructura."
   ]
  },
  {
   "cell_type": "markdown",
   "metadata": {
    "id": "M7UeqdK4uB1U"
   },
   "source": [
    "### Preguntas importantes al trabajar problemas con ciclos\n",
    "Al trabajar problemas que impliquen el uso de ciclos debe hacerse las siguientes preguntas para plantear la solución del problema.\n",
    "1. ¿Dentro del problema hay cosas que se deben repetir?\n",
    "2. ¿Que cosas se deben repetir?\n",
    "3. ¿Es conocido o no el numero de iteraciónes?. Una **iteración** es una ejecución dentro del cuerpo del ciclo.\n",
    "4. ¿Que instrucciones deberían ir dentro del cuerpo del ciclo?. Recuerde, aqui van las que se repiten.\n",
    "5. ¿Como debe ser la condición de control del ciclo?\n",
    "\n",
    "En resumen, un problema que implique el manejo de ciclos se reduce a determinar cual será la condición y que instrucciones se repetiran (iran dentro del cuerpo). Un vez se tiene identificado, ya se podrá proceder a codificar.\n",
    "\n",
    "### Estrategias de diseño con Loops para primiparos \n",
    "Cuando escriba ciclos tenga en cuenta las siguientes estrategias:\n",
    "1. Identifique las instrucciones (**Statements**) que necesita que se repitan.\n",
    "2. Coloque estas instrucciones (**Statements**) dentro del cuerpo del loop:\n",
    "\n",
    "```java\n",
    "while(true){\n",
    "  Statements\n",
    "}\n",
    "```\n",
    "3. Codifique a continuación la condición de test del loop\n",
    "(**loop-continuation-condition**) y agregue las instrucciones adicionales para\n",
    "controlar el loop (**Aditional statements for controlling the loop**)\n",
    "\n",
    "```java\n",
    "while(loop-continuation-condition){\n",
    "  Statements\n",
    "  Aditional statements for controlling the loop\n",
    "}\n",
    "```\n",
    "\n",
    "### Sobre el numero de iteraciones de los ciclos\n",
    "Se puede dar el caso en que se conozcan o no el numero de iteraciones que correra un ciclo. En tal caso podemos definir dos grandes clasificaciones para los problemas que impliquen el uso de ciclos:\n",
    "1. Problemas donde se conocen el numero de iteraciones.\n",
    "2. Problemas donde no se conocen el numero de iteraciones.\n",
    "\n",
    "En breve nos volveremos a referir un poco a estos.\n",
    "\n",
    "### Ejemplos de ciclos while\n",
    "\n",
    "Los siguientes fragmentos de código permiten entender como funciona el ciclo while en java.\n",
    "\n"
   ]
  },
  {
   "cell_type": "markdown",
   "metadata": {
    "id": "181dn0f5whmt"
   },
   "source": [
    "**Codigo 1**: Hacer un programa que muestre en pantalla los numeros del 0 al 9.¿Cuantas iteraciones hay?"
   ]
  },
  {
   "cell_type": "code",
   "execution_count": null,
   "metadata": {
    "colab": {
     "base_uri": "https://localhost:8080/"
    },
    "id": "nFdBzU8FwkYE",
    "outputId": "2f32ba88-72a4-4328-f022-89369f841dac"
   },
   "outputs": [],
   "source": [
    "%%writefile Ciclo1.java\n",
    "public class Ciclo1{\n",
    "    public static void main(String[] a){\n",
    "      int i = 0;\n",
    "      while(i < 10){\n",
    "        System.out.println(i);\n",
    "        i = i + 1;\n",
    "      }\n",
    "      System.out.println(\"Terminó el ciclo\");\n",
    "    }\n",
    "}"
   ]
  },
  {
   "cell_type": "code",
   "execution_count": null,
   "metadata": {
    "colab": {
     "base_uri": "https://localhost:8080/"
    },
    "id": "EBzVaTCzE9nT",
    "outputId": "dce45538-2d8b-43e7-a43a-a27763f42f02"
   },
   "outputs": [],
   "source": [
    "ejecutar('Ciclo1')"
   ]
  },
  {
   "cell_type": "markdown",
   "metadata": {
    "id": "P2zEbiuJtlKG"
   },
   "source": [
    "**Codigo 2**: Hacer un programa que muestre en pantalla los numeros del 1 al 5. ¿Cuantas iteraciones hay?"
   ]
  },
  {
   "cell_type": "code",
   "execution_count": null,
   "metadata": {
    "colab": {
     "base_uri": "https://localhost:8080/"
    },
    "id": "S3uf6rs0tIl4",
    "outputId": "07e197b4-fa4a-47e4-e033-190c31a79a56"
   },
   "outputs": [],
   "source": [
    "%%writefile Ciclo2.java\n",
    "public class Ciclo2{\n",
    "    public static void main(String[] a){\n",
    "      int i = 1;\n",
    "      while(i <= 5){\n",
    "        System.out.println(i);\n",
    "        i = i + 1;\n",
    "      }\n",
    "      System.out.println(\"Fuera del ciclo\");\n",
    "    }\n",
    "}"
   ]
  },
  {
   "cell_type": "code",
   "execution_count": null,
   "metadata": {
    "colab": {
     "base_uri": "https://localhost:8080/"
    },
    "id": "A1T6pBIdFCph",
    "outputId": "bb1f1c14-d6d0-4f94-ad92-0cf81ae8543c"
   },
   "outputs": [],
   "source": [
    "ejecutar('Ciclo2')"
   ]
  },
  {
   "cell_type": "markdown",
   "metadata": {
    "id": "1rpd3k0bucAL"
   },
   "source": [
    "**Codigo 3**: Hacer un programa que muestre los numeros entre 20 y 30 incluidos estos.\n"
   ]
  },
  {
   "cell_type": "code",
   "execution_count": null,
   "metadata": {
    "colab": {
     "base_uri": "https://localhost:8080/"
    },
    "id": "ZM-3TX1Cup8P",
    "outputId": "8d9245a2-0b94-49ce-aa4c-abe205d70d4f"
   },
   "outputs": [],
   "source": [
    "%%writefile Ciclo3.java\n",
    "public class Ciclo3{\n",
    "    public static void main(String[] args){\n",
    "      int i = 20; // Variable de control\n",
    "      while(i <= 30){\n",
    "        // Intrucciones\n",
    "        System.out.println(i);\n",
    "        i += 1;   \n",
    "      }   \n",
    "    }\n",
    "}"
   ]
  },
  {
   "cell_type": "code",
   "execution_count": null,
   "metadata": {
    "colab": {
     "base_uri": "https://localhost:8080/"
    },
    "id": "o7FDly9FFL29",
    "outputId": "dcedb227-8444-4757-b092-bc4ecf8fe326"
   },
   "outputs": [],
   "source": [
    "ejecutar('Ciclo3')"
   ]
  },
  {
   "cell_type": "markdown",
   "metadata": {
    "id": "IgMbatAhw5aY"
   },
   "source": [
    "**Codigo 4**: ¿Cuantas iteraciones hay?"
   ]
  },
  {
   "cell_type": "code",
   "execution_count": null,
   "metadata": {
    "colab": {
     "base_uri": "https://localhost:8080/"
    },
    "id": "xUAuNIjiw975",
    "outputId": "c8562d4a-4cae-4b77-eb08-8267e2fd8c0d"
   },
   "outputs": [],
   "source": [
    "%%writefile Ciclo4.java\n",
    "\n",
    "public class Ciclo4{\n",
    "    public static void main(String[] ar){\n",
    "      int i = 0;\n",
    "      while(i <= 10){\n",
    "        i += 1; //Actualizacion de la variable de control\n",
    "        if(i > 3){\n",
    "          System.out.print('+');   \n",
    "        }else{\n",
    "          System.out.print('-');   \n",
    "        }\n",
    "        System.out.print(i);\n",
    "      }\n",
    "    }\n",
    "}"
   ]
  },
  {
   "cell_type": "code",
   "execution_count": null,
   "metadata": {
    "colab": {
     "base_uri": "https://localhost:8080/"
    },
    "id": "CPcnEQDPFgsx",
    "outputId": "42107dd3-d8c4-4903-c283-07f9c92714ce"
   },
   "outputs": [],
   "source": [
    "ejecutar('Ciclo4')"
   ]
  },
  {
   "cell_type": "markdown",
   "metadata": {
    "id": "DWTIqpwAw6PW"
   },
   "source": [
    "**Codigo 5**: Hacer un programa que imprima los primeros N numeros indicando si estos son pares o impares."
   ]
  },
  {
   "cell_type": "code",
   "execution_count": null,
   "metadata": {
    "colab": {
     "base_uri": "https://localhost:8080/"
    },
    "id": "G7AMg7_G16EA",
    "outputId": "1c346be9-e757-45f9-b60f-759549e3a13f"
   },
   "outputs": [],
   "source": [
    "%%writefile Ciclo5.java\n",
    "\n",
    "import java.util.Scanner;\n",
    "public class Ciclo5{\n",
    "    public static void main(String[] args){\n",
    "      Scanner lector = new Scanner(System.in);\n",
    "      int i = 1;\n",
    "      System.out.print(\"Digite la cantidad de numeros: \");\n",
    "      int cantNum = lector.nextInt();\n",
    "      while(i <= cantNum){\n",
    "        // Determinacion si un numero es paso o impar\n",
    "        if(i%2 == 0){\n",
    "          System.out.printf(\"%d es par%n\", i);\n",
    "        }else{\n",
    "          System.out.printf(\"%d es impar%n\", i);\n",
    "        }\n",
    "        i += 1; // Actualizacion de la variable de control   \n",
    "      }\n",
    "    }\n",
    "}  "
   ]
  },
  {
   "cell_type": "code",
   "execution_count": null,
   "metadata": {
    "colab": {
     "base_uri": "https://localhost:8080/"
    },
    "id": "2HKleozSFrt9",
    "outputId": "2cfea68e-d5c2-4d54-c809-b2bb6fe64860"
   },
   "outputs": [],
   "source": [
    "ejecutar('Ciclo5')"
   ]
  },
  {
   "cell_type": "markdown",
   "metadata": {
    "id": "9OmCUbqRw6gh"
   },
   "source": [
    "**Codigo 6**: Hacer un programa que solicite 2 numeros e imprima la cantidad de numeros impares entre estos."
   ]
  },
  {
   "cell_type": "code",
   "execution_count": null,
   "metadata": {
    "colab": {
     "base_uri": "https://localhost:8080/"
    },
    "id": "Ll39xYDn2ZyC",
    "outputId": "c5b3c71f-4fd0-48a4-f229-adcda924e197"
   },
   "outputs": [],
   "source": [
    "%%writefile Ciclo6.java\n",
    "\n",
    "import java.util.Scanner;\n",
    "\n",
    "public class Ciclo6{\n",
    "    public static void main(String[] args){\n",
    "      Scanner scanner = new Scanner(System.in);\n",
    "      int numMenor;\n",
    "      int numMayor;\n",
    "      int i;\n",
    "      System.out.print(\"Ingrese el numero menor: \");\n",
    "      numMenor = scanner.nextInt();\n",
    "      System.out.print(\"Ingrese el numero mayor: \");     \n",
    "      numMenor = scanner.nextInt();\n",
    "      i = numMenor;\n",
    "      while(i <= numMayor){\n",
    "        if(i%2 != 0){\n",
    "          print(i, end = \" \")   \n",
    "        }\n",
    "        i++;\n",
    "      }\n",
    "    }\n",
    "}"
   ]
  },
  {
   "cell_type": "markdown",
   "metadata": {
    "id": "5-AAsEzM22pZ"
   },
   "source": [
    "**Codigo 7**: ¿Cuantas iteraciones hay?"
   ]
  },
  {
   "cell_type": "code",
   "execution_count": null,
   "metadata": {
    "colab": {
     "base_uri": "https://localhost:8080/"
    },
    "id": "PozH7hiB28SI",
    "outputId": "f726c888-d910-4247-da02-7baecbb23ca1"
   },
   "outputs": [],
   "source": [
    "%%writefile Ciclo7.java\n",
    "public class Ciclo7{\n",
    "    public static void main(String[] args){\n",
    "        int i = 0;\n",
    "        while(i<=20){\n",
    "            if(i<5){\n",
    "                i+=1;\n",
    "            }else if(i<=10){\n",
    "                i+=2;\n",
    "            }else if(i<=15){\n",
    "                i+=3;\n",
    "            }\n",
    "            System.out.println(\"Vamos en \" + i);\n",
    "            i++;\n",
    "        }\n",
    "        System.out.println(\"Valor final de i: \"+ i);\n",
    "    }\n",
    "}"
   ]
  },
  {
   "cell_type": "code",
   "execution_count": null,
   "metadata": {
    "colab": {
     "base_uri": "https://localhost:8080/"
    },
    "id": "wxxdRGb8HTDC",
    "outputId": "e31e94ee-a98b-4888-ae1d-b69ab50031a8"
   },
   "outputs": [],
   "source": [
    "ejecutar('Ciclo7')"
   ]
  },
  {
   "cell_type": "markdown",
   "metadata": {
    "id": "DEjthbQ523QI"
   },
   "source": [
    "## Ciclos definidos\n",
    "\n",
    "Para en este caso, el numero de iteraciones es conocido. Vamos a ver los siguientes ejemplos para aterrizar el concepto."
   ]
  },
  {
   "cell_type": "markdown",
   "metadata": {
    "id": "IJb1EwBE8gIE"
   },
   "source": [
    "**Ejemplo**: Hacer un programa que encuentre e imprime la suma de los N primeros numeros.\n",
    "\n",
    "\n",
    "**Analisis del problema**:\n",
    "\n",
    "* **Entradas**:\n",
    "  * **numData**: Numero de datos\n",
    "* **Salidas**:\n",
    "  * **sum**: suma de los N primeros numeros.  \n",
    "* **Variables auxiliares**:\n",
    "  * **i**: i-esimo numero (**variable de control del ciclo**)\n",
    "* **Constantes**:\n",
    "\n",
    "**Proceso**\n",
    "\n",
    "1. Inicializar variables: ```i = 0```, ```sum = 0```\n",
    "2. Solucitar el numero de datos\n",
    "3. Calcular la suma (ciclo).\n",
    "4. Desplegar el resultado de la suma.\n",
    "\n",
    "**Codigo java**:"
   ]
  },
  {
   "cell_type": "code",
   "execution_count": null,
   "metadata": {
    "colab": {
     "base_uri": "https://localhost:8080/"
    },
    "id": "kMu30lS98e-Q",
    "outputId": "a0fb890f-d17a-43ef-8631-2750f113e57a"
   },
   "outputs": [],
   "source": [
    "%%writefile SumaNumeros.java\n",
    "\n",
    "import java.util.Scanner;\n",
    "\n",
    "public class SumaNumeros{\n",
    "    public static void main(String[] args){\n",
    "        /* Inicialización de variables */\n",
    "        Scanner lector = new Scanner(System.in);\n",
    "        int i = 0; //variable de control\n",
    "        int sum = 0; //acumulador\n",
    "\n",
    "        //entrada de datos\n",
    "        System.out.print(\"Ingrese el numero de datos a sumar: \");\n",
    "        int numData = lector.nextInt();\n",
    "        while(i < numData){\n",
    "            sum += i; //sum = sum + i;\n",
    "            i++;      // i = i + 1;\n",
    "        }\n",
    "        System.out.println(\"La suma de los \" + numData + \" numeros da: \" + sum);\n",
    "    }\n",
    "}"
   ]
  },
  {
   "cell_type": "code",
   "execution_count": null,
   "metadata": {
    "colab": {
     "base_uri": "https://localhost:8080/"
    },
    "id": "0ajKeCh5JM-0",
    "outputId": "6e1fcfb5-35d4-4773-8403-2b789b101cfb"
   },
   "outputs": [],
   "source": [
    "ejecutar('SumaNumeros')"
   ]
  },
  {
   "cell_type": "markdown",
   "metadata": {
    "id": "aercSMavAN8m"
   },
   "source": [
    "## Contadores y acumuladores\n",
    "Cuando se usan ciclos se manejan dos tipos de variables conocidas como el contador y el acumulador. Veamos que son y para que sirven cada uno de estos tipos de variables.\n",
    "\n",
    "### Contadores\n",
    "Como su nombre lo dice, un contador cuenta el número de ocurrencias de un evento dentro de un ciclo. El contador es una variable que se incrementa (contador ascendente) o disminuye en un valor constante (contador descendente), y tiene la siguiente forma:\n",
    "\n",
    "```java\n",
    "contador = contador + CONSTANTE;\n",
    "```\n",
    "\n",
    "### Acumuladores\n",
    "Un acumulador o totalizador Es una variable cuya finalidad es almacenar cantidades variables resultantes de procesos sucesivos. La diferencia con el contador radica en que el incremento o disminución de cada suma es variable en lugar de constante; de este modo la forma general de un acumulador es:\n",
    "\n",
    "```java\n",
    "acumulador = acumuador + variable;\n",
    "```\n",
    " **Nota importante**: Tanto los contadores como los acumuladores **deben inicializarse a un valor conocido** antes de ser usados. El caso mas comun suele ser la inicialización a 0."
   ]
  },
  {
   "cell_type": "markdown",
   "metadata": {
    "id": "gyUOq0uvCyzN"
   },
   "source": [
    "**Ejemplo**: El **bar de Moe** fue reinagurado por lo que la noche de inaguración el aforo iba ser limitado a 5 personas. A modo de promoción, la entrada quedo a 10000 para hombres y 5000 para mujeres. Con el fin de facilitar el registro de personas, Moe le pidió a usted que realizara un programa que:\n",
    "1. Determinara la cantidad de hombres y mujeres que fueron al bar el dia de la inaguración.\n",
    "2. Determinar la cantidad de dinero obtenido.\n",
    "\n",
    "\n",
    "**Analisis del problema**:\n",
    "\n",
    "* **Entradas**:\n",
    "  * **sexo**: Sexo de la persona (1: Mujer; 2: Hombre)\n",
    "* **Salidas**:\n",
    "  * **totalMujeres**: Total de mujeres. (Contador).\n",
    "  * **totalHombres**: Total de hombres. (Contador).\n",
    "  * **totalDinero**: Dinero acumulado. (Acumulador).\n",
    "* **Variables auxiliares**:\n",
    "  * **i**: i-esimo cliente (**variable de control del ciclo**).\n",
    "\n",
    "* **Constantes**:\n",
    "  * **CUPO_MAXIMO = 5**: Cupo maximo de clientes\n",
    "\n",
    "**Proceso**\n",
    "\n",
    "1. Definir constantes\n",
    "1. Inicializar variables (contadores, acumuladores, variable de control).\n",
    "3. Ciclo:\n",
    "   * Solicitar sexo.\n",
    "   * Contar el numero de mujeres y hombres y calcular el total  dinero obtenidos en el bar.\n",
    "4. Imprimir los resultados.\n",
    "\n",
    "**Codigo java**:"
   ]
  },
  {
   "cell_type": "code",
   "execution_count": null,
   "metadata": {
    "colab": {
     "base_uri": "https://localhost:8080/"
    },
    "id": "pFYtD-T7FwII",
    "outputId": "de41abb2-aea4-40ac-f0ff-7afdc1328e8d"
   },
   "outputs": [],
   "source": [
    "%%writefile BarMoe.java\n",
    "\n",
    "import java.util.Scanner;\n",
    "\n",
    "public class BarMoe{\n",
    "    public static void main(String[] args){\n",
    "        final int CUPO_MAXIMO = 5; // Constantes\n",
    "\n",
    "        // Variables\n",
    "        int i = 0,  // variable de control\n",
    "        totalMujeres = 0,\n",
    "        totalHombres = 0,\n",
    "        totalDinero = 0,\n",
    "        sexo;\n",
    "        Scanner scanner = new Scanner(System.in);\n",
    "\n",
    "        while(i < CUPO_MAXIMO){\n",
    "            // Entrada de datos\n",
    "            System.out.println(\"+++ Bienvenido al bar de Moe +++\");\n",
    "            System.out.println(\"Por favor digite el sexo\");\n",
    "            System.out.println(\"-> 1. Mujer\");\n",
    "            System.out.println(\"-> 2. Hombre\");\n",
    "            sexo = scanner.nextInt();\n",
    "\n",
    "            //Calculos\n",
    "            if(sexo == 1){\n",
    "                System.out.println(\"Bienvenida\");\n",
    "                totalMujeres += 1;\n",
    "                totalDinero += 5000;\n",
    "            }else{\n",
    "                System.out.println(\"Bienvenido\");\n",
    "                totalHombres += 1;\n",
    "                totalDinero += 100000;\n",
    "            }\n",
    "            System.out.println();\n",
    "            i++;\n",
    "        }\n",
    "\n",
    "        // Resumen\n",
    "        System.out.println(\"+++ Resumen noche de inaguracion +++\");\n",
    "        System.out.println(\"-> Total mujeres: \" + totalMujeres);\n",
    "        System.out.println(\"-> Total hombres: \" + totalHombres);\n",
    "        System.out.println(\"-> Total entradas: $\" + totalDinero);\n",
    "    }\n",
    "}"
   ]
  },
  {
   "cell_type": "code",
   "execution_count": null,
   "metadata": {
    "colab": {
     "base_uri": "https://localhost:8080/"
    },
    "id": "O97REXWPLkJl",
    "outputId": "a9095b5e-cba0-4b97-848b-ae4a7cfe05d3"
   },
   "outputs": [],
   "source": [
    "ejecutar('BarMoe')"
   ]
  },
  {
   "cell_type": "markdown",
   "metadata": {
    "id": "sWAwjRICIwq2"
   },
   "source": [
    "**Ejemplo**: Hacer un programa que dado un numero N de estudiantes (que se ingresa por teclado). Permita solicitar el nombre y 2 notas de cada estudiante. Luego, una vez introducidas las notas, calcule el promedio de este y lo imprima en pantalla. \n",
    "\n",
    "Una vez ingresados los datos de todos los estudiantes, el programa debera mostrar las siguientes estadisticas:\n",
    "1. El promedio general de notas.\n",
    "2. La cantidad de notas de los estudiantes que perdieron y su respectivo porcentaje.\n",
    "3. La cantidad de notas de los estudiantes que ganaron y sus respectuvo porcentaje.\n",
    "\n",
    "**Analisis del problema**:\n",
    "\n",
    "* **Entradas**:\n",
    "  * **numEstudiantes**: Numero de estudiantes\n",
    "  * **nom**: Nombre del estudiante\n",
    "  * **nota1**: Nota 1\n",
    "  * **nota2**: Nota 2\n",
    "* **Salidas**:\n",
    "  * **promGrupo**: Promedio de las notas del grupo\n",
    "  * **totalPerdedores**: Total perdedores. (Contador).\n",
    "  * **totalGanadores**: Total ganadores. (Contador).\n",
    "  * **porcPerdedores**: Porcentaje de perdedores.\n",
    "  * **porcGanadores**: Porcentaje de ganadores.\n",
    "  * **prom**: Promedio individual por estudiante.\n",
    "* **Variables auxiliares**:\n",
    "  * **i**: i-esimo estudiante (**variable de control del ciclo**).\n",
    "  * **sumPromedios**: Acumulador de los promedios de los estudiantes.\n",
    "* **Constantes**:\n",
    "  \n",
    "**Proceso**\n",
    "\n",
    "1. Inicializar variables, contadores y acumuladores.\n",
    "2. Solicitar el numero de estudiantes.\n",
    "3. Para cada estudiante (ciclo): \n",
    "   * Solicitar el nombre.\n",
    "   * Solicitar las dos notas las notas.\n",
    "   * Calculo del promedio.\n",
    "   * Muestro el promedio del estudiante.\n",
    "   * Contar si es ganador o perdedor\n",
    "   * Sumar promedios.\n",
    "4. Calcular porcentajes.\n",
    "5. Calcular promedio del grupo\n",
    "6. Imprimir los resultados. (Estadisticas del grupo).\n",
    "\n",
    "**Codigo java**:\n"
   ]
  },
  {
   "cell_type": "code",
   "execution_count": null,
   "metadata": {
    "colab": {
     "base_uri": "https://localhost:8080/"
    },
    "id": "__1d9kitMvit",
    "outputId": "dc45f9c5-a03a-417d-9a34-23e20cf36543"
   },
   "outputs": [],
   "source": [
    "%%writefile Estudiantes.java\n",
    "\n",
    "import java.util.Scanner;\n",
    "\n",
    "public class Estudiantes{\n",
    "    public static void main(String[] args){\n",
    "        \n",
    "      // Inincializacion de variables, contadores y acumuladores\n",
    "      int i = 0,           // Contador (variable de control)\n",
    "      totalPerdedores = 0, // Contador\n",
    "      totalGanadores = 0,  // Contador\n",
    "      numEstudiantes;\n",
    "      \n",
    "      float nota1,\n",
    "      nota2,\n",
    "      prom,\n",
    "      sumPromedios = 0.0f; // Acumulador\n",
    "      \n",
    "\n",
    "      String nom;\n",
    "      Scanner scanner = new Scanner(System.in);\n",
    "\n",
    "      // Solicitud del numero de estudiantes\n",
    "      System.out.print(\"Ingrese la cantidad de estudiantes: \");\n",
    "      numEstudiantes = scanner.nextInt();\n",
    "      while(i < numEstudiantes){\n",
    "        // Solicitud de la informacion por estudiante\n",
    "        System.out.print(\"Ingrese el nombre del estudiante: \");\n",
    "        nom = scanner.nextLine();\n",
    "        System.out.print(\"\\n* Nota 1: \");\n",
    "        nota1 = scanner.nextFloat();\n",
    "        System.out.print(\"\\n* Nota 2: \");\n",
    "        nota2 = scanner.nextFloat();\n",
    "        prom = (nota1 + nota2)/2;\n",
    "\n",
    "        // Impresion de la informacion por estudiante\n",
    "        System.out.println(\"*************** Informe del estudiante ***************\");\n",
    "        System.out.println(\"-> Nombre: \" + nom);\n",
    "        System.out.printf(\"-> Promedio: %f %n\", prom);\n",
    "        System.out.println(\"******************************************************\\n\");\n",
    "        \n",
    "        // Conteo de ganadores y perdedores\n",
    "        if (prom >= 3){\n",
    "          // Estudiante gano\n",
    "          totalGanadores += 1;\n",
    "        }else{\n",
    "          // Estudiante perdio\n",
    "          totalPerdedores += 1;\n",
    "        }\n",
    "        // Totalizacion de los promedios\n",
    "        sumPromedios += prom;\n",
    "      }\n",
    "    \n",
    "      i += 1; // Continuacion del proximo estudiante (Actualizacion de la variable de control)\n",
    "\n",
    "      // Calculo de las estadisticas\n",
    "      float porcPerdedores = (totalPerdedores/numEstudiantes)*100;\n",
    "      float porcGanadores = (totalGanadores/numEstudiantes)*100;\n",
    "      float promGrupo = sumPromedios/numEstudiantes;\n",
    "\n",
    "      // Ddespliegue de las estadisticas\n",
    "\n",
    "      System.out.println(\"*************** Estadisticas del grupo ***************\");\n",
    "      System.out.println(\"-> Total perdedores: \" + totalPerdedores + \"(\" + porcPerdedores + \"%)\");\n",
    "      System.out.println(\"-> Total ganadores: \" + totalGanadores + \"(\" + porcGanadores + \"%)\");\n",
    "      System.out.println(\"-> Nota promedio del grupo:\" + promGrupo);\n",
    "      System.out.println(\"******************************************************\");\n",
    "    }\n",
    "}\n",
    "\n",
    "\n"
   ]
  },
  {
   "cell_type": "code",
   "execution_count": null,
   "metadata": {
    "colab": {
     "base_uri": "https://localhost:8080/"
    },
    "id": "hyx-PhIgUFQh",
    "outputId": "858e96e3-021f-4a77-9ad6-7a673b2fc298"
   },
   "outputs": [],
   "source": [
    "ejecutar('Estudiantes')"
   ]
  },
  {
   "cell_type": "markdown",
   "metadata": {
    "id": "VZAOers4S9_A"
   },
   "source": [
    "## Ciclos indefinidos o condicionales**\n",
    "\n",
    "En los problemas de este tipo, no se conocen el numero de iteraciones que se llevaran a cabo. Para este caso se manejan 2 tipos.\n",
    "1. Ciclos interactivos\n",
    "2. Ciclos con centinela.\n",
    "\n",
    "### Ciclos interactivos\n",
    "\n",
    "Los ciclos interactivos permiten a un usuario decidir si realizar o no la interacion de un ciclo haciendo uso de variables que se entran por teclado.\n",
    "\n",
    "\n"
   ]
  },
  {
   "cell_type": "markdown",
   "metadata": {
    "id": "UaGc8lt5Wr2j"
   },
   "source": [
    "**Ejemplo**: Hacer un programa que solicite cualquier cantidad de numeros y despliege su promedio.\n",
    "\n",
    "\n",
    "**Analisis del problema**:\n",
    "\n",
    "* **Entradas**:\n",
    "  * **seguir**: Opcion de seguir o no (posibles valores: 'y': Si, 'n': No). Esta sera la variable de control.\n",
    "  * **num**: numero ingresado\n",
    "* **Salidas**:\n",
    "  * **prom**: Promedio de los numeros ingresados\n",
    "* **Variables auxiliares**:\n",
    "  * **cnt**: Cantidad de numeros ingresados (contador).\n",
    "  * **sum**: Suma de los numeros ingresados (acumulador).\n",
    "  \n",
    "**Proceso**\n",
    "\n",
    "1. Inicializar variables, contadores y acumuladores.\n",
    "2. Solicitar si el usuario quiere ingresar un numero\n",
    "2. Si el usuario decide ingresar un numero (ciclo): \n",
    "   * Solicitar el numero y realizar los calculos solicitados en el problema. \n",
    "   * Volver a preguntar al usuario si desea ingresar el numero.\n",
    "4. Imprimir los resultados.\n",
    "\n",
    "\n",
    "**Codigo java**"
   ]
  },
  {
   "cell_type": "code",
   "execution_count": null,
   "metadata": {
    "colab": {
     "base_uri": "https://localhost:8080/"
    },
    "id": "snCpLwwyYG3_",
    "outputId": "43db16b3-c866-45c7-dbf0-59bd28eb47fc"
   },
   "outputs": [],
   "source": [
    "%%writefile PromedioNumeros.java\n",
    "\n",
    "\n",
    "import java.util.Scanner;\n",
    "\n",
    "public class PromedioNumeros{\n",
    "    public static void main(String[] args){\n",
    "        // Inicialización de variables\n",
    "        int cnt = 0;\n",
    "        float sum = 0.0f,\n",
    "        num; // para almacenar el número que se pide\n",
    "        Scanner scan = new Scanner(System.in);\n",
    "\n",
    "        // Solicitud al usuario si deseo o no ingresar el numero\n",
    "        System.out.print(\"Desea ingresar un dato (y/n): \");\n",
    "        String seguir = scan.next();\n",
    "        System.out.println(seguir);\n",
    "        while (seguir.equals(\"y\")){\n",
    "          // Solicitud del numero\n",
    "          System.out.print(\"Digite el numero >> \");\n",
    "          num = scan.nextFloat();\n",
    "          sum = sum + num;\n",
    "          cnt = cnt + 1;\n",
    "          System.out.print(\"Desea ingresar un dato (y/n): \");\n",
    "          seguir = scan.next();\n",
    "        }\n",
    "\n",
    "        // Se pregunta si se ingreso numeros\n",
    "        if (cnt == 0){\n",
    "          // No se ingresaron numeros\n",
    "          System.out.println(\"\\nEl promedio de los numeros ingresados es: 0\");\n",
    "        }else{\n",
    "          System.out.println(\"\\nEl promedio de los numeros ingresados es:\" + sum/cnt);\n",
    "        }\n",
    "    }\n",
    "}"
   ]
  },
  {
   "cell_type": "code",
   "execution_count": null,
   "metadata": {
    "colab": {
     "base_uri": "https://localhost:8080/"
    },
    "id": "NKWSj4etXM-m",
    "outputId": "0aa41c21-6a52-4cd9-a426-b945f1b8e6fa"
   },
   "outputs": [],
   "source": [
    "ejecutar('PromedioNumeros')"
   ]
  },
  {
   "cell_type": "markdown",
   "metadata": {
    "id": "Ac9ZMVkibSj6"
   },
   "source": [
    "### Ciclos con centinelas\n",
    "\n",
    "Un ciclo con centinela se caracteriza por que la iteración se da hasta que el dato que esta siendo empleado en la condición de comparación alcanza un valor que indica el fin del ciclo.\n",
    "\n",
    "Este valor especial es conocido como **centinela**. El centinela debe ser distinguible del dato ya que este no es procesado como parte de los datos.\n",
    "\n",
    "Veamos el mismo ejemplo anterior pero usando la variable un valor negativo para **num** como centinela.\n"
   ]
  },
  {
   "cell_type": "markdown",
   "metadata": {
    "id": "W1VG1KT7cmMP"
   },
   "source": [
    "**Ejemplo**: Hacer un programa que solicite cualquier cantidad numeros positivos y despliege su promedio.\n",
    "\n",
    "\n",
    "**Analisis del problema**:\n",
    "\n",
    "* **Entradas**:\n",
    "  * **num**: numero ingresado (Variable de control)\n",
    "* **Salidas**:\n",
    "  * **prom**: Promedio de los numeros ingresados\n",
    "* **Variables auxiliares**:\n",
    "  * **cnt**: Cantidad de numeros ingresados (contador).\n",
    "  * **sum**: Suma de los numeros ingresados (acumulador).\n",
    "  \n",
    "**Proceso**\n",
    "\n",
    "1. Inicializar variables, contadores y acumuladores.\n",
    "2. Solicitar el numero (si es positivo se ingresa al ciclo: centinela)\n",
    "2. Si se ingresa al ciclo: \n",
    "   * Aumentar el contador de numeros.\n",
    "   * Acumular el numero\n",
    "   * Volver a solicitar el numero.\n",
    "4. Imprimir los resultados.\n",
    "\n",
    "\n",
    "**Codigo java**"
   ]
  },
  {
   "cell_type": "code",
   "execution_count": null,
   "metadata": {
    "colab": {
     "base_uri": "https://localhost:8080/"
    },
    "id": "0JniCLR6dE8j",
    "outputId": "53d14f80-852e-4e21-dc5b-6fa87fb65a2a"
   },
   "outputs": [],
   "source": [
    "%%writefile Centinela.java\n",
    "\n",
    "import java.util.Scanner;\n",
    "\n",
    "public class Centinela{\n",
    "    public static void main(String[] args){\n",
    "        // Inicializacion de variables\n",
    "        float sum = 0.0f;\n",
    "        int cnt = 0,\n",
    "        num;\n",
    "        Scanner scan = new Scanner(System.in);\n",
    "\n",
    "        System.out.print(\"Digite el numero (para salir, ingrese un numero negativo) >> \");\n",
    "        num = scan.nextInt();\n",
    "        while(num >= 0){\n",
    "            cnt = cnt + 1;\n",
    "            sum = sum + num;\n",
    "            // Solicitud del numero\n",
    "            System.out.print(\"Digite el numero (para salir, ingrese un numero negativo) >> \");\n",
    "            num = scan.nextInt();\n",
    "        }\n",
    "        // Se pregunta si se ingreso numeros\n",
    "        if(cnt == 0){\n",
    "          // No se ingresaron numeros\n",
    "          System.out.println(\"\\nEl promedio de los numeros ingresados es: 0\");\n",
    "        }else{\n",
    "          System.out.println(\"\\nEl promedio de los numeros ingresados es:\" + sum/cnt);\n",
    "        }\n",
    "    }\n",
    "}"
   ]
  },
  {
   "cell_type": "code",
   "execution_count": null,
   "metadata": {
    "colab": {
     "base_uri": "https://localhost:8080/"
    },
    "id": "oLAXSZyDZ4RQ",
    "outputId": "526dcf80-9090-46ed-efdd-49a200a9cca3"
   },
   "outputs": [],
   "source": [
    "ejecutar('Centinela')"
   ]
  },
  {
   "cell_type": "markdown",
   "metadata": {
    "id": "Wkm4-6c8doq2"
   },
   "source": [
    "Como se puede ver en el ejemplo anterior, el uso de un centinela facilita la implementación de un ciclo interactivo ya que no hay que estar ingresando continuamente si se desea o no seguir ingresando numeros todo el tiempo pues esto, es una molestia.\n"
   ]
  },
  {
   "cell_type": "markdown",
   "metadata": {
    "id": "jEU19_6Ac4wM"
   },
   "source": [
    "## Ciclo for\n",
    "\n",
    "El ciclo **for** nos permite iterar a traves e una secuencia de valores. Este ciclo tiene la siguiente sintaxis:\n",
    "\n",
    "```python\n",
    "for variable in secuencia:\n",
    "    #  Cuerpo del ciclo\n",
    "    instruccion_1\n",
    "    instruccion_2\n",
    "    ...\n",
    "    instruccion_N\n",
    "```\n",
    "```java\n",
    "for(INICIALIZA VARIABLE; CONDICION DE PARADA; INCREMENTO){\n",
    "    //  Cuerpo del ciclo\n",
    "    instruccion_1;\n",
    "    instruccion_2;\n",
    "    ...\n",
    "    instruccion_N;\n",
    "}\n",
    "```"
   ]
  },
  {
   "cell_type": "markdown",
   "metadata": {
    "id": "jnxGguZLw-gA"
   },
   "source": [
    "### Ejemplos de implementación de ciclos for\n",
    "A continuación se reimplementaran algunos ejemplos ,que se realizaron previamente empleando ciclos **while**, empleando ciclos **for**"
   ]
  },
  {
   "cell_type": "markdown",
   "metadata": {
    "id": "dW5V-opzxQdQ"
   },
   "source": [
    "**Codigo 1**: Hacer un programa que muestre en pantalla los numeros del 0 al 9.\n",
    "\n",
    "La solución mediante **while** fue la siguiente:\n"
   ]
  },
  {
   "cell_type": "code",
   "execution_count": null,
   "metadata": {
    "colab": {
     "base_uri": "https://localhost:8080/"
    },
    "id": "g3yMruM6xaNm",
    "outputId": "01d4fb08-cb39-4dd9-e7b5-9bb4aef891d1"
   },
   "outputs": [],
   "source": [
    "%%writefile Ciclo1.java\n",
    "public class Ciclo1{\n",
    "    public static void main(String[] a){\n",
    "      int i = 0;\n",
    "      while(i < 10){\n",
    "        System.out.println(i);\n",
    "        i = i + 1;\n",
    "      }\n",
    "      System.out.println(\"Terminó el ciclo\");\n",
    "    }\n",
    "}"
   ]
  },
  {
   "cell_type": "code",
   "execution_count": null,
   "metadata": {
    "colab": {
     "base_uri": "https://localhost:8080/"
    },
    "id": "gT_helHRazON",
    "outputId": "83e558a1-78c5-4b10-9ffa-ed23e151486b"
   },
   "outputs": [],
   "source": [
    "ejecutar('Ciclo1')"
   ]
  },
  {
   "cell_type": "markdown",
   "metadata": {
    "id": "C4ceB30zxdX1"
   },
   "source": [
    "La solución equivalente empleando **for** se muestra a continuación:"
   ]
  },
  {
   "cell_type": "code",
   "execution_count": null,
   "metadata": {
    "colab": {
     "base_uri": "https://localhost:8080/"
    },
    "id": "5fa5gyZDxkyu",
    "outputId": "03f3dd03-3bfb-4d92-bcb5-f5ed2c67ccde"
   },
   "outputs": [],
   "source": [
    "%%writefile Ciclo1For.java\n",
    "public class Ciclo1For{\n",
    "    public static void main(String[] a){\n",
    "      for(int i = 0;i < 10; i++){\n",
    "        System.out.println(i);\n",
    "      }\n",
    "      System.out.println(\"Terminó el ciclo\");\n",
    "    }\n",
    "}"
   ]
  },
  {
   "cell_type": "code",
   "execution_count": null,
   "metadata": {
    "colab": {
     "base_uri": "https://localhost:8080/"
    },
    "id": "nlI4sFjla_cp",
    "outputId": "868c322f-abc4-446d-b367-6420ab5d8781"
   },
   "outputs": [],
   "source": [
    "ejecutar('Ciclo1For')"
   ]
  },
  {
   "cell_type": "markdown",
   "metadata": {
    "id": "s6FiDtFIxzRz"
   },
   "source": [
    "**Codigo 2**: Hacer un programa que muestre y sume los numeros entre 20 y 30 incluidos estos.\n",
    "\n",
    "La solución mediante **while** fue la siguiente:\n",
    "\n"
   ]
  },
  {
   "cell_type": "code",
   "execution_count": null,
   "metadata": {
    "colab": {
     "base_uri": "https://localhost:8080/"
    },
    "id": "SnP3zeyNnV3o",
    "outputId": "44fa2a66-5288-44e7-aa3f-1f1c088a702b"
   },
   "outputs": [],
   "source": [
    "%%writefile Ciclo3.java\n",
    "public class Ciclo3{\n",
    "    public static void main(String[] args){\n",
    "      int i = 20; // Variable de control\n",
    "      while(i <= 30){\n",
    "        // Intrucciones\n",
    "        System.out.println(i);\n",
    "        i += 1;   \n",
    "      }   \n",
    "    }\n",
    "}"
   ]
  },
  {
   "cell_type": "code",
   "execution_count": null,
   "metadata": {
    "colab": {
     "base_uri": "https://localhost:8080/"
    },
    "id": "JrwQi8-pbRWf",
    "outputId": "d8904cae-20fd-42dc-a8e3-a24d89e9a2c4"
   },
   "outputs": [],
   "source": [
    "ejecutar('Ciclo3')"
   ]
  },
  {
   "cell_type": "markdown",
   "metadata": {
    "id": "5_i0hF2DySo9"
   },
   "source": [
    "La solución equivalente empleando **for** se muestra a continuación:"
   ]
  },
  {
   "cell_type": "code",
   "execution_count": null,
   "metadata": {
    "colab": {
     "base_uri": "https://localhost:8080/"
    },
    "id": "prj5F1OMxbrt",
    "outputId": "920f566f-9cec-4d7f-8f2e-b7ee1241e30c"
   },
   "outputs": [],
   "source": [
    "%%writefile Ciclo3For.java\n",
    "public class Ciclo3For{\n",
    "    public static void main(String[] args){\n",
    "      for(int i = 20;i <= 30; i++){\n",
    "        System.out.println(i);\n",
    "      }   \n",
    "    }\n",
    "}"
   ]
  },
  {
   "cell_type": "code",
   "execution_count": null,
   "metadata": {
    "colab": {
     "base_uri": "https://localhost:8080/"
    },
    "id": "86mUhFbCbduA",
    "outputId": "66ac3988-ba0a-4111-9d88-f09d1b0c0f03"
   },
   "outputs": [],
   "source": [
    "ejecutar('Ciclo3For')"
   ]
  },
  {
   "cell_type": "markdown",
   "metadata": {
    "id": "TTLOHpu6yqwr"
   },
   "source": [
    "**Codigo 3**: Hacer un programa que imprima los primeros N numeros indicando si estos son pares o impares.\n",
    "\n",
    "La solución mediante **while** fue la siguiente:"
   ]
  },
  {
   "cell_type": "code",
   "execution_count": null,
   "metadata": {
    "colab": {
     "base_uri": "https://localhost:8080/"
    },
    "id": "9pj5tIG4yuer",
    "outputId": "2a9183ac-1297-4ac5-d2d5-fe9b671d323a"
   },
   "outputs": [],
   "source": [
    "%%writefile Ciclo5.java\n",
    "\n",
    "import java.util.Scanner;\n",
    "public class Ciclo5{\n",
    "    public static void main(String[] args){\n",
    "      Scanner lector = new Scanner(System.in);\n",
    "      int i = 1;\n",
    "      System.out.print(\"Digite la cantidad de numeros: \");\n",
    "      int cantNum = lector.nextInt();\n",
    "      while(i <= cantNum){\n",
    "        // Determinacion si un numero es paso o impar\n",
    "        if(i%2 == 0){\n",
    "          System.out.printf(\"%d es par%n\", i);\n",
    "        }else{\n",
    "          System.out.printf(\"%d es impar%n\", i);\n",
    "        }\n",
    "        i += 1; // Actualizacion de la variable de control   \n",
    "      }\n",
    "    }\n",
    "} "
   ]
  },
  {
   "cell_type": "code",
   "execution_count": null,
   "metadata": {
    "colab": {
     "base_uri": "https://localhost:8080/"
    },
    "id": "OMguPpPqcMTz",
    "outputId": "9e73d1e2-b499-4d67-ff37-5664a970d778"
   },
   "outputs": [],
   "source": [
    "ejecutar('Ciclo5')"
   ]
  },
  {
   "cell_type": "markdown",
   "metadata": {
    "id": "A6k2TVM8yvYQ"
   },
   "source": [
    "La solución equivalente empleando **for** se muestra a continuación:"
   ]
  },
  {
   "cell_type": "code",
   "execution_count": null,
   "metadata": {
    "colab": {
     "base_uri": "https://localhost:8080/"
    },
    "id": "SIVCL_vrywEK",
    "outputId": "910ed51f-1631-4563-a149-771a19fa1202"
   },
   "outputs": [],
   "source": [
    "%%writefile Ciclo5For.java\n",
    "\n",
    "import java.util.Scanner;\n",
    "public class Ciclo5For{\n",
    "    public static void main(String[] args){\n",
    "      Scanner lector = new Scanner(System.in);\n",
    "      System.out.print(\"Digite la cantidad de numeros: \");\n",
    "      int cantNum = lector.nextInt();\n",
    "      for(int i = 1; i <= cantNum; i++){\n",
    "        // Determinacion si un numero es paso o impar\n",
    "        if(i%2 == 0){\n",
    "          System.out.printf(\"%d es par%n\", i);\n",
    "        }else{\n",
    "          System.out.printf(\"%d es impar%n\", i);\n",
    "        }\n",
    "      }\n",
    "    }\n",
    "} "
   ]
  },
  {
   "cell_type": "code",
   "execution_count": null,
   "metadata": {
    "colab": {
     "base_uri": "https://localhost:8080/"
    },
    "id": "IkpXoepMcgtr",
    "outputId": "405d4c1f-f11a-4da0-964e-635169a769fb"
   },
   "outputs": [],
   "source": [
    "ejecutar('Ciclo5For')"
   ]
  },
  {
   "cell_type": "markdown",
   "metadata": {
    "id": "tIGH4ZOt6FWa"
   },
   "source": [
    "## Instrucciones break y continue\n",
    "\n",
    "### Instrucción break\n",
    "\n",
    "Esta instrucción es usada para romper un ciclo. Para comprender su funcionamiento observe el siguiente ejemplo:"
   ]
  },
  {
   "cell_type": "code",
   "execution_count": null,
   "metadata": {
    "colab": {
     "base_uri": "https://localhost:8080/"
    },
    "id": "wjYbG8i06e6f",
    "outputId": "8606a62b-aa76-4281-ca78-39709a825397"
   },
   "outputs": [],
   "source": [
    "%%writefile CicloBreak.java\n",
    "\n",
    "public class CicloBreak{\n",
    "    public static void main(String[] args){\n",
    "        for(int i = 0; i < 10; i++){\n",
    "            if(i == 4){\n",
    "                System.out.println(\"Hasta acá llegamos: \" + i);\n",
    "                break;\n",
    "            }\n",
    "            System.out.println(i);\n",
    "        }\n",
    "    }\n",
    "}"
   ]
  },
  {
   "cell_type": "code",
   "execution_count": null,
   "metadata": {
    "colab": {
     "base_uri": "https://localhost:8080/"
    },
    "id": "fDro_CCydW3C",
    "outputId": "61d976d0-22e1-4761-cfad-f56ea585c700"
   },
   "outputs": [],
   "source": [
    "ejecutar('CicloBreak')"
   ]
  },
  {
   "cell_type": "markdown",
   "metadata": {
    "id": "2eiywlqd7Cl6"
   },
   "source": [
    "### Instrucción continue\n",
    "\n",
    "Cuando se ejecuta la instrucción **continue** un ciclo salta al inicio evitando que se ejecute el codigo que se encuentra despues de esta. A diferencia de la instrucción **break** el ciclo no se rompe y por lo tanto el programa permanece en este hasta que, la condicion de control se hace falsa.\n",
    "\n",
    "Para comprender su funcionamiento observe el siguiente ejemplo:"
   ]
  },
  {
   "cell_type": "code",
   "execution_count": null,
   "metadata": {
    "colab": {
     "base_uri": "https://localhost:8080/"
    },
    "id": "IJ8F4gG36zet",
    "outputId": "cdfa23be-09cf-4c4a-b2f8-b38175e79de3"
   },
   "outputs": [],
   "source": [
    "%%writefile CicloContinue.java\n",
    "\n",
    "public class CicloContinue{\n",
    "    public static void main(String[] args){\n",
    "        for(int i = 0; i < 10; i++){\n",
    "            if(i > 3 && i < 7){\n",
    "                continue;\n",
    "            }\n",
    "            System.out.println(i);\n",
    "        }\n",
    "    }\n",
    "}"
   ]
  },
  {
   "cell_type": "code",
   "execution_count": null,
   "metadata": {
    "colab": {
     "base_uri": "https://localhost:8080/"
    },
    "id": "KSvtn7qgd3si",
    "outputId": "b3cfe370-d1d6-4b03-8380-b116242bff0b"
   },
   "outputs": [],
   "source": [
    "ejecutar('CicloContinue')"
   ]
  },
  {
   "cell_type": "markdown",
   "metadata": {
    "id": "l4REjKxO0SYa"
   },
   "source": [
    "## Temas faltantes Falta ##\n",
    "* Ciclo do-while.\n",
    "* Ciclos infinitos\n",
    "* Ciclos anidados.\n",
    "* Problemas de repaso."
   ]
  },
  {
   "cell_type": "markdown",
   "metadata": {
    "id": "fV7H02J3U_w8"
   },
   "source": [
    "## Referencias ##\n",
    "* https://docs.oracle.com/javase/tutorial/java/nutsandbolts/while.html\n",
    "* https://docs.oracle.com/javase/tutorial/java/nutsandbolts/for.html\n",
    "* https://docs.oracle.com/javase/tutorial/\n",
    "* https://www.w3schools.com/java/java_while_loop.asp\n",
    "* https://www.w3schools.com/java/java_for_loop.asp\n",
    "* https://www.w3schools.com/java/java_break.asp\n",
    "* https://dcodingames.com/category/para-estudiantes/estructuras-de-control-de-flujo/\n",
    "\n"
   ]
  },
  {
   "cell_type": "code",
   "execution_count": null,
   "metadata": {},
   "outputs": [],
   "source": []
  }
 ],
 "metadata": {
  "colab": {
   "collapsed_sections": [],
   "name": "clase4.ipynb",
   "provenance": []
  },
  "kernelspec": {
   "display_name": "Python 3",
   "language": "python",
   "name": "python3"
  },
  "language_info": {
   "codemirror_mode": {
    "name": "ipython",
    "version": 3
   },
   "file_extension": ".py",
   "mimetype": "text/x-python",
   "name": "python",
   "nbconvert_exporter": "python",
   "pygments_lexer": "ipython3",
   "version": "3.8.8"
  }
 },
 "nbformat": 4,
 "nbformat_minor": 2
}

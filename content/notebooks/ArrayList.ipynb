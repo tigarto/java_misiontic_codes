{
 "cells": [
  {
   "cell_type": "code",
   "execution_count": 1,
   "metadata": {},
   "outputs": [
    {
     "name": "stdout",
     "output_type": "stream",
     "text": [
      "Requirement already satisfied: tutormagic in /usr/local/lib/python3.5/dist-packages (0.3.0)\n",
      "Requirement already satisfied: notebook>=3.0 in /usr/local/lib/python3.5/dist-packages (from tutormagic) (5.5.0)\n",
      "Requirement already satisfied: jupyter-core>=4.4.0 in /usr/local/lib/python3.5/dist-packages (from notebook>=3.0->tutormagic) (4.4.0)\n",
      "Collecting pyzmq>=17 (from notebook>=3.0->tutormagic)\n",
      "  Using cached https://files.pythonhosted.org/packages/66/cf/979427611e7e1ad7cfb762139fc69a4db9b176aee55bf1379d57260fcf05/pyzmq-18.1.0-cp35-cp35m-manylinux1_x86_64.whl\n",
      "Requirement already satisfied: jinja2 in /usr/lib/python3/dist-packages (from notebook>=3.0->tutormagic) (2.8)\n",
      "Requirement already satisfied: terminado>=0.8.1 in /usr/local/lib/python3.5/dist-packages (from notebook>=3.0->tutormagic) (0.8.1)\n",
      "Requirement already satisfied: ipython-genutils in /usr/local/lib/python3.5/dist-packages (from notebook>=3.0->tutormagic) (0.2.0)\n",
      "Requirement already satisfied: traitlets>=4.2.1 in /usr/local/lib/python3.5/dist-packages (from notebook>=3.0->tutormagic) (4.3.2)\n",
      "Requirement already satisfied: jupyter-client>=5.2.0 in /usr/local/lib/python3.5/dist-packages (from notebook>=3.0->tutormagic) (5.2.3)\n",
      "Requirement already satisfied: tornado>=4 in /usr/local/lib/python3.5/dist-packages (from notebook>=3.0->tutormagic) (5.0.2)\n",
      "Requirement already satisfied: nbconvert in /usr/local/lib/python3.5/dist-packages (from notebook>=3.0->tutormagic) (5.3.1)\n",
      "Requirement already satisfied: ipykernel in /usr/local/lib/python3.5/dist-packages (from notebook>=3.0->tutormagic) (4.8.2)\n",
      "Requirement already satisfied: Send2Trash in /usr/local/lib/python3.5/dist-packages (from notebook>=3.0->tutormagic) (1.5.0)\n",
      "Requirement already satisfied: nbformat in /usr/local/lib/python3.5/dist-packages (from notebook>=3.0->tutormagic) (4.4.0)\n",
      "Requirement already satisfied: ptyprocess; os_name != \"nt\" in /usr/lib/python3/dist-packages (from terminado>=0.8.1->notebook>=3.0->tutormagic) (0.5)\n",
      "Requirement already satisfied: six in /usr/lib/python3/dist-packages (from traitlets>=4.2.1->notebook>=3.0->tutormagic) (1.10.0)\n",
      "Requirement already satisfied: decorator in /usr/lib/python3/dist-packages (from traitlets>=4.2.1->notebook>=3.0->tutormagic) (4.0.6)\n",
      "Requirement already satisfied: python-dateutil>=2.1 in /usr/local/lib/python3.5/dist-packages (from jupyter-client>=5.2.0->notebook>=3.0->tutormagic) (2.8.0)\n",
      "Requirement already satisfied: mistune>=0.7.4 in /usr/local/lib/python3.5/dist-packages (from nbconvert->notebook>=3.0->tutormagic) (0.8.3)\n",
      "Requirement already satisfied: entrypoints>=0.2.2 in /usr/local/lib/python3.5/dist-packages (from nbconvert->notebook>=3.0->tutormagic) (0.2.3)\n",
      "Requirement already satisfied: pandocfilters>=1.4.1 in /usr/local/lib/python3.5/dist-packages (from nbconvert->notebook>=3.0->tutormagic) (1.4.2)\n",
      "Requirement already satisfied: testpath in /usr/local/lib/python3.5/dist-packages (from nbconvert->notebook>=3.0->tutormagic) (0.3.1)\n",
      "Requirement already satisfied: pygments in /usr/lib/python3/dist-packages (from nbconvert->notebook>=3.0->tutormagic) (2.1)\n",
      "Requirement already satisfied: bleach in /usr/local/lib/python3.5/dist-packages (from nbconvert->notebook>=3.0->tutormagic) (2.1.3)\n",
      "Requirement already satisfied: ipython>=4.0.0 in /usr/local/lib/python3.5/dist-packages (from ipykernel->notebook>=3.0->tutormagic) (6.4.0)\n",
      "Requirement already satisfied: jsonschema!=2.5.0,>=2.4 in /usr/lib/python3/dist-packages (from nbformat->notebook>=3.0->tutormagic) (2.5.1)\n",
      "Collecting html5lib!=1.0b1,!=1.0b2,!=1.0b3,!=1.0b4,!=1.0b5,!=1.0b6,!=1.0b7,!=1.0b8,>=0.99999999pre (from bleach->nbconvert->notebook>=3.0->tutormagic)\n",
      "  Using cached https://files.pythonhosted.org/packages/a5/62/bbd2be0e7943ec8504b517e62bab011b4946e1258842bc159e5dfde15b96/html5lib-1.0.1-py2.py3-none-any.whl\n",
      "Requirement already satisfied: pickleshare in /usr/local/lib/python3.5/dist-packages (from ipython>=4.0.0->ipykernel->notebook>=3.0->tutormagic) (0.7.4)\n",
      "Requirement already satisfied: setuptools>=18.5 in /usr/lib/python3/dist-packages (from ipython>=4.0.0->ipykernel->notebook>=3.0->tutormagic) (20.7.0)\n",
      "Requirement already satisfied: pexpect; sys_platform != \"win32\" in /usr/lib/python3/dist-packages (from ipython>=4.0.0->ipykernel->notebook>=3.0->tutormagic) (4.0.1)\n",
      "Requirement already satisfied: prompt-toolkit<2.0.0,>=1.0.15 in /usr/local/lib/python3.5/dist-packages (from ipython>=4.0.0->ipykernel->notebook>=3.0->tutormagic) (1.0.15)\n",
      "Requirement already satisfied: backcall in /usr/local/lib/python3.5/dist-packages (from ipython>=4.0.0->ipykernel->notebook>=3.0->tutormagic) (0.1.0)\n",
      "Requirement already satisfied: jedi>=0.10 in /usr/local/lib/python3.5/dist-packages (from ipython>=4.0.0->ipykernel->notebook>=3.0->tutormagic) (0.12.0)\n",
      "Requirement already satisfied: simplegeneric>0.8 in /usr/local/lib/python3.5/dist-packages (from ipython>=4.0.0->ipykernel->notebook>=3.0->tutormagic) (0.8.1)\n",
      "Requirement already satisfied: webencodings in /usr/local/lib/python3.5/dist-packages (from html5lib!=1.0b1,!=1.0b2,!=1.0b3,!=1.0b4,!=1.0b5,!=1.0b6,!=1.0b7,!=1.0b8,>=0.99999999pre->bleach->nbconvert->notebook>=3.0->tutormagic) (0.5.1)\n",
      "Requirement already satisfied: wcwidth in /usr/local/lib/python3.5/dist-packages (from prompt-toolkit<2.0.0,>=1.0.15->ipython>=4.0.0->ipykernel->notebook>=3.0->tutormagic) (0.1.7)\n",
      "Requirement already satisfied: parso>=0.2.0 in /usr/local/lib/python3.5/dist-packages (from jedi>=0.10->ipython>=4.0.0->ipykernel->notebook>=3.0->tutormagic) (0.2.1)\n",
      "Installing collected packages: pyzmq, html5lib\n",
      "  Found existing installation: pyzmq 15.2.0\n",
      "\u001b[31mCannot uninstall 'pyzmq'. It is a distutils installed project and thus we cannot accurately determine which files belong to it which would lead to only a partial uninstall.\u001b[0m\n",
      "\u001b[33mYou are using pip version 19.0.3, however version 19.3.1 is available.\n",
      "You should consider upgrading via the 'pip install --upgrade pip' command.\u001b[0m\n"
     ]
    }
   ],
   "source": [
    "!pip3 install tutormagic\n",
    "%load_ext tutormagic"
   ]
  },
  {
   "cell_type": "markdown",
   "metadata": {},
   "source": [
    "# ArrayList #"
   ]
  },
  {
   "cell_type": "markdown",
   "metadata": {},
   "source": [
    "**ArrayList** es una clase del API de Java que es similar a un array y que permite almacenar objetos. A diferencia de una array, el tamaño de un objeto ArrayList se ajusta automáticamente para acomodar el número de elementos almacenados en él. Algunas de sus principales caracteristicas son:\n",
    "* Un objeto ArrayList se expande automáticamente a medida que se agregan elementos.\n",
    "* Además de añadir elementos a un ArrayList, también es posible eliminarlos.\n",
    "* Un objeto ArrayList se reduce automáticamente a medida que se eliminan elementos de él.\n",
    "\n",
    "Para usar esta clase se requiere la siguiente sentencia de codigo:\n",
    "\n",
    "```java\n",
    "import java.util.ArrayList;\n",
    "```"
   ]
  },
  {
   "cell_type": "markdown",
   "metadata": {},
   "source": [
    "## Creando un ArrayList ##\n",
    "\n",
    "### Sintaxis ###\n",
    "\n",
    "```java\n",
    "ArrayList<Tipo> nameArrayList = new ArrayList<Tipo>();\n",
    "```\n",
    "\n",
    "**Ejemplos**\n",
    "\n",
    "```java\n",
    "ArrayList<String> nameList = new ArrayList<String>();\n",
    "ArrayList<Estudiante> al = new ArrayList<Estudiante>();\n",
    "```"
   ]
  },
  {
   "cell_type": "markdown",
   "metadata": {},
   "source": [
    "## Usando un ArrayList ##\n",
    "\n",
    "* **Agregar elementos al ArrayList**: para agregar elementos se usa el metodo **add**:\n",
    "  \n",
    "```java\n",
    "nameArrayList.add(element);\n",
    "```\n",
    "\n",
    "**Ejemplo**\n",
    "\n",
    "```java\n",
    "nameList.add(\"James\");\n",
    "nameList.add(\"Catherine\");\n",
    "```\n",
    "\n",
    "* **Obtener el tamaño ArrayList**: para obtener tamaño se usa el metodo **size**:\n",
    "  \n",
    "```java\n",
    "nameArrayList.size();\n",
    "```\n",
    "\n",
    "**Ejemplo**\n",
    "\n",
    "```java\n",
    "nameList.size(); // returns 2\n",
    "```\n",
    "\n",
    "* **Obtener un elemento del ArrayList**: para obtener un elemento de un ArrayList se usa el metodo **get** pasando como parametro el indice del elemento a recuperar:\n",
    "\n",
    "```java\n",
    "nameArrayList.get(index);\n",
    "```\n",
    "\n",
    "\n",
    "**Ejemplo**:\n",
    "\n",
    "```java\n",
    "nameList.get(1);\n",
    "```"
   ]
  },
  {
   "cell_type": "code",
   "execution_count": 2,
   "metadata": {},
   "outputs": [
    {
     "data": {
      "text/html": [
       "<div class=\"text-center\"><strong><a style=\"box-sizing: border-box; padding: 0 5px; border: 1px solid #CFCFCF;\" target=\"_\" href=http://pythontutor.com/iframe-embed.html#code=import%20java.util.ArrayList%3B%20//%20Needed%20for%20ArrayList%20class%0A%0A/%2A%2A%0A%20%20%20This%20program%20demonstrates%20an%20ArrayList.%0A%2A/%0A%0Apublic%20class%20ArrayListDemo1%0A%7B%0A%20%20%20public%20static%20void%20main%28String%5B%5D%20args%29%0A%20%20%20%7B%0A%20%20%20%20%20%20//%20Create%20an%20ArrayList%20to%20hold%20some%20names.%0A%20%20%20%20%20%20ArrayList%3CString%3E%20nameList%20%3D%20new%20ArrayList%3CString%3E%28%29%3B%0A%20%20%20%20%20%20%0A%20%20%20%20%20%20//%20Add%20some%20names%20to%20the%20ArrayList.%0A%20%20%20%20%20%20nameList.add%28%22James%22%29%3B%0A%20%20%20%20%20%20nameList.add%28%22Catherine%22%29%3B%0A%20%20%20%20%20%20nameList.add%28%22Bill%22%29%3B%0A%20%20%20%20%20%20%0A%20%20%20%20%20%20//%20Display%20the%20size%20of%20the%20ArrayList.%0A%20%20%20%20%20%20System.out.println%28%22The%20ArrayList%20has%20%22%20%2B%0A%20%20%20%20%20%20%20%20%20%20%20%20%20%20%20%20%20%20%20%20%20%20%20%20%20nameList.size%28%29%20%2B%0A%20%20%20%20%20%20%20%20%20%20%20%20%20%20%20%20%20%20%20%20%20%20%20%20%20%22%20objects%20stored%20in%20it.%22%29%3B%0A%0A%20%20%20%20%20%20//%20Now%20display%20the%20items%20in%20nameList.%0A%20%20%20%20%20%20for%20%28int%20index%20%3D%200%3B%20index%20%3C%20nameList.size%28%29%3B%20index%2B%2B%29%0A%20%20%20%20%20%20%20%20%20System.out.println%28nameList.get%28index%29%29%3B%0A%20%20%20%7D%0A%7D&origin=opt-frontend.js&cumulative=false&heapPrimitives=false&textReferences=false&curInstr=0&&verticalStack=false&py=java&rawInputLstJSON=%5B%5D&codeDivWidth=50%25&codeDivHeight=100%25>Python Tutor</a></strong></div>"
      ],
      "text/plain": [
       "<IPython.core.display.HTML object>"
      ]
     },
     "metadata": {},
     "output_type": "display_data"
    }
   ],
   "source": [
    "%%tutor -l java -k\n",
    "import java.util.ArrayList; // Needed for ArrayList class\n",
    "\n",
    "/**\n",
    "   This program demonstrates an ArrayList.\n",
    "*/\n",
    "\n",
    "public class ArrayListDemo1\n",
    "{\n",
    "   public static void main(String[] args)\n",
    "   {\n",
    "      // Create an ArrayList to hold some names.\n",
    "      ArrayList<String> nameList = new ArrayList<String>();\n",
    "      \n",
    "      // Add some names to the ArrayList.\n",
    "      nameList.add(\"James\");\n",
    "      nameList.add(\"Catherine\");\n",
    "      nameList.add(\"Bill\");\n",
    "      \n",
    "      // Display the size of the ArrayList.\n",
    "      System.out.println(\"The ArrayList has \" +\n",
    "                         nameList.size() +\n",
    "                         \" objects stored in it.\");\n",
    "\n",
    "      // Now display the items in nameList.\n",
    "      for (int index = 0; index < nameList.size(); index++)\n",
    "         System.out.println(nameList.get(index));\n",
    "   }\n",
    "}"
   ]
  },
  {
   "cell_type": "markdown",
   "metadata": {},
   "source": [
    "El ArrayList tambien acepta la version mejorada del for"
   ]
  },
  {
   "cell_type": "code",
   "execution_count": 3,
   "metadata": {},
   "outputs": [
    {
     "data": {
      "text/html": [
       "<div class=\"text-center\"><strong><a style=\"box-sizing: border-box; padding: 0 5px; border: 1px solid #CFCFCF;\" target=\"_\" href=http://pythontutor.com/iframe-embed.html#code=%0Aimport%20java.util.ArrayList%3B%20//%20Needed%20for%20ArrayList%20class%0A%0A/%2A%2A%0A%20%20%20This%20program%20demonstrates%20how%20the%20enhanced%20for%20loop%0A%20%20%20can%20be%20used%20with%20an%20ArrayList.%0A%2A/%0A%0Apublic%20class%20ArrayListDemo2%0A%7B%0A%20%20%20public%20static%20void%20main%28String%5B%5D%20args%29%0A%20%20%20%7B%0A%20%20%20%20%20%20//%20Create%20an%20ArrayList%20to%20hold%20some%20names.%0A%20%20%20%20%20%20ArrayList%3CString%3E%20nameList%20%3D%20new%20ArrayList%3CString%3E%28%29%3B%0A%20%20%20%20%20%20%0A%20%20%20%20%20%20//%20Add%20some%20names%20to%20the%20ArrayList.%0A%20%20%20%20%20%20nameList.add%28%22James%22%29%3B%0A%20%20%20%20%20%20nameList.add%28%22Catherine%22%29%3B%0A%20%20%20%20%20%20nameList.add%28%22Bill%22%29%3B%0A%20%20%20%20%20%20%0A%20%20%20%20%20%20//%20Display%20the%20size%20of%20the%20ArrayList.%0A%20%20%20%20%20%20System.out.println%28%22The%20ArrayList%20has%20%22%20%2B%0A%20%20%20%20%20%20%20%20%20%20%20%20%20%20%20%20%20%20%20%20%20%20%20%20%20nameList.size%28%29%20%2B%0A%20%20%20%20%20%20%20%20%20%20%20%20%20%20%20%20%20%20%20%20%20%20%20%20%20%22%20objects%20stored%20in%20it.%22%29%3B%0A%0A%20%20%20%20%20%20//%20Now%20display%20the%20items%20in%20nameList.%0A%20%20%20%20%20%20for%20%28String%20name%20%3A%20nameList%29%0A%20%20%20%20%20%20%20%20%20System.out.println%28name%29%3B%0A%20%20%20%7D%0A%7D&origin=opt-frontend.js&cumulative=false&heapPrimitives=false&textReferences=false&curInstr=0&&verticalStack=false&py=java&rawInputLstJSON=%5B%5D&codeDivWidth=50%25&codeDivHeight=100%25>Python Tutor</a></strong></div>"
      ],
      "text/plain": [
       "<IPython.core.display.HTML object>"
      ]
     },
     "metadata": {},
     "output_type": "display_data"
    }
   ],
   "source": [
    "%%tutor -l java -k\n",
    "\n",
    "import java.util.ArrayList; // Needed for ArrayList class\n",
    "\n",
    "/**\n",
    "   This program demonstrates how the enhanced for loop\n",
    "   can be used with an ArrayList.\n",
    "*/\n",
    "\n",
    "public class ArrayListDemo2\n",
    "{\n",
    "   public static void main(String[] args)\n",
    "   {\n",
    "      // Create an ArrayList to hold some names.\n",
    "      ArrayList<String> nameList = new ArrayList<String>();\n",
    "      \n",
    "      // Add some names to the ArrayList.\n",
    "      nameList.add(\"James\");\n",
    "      nameList.add(\"Catherine\");\n",
    "      nameList.add(\"Bill\");\n",
    "      \n",
    "      // Display the size of the ArrayList.\n",
    "      System.out.println(\"The ArrayList has \" +\n",
    "                         nameList.size() +\n",
    "                         \" objects stored in it.\");\n",
    "\n",
    "      // Now display the items in nameList.\n",
    "      for (String name : nameList)\n",
    "         System.out.println(name);\n",
    "   }\n",
    "}"
   ]
  },
  {
   "cell_type": "markdown",
   "metadata": {},
   "source": [
    "* **Imprimiendo los elementos de un ArrayList**: La clase ArrayList posee el metodo **toString** el cual retorna una representación como string de todos los elementos del ArrayList:\n",
    "\n",
    "**Ejemplo**\n",
    "Si se usa la siguiente sentencia:\n",
    "\n",
    "```java\n",
    "System.out.println(nameList);\n",
    "```\n",
    "\n",
    "La salida será:\n",
    "\n",
    "```java\n",
    "[ James, Catherine ]\n",
    "```"
   ]
  },
  {
   "cell_type": "markdown",
   "metadata": {},
   "source": [
    "Removiendo"
   ]
  },
  {
   "cell_type": "code",
   "execution_count": 4,
   "metadata": {},
   "outputs": [
    {
     "data": {
      "text/html": [
       "<div class=\"text-center\"><strong><a style=\"box-sizing: border-box; padding: 0 5px; border: 1px solid #CFCFCF;\" target=\"_\" href=http://pythontutor.com/iframe-embed.html#code=import%20java.util.ArrayList%3B%20//%20Needed%20for%20ArrayList%20class%0A%0A/%2A%2A%0A%20%20%20This%20program%20demonstrates%20an%20ArrayList.%0A%2A/%0A%0Apublic%20class%20ArrayListDemo3%0A%7B%0A%20%20%20public%20static%20void%20main%28String%5B%5D%20args%29%0A%20%20%20%7B%0A%20%20%20%20%20%20//%20Create%20an%20ArrayList%20to%20hold%20some%20names.%0A%20%20%20%20%20%20ArrayList%3CString%3E%20nameList%20%3D%20new%20ArrayList%3CString%3E%28%29%3B%0A%20%20%20%20%20%20%0A%20%20%20%20%20%20//%20Add%20some%20names%20to%20the%20ArrayList.%0A%20%20%20%20%20%20nameList.add%28%22James%22%29%3B%0A%20%20%20%20%20%20nameList.add%28%22Catherine%22%29%3B%0A%20%20%20%20%20%20nameList.add%28%22Bill%22%29%3B%0A%20%20%20%20%20%20%0A%20%20%20%20%20%20//%20Display%20the%20items%20in%20nameList%20and%20their%20indices.%0A%20%20%20%20%20%20for%20%28int%20index%20%3D%200%3B%20index%20%3C%20nameList.size%28%29%3B%20index%2B%2B%29%0A%20%20%20%20%20%20%7B%0A%20%20%20%20%20%20%20%20%20System.out.println%28%22Index%3A%20%22%20%2B%20index%20%2B%20%22%20Name%3A%20%22%20%2B%0A%20%20%20%20%20%20%20%20%20%20%20%20%20%20%20%20%20%20%20%20%20%20%20%20%20%20%20%20nameList.get%28index%29%29%3B%0A%20%20%20%20%20%20%7D%0A%20%20%20%20%20%20%0A%20%20%20%20%20%20//%20Now%20remove%20the%20item%20at%20index%201.%0A%20%20%20%20%20%20nameList.remove%281%29%3B%0A%20%20%20%20%20%20%0A%20%20%20%20%20%20System.out.println%28%22The%20item%20at%20index%201%20is%20removed.%20%22%20%2B%0A%20%20%20%20%20%20%20%20%20%20%20%20%20%20%20%20%20%20%20%20%20%20%20%20%20%22Here%20are%20the%20items%20now.%22%29%3B%0A%20%20%20%20%20%20%20%20%20%20%20%20%20%20%20%20%20%20%20%20%20%20%20%20%20%0A%20%20%20%20%20%20//%20Display%20the%20items%20in%20nameList%20and%20their%20indices.%0A%20%20%20%20%20%20for%20%28int%20index%20%3D%200%3B%20index%20%3C%20nameList.size%28%29%3B%20index%2B%2B%29%0A%20%20%20%20%20%20%7B%0A%20%20%20%20%20%20%20%20%20System.out.println%28%22Index%3A%20%22%20%2B%20index%20%2B%20%22%20Name%3A%20%22%20%2B%0A%20%20%20%20%20%20%20%20%20%20%20%20%20%20%20%20%20%20%20%20%20%20%20%20%20%20%20%20nameList.get%28index%29%29%3B%0A%20%20%20%20%20%20%7D%0A%20%20%20%7D%0A%7D&origin=opt-frontend.js&cumulative=false&heapPrimitives=false&textReferences=false&curInstr=0&&verticalStack=false&py=java&rawInputLstJSON=%5B%5D&codeDivWidth=50%25&codeDivHeight=100%25>Python Tutor</a></strong></div>"
      ],
      "text/plain": [
       "<IPython.core.display.HTML object>"
      ]
     },
     "metadata": {},
     "output_type": "display_data"
    }
   ],
   "source": [
    "%%tutor -l java -k\n",
    "import java.util.ArrayList; // Needed for ArrayList class\n",
    "\n",
    "/**\n",
    "   This program demonstrates an ArrayList.\n",
    "*/\n",
    "\n",
    "public class ArrayListDemo3\n",
    "{\n",
    "   public static void main(String[] args)\n",
    "   {\n",
    "      // Create an ArrayList to hold some names.\n",
    "      ArrayList<String> nameList = new ArrayList<String>();\n",
    "      \n",
    "      // Add some names to the ArrayList.\n",
    "      nameList.add(\"James\");\n",
    "      nameList.add(\"Catherine\");\n",
    "      nameList.add(\"Bill\");\n",
    "      \n",
    "      // Display the items in nameList and their indices.\n",
    "      for (int index = 0; index < nameList.size(); index++)\n",
    "      {\n",
    "         System.out.println(\"Index: \" + index + \" Name: \" +\n",
    "                            nameList.get(index));\n",
    "      }\n",
    "      \n",
    "      // Now remove the item at index 1.\n",
    "      nameList.remove(1);\n",
    "      \n",
    "      System.out.println(\"The item at index 1 is removed. \" +\n",
    "                         \"Here are the items now.\");\n",
    "                         \n",
    "      // Display the items in nameList and their indices.\n",
    "      for (int index = 0; index < nameList.size(); index++)\n",
    "      {\n",
    "         System.out.println(\"Index: \" + index + \" Name: \" +\n",
    "                            nameList.get(index));\n",
    "      }\n",
    "   }\n",
    "}"
   ]
  },
  {
   "cell_type": "markdown",
   "metadata": {},
   "source": [
    "Otra version para agregar elemento"
   ]
  },
  {
   "cell_type": "code",
   "execution_count": 6,
   "metadata": {},
   "outputs": [
    {
     "data": {
      "text/html": [
       "<div class=\"text-center\"><strong><a style=\"box-sizing: border-box; padding: 0 5px; border: 1px solid #CFCFCF;\" target=\"_\" href=http://pythontutor.com/iframe-embed.html#code=import%20java.util.ArrayList%3B%20//%20Needed%20for%20ArrayList%20class%0A%0A/%2A%2A%0A%20%20%20This%20program%20demonstrates%20inserting%20an%20item.%0A%2A/%0A%0Apublic%20class%20ArrayListDemo4%0A%7B%0A%20%20%20public%20static%20void%20main%28String%5B%5D%20args%29%0A%20%20%20%7B%0A%20%20%20%20%20%20//%20Create%20an%20ArrayList%20to%20hold%20some%20names.%0A%20%20%20%20%20%20ArrayList%3CString%3E%20nameList%20%3D%20new%20ArrayList%3CString%3E%28%29%3B%0A%20%20%20%20%20%20%0A%20%20%20%20%20%20//%20Add%20some%20names%20to%20the%20ArrayList.%0A%20%20%20%20%20%20nameList.add%28%22James%22%29%3B%0A%20%20%20%20%20%20nameList.add%28%22Catherine%22%29%3B%0A%20%20%20%20%20%20nameList.add%28%22Bill%22%29%3B%0A%20%20%20%20%20%20%0A%20%20%20%20%20%20//%20Display%20the%20items%20in%20nameList%20and%20their%20indices.%0A%20%20%20%20%20%20for%20%28int%20index%20%3D%200%3B%20index%20%3C%20nameList.size%28%29%3B%20index%2B%2B%29%0A%20%20%20%20%20%20%7B%0A%20%20%20%20%20%20%20%20%20System.out.println%28%22Index%3A%20%22%20%2B%20index%20%2B%20%22%20Name%3A%20%22%20%2B%0A%20%20%20%20%20%20%20%20%20%20%20%20%20%20%20%20%20%20%20%20%20%20%20%20%20%20%20%20nameList.get%28index%29%29%3B%0A%20%20%20%20%20%20%7D%0A%20%20%20%20%20%20%0A%20%20%20%20%20%20//%20Now%20insert%20an%20%20item%20at%20index%201.%0A%20%20%20%20%20%20nameList.add%281%2C%20%22Mary%22%29%3B%0A%20%20%20%20%20%20%0A%20%20%20%20%20%20System.out.println%28%22Mary%20was%20added%20at%20index%201.%20%22%20%2B%0A%20%20%20%20%20%20%20%20%20%20%20%20%20%20%20%20%20%20%20%20%20%20%20%20%20%22Here%20are%20the%20items%20now.%22%29%3B%0A%20%20%20%20%20%20%20%20%20%20%20%20%20%20%20%20%20%20%20%20%20%20%20%20%20%0A%20%20%20%20%20%20//%20Display%20the%20items%20in%20nameList%20and%20their%20indices.%0A%20%20%20%20%20%20for%20%28int%20index%20%3D%200%3B%20index%20%3C%20nameList.size%28%29%3B%20index%2B%2B%29%0A%20%20%20%20%20%20%7B%0A%20%20%20%20%20%20%20%20%20System.out.println%28%22Index%3A%20%22%20%2B%20index%20%2B%20%22%20Name%3A%20%22%20%2B%0A%20%20%20%20%20%20%20%20%20%20%20%20%20%20%20%20%20%20%20%20%20%20%20%20%20%20%20%20nameList.get%28index%29%29%3B%0A%20%20%20%20%20%20%7D%0A%20%20%20%7D%0A%7D&origin=opt-frontend.js&cumulative=false&heapPrimitives=false&textReferences=false&curInstr=0&&verticalStack=false&py=java&rawInputLstJSON=%5B%5D&codeDivWidth=50%25&codeDivHeight=100%25>Python Tutor</a></strong></div>"
      ],
      "text/plain": [
       "<IPython.core.display.HTML object>"
      ]
     },
     "metadata": {},
     "output_type": "display_data"
    }
   ],
   "source": [
    "%%tutor -l java -k\n",
    "import java.util.ArrayList; // Needed for ArrayList class\n",
    "\n",
    "/**\n",
    "   This program demonstrates inserting an item.\n",
    "*/\n",
    "\n",
    "public class ArrayListDemo4\n",
    "{\n",
    "   public static void main(String[] args)\n",
    "   {\n",
    "      // Create an ArrayList to hold some names.\n",
    "      ArrayList<String> nameList = new ArrayList<String>();\n",
    "      \n",
    "      // Add some names to the ArrayList.\n",
    "      nameList.add(\"James\");\n",
    "      nameList.add(\"Catherine\");\n",
    "      nameList.add(\"Bill\");\n",
    "      \n",
    "      // Display the items in nameList and their indices.\n",
    "      for (int index = 0; index < nameList.size(); index++)\n",
    "      {\n",
    "         System.out.println(\"Index: \" + index + \" Name: \" +\n",
    "                            nameList.get(index));\n",
    "      }\n",
    "      \n",
    "      // Now insert an  item at index 1.\n",
    "      nameList.add(1, \"Mary\");\n",
    "      \n",
    "      System.out.println(\"Mary was added at index 1. \" +\n",
    "                         \"Here are the items now.\");\n",
    "                         \n",
    "      // Display the items in nameList and their indices.\n",
    "      for (int index = 0; index < nameList.size(); index++)\n",
    "      {\n",
    "         System.out.println(\"Index: \" + index + \" Name: \" +\n",
    "                            nameList.get(index));\n",
    "      }\n",
    "   }\n",
    "}"
   ]
  },
  {
   "cell_type": "markdown",
   "metadata": {},
   "source": [
    "Reemplazadno"
   ]
  },
  {
   "cell_type": "code",
   "execution_count": 7,
   "metadata": {},
   "outputs": [
    {
     "data": {
      "text/html": [
       "<div class=\"text-center\"><strong><a style=\"box-sizing: border-box; padding: 0 5px; border: 1px solid #CFCFCF;\" target=\"_\" href=http://pythontutor.com/iframe-embed.html#code=import%20java.util.ArrayList%3B%20//%20Needed%20for%20ArrayList%20class%0A%0A/%2A%2A%0A%20%20%20This%20program%20demonstrates%20replacing%20an%20item.%0A%2A/%0A%0Apublic%20class%20ArrayListDemo5%0A%7B%0A%20%20%20public%20static%20void%20main%28String%5B%5D%20args%29%0A%20%20%20%7B%0A%20%20%20%20%20%20//%20Create%20an%20ArrayList%20to%20hold%20some%20names.%0A%20%20%20%20%20%20ArrayList%3CString%3E%20nameList%20%3D%20new%20ArrayList%3CString%3E%28%29%3B%0A%20%20%20%20%20%20%0A%20%20%20%20%20%20//%20Add%20some%20names%20to%20the%20ArrayList.%0A%20%20%20%20%20%20nameList.add%28%22James%22%29%3B%0A%20%20%20%20%20%20nameList.add%28%22Catherine%22%29%3B%0A%20%20%20%20%20%20nameList.add%28%22Bill%22%29%3B%0A%20%20%20%20%20%20%0A%20%20%20%20%20%20//%20Display%20the%20items%20in%20nameList%20and%20their%20indices.%0A%20%20%20%20%20%20for%20%28int%20index%20%3D%200%3B%20index%20%3C%20nameList.size%28%29%3B%20index%2B%2B%29%0A%20%20%20%20%20%20%7B%0A%20%20%20%20%20%20%20%20%20System.out.println%28%22Index%3A%20%22%20%2B%20index%20%2B%20%22%20Name%3A%20%22%20%2B%0A%20%20%20%20%20%20%20%20%20%20%20%20%20%20%20%20%20%20%20%20%20%20%20%20%20%20%20%20nameList.get%28index%29%29%3B%0A%20%20%20%20%20%20%7D%0A%20%20%20%20%20%20%0A%20%20%20%20%20%20//%20Now%20replace%20the%20item%20at%20index%201.%0A%20%20%20%20%20%20nameList.set%281%2C%20%22Becky%22%29%3B%0A%20%20%20%20%20%20%0A%20%20%20%20%20%20System.out.println%28%22Catherine%20was%20replaced%20with%20Becky.%20%22%20%2B%0A%20%20%20%20%20%20%20%20%20%20%20%20%20%20%20%20%20%20%20%20%20%20%20%20%20%22Here%20are%20the%20items%20now.%22%29%3B%0A%20%20%20%20%20%20%20%20%20%20%20%20%20%20%20%20%20%20%20%20%20%20%20%20%20%0A%20%20%20%20%20%20//%20Display%20the%20items%20in%20nameList%20and%20their%20indices.%0A%20%20%20%20%20%20for%20%28int%20index%20%3D%200%3B%20index%20%3C%20nameList.size%28%29%3B%20index%2B%2B%29%0A%20%20%20%20%20%20%7B%0A%20%20%20%20%20%20%20%20%20System.out.println%28%22Index%3A%20%22%20%2B%20index%20%2B%20%22%20Name%3A%20%22%20%2B%0A%20%20%20%20%20%20%20%20%20%20%20%20%20%20%20%20%20%20%20%20%20%20%20%20%20%20%20%20nameList.get%28index%29%29%3B%0A%20%20%20%20%20%20%7D%0A%20%20%20%7D%0A%7D&origin=opt-frontend.js&cumulative=false&heapPrimitives=false&textReferences=false&curInstr=0&&verticalStack=false&py=java&rawInputLstJSON=%5B%5D&codeDivWidth=50%25&codeDivHeight=100%25>Python Tutor</a></strong></div>"
      ],
      "text/plain": [
       "<IPython.core.display.HTML object>"
      ]
     },
     "metadata": {},
     "output_type": "display_data"
    }
   ],
   "source": [
    "%%tutor -l java -k\n",
    "import java.util.ArrayList; // Needed for ArrayList class\n",
    "\n",
    "/**\n",
    "   This program demonstrates replacing an item.\n",
    "*/\n",
    "\n",
    "public class ArrayListDemo5\n",
    "{\n",
    "   public static void main(String[] args)\n",
    "   {\n",
    "      // Create an ArrayList to hold some names.\n",
    "      ArrayList<String> nameList = new ArrayList<String>();\n",
    "      \n",
    "      // Add some names to the ArrayList.\n",
    "      nameList.add(\"James\");\n",
    "      nameList.add(\"Catherine\");\n",
    "      nameList.add(\"Bill\");\n",
    "      \n",
    "      // Display the items in nameList and their indices.\n",
    "      for (int index = 0; index < nameList.size(); index++)\n",
    "      {\n",
    "         System.out.println(\"Index: \" + index + \" Name: \" +\n",
    "                            nameList.get(index));\n",
    "      }\n",
    "      \n",
    "      // Now replace the item at index 1.\n",
    "      nameList.set(1, \"Becky\");\n",
    "      \n",
    "      System.out.println(\"Catherine was replaced with Becky. \" +\n",
    "                         \"Here are the items now.\");\n",
    "                         \n",
    "      // Display the items in nameList and their indices.\n",
    "      for (int index = 0; index < nameList.size(); index++)\n",
    "      {\n",
    "         System.out.println(\"Index: \" + index + \" Name: \" +\n",
    "                            nameList.get(index));\n",
    "      }\n",
    "   }\n",
    "}"
   ]
  },
  {
   "cell_type": "code",
   "execution_count": null,
   "metadata": {},
   "outputs": [],
   "source": []
  }
 ],
 "metadata": {
  "kernelspec": {
   "display_name": "Python 3",
   "language": "python",
   "name": "python3"
  },
  "language_info": {
   "codemirror_mode": {
    "name": "ipython",
    "version": 3
   },
   "file_extension": ".py",
   "mimetype": "text/x-python",
   "name": "python",
   "nbconvert_exporter": "python",
   "pygments_lexer": "ipython3",
   "version": "3.4.6"
  }
 },
 "nbformat": 4,
 "nbformat_minor": 2
}

{
 "cells": [
  {
   "cell_type": "markdown",
   "metadata": {},
   "source": [
    "[![Open In Colab](https://colab.research.google.com/assets/colab-badge.svg)](https://colab.research.google.com/github/tigarto/TdeA/blob/master/arreglos.ipynb)"
   ]
  },
  {
   "cell_type": "code",
   "execution_count": 5,
   "metadata": {},
   "outputs": [
    {
     "name": "stdout",
     "output_type": "stream",
     "text": [
      "Collecting tutormagic\n",
      "  Using cached https://files.pythonhosted.org/packages/26/4c/170e56dce3ecbf0608f37b3b99100bd2666cac181da14bc685516e958435/tutormagic-0.3.0-py2.py3-none-any.whl\n",
      "Requirement already satisfied: notebook>=3.0 in /home/tigarto/miniconda3/lib/python3.7/site-packages (from tutormagic) (6.0.1)\n",
      "Requirement already satisfied: terminado>=0.8.1 in /home/tigarto/miniconda3/lib/python3.7/site-packages (from notebook>=3.0->tutormagic) (0.8.3)\n",
      "Requirement already satisfied: jinja2 in /home/tigarto/miniconda3/lib/python3.7/site-packages (from notebook>=3.0->tutormagic) (2.10.3)\n",
      "Requirement already satisfied: ipython-genutils in /home/tigarto/miniconda3/lib/python3.7/site-packages (from notebook>=3.0->tutormagic) (0.2.0)\n",
      "Requirement already satisfied: ipykernel in /home/tigarto/miniconda3/lib/python3.7/site-packages (from notebook>=3.0->tutormagic) (5.1.3)\n",
      "Requirement already satisfied: Send2Trash in /home/tigarto/miniconda3/lib/python3.7/site-packages (from notebook>=3.0->tutormagic) (1.5.0)\n",
      "Requirement already satisfied: pyzmq>=17 in /home/tigarto/miniconda3/lib/python3.7/site-packages (from notebook>=3.0->tutormagic) (18.1.1)\n",
      "Requirement already satisfied: tornado>=5.0 in /home/tigarto/miniconda3/lib/python3.7/site-packages (from notebook>=3.0->tutormagic) (6.0.3)\n",
      "Requirement already satisfied: nbformat in /home/tigarto/miniconda3/lib/python3.7/site-packages (from notebook>=3.0->tutormagic) (4.4.0)\n",
      "Requirement already satisfied: jupyter-client>=5.3.1 in /home/tigarto/miniconda3/lib/python3.7/site-packages (from notebook>=3.0->tutormagic) (5.3.3)\n",
      "Requirement already satisfied: jupyter-core>=4.4.0 in /home/tigarto/miniconda3/lib/python3.7/site-packages (from notebook>=3.0->tutormagic) (4.6.1)\n",
      "Requirement already satisfied: prometheus-client in /home/tigarto/miniconda3/lib/python3.7/site-packages (from notebook>=3.0->tutormagic) (0.7.1)\n",
      "Requirement already satisfied: nbconvert in /home/tigarto/miniconda3/lib/python3.7/site-packages (from notebook>=3.0->tutormagic) (5.6.1)\n",
      "Requirement already satisfied: traitlets>=4.2.1 in /home/tigarto/miniconda3/lib/python3.7/site-packages (from notebook>=3.0->tutormagic) (4.3.3)\n",
      "Requirement already satisfied: MarkupSafe>=0.23 in /home/tigarto/miniconda3/lib/python3.7/site-packages (from jinja2->notebook>=3.0->tutormagic) (1.1.1)\n",
      "Requirement already satisfied: ipython>=5.0.0 in /home/tigarto/miniconda3/lib/python3.7/site-packages (from ipykernel->notebook>=3.0->tutormagic) (7.11.1)\n",
      "Requirement already satisfied: jsonschema!=2.5.0,>=2.4 in /home/tigarto/miniconda3/lib/python3.7/site-packages (from nbformat->notebook>=3.0->tutormagic) (3.2.0)\n",
      "Requirement already satisfied: python-dateutil>=2.1 in /home/tigarto/miniconda3/lib/python3.7/site-packages (from jupyter-client>=5.3.1->notebook>=3.0->tutormagic) (2.8.1)\n",
      "Requirement already satisfied: testpath in /home/tigarto/miniconda3/lib/python3.7/site-packages (from nbconvert->notebook>=3.0->tutormagic) (0.4.4)\n",
      "Requirement already satisfied: pygments in /home/tigarto/miniconda3/lib/python3.7/site-packages (from nbconvert->notebook>=3.0->tutormagic) (2.5.2)\n",
      "Requirement already satisfied: bleach in /home/tigarto/miniconda3/lib/python3.7/site-packages (from nbconvert->notebook>=3.0->tutormagic) (3.1.0)\n",
      "Requirement already satisfied: entrypoints>=0.2.2 in /home/tigarto/miniconda3/lib/python3.7/site-packages (from nbconvert->notebook>=3.0->tutormagic) (0.3)\n",
      "Requirement already satisfied: defusedxml in /home/tigarto/miniconda3/lib/python3.7/site-packages (from nbconvert->notebook>=3.0->tutormagic) (0.6.0)\n",
      "Requirement already satisfied: mistune<2,>=0.8.1 in /home/tigarto/miniconda3/lib/python3.7/site-packages (from nbconvert->notebook>=3.0->tutormagic) (0.8.4)\n",
      "Requirement already satisfied: pandocfilters>=1.4.1 in /home/tigarto/miniconda3/lib/python3.7/site-packages (from nbconvert->notebook>=3.0->tutormagic) (1.4.2)\n",
      "Requirement already satisfied: six in /home/tigarto/miniconda3/lib/python3.7/site-packages (from traitlets>=4.2.1->notebook>=3.0->tutormagic) (1.12.0)\n",
      "Requirement already satisfied: decorator in /home/tigarto/miniconda3/lib/python3.7/site-packages (from traitlets>=4.2.1->notebook>=3.0->tutormagic) (4.4.1)\n",
      "Requirement already satisfied: pexpect; sys_platform != \"win32\" in /home/tigarto/miniconda3/lib/python3.7/site-packages (from ipython>=5.0.0->ipykernel->notebook>=3.0->tutormagic) (4.7.0)\n",
      "Requirement already satisfied: setuptools>=18.5 in /home/tigarto/miniconda3/lib/python3.7/site-packages (from ipython>=5.0.0->ipykernel->notebook>=3.0->tutormagic) (45.2.0)\n",
      "Requirement already satisfied: pickleshare in /home/tigarto/miniconda3/lib/python3.7/site-packages (from ipython>=5.0.0->ipykernel->notebook>=3.0->tutormagic) (0.7.5)\n",
      "Requirement already satisfied: jedi>=0.10 in /home/tigarto/miniconda3/lib/python3.7/site-packages (from ipython>=5.0.0->ipykernel->notebook>=3.0->tutormagic) (0.15.2)\n",
      "Requirement already satisfied: backcall in /home/tigarto/miniconda3/lib/python3.7/site-packages (from ipython>=5.0.0->ipykernel->notebook>=3.0->tutormagic) (0.1.0)\n",
      "Requirement already satisfied: prompt-toolkit!=3.0.0,!=3.0.1,<3.1.0,>=2.0.0 in /home/tigarto/miniconda3/lib/python3.7/site-packages (from ipython>=5.0.0->ipykernel->notebook>=3.0->tutormagic) (3.0.2)\n",
      "Requirement already satisfied: pyrsistent>=0.14.0 in /home/tigarto/miniconda3/lib/python3.7/site-packages (from jsonschema!=2.5.0,>=2.4->nbformat->notebook>=3.0->tutormagic) (0.15.6)\n",
      "Requirement already satisfied: attrs>=17.4.0 in /home/tigarto/miniconda3/lib/python3.7/site-packages (from jsonschema!=2.5.0,>=2.4->nbformat->notebook>=3.0->tutormagic) (19.3.0)\n",
      "Requirement already satisfied: importlib-metadata; python_version < \"3.8\" in /home/tigarto/miniconda3/lib/python3.7/site-packages (from jsonschema!=2.5.0,>=2.4->nbformat->notebook>=3.0->tutormagic) (1.3.0)\n",
      "Requirement already satisfied: webencodings in /home/tigarto/miniconda3/lib/python3.7/site-packages (from bleach->nbconvert->notebook>=3.0->tutormagic) (0.5.1)\n",
      "Requirement already satisfied: ptyprocess>=0.5 in /home/tigarto/miniconda3/lib/python3.7/site-packages (from pexpect; sys_platform != \"win32\"->ipython>=5.0.0->ipykernel->notebook>=3.0->tutormagic) (0.6.0)\n",
      "Requirement already satisfied: parso>=0.5.2 in /home/tigarto/miniconda3/lib/python3.7/site-packages (from jedi>=0.10->ipython>=5.0.0->ipykernel->notebook>=3.0->tutormagic) (0.5.2)\n",
      "Requirement already satisfied: wcwidth in /home/tigarto/miniconda3/lib/python3.7/site-packages (from prompt-toolkit!=3.0.0,!=3.0.1,<3.1.0,>=2.0.0->ipython>=5.0.0->ipykernel->notebook>=3.0->tutormagic) (0.1.8)\n",
      "Requirement already satisfied: zipp>=0.5 in /home/tigarto/miniconda3/lib/python3.7/site-packages (from importlib-metadata; python_version < \"3.8\"->jsonschema!=2.5.0,>=2.4->nbformat->notebook>=3.0->tutormagic) (0.6.0)\n",
      "Requirement already satisfied: more-itertools in /home/tigarto/miniconda3/lib/python3.7/site-packages (from zipp>=0.5->importlib-metadata; python_version < \"3.8\"->jsonschema!=2.5.0,>=2.4->nbformat->notebook>=3.0->tutormagic) (8.0.2)\n",
      "Installing collected packages: tutormagic\n",
      "Successfully installed tutormagic-0.3.0\n"
     ]
    }
   ],
   "source": [
    "!pip install tutormagic"
   ]
  },
  {
   "cell_type": "code",
   "execution_count": 6,
   "metadata": {},
   "outputs": [],
   "source": [
    "%load_ext tutormagic"
   ]
  },
  {
   "cell_type": "markdown",
   "metadata": {},
   "source": [
    "## Arreglos ##"
   ]
  },
  {
   "cell_type": "markdown",
   "metadata": {},
   "source": [
    "### Definición ###\n",
    "\n",
    "Un arreglo es una secuencia de datos del mismo tipo llamados elementos los cuales pueden ser accedidos medinte un subindice."
   ]
  },
  {
   "cell_type": "markdown",
   "metadata": {},
   "source": [
    "### Declaración  y creación de un arreglo ###\n",
    "\n",
    "#### Declaración ####\n",
    "\n",
    "Un array se declara de modo similar a otros tipos de datos; sin embargo, se debe indicar al compilador que es un arreglo y esto se hace con corchetes. La declaración se puede hacer de dos formas:\n",
    "1. **Colocando los corchetes al principio**:\n",
    "\n",
    "```java\n",
    "tipo [] identificador;\n",
    "```\n",
    "\n",
    "2. **Colocando los corchetes al final**:\n",
    "\n",
    "```java\n",
    "tipo identificador[];\n",
    "```\n",
    "\n",
    "**Ejemplos**: A continuación se muestran varios ejempls de declración:\n",
    "\n",
    "1. Declaración tipica:\n",
    "\n",
    "```java\n",
    "int[] numbers;\n",
    "```\n",
    "\n",
    "O tambien la forma equivalente:\n",
    "\n",
    "\n",
    "```java\n",
    "int numbers[];\n",
    "```\n",
    "\n",
    "2. Declaración de varios arreglos en una misma linea:\n",
    "\n",
    "```java\n",
    "int[] numbers, codes, scores; // numbers, codes, scores son arreglos tipo int\n",
    "```\n",
    "\n",
    "3. Notación que combina arreglos y datos simples:\n",
    "\n",
    "```java\n",
    "int numbers[], codes[], scores; // Solo numbers y codes son arrays tipo int, \n",
    "                                // scores es una variable sencilla tipo int.\n",
    "```\n",
    "\n",
    "\n",
    "#### Creación ####\n",
    "\n",
    "Java considera que un arreglo es una referencia a un objeto por lo tanto para que realmente cree un arreglo, es necesario usar el operador ```new``` junto altipo de los elementos del arreglo y su número.\n",
    "\n",
    "```java\n",
    "tipo nombreArreglo [] = new tipo[numeroDeElementos];\n",
    "```\n",
    "\n",
    "#### En resumen #### \n",
    "\n",
    "Tal y como se mostró anteriormente, la definición y creación de un arreglo involucra dos pasos tal y como se muestra en el siguiente fragmento de codigo:\n",
    "\n",
    "```java\n",
    "int[] numbers;              // 1. Declarar una referencia al array que mantendra los enteros.\n",
    "numbers = new int[6];       // 2. Crear un nuevo array que mantenga 6 enteros\n",
    "```\n",
    "\n",
    "El proceso anterior (declarar la referencia a un arreglo y crearlo) puede ser realizado en una sola instrucción tal y como se muestra a continuación:\n",
    "\n",
    "```java\n",
    "int[] numbers = new int[6]; // Declaración y creacion de un array que mantiene 6 enteros\n",
    "```\n",
    "\n"
   ]
  },
  {
   "cell_type": "markdown",
   "metadata": {},
   "source": [
    "**Ejemplo**: A continuación se muestran varias formas de inicializar un arreglo."
   ]
  },
  {
   "cell_type": "code",
   "execution_count": 9,
   "metadata": {},
   "outputs": [
    {
     "data": {
      "text/html": [
       "<div class=\"text-center\"><strong><a style=\"box-sizing: border-box; padding: 0 5px; border: 1px solid #CFCFCF;\" target=\"_\" href=http://pythontutor.com/iframe-embed.html#code=%0Apublic%20class%20ArraysExample1%20%7B%0A%20%20%20%20public%20static%20void%20main%28String%5B%5D%20args%29%20%7B%0A%20%20%20%20%20%20%20%20//%20Forma%201%0A%20%20%20%20%20%20%20%20int%20a%5B%5D%20%3D%20new%20int%20%5B10%5D%3B%0A%20%20%20%20%20%20%20%20//%20Forma%202%0A%20%20%20%20%20%20%20%20final%20int%20N%20%3D%2020%3B%0A%20%20%20%20%20%20%20%20float%20%5B%5D%20vector%3B%0A%20%20%20%20%20%20%20%20vector%20%3D%20new%20float%5BN%5D%3B%0A%0A%20%20%20%20%7D%0A%7D%0A&origin=opt-frontend.js&cumulative=false&heapPrimitives=false&textReferences=false&curInstr=0&&verticalStack=false&py=java&rawInputLstJSON=%5B%5D&codeDivWidth=50%25&codeDivHeight=100%25>Python Tutor</a></strong></div>"
      ],
      "text/plain": [
       "<IPython.core.display.HTML object>"
      ]
     },
     "metadata": {},
     "output_type": "display_data"
    }
   ],
   "source": [
    "%%tutor -l java -k\n",
    "\n",
    "public class ArraysExample1 {\n",
    "    public static void main(String[] args) {\n",
    "        // Forma 1\n",
    "        int a[] = new int [10];\n",
    "        // Forma 2\n",
    "        final int N = 20;\n",
    "        float [] vector;\n",
    "        vector = new float[N];\n",
    "\n",
    "    }\n",
    "}"
   ]
  },
  {
   "cell_type": "markdown",
   "metadata": {},
   "source": [
    "**Consideraciones sobre el tamaño**:\n",
    "* Debe ser un numero entero positivo.\n",
    "* Puede ser un valor literal, una constante o una variable.\n",
    "\n",
    "```java\n",
    "final int ARRAY_SIZE = 6;\n",
    "int[] numbers = new int[ARRAY_SIZE];\n",
    "```\n",
    "\n",
    "* Una vez que el  array es creado el tamaño de este es fijo y no puede ser cambiado\n",
    "\n",
    "El siguiente fragmento de código aterriza este concepto:\n",
    "\n"
   ]
  },
  {
   "cell_type": "code",
   "execution_count": 10,
   "metadata": {},
   "outputs": [
    {
     "data": {
      "text/html": [
       "<div class=\"text-center\"><strong><a style=\"box-sizing: border-box; padding: 0 5px; border: 1px solid #CFCFCF;\" target=\"_\" href=http://pythontutor.com/iframe-embed.html#code=%0Apublic%20class%20ArraysExample2%20%7B%0A%20%20%20%20public%20static%20void%20main%28String%5B%5D%20args%29%20%7B%0A%20%20%20%20%20%20%20%20//%20Tama%C3%B1o%20del%20array%20constante%20%0A%20%20%20%20%20%20%20%20final%20int%20ARRAY_SIZE%20%3D%206%3B%0A%20%20%20%20%20%20%20%20int%5B%5D%20numbers%20%3D%20new%20int%5BARRAY_SIZE%5D%3B%0A%20%20%20%20%20%20%20%20%0A%20%20%20%20%20%20%20%20//%20Tama%C3%B1o%20del%20array%20a%20partir%20de%20una%20variable%0A%20%20%20%20%20%20%20%20int%20tam%20%3D%2020%3B%0A%20%20%20%20%20%20%20%20float%20%5B%5D%20vector%20%3D%20new%20float%5Btam%5D%3B%0A%20%20%20%20%7D%0A%7D%0A&origin=opt-frontend.js&cumulative=false&heapPrimitives=false&textReferences=false&curInstr=0&&verticalStack=false&py=java&rawInputLstJSON=%5B%5D&codeDivWidth=50%25&codeDivHeight=100%25>Python Tutor</a></strong></div>"
      ],
      "text/plain": [
       "<IPython.core.display.HTML object>"
      ]
     },
     "metadata": {},
     "output_type": "display_data"
    }
   ],
   "source": [
    "%%tutor -l java -k\n",
    "\n",
    "public class ArraysExample2 {\n",
    "    public static void main(String[] args) {\n",
    "        // Tamaño del array constante \n",
    "        final int ARRAY_SIZE = 6;\n",
    "        int[] numbers = new int[ARRAY_SIZE];\n",
    "        \n",
    "        // Tamaño del array a partir de una variable\n",
    "        int tam = 10;\n",
    "        float [] vector = new float[tam];\n",
    "    }\n",
    "}"
   ]
  },
  {
   "cell_type": "markdown",
   "metadata": {},
   "source": [
    "### Acceso a un arreglo ###\n",
    "\n",
    "Son empleados para acceder a un arreglo especificando la posición a la cual se desea acceder. Un array es accedido por medio:\n",
    "1. La referencia el nombre.\n",
    "2. El subindice que especifica a cual elemento en en array se va a acceder. \n",
    "\n",
    "\n",
    "\n"
   ]
  },
  {
   "cell_type": "markdown",
   "metadata": {},
   "source": [
    "**Ejemplo**: Crear un arreglo de 10 enteros y asignar a los elementos con subindice 0, 3, 6 los valores de -3, 10, 25 respectivamente."
   ]
  },
  {
   "cell_type": "code",
   "execution_count": null,
   "metadata": {},
   "outputs": [],
   "source": [
    "%%tutor -l java -k\n",
    "\n",
    "public class ArraysExamples4 {\n",
    "    public static void main(String[] args) {\n",
    "        final int TAM = 10;\n",
    "        int [] mes = new numbers[TAM];\n",
    "        numbers[0] = -3;  // Acceso al elemento con subindice 0 para asignarle el valor de 3\n",
    "        numbers[3] = 10;  // Acceso al elemento con subindice 0 para asignarle el valor de 3\n",
    "        numbers[6] = 26;  // Acceso al elemento con subindice 0 para asignarle el valor de 3\n",
    "    }\n",
    "}"
   ]
  },
  {
   "cell_type": "markdown",
   "metadata": {},
   "source": [
    "**Ejemplo**: Simule y comprenda el siguiente fragmento de código."
   ]
  },
  {
   "cell_type": "code",
   "execution_count": 14,
   "metadata": {},
   "outputs": [
    {
     "data": {
      "text/html": [
       "<div class=\"text-center\"><strong><a style=\"box-sizing: border-box; padding: 0 5px; border: 1px solid #CFCFCF;\" target=\"_\" href=http://pythontutor.com/iframe-embed.html#code=%0Apublic%20class%20ArraysExamples2%20%7B%0A%20%20%20%20public%20static%20void%20main%28String%5B%5D%20args%29%20%7B%0A%20%20%20%20%20%20%20%20float%20s%3B%0A%20%20%20%20%20%20%20%20int%20%5B%5D%20mes%20%3D%20new%20int%5B6%5D%3B%0A%20%20%20%20%20%20%20%20float%20salarios%5B%5D%3B%0A%20%20%20%20%20%20%20%20salarios%20%3D%20new%20float%5B13%5D%3B%0A%20%20%20%20%20%20%20%20mes%5B4%5D%20%3D%202%3B%0A%20%20%20%20%20%20%20%20s%20%3D%20salarios%5Bmes%5B4%5D%2A3%5D%3B%0A%20%20%20%20%7D%0A%7D&origin=opt-frontend.js&cumulative=false&heapPrimitives=false&textReferences=false&curInstr=0&&verticalStack=false&py=java&rawInputLstJSON=%5B%5D&codeDivWidth=50%25&codeDivHeight=100%25>Python Tutor</a></strong></div>"
      ],
      "text/plain": [
       "<IPython.core.display.HTML object>"
      ]
     },
     "metadata": {},
     "output_type": "display_data"
    }
   ],
   "source": [
    "%%tutor -l java -k\n",
    "\n",
    "public class ArraysExamples3 {\n",
    "    public static void main(String[] args) {\n",
    "        float s;\n",
    "        int [] mes = new int[6];\n",
    "        float salarios[];\n",
    "        salarios = new float[13];\n",
    "        mes[4] = 2;\n",
    "        s = salarios[mes[4]*3];\n",
    "    }\n",
    "}"
   ]
  },
  {
   "cell_type": "markdown",
   "metadata": {},
   "source": [
    "### Procesamiento del contenido de un arreglo###\n",
    "El procesamiento de los elementos de un array (lectura o escritura) se hace de a uno a la vez. Asi por ejemplo, si se tiene un arreglo de 5 elementos, será necesario ingresar 5 los elementos al array uno por uno. Esto mismo aplica para mostrar el contenido de un array. A continuación se muestran 3 escenarios basicos en donde se hace esto:\n",
    "\n",
    "**Escenario 1**: Cuando se entran elementos a una array:\n",
    "\n",
    "```java\n",
    "// code\n",
    "```\n",
    "\n",
    "**Escenario 2**: Cuando se muestran elementos de un array:\n",
    "\n",
    "```java\n",
    "// code\n",
    "```\n",
    "**Escenario 3**: Cuando se procesan los elementos de un array:\n",
    "\n",
    "```java\n",
    "grossPay = hours[3] * payRate;\n",
    "```\n",
    "\n",
    "```java\n",
    "int[] score = {7, 8, 9, 10, 11};\n",
    "++score[2]; // Pre-increment operation\n",
    "score[4]++; // Post-increment operation\n",
    "```\n",
    "\n"
   ]
  },
  {
   "cell_type": "markdown",
   "metadata": {},
   "source": [
    "**Ejemplo 1**: Este programa muestra y despliega los valores almacenados en los elementos de un arreglo\n",
    "(** Programa tomado del libro de Gaddis (Starting Out Java early objects))\n",
    "\n",
    "```java\n",
    "import java.util.Scanner;   // Needed for Scanner class\n",
    "\n",
    "/**\n",
    "   This program shows an array being processed with loops.\n",
    "*/\n",
    "\n",
    "public class ArrayDemo2\n",
    "{\n",
    "   public static void main(String[] args)\n",
    "   {\n",
    "      final int EMPLOYEES = 3;           // Number of employees\n",
    "      int[] hours = new int[EMPLOYEES];  // Array of hours\n",
    "      \n",
    "      // Create a Scanner object for keyboard input.\n",
    "      Scanner keyboard = new Scanner(System.in);\n",
    "\n",
    "      System.out.println(\"Enter the hours worked by \" +\n",
    "                         EMPLOYEES + \" employees.\");\n",
    "\n",
    "      // Get the hours for each employee.\n",
    "      for (int index = 0; index < EMPLOYEES; index++)\n",
    "      {\n",
    "         System.out.print(\"Employee \" + (index + 1) + \": \");\n",
    "         hours[index] = keyboard.nextInt();\n",
    "      }\n",
    "\n",
    "      System.out.println(\"The hours you entered are:\");\n",
    "\n",
    "      // Display the values entered.\n",
    "      for (int index = 0; index < EMPLOYEES; index++)\n",
    "         System.out.println(hours[index]);\n",
    "   }\n",
    "}     \n",
    "```"
   ]
  },
  {
   "cell_type": "markdown",
   "metadata": {},
   "source": [
    "### Inicialización de un arreglo ###\n",
    "\n",
    "Java permite inicializar los elementos de un arreglo cuando este es creado. Para esto lo que se hace es crear el arreglo y pasarle un serie de valores separados por coma y entre llaves conocida como **lista de inicialización**. A continuación se muestran algunos ejemplos:\n",
    "\n",
    "#### Ejemplo 1 ####\n",
    "\n",
    "```java\n",
    "int numeros[] = {10, 20, 30, 40, 50, 60};\n",
    "int[]nms = {3, 4, 5}\n",
    "char c[] = {'L','u','i','s'};\n",
    "\n",
    "```\n",
    "\n",
    "#### Ejemplo 2 ####\n",
    "\n",
    "```java\n",
    "int[] days = {31, 28, 31, 30, 31, 30, 31, 31, 30, 31, 30, 31};\n",
    "\n",
    "final int ENE = 31, FEB = 28, MAR = 31, ABR = 30, MAY = 31,\n",
    "          JUN = 30, JUL = 31, AGO = 31, SEP = 30, OCT = 31,\n",
    "          NOV = 30, DIC = 31;\n",
    "\n",
    "int meses[] = {ENE, FEB, MAR, ABR, MAY, JUN, JUL, AGO, SEP, OCT, NOV, DIC};\n",
    "```\n",
    "\n",
    "#### Ejemplo 3 ####\n",
    "A veces para facilitar la claridad es bueno inicializar un array empleando multiples lineas:\n",
    "\n",
    "```java\n",
    "double[] coins = { 0.05,\n",
    "                   0.1,\n",
    "                   0.25,\n",
    "                   0.5,\n",
    "                   1.0 };\n",
    "```\n"
   ]
  },
  {
   "cell_type": "markdown",
   "metadata": {},
   "source": [
    "### Tamaño de los arreglos, atributo length ###\n",
    "\n",
    "Java considera cada arreglo como un **objeto** que, además de tener capacidad para almacenar elementos, dispone del atributo **length** el cual contiene el numero de elementos que tiene el array. Por ejemplo:\n",
    "\n",
    "```java\n",
    "double [] v = new double[15];\n",
    "System.out.print(v.length);    // Muestra en pantalla 15 (numero de elementos del array v)\n",
    "```"
   ]
  },
  {
   "cell_type": "code",
   "execution_count": 24,
   "metadata": {},
   "outputs": [
    {
     "data": {
      "text/html": [
       "<div class=\"text-center\"><strong><a style=\"box-sizing: border-box; padding: 0 5px; border: 1px solid #CFCFCF;\" target=\"_\" href=http://pythontutor.com/iframe-embed.html#code=%0Apublic%20class%20ArraysExample2%20%7B%0A%20%20%20%20public%20static%20void%20main%28String%5B%5D%20args%29%20%7B%0A%20%20%20%20%20%20%20%20ArraysExample2%20example%20%3D%20new%20ArraysExample2%28%29%3B%20%20//%20Por%20que%20se%20uso%20%3F%3F%3F%0A%20%20%20%20%20%20%20%20double%20%5B%5D%20v%20%3D%20new%20double%5B4%5D%3B%0A%20%20%20%20%20%20%20%20double%20rSum%20%3D%200%3B%0A%20%20%20%20%20%20%20%20for%20%28int%20i%20%3D%200%3B%20i%20%3C%20v.length%3B%20i%2B%2B%29%20%7B%0A%20%20%20%20%20%20%20%20%20%20%20%20v%5Bi%5D%20%3D%20i%3B%0A%20%20%20%20%20%20%20%20%20%20%20%20System.out.print%28v%5Bi%5D%20%2B%20%22%20%22%29%3B%0A%20%20%20%20%20%20%20%20%7D%0A%20%20%20%20%20%20%20%20System.out.println%28%29%3B%0A%20%20%20%20%20%20%20%20rSum%20%3D%20example.suma%28v%29%3B%20%20//%20Por%20que%20se%20uso%20%3F%3F%3F%0A%20%20%20%20%20%20%20%20System.out.println%28%22Resultado%20suma%3A%20%22%20%2B%20rSum%29%3B%0A%20%20%20%20%7D%0A%20%20%20%20%0A%20%20%20%20double%20suma%20%28double%5B%5D%20w%29%20%7B%0A%20%20%20%20%20%20double%20s%20%3D%200.0%3B%0A%20%20%20%20%20%20for%20%28int%20i%20%3D%200%3B%20i%20%3C%20w.length%3B%20i%2B%2B%29%0A%20%20%20%20%20%20%20%20s%20%2B%3D%20w%5Bi%5D%3B%0A%20%20%20%20%20%20return%20s%3B%0A%20%20%20%20%7D%0A%7D&origin=opt-frontend.js&cumulative=false&heapPrimitives=false&textReferences=false&curInstr=0&&verticalStack=false&py=java&rawInputLstJSON=%5B%5D&codeDivWidth=50%25&codeDivHeight=100%25>Python Tutor</a></strong></div>"
      ],
      "text/plain": [
       "<IPython.core.display.HTML object>"
      ]
     },
     "metadata": {},
     "output_type": "display_data"
    }
   ],
   "source": [
    "%%tutor -l java -k\n",
    "\n",
    "public class ArraysExample2 {\n",
    "    public static void main(String[] args) {\n",
    "        ArraysExample2 example = new ArraysExample2();  // Por que se uso ???\n",
    "        double [] v = new double[4];\n",
    "        double rSum = 0;\n",
    "        for (int i = 0; i < v.length; i++) {\n",
    "            v[i] = i;\n",
    "            System.out.print(v[i] + \" \");\n",
    "        }\n",
    "        System.out.println();\n",
    "        rSum = example.suma(v);  // Por que se uso ???\n",
    "        System.out.println(\"Resultado suma: \" + rSum);\n",
    "    }\n",
    "    \n",
    "    double suma (double[] w) {\n",
    "      double s = 0.0;\n",
    "      for (int i = 0; i < w.length; i++)\n",
    "        s += w[i];\n",
    "      return s;\n",
    "    }\n",
    "}"
   ]
  },
  {
   "cell_type": "markdown",
   "metadata": {},
   "source": [
    "### Verificación del índice de un arreglo ###\n",
    "En el siguiente fragmento de código se muestra proteger un vector de un error por indice fuera de rango\n",
    "\n",
    "```java\n",
    "int datos(double a[])\n",
    "{\n",
    "  int n;\n",
    "  System.out.println(\"Entrada de datos, cuantos elementos: ? \");\n",
    "  n = entrada.nextInt();\n",
    "  if (n > a.length)\n",
    "    return 0;\n",
    "  for (int i = 0; i < n; i++)\n",
    "    a[i]= entrada.nextDouble();\n",
    "  return 1;\n",
    "}\n",
    "```\n"
   ]
  },
  {
   "cell_type": "markdown",
   "metadata": {},
   "source": [
    "### Ejercicio 10.1 ###\n",
    "El programa escrito a continuación lee NUM enteros en un arreglo,\n",
    "multiplica los elementos del arreglo y visualiza el producto.\n",
    "\n",
    "**Solución**:\n",
    "    \n",
    "```java\n",
    "import java.util.Scanner;\n",
    "\n",
    "class Inicial {\n",
    "    public static void main(String [] a) {\n",
    "        final int NUM = 10;\n",
    "        Scanner entrada = new Scanner(System.in);\n",
    "        int []nums= new int[NUM];\n",
    "        int total = 1;\n",
    "        \n",
    "        System.out.println(\"Por favor, introduzca \" + NUM + \" datos\");\n",
    "        for (int i = 0; i < NUM; i++) {\n",
    "            nums[i] = entrada.nextInt();\n",
    "        }\n",
    "        \n",
    "        System.out.print(\"\\nLista de números: \");\n",
    "        for (int i = 0; i < NUM; i++) {\n",
    "            System.out.print(\" \" + nums[i]);\n",
    "            total *= nums[i];\n",
    "        }\n",
    "        \n",
    "        System.out.println(\"\\nEl producto de los números es \" + total);\n",
    "    }\n",
    "}\n",
    "```    "
   ]
  },
  {
   "cell_type": "markdown",
   "metadata": {},
   "source": [
    "### Copia de arreglos ###"
   ]
  },
  {
   "cell_type": "markdown",
   "metadata": {},
   "source": [
    "Observe el siguiente fragmendo de codigo:"
   ]
  },
  {
   "cell_type": "code",
   "execution_count": 27,
   "metadata": {},
   "outputs": [
    {
     "data": {
      "text/html": [
       "<div class=\"text-center\"><strong><a style=\"box-sizing: border-box; padding: 0 5px; border: 1px solid #CFCFCF;\" target=\"_\" href=http://pythontutor.com/iframe-embed.html#code=%0Apublic%20class%20CopyExample2%20%7B%0A%20%20%20%20public%20static%20void%20main%28String%5B%5D%20args%29%20%7B%0A%20%20%20%20%20%20%20%20double%20%5B%5D%20r%2C%20w%3B%0A%20%20%20%20%20%20%20%20r%20%3D%20new%20double%5B11%5D%3B%0A%20%20%20%20%20%20%20%20w%20%3D%20new%20double%5B15%5D%3B%0A%20%20%20%20%20%20%20%20for%20%28int%20j%20%3D%200%3B%20j%20%3C%20r.length%3B%20j%2B%2B%29%20%7B%0A%20%20%20%20%20%20%20%20%20%20%20%20r%5Bj%5D%20%3D%20%28double%29%202%2Aj-1%3B%0A%20%20%20%20%20%20%20%20%7D%0A%20%20%20%20%20%20%20%20//%20asignaci%C3%B3n%20del%20arreglo%20r%20a%20w%0A%20%20%20%20%20%20%20%20w%20%3D%20r%3B%0A%20%20%20%20%20%20%20%20r%5B3%5D%20%3D%204%3B%0A%20%20%20%20%20%20%20%20w%5B4%5D%20%3D%20-6%3B%0A%20%20%20%20%7D%0A%7D&origin=opt-frontend.js&cumulative=false&heapPrimitives=false&textReferences=false&curInstr=0&&verticalStack=false&py=java&rawInputLstJSON=%5B%5D&codeDivWidth=50%25&codeDivHeight=100%25>Python Tutor</a></strong></div>"
      ],
      "text/plain": [
       "<IPython.core.display.HTML object>"
      ]
     },
     "metadata": {},
     "output_type": "display_data"
    }
   ],
   "source": [
    "%%tutor -l java -k\n",
    "\n",
    "public class CopyExample2 {\n",
    "    public static void main(String[] args) {\n",
    "        double [] r, w;\n",
    "        r = new double[11];\n",
    "        w = new double[15];\n",
    "        for (int j = 0; j < r.length; j++) {\n",
    "            r[j] = (double) 2*j-1;\n",
    "        }\n",
    "        // asignación del arreglo r a w\n",
    "        w = r;\n",
    "        r[3] = 4;\n",
    "        w[4] = -6;\n",
    "    }\n",
    "}"
   ]
  },
  {
   "cell_type": "markdown",
   "metadata": {},
   "source": [
    "Ahora, observe el siguiente codigo. ¿En que se diferencia respecto al anterior?"
   ]
  },
  {
   "cell_type": "code",
   "execution_count": 28,
   "metadata": {},
   "outputs": [
    {
     "data": {
      "text/html": [
       "<div class=\"text-center\"><strong><a style=\"box-sizing: border-box; padding: 0 5px; border: 1px solid #CFCFCF;\" target=\"_\" href=http://pythontutor.com/iframe-embed.html#code=%0Apublic%20class%20CopyExample1%20%7B%0A%20%20%20%20public%20static%20void%20main%28String%5B%5D%20args%29%20%7B%0A%20%20%20%20%20%20%20%20double%20%5B%5D%20r%2C%20w%3B%0A%20%20%20%20%20%20%20%20r%20%3D%20new%20double%5B11%5D%3B%0A%20%20%20%20%20%20%20%20w%20%3D%20new%20double%5B11%5D%3B%0A%20%20%20%20%20%20%20%20for%20%28int%20j%20%3D%200%3B%20j%20%3C%20r.length%3B%20j%2B%2B%29%20%7B%0A%20%20%20%20%20%20%20%20%20%20%20%20r%5Bj%5D%20%3D%20%28double%29%202%2Aj-1%3B%0A%20%20%20%20%20%20%20%20%7D%0A%20%20%20%20%20%20%20%20//%20asignaci%C3%B3n%20del%20arreglo%20r%20a%20w%0A%20%20%20%20%20%20%20%20for%20%28int%20j%20%3D%200%3B%20j%20%3C%20r.length%3B%20j%2B%2B%29%20%7B%0A%20%20%20%20%20%20%20%20%20%20%20%20w%5Bj%5D%20%3D%20r%5Bj%5D%3B%0A%20%20%20%20%20%20%20%20%7D%0A%20%20%20%20%20%20%20%20r%5B3%5D%20%3D%204%3B%0A%20%20%20%20%20%20%20%20w%5B4%5D%20%3D%20-6%3B%0A%20%20%20%20%7D%0A%7D&origin=opt-frontend.js&cumulative=false&heapPrimitives=false&textReferences=false&curInstr=0&&verticalStack=false&py=java&rawInputLstJSON=%5B%5D&codeDivWidth=50%25&codeDivHeight=100%25>Python Tutor</a></strong></div>"
      ],
      "text/plain": [
       "<IPython.core.display.HTML object>"
      ]
     },
     "metadata": {},
     "output_type": "display_data"
    }
   ],
   "source": [
    "%%tutor -l java -k\n",
    "\n",
    "public class CopyExample1 {\n",
    "    public static void main(String[] args) {\n",
    "        double [] r, w;\n",
    "        r = new double[11];\n",
    "        w = new double[11];\n",
    "        for (int j = 0; j < r.length; j++) {\n",
    "            r[j] = (double) 2*j-1;\n",
    "        }\n",
    "        // asignación del arreglo r a w\n",
    "        for (int j = 0; j < r.length; j++) {\n",
    "            w[j] = r[j];\n",
    "        }\n",
    "        r[3] = 4;\n",
    "        w[4] = -6;\n",
    "    }\n",
    "}"
   ]
  },
  {
   "cell_type": "markdown",
   "metadata": {},
   "source": [
    "### Metodo arraycopy ###\n",
    "\n",
    "**Sintaxis**:\n",
    "\n",
    "```java\n",
    "System.arraycopy (arreglo Origen, inicioOrigen, arreglo Destino, inicioDestino, numElementos)\n",
    "```\n",
    "\n",
    "**Donde**:\n",
    "* **arreglo Origen**: nombre del arreglo que se va a copiar.\n",
    "* **inicioOrigen**: posición del arreglo origen donde se inicia la copia.\n",
    "* **arreglo Destino**: nombre del arreglo en el que se hace la copia.\n",
    "* **inicioDestino**: es la posición del arreglo destino donde empieza la copia.\n",
    "* **numElementos**: número de elementos del arreglo origen que se van a copiar."
   ]
  },
  {
   "cell_type": "code",
   "execution_count": 29,
   "metadata": {},
   "outputs": [
    {
     "data": {
      "text/html": [
       "<div class=\"text-center\"><strong><a style=\"box-sizing: border-box; padding: 0 5px; border: 1px solid #CFCFCF;\" target=\"_\" href=http://pythontutor.com/iframe-embed.html#code=%0Apublic%20class%20CopyExample3%20%7B%0A%20%20%20%20public%20static%20void%20main%28String%5B%5D%20args%29%20%7B%0A%20%20%20%20%20%20%20%20double%20%5B%5D%20r%2C%20w%3B%0A%20%20%20%20%20%20%20%20r%20%3D%20new%20double%5B11%5D%3B%0A%20%20%20%20%20%20%20%20w%20%3D%20new%20double%5B11%5D%3B%0A%20%20%20%20%20%20%20%20for%20%28int%20j%20%3D%200%3B%20j%20%3C%20r.length%3B%20j%2B%2B%29%20%7B%0A%20%20%20%20%20%20%20%20%20%20%20%20r%5Bj%5D%20%3D%20%28double%29%202%2Aj-1%3B%0A%20%20%20%20%20%20%20%20%7D%0A%20%20%20%20%20%20%20%20//%20asignaci%C3%B3n%20del%20arreglo%20r%20a%20w%0A%20%20%20%20%20%20%20%20System.arraycopy%20%28r%2C%200%2C%20w%2C%200%2C%20r.length%29%3B%0A%20%20%20%20%20%20%20%20r%5B3%5D%20%3D%204%3B%0A%20%20%20%20%20%20%20%20w%5B4%5D%20%3D%20-6%3B%0A%20%20%20%20%7D%0A%7D&origin=opt-frontend.js&cumulative=false&heapPrimitives=false&textReferences=false&curInstr=0&&verticalStack=false&py=java&rawInputLstJSON=%5B%5D&codeDivWidth=50%25&codeDivHeight=100%25>Python Tutor</a></strong></div>"
      ],
      "text/plain": [
       "<IPython.core.display.HTML object>"
      ]
     },
     "metadata": {},
     "output_type": "display_data"
    }
   ],
   "source": [
    "%%tutor -l java -k\n",
    "\n",
    "public class CopyExample3 {\n",
    "    public static void main(String[] args) {\n",
    "        double [] r, w;\n",
    "        r = new double[11];\n",
    "        w = new double[11];\n",
    "        for (int j = 0; j < r.length; j++) {\n",
    "            r[j] = (double) 2*j-1;\n",
    "        }\n",
    "        // asignación del arreglo r a w\n",
    "        System.arraycopy (r, 0, w, 0, r.length);\n",
    "        r[3] = 4;\n",
    "        w[4] = -6;\n",
    "    }\n",
    "}"
   ]
  },
  {
   "cell_type": "markdown",
   "metadata": {},
   "source": [
    "### Ejercicio 10.2 ###\n",
    "Definir dos arreglos de tipo double, v y w con 15 y 20 elementos respectivamente; \n",
    "en el primero se guardan los valores de la función e^(2*x - 1); el segundo inicializa cada elemento al ordinal del elemento; después se copian los 10 últimos\n",
    "elementos de v a partir del elemento 11 de w; por ultimo, se escriben los\n",
    "elementos de ambos arreglos.\n",
    "\n",
    "**Solución**:\n",
    "    \n",
    "```java\n",
    "public class CopiArreglo\n",
    "{\n",
    "    public static void main(String [] a)\n",
    "    {\n",
    "        final int N = 15;\n",
    "        final int M = 20;\n",
    "        double [] v = new double[N];\n",
    "        double [] w = new double [M];\n",
    "        double x = 1.0;\n",
    "\n",
    "        for (int i = 0; i < N; x+=0.2,i++) {\n",
    "            v[i] = Math.exp(2 * x - 1);\n",
    "        }\n",
    "\n",
    "        for (int i = 0; i < M; i++) {\n",
    "            w[i] = (double) i;\n",
    "        }\n",
    "\n",
    "        // Se imprimen los elementos del vector v\n",
    "        System.out.println(\"\\n Valores del vector v\");\n",
    "        for (int i = 0; i < N; i++) {\n",
    "            System.out.print(v[i] + \" \");\n",
    "        }\n",
    "\n",
    "        // Es realizada la copia de v a w\n",
    "        System.arraycopy(v, (N-1)-10 +1, w, 10, 10);\n",
    "\n",
    "        // Se imprimen los elementos del vector w\n",
    "        System.out.println(\"\\n Valores del vector w\");\n",
    "        for (int i = 0; i < M; i++) {\n",
    "            System.out.print(w[i] + \" \");\n",
    "        }\n",
    "    }\n",
    "}\n",
    "```  "
   ]
  },
  {
   "cell_type": "markdown",
   "metadata": {},
   "source": [
    "### Bucle for each para recorrido de arreglos y colecciones ###"
   ]
  },
  {
   "cell_type": "code",
   "execution_count": 32,
   "metadata": {},
   "outputs": [
    {
     "data": {
      "text/html": [
       "<div class=\"text-center\"><strong><a style=\"box-sizing: border-box; padding: 0 5px; border: 1px solid #CFCFCF;\" target=\"_\" href=http://pythontutor.com/iframe-embed.html#code=%0Apublic%20class%20Bucle%20%7B%0A%20%20%20%20public%20static%20void%20main%28String%5B%5D%20args%29%20%7B%0A%20%20%20%20%20%20%20%20int%20sumA%20%3D%200%2C%20sumB%20%3D%200%3B%0A%20%20%20%20%20%20%20%20int%20%5B%5D%20a%20%3D%20%7B1%2C2%2C3%7D%3B%0A%20%20%20%20%20%20%20%20int%20%5B%5D%20b%20%3D%20%7B4%2C5%2C6%7D%3B%0A%20%20%20%20%20%20%20%20%0A%20%20%20%20%20%20%20%20//%20Forma%20tradicional%0A%20%20%20%20%20%20%20%20for%20%28int%20i%20%3D%200%3B%20i%20%3C%20a.length%3B%20i%2B%2B%29%20%7B%0A%20%20%20%20%20%20%20%20%20%20%20%20System.out.print%28a%5Bi%5D%20%2B%20%22%20%22%29%3B%0A%20%20%20%20%20%20%20%20%20%20%20%20sumA%20%2B%3D%20a%5Bi%5D%3B%0A%20%20%20%20%20%20%20%20%7D%0A%20%20%20%20%20%20%20%20System.out.print%28%22%5CnsumA%20%3D%20%22%20%2B%20sumA%20%2B%20%22%5Cn%5Cn%22%29%3B%0A%20%20%20%20%20%20%20%20//%20Forma%20for%20each%0A%20%20%20%20%20%20%20%20for%20%28int%20num%3Ab%29%20%7B%0A%20%20%20%20%20%20%20%20%20%20%20%20System.out.print%28num%20%2B%20%22%20%22%29%3B%0A%20%20%20%20%20%20%20%20%20%20%20%20sumB%20%2B%3D%20num%3B%0A%20%20%20%20%20%20%20%20%7D%0A%20%20%20%20%20%20%20%20System.out.print%28%22%5CnsumB%20%3D%20%22%20%2B%20sumB%20%2B%20%22%5Cn%22%29%3B%0A%20%20%20%20%7D%0A%7D&origin=opt-frontend.js&cumulative=false&heapPrimitives=false&textReferences=false&curInstr=0&&verticalStack=false&py=java&rawInputLstJSON=%5B%5D&codeDivWidth=50%25&codeDivHeight=100%25>Python Tutor</a></strong></div>"
      ],
      "text/plain": [
       "<IPython.core.display.HTML object>"
      ]
     },
     "metadata": {},
     "output_type": "display_data"
    }
   ],
   "source": [
    "%%tutor -l java -k\n",
    "\n",
    "public class Bucle {\n",
    "    public static void main(String[] args) {\n",
    "        int sumA = 0, sumB = 0;\n",
    "        int [] a = {1,2,3};\n",
    "        int [] b = {4,5,6};\n",
    "        \n",
    "        // Forma tradicional\n",
    "        for (int i = 0; i < a.length; i++) {\n",
    "            System.out.print(a[i] + \" \");\n",
    "            sumA += a[i];\n",
    "        }\n",
    "        System.out.print(\"\\nsumA = \" + sumA + \"\\n\\n\");\n",
    "        // Forma for each\n",
    "        for (int num:b) {\n",
    "            System.out.print(num + \" \");\n",
    "            sumB += num;\n",
    "        }\n",
    "        System.out.print(\"\\nsumB = \" + sumB + \"\\n\");\n",
    "    }\n",
    "}"
   ]
  },
  {
   "cell_type": "code",
   "execution_count": null,
   "metadata": {},
   "outputs": [],
   "source": []
  }
 ],
 "metadata": {
  "kernelspec": {
   "display_name": "Python 3",
   "language": "python",
   "name": "python3"
  },
  "language_info": {
   "codemirror_mode": {
    "name": "ipython",
    "version": 3
   },
   "file_extension": ".py",
   "mimetype": "text/x-python",
   "name": "python",
   "nbconvert_exporter": "python",
   "pygments_lexer": "ipython3",
   "version": "3.7.4"
  }
 },
 "nbformat": 4,
 "nbformat_minor": 2
}

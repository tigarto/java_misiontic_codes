{
 "cells": [
  {
   "cell_type": "markdown",
   "metadata": {},
   "source": [
    "[![Open In Colab](https://colab.research.google.com/assets/colab-badge.svg)](https://colab.research.google.com/github/tigarto/TdeA/blob/master/Vector.ipynb)"
   ]
  },
  {
   "cell_type": "code",
   "execution_count": 1,
   "metadata": {},
   "outputs": [
    {
     "name": "stdout",
     "output_type": "stream",
     "text": [
      "Collecting tutormagic\n",
      "  Using cached https://files.pythonhosted.org/packages/26/4c/170e56dce3ecbf0608f37b3b99100bd2666cac181da14bc685516e958435/tutormagic-0.3.0-py2.py3-none-any.whl\n",
      "Collecting notebook>=3.0 (from tutormagic)\n",
      "  Using cached https://files.pythonhosted.org/packages/b1/f1/0a67f09ef53a342403ffa66646ee39273e0ac79ffa5de5dbe2f3e28b5bdf/notebook-6.0.3-py3-none-any.whl\n",
      "Collecting jupyter-client>=5.3.4 (from notebook>=3.0->tutormagic)\n",
      "  Downloading https://files.pythonhosted.org/packages/40/75/4c4eb43749e59db3c1c7932b50eaf8c4b8219b1b5644fe379ea796f8dbe5/jupyter_client-6.0.0-py3-none-any.whl (104kB)\n",
      "\u001b[K    100% |████████████████████████████████| 112kB 672kB/s ta 0:00:01\n",
      "\u001b[?25hCollecting jupyter-core>=4.6.1 (from notebook>=3.0->tutormagic)\n",
      "  Using cached https://files.pythonhosted.org/packages/63/0d/df2d17cdf389cea83e2efa9a4d32f7d527ba78667e0153a8e676e957b2f7/jupyter_core-4.6.3-py2.py3-none-any.whl\n",
      "Collecting Send2Trash (from notebook>=3.0->tutormagic)\n",
      "  Using cached https://files.pythonhosted.org/packages/49/46/c3dc27481d1cc57b9385aff41c474ceb7714f7935b1247194adae45db714/Send2Trash-1.5.0-py3-none-any.whl\n",
      "Collecting ipython-genutils (from notebook>=3.0->tutormagic)\n",
      "  Using cached https://files.pythonhosted.org/packages/fa/bc/9bd3b5c2b4774d5f33b2d544f1460be9df7df2fe42f352135381c347c69a/ipython_genutils-0.2.0-py2.py3-none-any.whl\n",
      "Collecting jinja2 (from notebook>=3.0->tutormagic)\n",
      "  Using cached https://files.pythonhosted.org/packages/27/24/4f35961e5c669e96f6559760042a55b9bcfcdb82b9bdb3c8753dbe042e35/Jinja2-2.11.1-py2.py3-none-any.whl\n",
      "Collecting tornado>=5.0 (from notebook>=3.0->tutormagic)\n",
      "  Using cached https://files.pythonhosted.org/packages/30/78/2d2823598496127b21423baffaa186b668f73cd91887fcef78b6eade136b/tornado-6.0.3.tar.gz\n",
      "Collecting traitlets>=4.2.1 (from notebook>=3.0->tutormagic)\n",
      "  Using cached https://files.pythonhosted.org/packages/ca/ab/872a23e29cec3cf2594af7e857f18b687ad21039c1f9b922fac5b9b142d5/traitlets-4.3.3-py2.py3-none-any.whl\n",
      "Collecting nbconvert (from notebook>=3.0->tutormagic)\n",
      "  Using cached https://files.pythonhosted.org/packages/79/6c/05a569e9f703d18aacb89b7ad6075b404e8a4afde2c26b73ca77bb644b14/nbconvert-5.6.1-py2.py3-none-any.whl\n",
      "Collecting ipykernel (from notebook>=3.0->tutormagic)\n",
      "  Using cached https://files.pythonhosted.org/packages/d7/62/d1a5d654b7a21bd3eb99be1b59a608cc18a7a08ed88495457a87c40a0495/ipykernel-5.1.4-py3-none-any.whl\n",
      "Collecting pyzmq>=17 (from notebook>=3.0->tutormagic)\n",
      "  Downloading https://files.pythonhosted.org/packages/41/fa/e6e10410f01b03d10ab0705717d1246f63cdbbc0676140c78f0f757db332/pyzmq-19.0.0-cp36-cp36m-manylinux1_x86_64.whl (1.1MB)\n",
      "\u001b[K    100% |████████████████████████████████| 1.1MB 401kB/s ta 0:00:01\n",
      "\u001b[?25hCollecting nbformat (from notebook>=3.0->tutormagic)\n",
      "  Using cached https://files.pythonhosted.org/packages/ac/eb/de575b7a64e7ab8d8c95e4c180ccc36deda3f1379186c4ee7adf6c2f1586/nbformat-5.0.4-py3-none-any.whl\n",
      "Collecting terminado>=0.8.1 (from notebook>=3.0->tutormagic)\n",
      "  Using cached https://files.pythonhosted.org/packages/ff/96/1d9a2c23990aea8f8e0b5c3b6627d03196a73771a17a2d9860bbe9823ab6/terminado-0.8.3-py2.py3-none-any.whl\n",
      "Collecting prometheus-client (from notebook>=3.0->tutormagic)\n",
      "  Using cached https://files.pythonhosted.org/packages/b3/23/41a5a24b502d35a4ad50a5bb7202a5e1d9a0364d0c12f56db3dbf7aca76d/prometheus_client-0.7.1.tar.gz\n",
      "Collecting python-dateutil>=2.1 (from jupyter-client>=5.3.4->notebook>=3.0->tutormagic)\n",
      "  Using cached https://files.pythonhosted.org/packages/d4/70/d60450c3dd48ef87586924207ae8907090de0b306af2bce5d134d78615cb/python_dateutil-2.8.1-py2.py3-none-any.whl\n",
      "Collecting MarkupSafe>=0.23 (from jinja2->notebook>=3.0->tutormagic)\n",
      "  Using cached https://files.pythonhosted.org/packages/b2/5f/23e0023be6bb885d00ffbefad2942bc51a620328ee910f64abe5a8d18dd1/MarkupSafe-1.1.1-cp36-cp36m-manylinux1_x86_64.whl\n",
      "Collecting decorator (from traitlets>=4.2.1->notebook>=3.0->tutormagic)\n",
      "  Using cached https://files.pythonhosted.org/packages/8f/b7/f329cfdc75f3d28d12c65980e4469e2fa373f1953f5df6e370e84ea2e875/decorator-4.4.1-py2.py3-none-any.whl\n",
      "Collecting six (from traitlets>=4.2.1->notebook>=3.0->tutormagic)\n",
      "  Using cached https://files.pythonhosted.org/packages/65/eb/1f97cb97bfc2390a276969c6fae16075da282f5058082d4cb10c6c5c1dba/six-1.14.0-py2.py3-none-any.whl\n",
      "Collecting entrypoints>=0.2.2 (from nbconvert->notebook>=3.0->tutormagic)\n",
      "  Using cached https://files.pythonhosted.org/packages/ac/c6/44694103f8c221443ee6b0041f69e2740d89a25641e62fb4f2ee568f2f9c/entrypoints-0.3-py2.py3-none-any.whl\n",
      "Collecting mistune<2,>=0.8.1 (from nbconvert->notebook>=3.0->tutormagic)\n",
      "  Using cached https://files.pythonhosted.org/packages/09/ec/4b43dae793655b7d8a25f76119624350b4d65eb663459eb9603d7f1f0345/mistune-0.8.4-py2.py3-none-any.whl\n",
      "Collecting bleach (from nbconvert->notebook>=3.0->tutormagic)\n",
      "  Downloading https://files.pythonhosted.org/packages/6e/87/f88b0e33914420fe11fe8b820c10d045a342c2a015e79ad8309de4bba820/bleach-3.1.1-py2.py3-none-any.whl (150kB)\n",
      "\u001b[K    100% |████████████████████████████████| 153kB 1.1MB/s ta 0:00:01\n",
      "\u001b[?25hCollecting pygments (from nbconvert->notebook>=3.0->tutormagic)\n",
      "  Using cached https://files.pythonhosted.org/packages/be/39/32da3184734730c0e4d3fa3b2b5872104668ad6dc1b5a73d8e477e5fe967/Pygments-2.5.2-py2.py3-none-any.whl\n",
      "Collecting testpath (from nbconvert->notebook>=3.0->tutormagic)\n",
      "  Using cached https://files.pythonhosted.org/packages/1b/9e/1a170feaa54f22aeb5a5d16c9015e82234275a3c8ab630b552493f9cb8a9/testpath-0.4.4-py2.py3-none-any.whl\n",
      "Collecting defusedxml (from nbconvert->notebook>=3.0->tutormagic)\n",
      "  Using cached https://files.pythonhosted.org/packages/06/74/9b387472866358ebc08732de3da6dc48e44b0aacd2ddaa5cb85ab7e986a2/defusedxml-0.6.0-py2.py3-none-any.whl\n",
      "Collecting pandocfilters>=1.4.1 (from nbconvert->notebook>=3.0->tutormagic)\n",
      "  Using cached https://files.pythonhosted.org/packages/4c/ea/236e2584af67bb6df960832731a6e5325fd4441de001767da328c33368ce/pandocfilters-1.4.2.tar.gz\n",
      "Collecting ipython>=5.0.0 (from ipykernel->notebook>=3.0->tutormagic)\n",
      "  Using cached https://files.pythonhosted.org/packages/b8/6d/1e3e335e767fc15a2047a008e27df31aa8bcf11c6f3805d03abefc69aa88/ipython-7.12.0-py3-none-any.whl\n",
      "Collecting jsonschema!=2.5.0,>=2.4 (from nbformat->notebook>=3.0->tutormagic)\n",
      "  Using cached https://files.pythonhosted.org/packages/c5/8f/51e89ce52a085483359217bc72cdbf6e75ee595d5b1d4b5ade40c7e018b8/jsonschema-3.2.0-py2.py3-none-any.whl\n",
      "Collecting ptyprocess; os_name != \"nt\" (from terminado>=0.8.1->notebook>=3.0->tutormagic)\n",
      "  Using cached https://files.pythonhosted.org/packages/d1/29/605c2cc68a9992d18dada28206eeada56ea4bd07a239669da41674648b6f/ptyprocess-0.6.0-py2.py3-none-any.whl\n",
      "Collecting webencodings (from bleach->nbconvert->notebook>=3.0->tutormagic)\n",
      "  Using cached https://files.pythonhosted.org/packages/f4/24/2a3e3df732393fed8b3ebf2ec078f05546de641fe1b667ee316ec1dcf3b7/webencodings-0.5.1-py2.py3-none-any.whl\n",
      "Collecting jedi>=0.10 (from ipython>=5.0.0->ipykernel->notebook>=3.0->tutormagic)\n",
      "  Using cached https://files.pythonhosted.org/packages/01/67/333e2196b70840f411fd819407b4e98aa3150c2bd24c52154a451f912ef2/jedi-0.16.0-py2.py3-none-any.whl\n",
      "Collecting setuptools>=18.5 (from ipython>=5.0.0->ipykernel->notebook>=3.0->tutormagic)\n",
      "  Using cached https://files.pythonhosted.org/packages/3d/72/1c1498c1e908e0562b1e1cd30012580baa7d33b5b0ffdbeb5fde2462cc71/setuptools-45.2.0-py3-none-any.whl\n",
      "Collecting prompt-toolkit!=3.0.0,!=3.0.1,<3.1.0,>=2.0.0 (from ipython>=5.0.0->ipykernel->notebook>=3.0->tutormagic)\n",
      "  Using cached https://files.pythonhosted.org/packages/f5/22/f00412fafc68169054cc623a35c32773f22b403ddbe516c8adfdecf25341/prompt_toolkit-3.0.3-py3-none-any.whl\n",
      "Collecting pexpect; sys_platform != \"win32\" (from ipython>=5.0.0->ipykernel->notebook>=3.0->tutormagic)\n",
      "  Using cached https://files.pythonhosted.org/packages/39/7b/88dbb785881c28a102619d46423cb853b46dbccc70d3ac362d99773a78ce/pexpect-4.8.0-py2.py3-none-any.whl\n",
      "Collecting pickleshare (from ipython>=5.0.0->ipykernel->notebook>=3.0->tutormagic)\n",
      "  Using cached https://files.pythonhosted.org/packages/9a/41/220f49aaea88bc6fa6cba8d05ecf24676326156c23b991e80b3f2fc24c77/pickleshare-0.7.5-py2.py3-none-any.whl\n",
      "Collecting backcall (from ipython>=5.0.0->ipykernel->notebook>=3.0->tutormagic)\n"
     ]
    },
    {
     "name": "stdout",
     "output_type": "stream",
     "text": [
      "  Using cached https://files.pythonhosted.org/packages/84/71/c8ca4f5bb1e08401b916c68003acf0a0655df935d74d93bf3f3364b310e0/backcall-0.1.0.tar.gz\n",
      "Collecting attrs>=17.4.0 (from jsonschema!=2.5.0,>=2.4->nbformat->notebook>=3.0->tutormagic)\n",
      "  Using cached https://files.pythonhosted.org/packages/a2/db/4313ab3be961f7a763066401fb77f7748373b6094076ae2bda2806988af6/attrs-19.3.0-py2.py3-none-any.whl\n",
      "Collecting importlib-metadata; python_version < \"3.8\" (from jsonschema!=2.5.0,>=2.4->nbformat->notebook>=3.0->tutormagic)\n",
      "  Using cached https://files.pythonhosted.org/packages/8b/03/a00d504808808912751e64ccf414be53c29cad620e3de2421135fcae3025/importlib_metadata-1.5.0-py2.py3-none-any.whl\n",
      "Collecting pyrsistent>=0.14.0 (from jsonschema!=2.5.0,>=2.4->nbformat->notebook>=3.0->tutormagic)\n",
      "  Using cached https://files.pythonhosted.org/packages/90/aa/cdcf7ef88cc0f831b6f14c8c57318824c9de9913fe8de38e46a98c069a35/pyrsistent-0.15.7.tar.gz\n",
      "Collecting parso>=0.5.2 (from jedi>=0.10->ipython>=5.0.0->ipykernel->notebook>=3.0->tutormagic)\n",
      "  Using cached https://files.pythonhosted.org/packages/ec/bb/3b6c9f604ac40e2a7833bc767bd084035f12febcbd2b62204c5bc30edf97/parso-0.6.1-py2.py3-none-any.whl\n",
      "Collecting wcwidth (from prompt-toolkit!=3.0.0,!=3.0.1,<3.1.0,>=2.0.0->ipython>=5.0.0->ipykernel->notebook>=3.0->tutormagic)\n",
      "  Using cached https://files.pythonhosted.org/packages/58/b4/4850a0ccc6f567cc0ebe7060d20ffd4258b8210efadc259da62dc6ed9c65/wcwidth-0.1.8-py2.py3-none-any.whl\n",
      "Collecting zipp>=0.5 (from importlib-metadata; python_version < \"3.8\"->jsonschema!=2.5.0,>=2.4->nbformat->notebook>=3.0->tutormagic)\n",
      "  Using cached https://files.pythonhosted.org/packages/6f/6d/a55f6e81ac213942b9a19cbc05b560c726c3e16f8fb17555f059c17d65f2/zipp-3.0.0-py3-none-any.whl\n",
      "Building wheels for collected packages: tornado, prometheus-client, pandocfilters, backcall, pyrsistent\n",
      "  Running setup.py bdist_wheel for tornado ... \u001b[?25lerror\n",
      "  Complete output from command /usr/bin/python3 -u -c \"import setuptools, tokenize;__file__='/tmp/pip-build-_jgbo6j_/tornado/setup.py';f=getattr(tokenize, 'open', open)(__file__);code=f.read().replace('\\r\\n', '\\n');f.close();exec(compile(code, __file__, 'exec'))\" bdist_wheel -d /tmp/tmp7vudd__7pip-wheel- --python-tag cp36:\n",
      "  usage: -c [global_opts] cmd1 [cmd1_opts] [cmd2 [cmd2_opts] ...]\n",
      "     or: -c --help [cmd1 cmd2 ...]\n",
      "     or: -c --help-commands\n",
      "     or: -c cmd --help\n",
      "  \n",
      "  error: invalid command 'bdist_wheel'\n",
      "  \n",
      "  ----------------------------------------\n",
      "\u001b[31m  Failed building wheel for tornado\u001b[0m\n",
      "\u001b[?25h  Running setup.py clean for tornado\n",
      "  Running setup.py bdist_wheel for prometheus-client ... \u001b[?25lerror\n",
      "  Complete output from command /usr/bin/python3 -u -c \"import setuptools, tokenize;__file__='/tmp/pip-build-_jgbo6j_/prometheus-client/setup.py';f=getattr(tokenize, 'open', open)(__file__);code=f.read().replace('\\r\\n', '\\n');f.close();exec(compile(code, __file__, 'exec'))\" bdist_wheel -d /tmp/tmp8zuy6gwbpip-wheel- --python-tag cp36:\n",
      "  usage: -c [global_opts] cmd1 [cmd1_opts] [cmd2 [cmd2_opts] ...]\n",
      "     or: -c --help [cmd1 cmd2 ...]\n",
      "     or: -c --help-commands\n",
      "     or: -c cmd --help\n",
      "  \n",
      "  error: invalid command 'bdist_wheel'\n",
      "  \n",
      "  ----------------------------------------\n",
      "\u001b[31m  Failed building wheel for prometheus-client\u001b[0m\n",
      "\u001b[?25h  Running setup.py clean for prometheus-client\n",
      "  Running setup.py bdist_wheel for pandocfilters ... \u001b[?25lerror\n",
      "  Complete output from command /usr/bin/python3 -u -c \"import setuptools, tokenize;__file__='/tmp/pip-build-_jgbo6j_/pandocfilters/setup.py';f=getattr(tokenize, 'open', open)(__file__);code=f.read().replace('\\r\\n', '\\n');f.close();exec(compile(code, __file__, 'exec'))\" bdist_wheel -d /tmp/tmp4fyrba86pip-wheel- --python-tag cp36:\n",
      "  usage: -c [global_opts] cmd1 [cmd1_opts] [cmd2 [cmd2_opts] ...]\n",
      "     or: -c --help [cmd1 cmd2 ...]\n",
      "     or: -c --help-commands\n",
      "     or: -c cmd --help\n",
      "  \n",
      "  error: invalid command 'bdist_wheel'\n",
      "  \n",
      "  ----------------------------------------\n",
      "\u001b[31m  Failed building wheel for pandocfilters\u001b[0m\n",
      "\u001b[?25h  Running setup.py clean for pandocfilters\n",
      "  Running setup.py bdist_wheel for backcall ... \u001b[?25lerror\n",
      "  Complete output from command /usr/bin/python3 -u -c \"import setuptools, tokenize;__file__='/tmp/pip-build-_jgbo6j_/backcall/setup.py';f=getattr(tokenize, 'open', open)(__file__);code=f.read().replace('\\r\\n', '\\n');f.close();exec(compile(code, __file__, 'exec'))\" bdist_wheel -d /tmp/tmpu7u_ldjcpip-wheel- --python-tag cp36:\n",
      "  usage: -c [global_opts] cmd1 [cmd1_opts] [cmd2 [cmd2_opts] ...]\n",
      "     or: -c --help [cmd1 cmd2 ...]\n",
      "     or: -c --help-commands\n",
      "     or: -c cmd --help\n",
      "  \n",
      "  error: invalid command 'bdist_wheel'\n",
      "  \n",
      "  ----------------------------------------\n",
      "\u001b[31m  Failed building wheel for backcall\u001b[0m\n",
      "\u001b[?25h  Running setup.py clean for backcall\n",
      "  Running setup.py bdist_wheel for pyrsistent ... \u001b[?25lerror\n",
      "  Complete output from command /usr/bin/python3 -u -c \"import setuptools, tokenize;__file__='/tmp/pip-build-_jgbo6j_/pyrsistent/setup.py';f=getattr(tokenize, 'open', open)(__file__);code=f.read().replace('\\r\\n', '\\n');f.close();exec(compile(code, __file__, 'exec'))\" bdist_wheel -d /tmp/tmpme7h37ffpip-wheel- --python-tag cp36:\n",
      "  usage: -c [global_opts] cmd1 [cmd1_opts] [cmd2 [cmd2_opts] ...]\n",
      "     or: -c --help [cmd1 cmd2 ...]\n",
      "     or: -c --help-commands\n",
      "     or: -c cmd --help\n",
      "  \n",
      "  error: invalid command 'bdist_wheel'\n",
      "  \n",
      "  ----------------------------------------\n",
      "\u001b[31m  Failed building wheel for pyrsistent\u001b[0m\n",
      "\u001b[?25h  Running setup.py clean for pyrsistent\n",
      "Failed to build tornado prometheus-client pandocfilters backcall pyrsistent\n",
      "Installing collected packages: six, python-dateutil, tornado, decorator, ipython-genutils, traitlets, jupyter-core, pyzmq, jupyter-client, Send2Trash, MarkupSafe, jinja2, entrypoints, mistune, webencodings, bleach, pygments, attrs, setuptools, zipp, importlib-metadata, pyrsistent, jsonschema, nbformat, testpath, defusedxml, pandocfilters, nbconvert, parso, jedi, wcwidth, prompt-toolkit, ptyprocess, pexpect, pickleshare, backcall, ipython, ipykernel, terminado, prometheus-client, notebook, tutormagic\n",
      "  Running setup.py install for tornado ... \u001b[?25ldone\n",
      "\u001b[?25h  Running setup.py install for pyrsistent ... \u001b[?25ldone\n",
      "\u001b[?25h  Running setup.py install for pandocfilters ... \u001b[?25ldone\n",
      "\u001b[?25h  Running setup.py install for backcall ... \u001b[?25ldone\n",
      "\u001b[?25h  Running setup.py install for prometheus-client ... \u001b[?25ldone\n",
      "\u001b[?25hSuccessfully installed MarkupSafe-1.1.1 Send2Trash-1.5.0 attrs-19.3.0 backcall-0.1.0 bleach-3.1.1 decorator-4.4.1 defusedxml-0.6.0 entrypoints-0.3 importlib-metadata-1.5.0 ipykernel-5.1.4 ipython-7.12.0 ipython-genutils-0.2.0 jedi-0.16.0 jinja2-2.11.1 jsonschema-3.2.0 jupyter-client-6.0.0 jupyter-core-4.6.3 mistune-0.8.4 nbconvert-5.6.1 nbformat-5.0.4 notebook-6.0.3 pandocfilters-1.4.2 parso-0.6.1 pexpect-4.8.0 pickleshare-0.7.5 prometheus-client-0.7.1 prompt-toolkit-3.0.3 ptyprocess-0.6.0 pygments-2.5.2 pyrsistent-0.15.7 python-dateutil-2.8.1 pyzmq-19.0.0 setuptools-45.2.0 six-1.14.0 terminado-0.8.3 testpath-0.4.4 tornado-6.0.3 traitlets-4.3.3 tutormagic-0.3.0 wcwidth-0.1.8 webencodings-0.5.1 zipp-3.0.0\n"
     ]
    }
   ],
   "source": [
    "!pip3 install tutormagic\n",
    "%load_ext tutormagic"
   ]
  },
  {
   "cell_type": "markdown",
   "metadata": {},
   "source": [
    "# Clase Vector # "
   ]
  },
  {
   "cell_type": "markdown",
   "metadata": {},
   "source": [
    "La clase Vector se encuentra en el paquete java.util:\n",
    "* Tiene un comportamiento similar a un arreglo unidimensional\n",
    "* Guarda objetos o referencias de cualquier tipo, crece dinámicamente, sin necesidad de tener que programar operaciones adicionales; el arreglo donde almacena los elementos es de tipo Object.\n",
    "\n",
    "La siguiente figura muestra los principales miembros de la clase ```Vector``` de los cuales analizaremos unos cuantos:\n",
    "\n",
    "![clase_vector](Vector.jpg)\n"
   ]
  },
  {
   "cell_type": "markdown",
   "metadata": {},
   "source": [
    "## Creación de un vector ##\n",
    "\n",
    "Se utiliza el operador new de igual forma que se crea cualquier objeto; la clase Vector dispone de diversos constructores los cuales son:\n",
    "* **Vector()**: Crea un vector por defecto con una capacidad inicial de 10.\n",
    "* **Vector(int size)**: Crea un vector cuya capacidad inicial es especificada por **size**.\n",
    "* **Vector(int size, int incr)**: Crea un vector cuya capacidad inicial es de **size** y su incremento es especificado por **incr**. Este especifica el numero de elementos a asignar cada vez que un vector crece.\n",
    "* **Vector(Collection c)**: Crea un vector que contiene los elemtos de una colección **c**.\n",
    "\n",
    "**Ejemplos**: A continuación se crean algunos objetos tipo Vector:\n",
    "\n",
    "```java\n",
    "Vector v1 = new Vector();\n",
    "Vector v2 = new Vector(100);\n",
    "Vector v3 = new Vector(v2);// v3 contiene los mismo elementos que v2\n",
    "```"
   ]
  },
  {
   "cell_type": "markdown",
   "metadata": {},
   "source": [
    "### Ejemplo de creación de un vector ###\n",
    "A continuación se crean algunos objetos tipo Vector usando los constructores anteriormente mostrados"
   ]
  },
  {
   "cell_type": "code",
   "execution_count": 13,
   "metadata": {},
   "outputs": [
    {
     "data": {
      "text/html": [
       "<div class=\"text-center\"><strong><a style=\"box-sizing: border-box; padding: 0 5px; border: 1px solid #CFCFCF;\" target=\"_\" href=http://pythontutor.com/iframe-embed.html#code=%0Aimport%20java.util.Vector%3B%0A%0Apublic%20class%20VectorTest%20%7B%0A%20%20%20%20public%20static%20void%20main%28String%5B%5D%20args%29%20%7B%0A%20%20%20%20%20%20Vector%20v1%20%3D%20new%20Vector%28%29%3B%20%20%20%20%20%20%20%20//%20v1%20tiene%20un%20tama%C3%B1o%20por%20default%20de%2010%0A%20%20%20%20%20%20System.out.println%28%22capacidad%20de%20v1%3A%20%22%20%2B%20v1.capacity%28%29%29%3B%20%20%0A%20%20%20%20%20%20Vector%20v2%20%3D%20new%20Vector%284%29%3B%20%20%20%20%20%20%20//%20v2%20tiene%20un%20tama%C3%B1o%20de%204%0A%20%20%20%20%20%20System.out.println%28%22capacidad%20de%20v2%3A%20%22%20%2B%20v2.capacity%28%29%29%3B%20%20%20%20%0A%20%20%20%20%20%20Vector%20v3%20%3D%20new%20Vector%28v2%29%3B%20%20%20%20%20%20//%20v3%20tiene%20un%20tama%C3%B1o%20de%204%20%28tama%C3%B1o%20de%20v1%29%0A%20%20%20%20%20%20System.out.println%28%22capacidad%20de%20v3%3A%20%22%20%2B%20v3.capacity%28%29%29%3B%0A%20%20%20%20%20%20Vector%20v4%20%3D%20new%20Vector%286%2C2%29%3B%20%20%20%20%20//%20v4%20tiene%20un%20tama%C3%B1o%20de%206%20pero%20puede%20crecer%202%20elementos%20mas%0A%20%20%20%20%20%20System.out.println%28%22capacidad%20de%20v4%3A%20%22%20%2B%20v4.capacity%28%29%29%3B%0A%20%20%20%20%20%20%20%20%0A%20%20%20%20%7D%0A%7D%0A&origin=opt-frontend.js&cumulative=false&heapPrimitives=false&textReferences=false&curInstr=0&&verticalStack=false&py=java&rawInputLstJSON=%5B%5D&codeDivWidth=50%25&codeDivHeight=100%25>Python Tutor</a></strong></div>"
      ],
      "text/plain": [
       "<IPython.core.display.HTML object>"
      ]
     },
     "metadata": {},
     "output_type": "display_data"
    }
   ],
   "source": [
    "%%tutor -l java -k\n",
    "\n",
    "import java.util.Vector;\n",
    "\n",
    "public class VectorTest {\n",
    "    public static void main(String[] args) {\n",
    "      Vector v1 = new Vector();        // v1 tiene un tamaño por default de 10\n",
    "      System.out.println(\"capacidad de v1: \" + v1.capacity());  \n",
    "      Vector v2 = new Vector(4);       // v2 tiene un tamaño de 4\n",
    "      System.out.println(\"capacidad de v2: \" + v2.capacity());    \n",
    "      Vector v3 = new Vector(v2);      // v3 tiene un tamaño de 4 (tamaño de v1)\n",
    "      System.out.println(\"capacidad de v3: \" + v3.capacity());\n",
    "      Vector v4 = new Vector(6,2);     // v4 tiene un tamaño de 6 pero puede crecer 2 elementos mas\n",
    "      System.out.println(\"capacidad de v4: \" + v4.capacity());\n",
    "        \n",
    "    }\n",
    "}"
   ]
  },
  {
   "cell_type": "markdown",
   "metadata": {},
   "source": [
    "## Metodos de la clase vector ##"
   ]
  },
  {
   "cell_type": "markdown",
   "metadata": {},
   "source": [
    "## Inserción de elementos ##\n",
    "\n",
    "Hay diferentes métodos para insertar o añadir elementos al vector; los elementos que insertan deben ser objetos, no pueden ser datos de tipos primitivos como int, char, etc. A continuación se muestran algunos métodos de inserción:\n",
    "1. Añade el objeto después del último elemento del vector: \n",
    "\n",
    "```java\n",
    "boolean add (Object ob)\n",
    "```\n",
    "Si el elemento es exitosamente agregado al Vector retorna true, de clo contrario retorna false.\n",
    "\n",
    "**Ejemplo**:\n",
    "\n",
    "```java\n",
    "Vector v = new Vector(); \n",
    "v.add(1); \n",
    "v.add(2); \n",
    "```\n",
    "\n",
    "2. Inserta un elemento en la posición especificada el Vector\n",
    "\n",
    "```java\n",
    "void add(int index, Object obj) \n",
    "```\n",
    "\n",
    "3. Añade el objeto después del último elemento del vector incrementando su tamaño por 1.\n",
    "\n",
    "```java\n",
    "void addElement(Object ob)\n",
    "```\n",
    "\n",
    "4. Inserta el objeto en la posición p; los elementos posteriores a p se desplazan.\n",
    "\n",
    "```java\n",
    "void insertElementAt(Object ob, int p) \n",
    "```\n",
    "\n",
    "Cuando se crea el vector con un tipo concreto, el elemento que se inserta ha de ser de ese tipo, o de uno derivado:\n",
    "\n",
    "```java\n",
    "Vector<String> vc = new Vector<String>();\n",
    "vc.add(\"Jueves\"),\n",
    "vc.addElement (new Integer(12)); // error de tipo\n",
    "```"
   ]
  },
  {
   "cell_type": "markdown",
   "metadata": {},
   "source": [
    "### Probando los metodos anteriormente mostrados ###\n",
    "\n"
   ]
  },
  {
   "cell_type": "markdown",
   "metadata": {},
   "source": [
    "**Prueba del metodo**: ```boolean add (Object ob)```"
   ]
  },
  {
   "cell_type": "code",
   "execution_count": 4,
   "metadata": {},
   "outputs": [
    {
     "data": {
      "text/html": [
       "<div class=\"text-center\"><strong><a style=\"box-sizing: border-box; padding: 0 5px; border: 1px solid #CFCFCF;\" target=\"_\" href=http://pythontutor.com/iframe-embed.html#code=%0Aimport%20java.util.Vector%3B%0A%0Apublic%20class%20VectorTest%20%7B%0A%20%20%20%20public%20static%20void%20main%28String%5B%5D%20args%29%20%7B%20%20%20%20%20%20%0A%20%20%20%20%20%20Vector%20v1%20%3D%20new%20Vector%284%29%3B%20%20%20%20%20%20%0A%20%20%20%20%20%20v1.add%281%29%3B%0A%20%20%20%20%20%20v1.add%28%22Jajaja%22%29%3B%0A%20%20%20%20%20%20System.out.println%28%22vector%3A%20%22%20%2B%20v1%29%3B%0A%20%20%20%20%20%20v1.add%28%22pfff%22%29%3B%0A%20%20%20%20%20%20v1.add%282%29%3B%0A%20%20%20%20%20%20System.out.println%28%22vector%3A%20%22%20%2B%20v1%29%3B%0A%20%20%20%20%20%20v1.add%283%29%3B%0A%20%20%20%20%20%20System.out.println%28%22vector%3A%20%22%20%2B%20v1%29%3B%0A%20%20%20%20%7D%0A%7D%0A&origin=opt-frontend.js&cumulative=false&heapPrimitives=false&textReferences=false&curInstr=0&&verticalStack=false&py=java&rawInputLstJSON=%5B%5D&codeDivWidth=50%25&codeDivHeight=100%25>Python Tutor</a></strong></div>"
      ],
      "text/plain": [
       "<IPython.core.display.HTML object>"
      ]
     },
     "metadata": {},
     "output_type": "display_data"
    }
   ],
   "source": [
    "%%tutor -l java -k\n",
    "\n",
    "import java.util.Vector;\n",
    "\n",
    "public class VectorTest {\n",
    "    public static void main(String[] args) {      \n",
    "      Vector v = new Vector(4);      \n",
    "      v.add(1);\n",
    "      v.add(\"Jajaja\");\n",
    "      System.out.println(\"vector: \" + v);\n",
    "      v.add(\"pfff\");\n",
    "      v.add(2);\n",
    "      System.out.println(\"vector: \" + v);\n",
    "      v.add(3);\n",
    "      System.out.println(\"vector: \" + v);\n",
    "    }\n",
    "}"
   ]
  },
  {
   "cell_type": "markdown",
   "metadata": {},
   "source": [
    "**Prueba del metodo**: ```void add(int index, Object obj)```"
   ]
  },
  {
   "cell_type": "code",
   "execution_count": 18,
   "metadata": {},
   "outputs": [
    {
     "data": {
      "text/html": [
       "<div class=\"text-center\"><strong><a style=\"box-sizing: border-box; padding: 0 5px; border: 1px solid #CFCFCF;\" target=\"_\" href=http://pythontutor.com/iframe-embed.html#code=%0Aimport%20java.util.Vector%3B%0A%0Apublic%20class%20VectorTest%20%7B%0A%20%20%20%20public%20static%20void%20main%28String%5B%5D%20args%29%20%7B%20%20%20%20%20%20%0A%20%20%20%20%20%20Vector%20v%20%3D%20new%20Vector%284%2C2%29%3B%20%20%20%0A%20%20%20%20%20%20System.out.println%28%22capacidad%20del%20vector%3A%20%22%20%2B%20v.capacity%28%29%29%3B%0A%20%20%20%20%20%20System.out.println%28%22vector%3A%20%22%20%2B%20v%29%3B%0A%20%20%20%20%20%20v.add%280%2C%22jaja%22%29%3B%0A%20%20%20%20%20%20System.out.println%28%22capacidad%20del%20vector%3A%20%22%20%2B%20v.capacity%28%29%29%3B%20%20%0A%20%20%20%20%20%20System.out.println%28%22vector%3A%20%22%20%2B%20v%29%3B%0A%20%20%20%20%20%20v.add%281%2C1%29%3B%0A%20%20%20%20%20%20System.out.println%28%22capacidad%20del%20vector%3A%20%22%20%2B%20v.capacity%28%29%29%3B%20%20%0A%20%20%20%20%20%20System.out.println%28%22vector%3A%20%22%20%2B%20v%29%3B%0A%20%20%20%20%20%20v.add%282%2C%22xxx%22%29%3B%0A%20%20%20%20%20%20System.out.println%28%22capacidad%20del%20vector%3A%20%22%20%2B%20v.capacity%28%29%29%3B%20%20%0A%20%20%20%20%20%20System.out.println%28%22vector%3A%20%22%20%2B%20v%29%3B%0A%20%20%20%20%20%20v.add%283%2C%22zzz%22%29%3B%0A%20%20%20%20%20%20System.out.println%28%22capacidad%20del%20vector%3A%20%22%20%2B%20v.capacity%28%29%29%3B%0A%20%20%20%20%20%20System.out.println%28%22vector%3A%20%22%20%2B%20v%29%3B%0A%20%20%20%20%20%20v.add%284%2C%22zzz%22%29%3B%0A%20%20%20%20%20%20System.out.println%28%22capacidad%20del%20vector%3A%20%22%20%2B%20v.capacity%28%29%29%3B%20%20%0A%20%20%20%20%20%20System.out.println%28%22vector%3A%20%22%20%2B%20v%29%3B%0A%20%20%20%20%20%20v.add%282%2C-23%29%3B%0A%20%20%20%20%20%20System.out.println%28%22capacidad%20del%20vector%3A%20%22%20%2B%20v.capacity%28%29%29%3B%0A%20%20%20%20%20%20System.out.println%28%22vector%3A%20%22%20%2B%20v%29%3B%0A%0A%20%20%20%20%7D%0A%7D%0A&origin=opt-frontend.js&cumulative=false&heapPrimitives=false&textReferences=false&curInstr=0&&verticalStack=false&py=java&rawInputLstJSON=%5B%5D&codeDivWidth=50%25&codeDivHeight=100%25>Python Tutor</a></strong></div>"
      ],
      "text/plain": [
       "<IPython.core.display.HTML object>"
      ]
     },
     "metadata": {},
     "output_type": "display_data"
    }
   ],
   "source": [
    "%%tutor -l java -k\n",
    "\n",
    "import java.util.Vector;\n",
    "\n",
    "public class VectorTest {\n",
    "    public static void main(String[] args) {      \n",
    "      Vector v = new Vector(4,2);   \n",
    "      System.out.println(\"capacidad del vector: \" + v.capacity());\n",
    "      System.out.println(\"vector: \" + v);\n",
    "      v.add(0,\"jaja\");\n",
    "      System.out.println(\"capacidad del vector: \" + v.capacity());  \n",
    "      System.out.println(\"vector: \" + v);\n",
    "      v.add(1,1);\n",
    "      System.out.println(\"capacidad del vector: \" + v.capacity());  \n",
    "      System.out.println(\"vector: \" + v);\n",
    "      v.add(2,\"xxx\");\n",
    "      System.out.println(\"capacidad del vector: \" + v.capacity());  \n",
    "      System.out.println(\"vector: \" + v);\n",
    "      v.add(3,\"zzz\");\n",
    "      System.out.println(\"capacidad del vector: \" + v.capacity());\n",
    "      System.out.println(\"vector: \" + v);\n",
    "      v.add(4,\"zzz\");\n",
    "      System.out.println(\"capacidad del vector: \" + v.capacity());  \n",
    "      System.out.println(\"vector: \" + v);\n",
    "      v.add(2,-23);\n",
    "      System.out.println(\"capacidad del vector: \" + v.capacity());\n",
    "      System.out.println(\"vector: \" + v);\n",
    "\n",
    "    }\n",
    "}"
   ]
  },
  {
   "cell_type": "markdown",
   "metadata": {},
   "source": [
    "**Prueba del metodo**: ```void addElement(Object ob)```"
   ]
  },
  {
   "cell_type": "code",
   "execution_count": 16,
   "metadata": {},
   "outputs": [
    {
     "data": {
      "text/html": [
       "<div class=\"text-center\"><strong><a style=\"box-sizing: border-box; padding: 0 5px; border: 1px solid #CFCFCF;\" target=\"_\" href=http://pythontutor.com/iframe-embed.html#code=%0Aimport%20java.util.Vector%3B%0A%0Apublic%20class%20VectorTest%20%7B%0A%20%20%20%20public%20static%20void%20main%28String%5B%5D%20args%29%20%7B%20%20%20%20%20%20%0A%20%20%20%20%20%20Vector%20v%20%3D%20new%20Vector%284%29%3B%20%20%20%20%20%20%0A%20%20%20%20%20%20System.out.println%28%22Capacidad%20de%20v%3A%20%22%20%2B%20v.capacity%28%29%29%3B%0A%20%20%20%20%20%20System.out.println%28%22Tama%C3%B1o%20de%20v%3A%20%22%20%2B%20v.size%28%29%29%3B%0A%20%20%20%20%20%20System.out.println%28%22vector%3A%20%22%20%2B%20v%29%3B%0A%20%20%20%20%20%20v.addElement%281%29%3B%20%20%20%20%20//%201%0A%20%20%20%20%20%20System.out.println%28%22Capacidad%20de%20v%3A%20%22%20%2B%20v.capacity%28%29%29%3B%0A%20%20%20%20%20%20System.out.println%28%22Tama%C3%B1o%20de%20v%3A%20%22%20%2B%20v.size%28%29%29%3B%0A%20%20%20%20%20%20System.out.println%28%22vector%3A%20%22%20%2B%20v%29%3B%0A%20%20%20%20%20%20v.addElement%28%22zzzz%22%29%3B%20%20//%20%22zzzz%22%0A%20%20%20%20%20%20v.addElement%282.3f%29%3B%20%20%20%20//%202.3f%0A%20%20%20%20%20%20System.out.println%28%22Capacidad%20de%20v%3A%20%22%20%2B%20v.capacity%28%29%29%3B%0A%20%20%20%20%20%20System.out.println%28%22Tama%C3%B1o%20de%20v%3A%20%22%20%2B%20v.size%28%29%29%3B%0A%20%20%20%20%20%20System.out.println%28%22vector%3A%20%22%20%2B%20v%29%3B%0A%20%20%20%20%20%20v.addElement%28-3.21%29%3B%20%20%20//%20-3.21%0A%20%20%20%20%20%20v.addElement%28%27w%27%29%3B%20%20%20%20%20//%20%27w%27%0A%20%20%20%20%20%20System.out.println%28%22Capacidad%20de%20v%3A%20%22%20%2B%20v.capacity%28%29%29%3B%0A%20%20%20%20%20%20System.out.println%28%22Tama%C3%B1o%20de%20v%3A%20%22%20%2B%20v.size%28%29%29%3B%0A%20%20%20%20%20%20System.out.println%28%22vector%3A%20%22%20%2B%20v%29%3B%20%20%0A%20%20%20%20%7D%0A%7D%0A&origin=opt-frontend.js&cumulative=false&heapPrimitives=false&textReferences=false&curInstr=0&&verticalStack=false&py=java&rawInputLstJSON=%5B%5D&codeDivWidth=50%25&codeDivHeight=100%25>Python Tutor</a></strong></div>"
      ],
      "text/plain": [
       "<IPython.core.display.HTML object>"
      ]
     },
     "metadata": {},
     "output_type": "display_data"
    }
   ],
   "source": [
    "%%tutor -l java -k\n",
    "\n",
    "import java.util.Vector;\n",
    "\n",
    "public class VectorTest {\n",
    "    public static void main(String[] args) {      \n",
    "      Vector v = new Vector(4);      \n",
    "      System.out.println(\"Capacidad de v: \" + v.capacity());\n",
    "      System.out.println(\"Tamaño de v: \" + v.size());\n",
    "      System.out.println(\"vector: \" + v);\n",
    "      v.addElement(1);     // 1\n",
    "      System.out.println(\"Capacidad de v: \" + v.capacity());\n",
    "      System.out.println(\"Tamaño de v: \" + v.size());\n",
    "      System.out.println(\"vector: \" + v);\n",
    "      v.addElement(\"zzzz\");  // \"zzzz\"\n",
    "      v.addElement(2.3f);    // 2.3f\n",
    "      System.out.println(\"Capacidad de v: \" + v.capacity());\n",
    "      System.out.println(\"Tamaño de v: \" + v.size());\n",
    "      System.out.println(\"vector: \" + v);\n",
    "      v.addElement(-3.21);   // -3.21\n",
    "      v.addElement('w');     // 'w'\n",
    "      System.out.println(\"Capacidad de v: \" + v.capacity());\n",
    "      System.out.println(\"Tamaño de v: \" + v.size());\n",
    "      System.out.println(\"vector: \" + v);  \n",
    "    }\n",
    "}"
   ]
  },
  {
   "cell_type": "markdown",
   "metadata": {},
   "source": [
    "**Prueba del metodo**: insertElement(Object ob, int p) "
   ]
  },
  {
   "cell_type": "code",
   "execution_count": 24,
   "metadata": {},
   "outputs": [
    {
     "data": {
      "text/html": [
       "<div class=\"text-center\"><strong><a style=\"box-sizing: border-box; padding: 0 5px; border: 1px solid #CFCFCF;\" target=\"_\" href=http://pythontutor.com/iframe-embed.html#code=%0Aimport%20java.util.Vector%3B%0A%0Apublic%20class%20VectorTest%20%7B%0A%20%20%20%20public%20static%20void%20main%28String%5B%5D%20args%29%20%7B%20%20%20%20%20%20%0A%20%20%20%20%20%20Vector%20v%20%3D%20new%20Vector%284%2C3%29%3B%0A%20%20%20%20%20%20v.insertElementAt%280%2C0%29%3B%0A%20%20%20%20%7D%0A%7D%0A&origin=opt-frontend.js&cumulative=false&heapPrimitives=false&textReferences=false&curInstr=0&&verticalStack=false&py=java&rawInputLstJSON=%5B%5D&codeDivWidth=50%25&codeDivHeight=100%25>Python Tutor</a></strong></div>"
      ],
      "text/plain": [
       "<IPython.core.display.HTML object>"
      ]
     },
     "metadata": {},
     "output_type": "display_data"
    }
   ],
   "source": [
    "%%tutor -l java -k\n",
    "\n",
    "import java.util.Vector;\n",
    "\n",
    "public class VectorTest {\n",
    "    public static void main(String[] args) {      \n",
    "      Vector v = new Vector(4,3);\n",
    "      v.insertElementAt(0,0);\n",
    "    }\n",
    "}"
   ]
  },
  {
   "cell_type": "markdown",
   "metadata": {},
   "source": [
    "**Probando los distintos metodos**:\n",
    "\n",
    "```java\n",
    "import java.util.Vector;\n",
    "\n",
    "public class VectorTest {\n",
    "    \n",
    "    public static void main(String[] args) {\n",
    "        // TODO code application logic here\n",
    "        Vector v1 = new Vector(4);\n",
    "        Vector v2 = new Vector(3,2);\n",
    "        System.out.println(\"Capacidad v1: \" + v1.capacity());\n",
    "        System.out.println(\"v1: \" + v1);\n",
    "        System.out.println(\"Capacidad v2: \" + v2.capacity());\n",
    "        System.out.println(\"v2: \" + v2);\n",
    "        v1.add(\"abc\");\n",
    "        v1.add(\"cde\");\n",
    "        v1.add(1);\n",
    "        v2.addAll(v1);\n",
    "        v2.add(-2.3f);\n",
    "        v2.addElement(4);\n",
    "        System.out.println(\"Capacidad v1: \" + v1.capacity());\n",
    "        System.out.println(\"v1: \" + v1);\n",
    "        System.out.println(\"Capacidad v2: \" + v2.capacity());\n",
    "        System.out.println(\"v2: \" + v2);\n",
    "        v1.insertElementAt(100, 0);\n",
    "        v2.insertElementAt(100, 4);\n",
    "        System.out.println(\"Capacidad v1: \" + v1.capacity());\n",
    "        System.out.println(\"v1: \" + v1);\n",
    "        System.out.println(\"Capacidad v2: \" + v2.capacity());\n",
    "        System.out.println(\"v2: \" + v2);\n",
    "        \n",
    "    }   \n",
    "}\n",
    "```\n",
    "\n",
    "**Salida**:\n",
    "\n",
    "```\n",
    "Capacidad v1: 4\n",
    "v1: []\n",
    "Capacidad v2: 3\n",
    "v2: []\n",
    "Capacidad v1: 4\n",
    "v1: [abc, cde, 1]\n",
    "Capacidad v2: 5\n",
    "v2: [abc, cde, 1, -2.3, 4]\n",
    "Capacidad v1: 4\n",
    "v1: [100, abc, cde, 1]\n",
    "Capacidad v2: 7\n",
    "v2: [abc, cde, 1, -2.3, 100, 4]\n",
    "```"
   ]
  },
  {
   "cell_type": "markdown",
   "metadata": {},
   "source": [
    "## Acceso a un elemento ##\n",
    "\n",
    "Se accede a un elemento del vector por la posición que ocupa; los métodos de acceso devuelven el elemento con el tipo Object, entonces puede ser necesario realizar una conversión al tipo del objeto.\n",
    "1. Devuelve el elemento cuya posición es p:\n",
    "\n",
    "```java\n",
    "Object elementAt(int p); \n",
    "```\n",
    "\n",
    "2. Devuelve el elemento cuya posición es p:\n",
    "\n",
    "```java\n",
    "Object get(int p);\n",
    "```\n",
    "\n",
    "3. Devuelve el número de elementos:\n",
    "\n",
    "```java\n",
    "int size(); \n",
    "```\n"
   ]
  },
  {
   "cell_type": "markdown",
   "metadata": {},
   "source": [
    "## Eliminar un elemento ##\n",
    "\n",
    "Un elemento se puede eliminar de distintas formas, una de ellas es por la posición que ocupa en el índice, a partir de esa posición el resto de elementos del vector se mueven una posición a la izquierda disminuyendo el número de elementos; otra forma es transmitir el objeto que se desea retirar del vector; también hay métodos de la clase para eliminar todos los elementos de una colección.\n",
    "\n",
    "1. Elimina elemento índice y el resto se reenumera:\n",
    "\n",
    "```java\n",
    "void removeElementAt(int indice);\n",
    "```\n",
    "\n",
    "2. Elimina la primera aparición de op; devuelve true si realiza la eliminación.\n",
    "\n",
    "```java\n",
    "boolean removeElement (Object op);\n",
    "```\n",
    "\n",
    "3. Elimina los elementos que están en gr.\n",
    "\n",
    "```java\n",
    "void removeAll(Collection gr);\n",
    "```\n",
    "\n",
    "4. Elimina todos los elementos.\n",
    "\n",
    "```java\n",
    "void removeAllElements();\n",
    "```"
   ]
  },
  {
   "cell_type": "markdown",
   "metadata": {},
   "source": [
    "## Busqueda ##\n",
    "\n",
    "Los diversos métodos de búsqueda de Vector devuelven la posición de la primera ocurrencia del objeto buscado, o bien verdadero-falso según el resultado de la búsqueda.\n",
    "\n",
    "1. Verifica si el vector contiene a op devolviendo true lo encuentra\n",
    "\n",
    "```java\n",
    "boolean contains(Object op);\n",
    "```\n",
    "\n",
    "2. Devuelve la (primera si hay varias) posición en la que se encuentra op. En caso de no encontrarse op en el vector el valor retornado es -1. \n",
    "\n",
    "```java\n",
    "int indexOf(Object op);\n",
    "```\n"
   ]
  },
  {
   "cell_type": "markdown",
   "metadata": {},
   "source": [
    "**Ejemplo**: Utilizar un vector para guardar números racionales"
   ]
  },
  {
   "cell_type": "code",
   "execution_count": 3,
   "metadata": {},
   "outputs": [
    {
     "data": {
      "text/html": [
       "<div class=\"text-center\"><strong><a style=\"box-sizing: border-box; padding: 0 5px; border: 1px solid #CFCFCF;\" target=\"_\" href=http://pythontutor.com/iframe-embed.html#code=%0Aimport%20java.util.Vector%3B%0A%0Aclass%20Racional%20%7B%20%0A%20%20private%20int%20x%2C%20y%3B%0A%20%20public%20Racional%28int%20x%2C%20int%20y%29%20%7B%0A%20%20%20%20this.x%20%3D%20x%3B%0A%20%20%20%20this.y%20%3D%20y%3B%0A%20%20%7D%0A%20%20public%20void%20mostrar%28%29%20%7B%0A%20%20%20%20System.out.println%28x%20%2B%20%22/%22%20%2B%20y%29%3B%0A%20%20%7D%0A%7D%0A%0Apublic%20class%20VectorNumero%20%7B%0A%20%20static%20final%20int%20N%20%3D%203%3B%0A%20%20public%20static%20void%20main%28String%5B%5D%20args%29%20%7B%0A%20%20%20%20Vector%20num%20%3D%20new%20Vector%28%29%3B%0A%20%20%20%20for%28int%20i%20%3D%201%3B%20i%20%3C%3D%20N%3B%20i%2B%2B%29%20%7B%0A%20%20%20%20%20%20Racional%20q%3B%0A%20%20%20%20%20%20q%20%3D%20new%20Racional%283%20%2A%20i%2C%203%20%2A%20i%20%25%207%20%2B%201%29%3B%0A%20%20%20%20%20%20num.addElement%28q%29%3B%20%20%20%20%0A%20%20%20%20%7D%0A%20%20%20%20//%20recuperaci%C3%B3n%20de%20los%20elementos%0A%20%20%20%20int%20k%3B%0A%20%20%20%20k%20%3D%20num.size%28%29%3B%20//%20n%C3%BAmero%20de%20elementos%0A%20%20%20%20for%20%28int%20i%20%3D%200%3B%20i%20%3C%20N%3B%20i%2B%2B%29%20%7B%0A%20%20%20%20%20%20Racional%20q%3B%0A%20%20%20%20%20%20q%20%3D%20%28Racional%29num.elementAt%28i%29%3B%0A%20%20%20%20%20%20q.mostrar%28%29%3B%0A%20%20%20%20%7D%20%20%0A%20%20%7D%0A%7D&origin=opt-frontend.js&cumulative=false&heapPrimitives=false&textReferences=false&curInstr=0&&verticalStack=false&py=java&rawInputLstJSON=%5B%5D&codeDivWidth=50%25&codeDivHeight=100%25>Python Tutor</a></strong></div>"
      ],
      "text/plain": [
       "<IPython.core.display.HTML object>"
      ]
     },
     "metadata": {},
     "output_type": "display_data"
    }
   ],
   "source": [
    "%%tutor -l java -k\n",
    "\n",
    "import java.util.Vector;\n",
    "\n",
    "class Racional { \n",
    "  private int x, y;\n",
    "  public Racional(int x, int y) {\n",
    "    this.x = x;\n",
    "    this.y = y;\n",
    "  }\n",
    "  public void mostrar() {\n",
    "    System.out.println(x + \"/\" + y);\n",
    "  }\n",
    "}\n",
    "\n",
    "public class VectorNumero {\n",
    "  static final int N = 3;\n",
    "  public static void main(String[] args) {\n",
    "    Vector num = new Vector();\n",
    "    for(int i = 1; i <= N; i++) {\n",
    "      Racional q;\n",
    "      q = new Racional(3 * i, 3 * i % 7 + 1);\n",
    "      num.addElement(q);    \n",
    "    }\n",
    "    // recuperación de los elementos\n",
    "    int k;\n",
    "    k = num.size(); // número de elementos\n",
    "    for (int i = 0; i < N; i++) {\n",
    "      Racional q;\n",
    "      q = (Racional)num.elementAt(i);\n",
    "      q.mostrar();\n",
    "    }  \n",
    "  }\n",
    "}"
   ]
  },
  {
   "cell_type": "markdown",
   "metadata": {},
   "source": [
    "En el siguiente [enlace](https://www.geeksforgeeks.org/java-util-vector-class-java/) se encuentran ejemplos utiles para aterrizar conceptos."
   ]
  },
  {
   "cell_type": "markdown",
   "metadata": {},
   "source": [
    "## Referencias ##\n",
    "1. https://docs.oracle.com/javase/8/docs/api/java/util/Vector.html\n",
    "2. https://www.tutorialspoint.com/java/util/java_util_vector.htm\n",
    "3. https://www.geeksforgeeks.org/java-util-vector-class-java/"
   ]
  },
  {
   "cell_type": "code",
   "execution_count": null,
   "metadata": {},
   "outputs": [],
   "source": []
  }
 ],
 "metadata": {
  "kernelspec": {
   "display_name": "Python 3",
   "language": "python",
   "name": "python3"
  },
  "language_info": {
   "codemirror_mode": {
    "name": "ipython",
    "version": 3
   },
   "file_extension": ".py",
   "mimetype": "text/x-python",
   "name": "python",
   "nbconvert_exporter": "python",
   "pygments_lexer": "ipython3",
   "version": "3.7.4"
  }
 },
 "nbformat": 4,
 "nbformat_minor": 2
}

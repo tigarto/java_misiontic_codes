{
 "cells": [
  {
   "cell_type": "code",
   "execution_count": null,
   "metadata": {},
   "outputs": [],
   "source": [
    "!pip3 install tutormagic\n",
    "%load_ext tutormagic"
   ]
  },
  {
   "cell_type": "code",
   "execution_count": null,
   "metadata": {},
   "outputs": [],
   "source": [
    "import warnings\n",
    "warnings.filterwarnings(\"ignore\", category=DeprecationWarning)"
   ]
  },
  {
   "cell_type": "code",
   "execution_count": null,
   "metadata": {},
   "outputs": [],
   "source": [
    "# Run and print a shell command.\n",
    "def run(cmd):\n",
    "    print('>> {}'.format(cmd))\n",
    "    !{cmd}  # This is magic to run 'cmd' in the shell.\n",
    "    print('')\n",
    "\n",
    "def compile(nombre_clase):\n",
    "    run('javac {}.java'.format(nombre_clase))\n",
    "\n",
    "def execute(nombre_clase):\n",
    "    run('java {}'.format(nombre_clase))\n",
    "\n",
    "def ejecutar(nombre_clase):\n",
    "    compile(nombre_clase)\n",
    "    execute(nombre_clase)"
   ]
  },
  {
   "cell_type": "code",
   "execution_count": null,
   "metadata": {},
   "outputs": [],
   "source": [
    "# Check the Java version to see if everything is working well.\n",
    "run(\"javac -version\")"
   ]
  },
  {
   "cell_type": "markdown",
   "metadata": {},
   "source": [
    "# Funciones en java #"
   ]
  },
  {
   "cell_type": "markdown",
   "metadata": {},
   "source": [
    "## Formato general de un metodo ##\n",
    "\n",
    "La forma general de un metodo en java se muestra a continuación\n",
    "\n",
    "```java\n",
    "return_type method_name( parameter_list ) \n",
    "{ \n",
    "    declarations and statements... \n",
    "} \n",
    "```\n"
   ]
  },
  {
   "cell_type": "markdown",
   "metadata": {},
   "source": [
    "### Ejemplo 1 ###\n",
    "\n",
    "Codificar un metodo en java que permita calcular el cuadrado de un numero entero. Siga el formato general para ello:\n",
    "\n",
    "**Solución**:\n",
    "A continuación se muestra la función en java:\n",
    "\n",
    "```java\n",
    "public static int square( int i ) { \n",
    "   return i*i; \n",
    "} \n",
    "```\n",
    "\n",
    "**Donde:**\n",
    "* **Nombre del método**: square\n",
    "* **Tipo de dato retornado**: int\n",
    "* **Lista de parametros**: int i\n",
    "* **Expresión retornada**: i*i\n",
    "* **Sentencia de retorno**: return i*i\n"
   ]
  },
  {
   "cell_type": "markdown",
   "metadata": {},
   "source": [
    "## Invocación de un método ##\n",
    "\n",
    "A continuación se muestra la forma de invocar un método:\n",
    "\n",
    "```java\n",
    "return_datatype variable = method_name( parameter_list ); \n",
    "```"
   ]
  },
  {
   "cell_type": "markdown",
   "metadata": {},
   "source": [
    "### Ejemplo 2 ###\n",
    "\n",
    "Invoque la función ```square``` definida en el **ejemplo 1** para calcular el valor del cuadrado de 10. Asigne este resultado a una variable entera llamada ``result``\n",
    "\n",
    "**Solución**:\n",
    "\n",
    "```java\n",
    "int result = 5 * square( 10 ); // result is 5 * 100 = 500 \n",
    "```"
   ]
  },
  {
   "cell_type": "markdown",
   "metadata": {},
   "source": [
    "### Ejemplo 3 ###\n",
    "Hacer un programa que calcule todos los cuadrados de los numeros entre 1 y 10 empleando la funcion ```square```\n",
    "\n",
    "**Solucion**: A continuación se muestra el programa completo y listo para ejecutarse, observe bien la parte asociada a la definición de la función y a la invocación de esta."
   ]
  },
  {
   "cell_type": "code",
   "execution_count": null,
   "metadata": {},
   "outputs": [],
   "source": [
    "%%tutor -l java -k\n",
    "\n",
    "public class Math { \n",
    "    \n",
    "    /* Definicion de la funcion square */\n",
    "    public static int square( int i ) { \n",
    "        return i*i; \n",
    "    } \n",
    "    \n",
    "    public static void main( String[] args ) { \n",
    "        for( int i=1; i<=10; i++ ) { \n",
    "            System.out.println( \"i=\" + i + \", i*i = \" + square( i ) /*invocacion de la funcion*/ ); \n",
    "        } \n",
    "    } \n",
    "} "
   ]
  },
  {
   "cell_type": "markdown",
   "metadata": {},
   "source": [
    "## Funciones que no retornan ##\n",
    "\n",
    "No toda función retorna valores una vez que es invocada. Para indicar esto en la definición de la función se coloca la palabra clave ```void``` tal y como se muestra en el siguiente elemplo.\n",
    "\n",
    "### Ejemplo 4 ###\n",
    "Realizar una función que imprima en pantalla el numero que se le pasa como argumento.\n",
    "\n",
    "**Solución**: Notese el empleo de ```void``` en la parte del retorno de la función:\n",
    "\n",
    "\n",
    "```java\n",
    "public static void printNumber( int n ) { \n",
    "   System.out.println( \"El numero es \" + n ); \n",
    "}\n",
    "```\n",
    "\n",
    "Como el metodo anterior no retorna ningun valor en la invocación no es necesario usar una variable a la cual se lleve un valor retornado, pues en el caso, no lo hay. El siguiente ejemplo clarifica esto.\n",
    "\n",
    "### Ejemplo 5 ###\n",
    "\n",
    "Invocar la función print number de modo para visualizar el valor de 10 el cual previamente es asignado a una variable entera llamada n.\n",
    "\n",
    "**Solución**: Notese que en la invocacación el resultado de la información no se lleva a nada.\n",
    "\n",
    "```java\n",
    "int n = 10; \n",
    "printNumber( n ); // Note the result in not assigned to anything \n",
    "```\n",
    "\n"
   ]
  },
  {
   "cell_type": "markdown",
   "metadata": {},
   "source": [
    "### Ejemplo 6 ###\n",
    "Codificar los siguiente métodos para los cuales se muestra la respectiva cabecera:\n",
    "1. **square**: Función que calcula el cuadrado de un número.\n",
    "\n",
    "    ```java\n",
    "    public static int square( int n )\n",
    "    ```\n",
    "\n",
    "2. **cube**: Función que calcula el cubo de un número.\n",
    "\n",
    "    ```java\n",
    "    public static int cube( int n )\n",
    "    ```\n",
    "    \n",
    "3. **toThePower**: Función que calcula la potencia cualquiera de un número.\n",
    "\n",
    "    ```java\n",
    "    public static int toThePowe( int n, int power )\n",
    "    ```\n",
    "\n",
    "4. **factorial**: Calcula el factorial de un numero.\n",
    "\n",
    "    ```java\n",
    "    public static int factorial( int n ) \n",
    "    ```\n",
    "5. **showNumber**: Funcón que imprime el resultado de una operación.\n",
    "\n",
    "     ```java\n",
    "    public static void showNumber( String operation, int n )\n",
    "    ```\n",
    "\n",
    "Una vez haya codificado los metodos anteriores haga las siguientes pruebas imprimiendo (para lo cual deberá hacer uso de la función ```showNumber```) en el metodo principal lo siguiente:\n",
    "1. El cuadrado del numero 5\n",
    "2. El cubo del numero 5\n",
    "3. El numero 5 elevado a la potencia 4.\n",
    "4. El factorial de 5.\n",
    "\n",
    "**Solución**: A continuación se muestra la solución del programa anterior:"
   ]
  },
  {
   "cell_type": "code",
   "execution_count": null,
   "metadata": {},
   "outputs": [],
   "source": [
    "%%tutor -l java -k\n",
    "\n",
    "public class Math2 { \n",
    "    \n",
    "    public static int square( int n ) { \n",
    "        return n*n; \n",
    "    } \n",
    "    public static int cube( int n ) { \n",
    "        return n*n*n; \n",
    "    } \n",
    " \n",
    "    public static int toThePower( int n, int power ) { \n",
    "        int result=n; \n",
    "        for( int i=0; i<power; i++ ) { \n",
    "            result *= n; \n",
    "        } \n",
    "        return result; \n",
    "    } \n",
    "\n",
    "    public static int factorial( int n ) { \n",
    "        int result = n; \n",
    "        for( int i=n-1; i>0; i-- ) { \n",
    "            result *= i; \n",
    "        } \n",
    "        return result; \n",
    "    } \n",
    "     \n",
    "    public static void showNumber( String operation, int n ) { \n",
    "        System.out.println( \"The result of the \" + operation + \" is \" + n );  \n",
    "    } \n",
    "    \n",
    "    public static void main( String[] args ) { \n",
    "        int a = 5;\n",
    "        showNumber( \"Square\", square( a ) ); \n",
    "        showNumber( \"Cube\", cube( a ) ); \n",
    "        showNumber( \"To The Power\", toThePower( a, 4 ) ); \n",
    "        showNumber( \"Factorial\", factorial( a ) ); \n",
    "    } \n",
    "} "
   ]
  },
  {
   "cell_type": "markdown",
   "metadata": {},
   "source": [
    "## Pendiente ##\n",
    "1. Scope.\n",
    "2. Overloading.\n",
    "3. Recursion."
   ]
  },
  {
   "cell_type": "code",
   "execution_count": null,
   "metadata": {},
   "outputs": [],
   "source": []
  }
 ],
 "metadata": {
  "kernelspec": {
   "display_name": "Python 3",
   "language": "python",
   "name": "python3"
  },
  "language_info": {
   "codemirror_mode": {
    "name": "ipython",
    "version": 3
   },
   "file_extension": ".py",
   "mimetype": "text/x-python",
   "name": "python",
   "nbconvert_exporter": "python",
   "pygments_lexer": "ipython3",
   "version": "3.8.8"
  }
 },
 "nbformat": 4,
 "nbformat_minor": 2
}